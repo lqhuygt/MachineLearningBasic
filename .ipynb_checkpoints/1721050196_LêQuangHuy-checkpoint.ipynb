{
 "cells": [
  {
   "cell_type": "markdown",
   "metadata": {},
   "source": [
    "# Bài tập Python căn bản"
   ]
  },
  {
   "cell_type": "markdown",
   "metadata": {},
   "source": [
    "**MSV:1721050196** \n",
    "\n",
    "**Họ và tên: Lê Quang Huy**"
   ]
  },
  {
   "cell_type": "markdown",
   "metadata": {},
   "source": [
    "### Bài 1: Chia kẹo cho học sinh lớp 1\n",
    "**Cô có n cái kẹo, có m học sinh trong lớp. Hãy giúp cô chia đều số kẹo cho tất cả học sinh.**\n",
    "* **yêu cầu** \n",
    "    * Nhập vào số kẹo của cô–N\n",
    "    * Nhập vào số học sinh trong lớp–M\n",
    "* **Cho biết:**\n",
    "    * Mỗi học sinh được nhận bao nhiêu cái kẹo?  \n",
    "    * Cô còn lại bao nhiêu cái kẹo?"
   ]
  },
  {
   "cell_type": "code",
   "execution_count": 38,
   "metadata": {},
   "outputs": [
    {
     "name": "stdout",
     "output_type": "stream",
     "text": [
      "Nhập vào số kẹo của cô: 6\n",
      "Nhập vào số học sinh: 4\n",
      "Số kẹo mà mỗi học sinh nhân được là:  1\n",
      "Số kẹo còn lại của cô là:  2\n"
     ]
    }
   ],
   "source": [
    "inputKeo = input('Nhập vào số kẹo của cô: ')\n",
    "inputHs = input('Nhập vào số học sinh: ')\n",
    "keoCuaHs = (int(inputKeo)//int(inputHs))\n",
    "print('Số kẹo mà mỗi học sinh nhân được là: ',keoCuaHs)\n",
    "keoCuaCo = (int(inputKeo)%int(inputHs))\n",
    "print('Số kẹo còn lại của cô là: ',keoCuaCo)"
   ]
  },
  {
   "cell_type": "markdown",
   "metadata": {},
   "source": [
    "### Bài 2: tính tuổi\n",
    "**Nhập vào tên và năm sinh của một người, tính tuổi của người đó và hiển thị ra màn hình thông báo**\n",
    "* yêu cầu:\n",
    "    * nhập vào họ tên: Mai Phương Thúy\n",
    "    * Nhập vào năm sinh: 2000\n",
    "* Hiển thị thông báo kết quả:\n",
    "    * Bạn \"Mai Phương Thúy\" năm nay 19 tuổi!"
   ]
  },
  {
   "cell_type": "code",
   "execution_count": 7,
   "metadata": {},
   "outputs": [
    {
     "name": "stdout",
     "output_type": "stream",
     "text": [
      "Nhập vào họ tên: Lê Quang Huy\n",
      "Nhập vào năm sinh: 1999\n",
      "Bạn Lê Quang Huy năm nay  21 tuổi!\n"
     ]
    }
   ],
   "source": [
    "from datetime import date\n",
    "\n",
    "today = date.today()\n",
    "name = input('Nhập vào họ tên: ')\n",
    "namSinh = input('Nhập vào năm sinh: ')\n",
    "tuoi = today.year - int(namSinh)\n",
    "print('Bạn', name, 'năm nay ',tuoi, 'tuổi!')"
   ]
  },
  {
   "cell_type": "markdown",
   "metadata": {},
   "source": [
    "### Bài 3: Cho biết số thỏ trong rừng\n",
    "**ban đầu trong rừng có một cặp thỏ, biết rằng cứ sau 1 tháng thì số lượng thỏ trong rừn tăng lên gắp đôi. Hỏi sau x tháng thì trong rùng có bn con thỏ?(giả thiết các con thỏ không chết)**\n",
    "* yêu cầu: nhập vào x tháng: 3\n",
    "* Hiển thị thông báo kết quả: Trong rừng có : 16 con thỏ"
   ]
  },
  {
   "cell_type": "code",
   "execution_count": 15,
   "metadata": {},
   "outputs": [
    {
     "name": "stdout",
     "output_type": "stream",
     "text": [
      "Nhập vào số tháng: 4\n",
      "Trong rừng có  256 con thỏ\n"
     ]
    }
   ],
   "source": [
    "month = int(input('Nhập vào số tháng: '))\n",
    "original = 2\n",
    "i = 2\n",
    "while(i <= month):\n",
    "    original = original*original\n",
    "    i += 1\n",
    "print('Trong rừng có ', original, 'con thỏ')"
   ]
  },
  {
   "cell_type": "markdown",
   "metadata": {},
   "source": [
    "### Bài 4: Chuỗi văn bản\n",
    "**Nước Việt Nam là một, dân tộc Việt Nam là một. Sông có thể cạn núi có thể mòn, song chân lý ấy không bao giờ thay đổi. \"HỒ CHÍ MINH, 1890-1969\"**\n",
    "* yêu cầu\n",
    "    * Cho biết số kí tự trong đoạn văn trên\n",
    "    * cho biết trong đoạn có chứa từ nào trong đây không (không phân biệt chữ hoa chữ thường)? \n",
    "        * \"hồ chí minh\"\n",
    "        * \"non sông\"\n",
    "    * tách đoạn văn thành các câu bởi dấu chấm .\n",
    "    * cho biêt đoạn văn trên có kí tự nào khác kí tự chữ và số hay không?\n",
    "    * thay thế các từ \"Việt Nam\" bằng \"VIỆT NAM\" trong đoạn văn trên"
   ]
  },
  {
   "cell_type": "code",
   "execution_count": 41,
   "metadata": {},
   "outputs": [
    {
     "name": "stdout",
     "output_type": "stream",
     "text": [
      "Số kí tự trong đoạn văn trên 143\n",
      "kết quả kiểm tra chuỗi \"hồ chí minh\" True\n",
      "kết quả kiểm tra chuỗi \"non sông\" False\n",
      "['Nước Việt Nam là một, dân tộc Việt Nam là một', ' Sông có thể cạn núi có thể mòn, song chân lý ấy không bao giờ thay đổi', ' \"HỒ CHÍ MINH, 1890-1969\"']\n",
      "False\n",
      "Nước VIỆT NAM là một, dân tộc VIỆT NAM là một. Sông có thể cạn núi có thể mòn, song chân lý ấy không bao giờ thay đổi. \"HỒ CHÍ MINH, 1890-1969\"\n"
     ]
    }
   ],
   "source": [
    "str = 'Nước Việt Nam là một, dân tộc Việt Nam là một. Sông có thể cạn núi có thể mòn, song chân lý ấy không bao giờ thay đổi. \"HỒ CHÍ MINH, 1890-1969\"'\n",
    "print('Số kí tự trong đoạn văn trên', len(str))\n",
    "\n",
    "x = str.lower()\n",
    "a = 'hồ chí minh' in x\n",
    "b = 'non sông' in x\n",
    "\n",
    "print('kết quả kiểm tra chuỗi \"hồ chí minh\"', a)\n",
    "print('kết quả kiểm tra chuỗi \"non sông\"', b)\n",
    "\n",
    "new_str = str.split('.')\n",
    "print(new_str)\n",
    "\n",
    "check_str = str.isalnum()\n",
    "print(check_str)\n",
    "\n",
    "other_str = str.replace('Việt Nam','VIỆT NAM')\n",
    "print(other_str)"
   ]
  },
  {
   "cell_type": "markdown",
   "metadata": {},
   "source": [
    "### Bài 5: Thống kê điểm sinh viên\n",
    "**Khởi tạo một danh sách gồm các điểm thi môn “Khoa học dữ liệu” của lớp CNTT01 (Điểm chữ: A, B, C, D, F)**\n",
    "* yêu cầu:\n",
    "    1. Cho biết số sinh viên trong lớp\n",
    "    2. Có bn sinh viên phải học lại môn này\n",
    "    3. Có bn sinh viên có điểm B trở lên\n",
    "    4. sinh viên đầu tiên và cuối cùng trong lớp đã nghỉ học, tạo một bảng điểm mới và loại bỏ điểm của các sinh viên này ra khỏi danh sach\n",
    "    "
   ]
  },
  {
   "cell_type": "code",
   "execution_count": 37,
   "metadata": {},
   "outputs": [
    {
     "name": "stdout",
     "output_type": "stream",
     "text": [
      "Danh sách điểm KHDL lớp CNTT01 là: \n",
      "\n",
      "----------Thống kê-----------\n",
      "1) Số sinh viên trong lớp là:  6\n",
      "2) Số sinh viên phải học lại môn này là:  1\n",
      "3) Số sinh viên trong lớp có điểm B trở lên là:  3\n",
      "4) Bảng điểm sinh viên sau khi đã loại bỏ sinh viên đầu tiên và cuỗi cùng đã nghỉ học là:\n",
      "['C', 'A', 'F', 'D']\n"
     ]
    }
   ],
   "source": [
    "print('Danh sách điểm KHDL lớp CNTT01 là: \\n')\n",
    "list_diem = ['A','C','A','F','D','B']\n",
    "print('----------Thống kê-----------')\n",
    "\n",
    "print('1) Số sinh viên trong lớp là: ', len(list_diem))\n",
    "print('2) Số sinh viên phải học lại môn này là: ', list_diem.count('F'))\n",
    "\n",
    "greaterB = list_diem.count('B') + list_diem.count('A')\n",
    "print('3) Số sinh viên trong lớp có điểm B trở lên là: ', greaterB)\n",
    "\n",
    "print('4) Bảng điểm sinh viên sau khi đã loại bỏ sinh viên đầu tiên và cuỗi cùng đã nghỉ học là:')\n",
    "del list_diem[0]\n",
    "del list_diem[-1]\n",
    "print(list_diem)"
   ]
  },
  {
   "cell_type": "markdown",
   "metadata": {},
   "source": [
    "### Bài 6: Xác định nguyên âm phụ âm\n",
    "**Nhập vào một kí tự chữ cái bất kì(không phân biệt chữ hoa chữ thư),cho biết nó là nguyên âm hay phụ âm trong tiếng anh**"
   ]
  },
  {
   "cell_type": "code",
   "execution_count": 56,
   "metadata": {},
   "outputs": [
    {
     "name": "stdout",
     "output_type": "stream",
     "text": [
      "Nhập vào một chữ cái: u\n",
      "Đây là nguyên âm!\n"
     ]
    }
   ],
   "source": [
    "chuCai = input('Nhập vào một chữ cái: ')\n",
    "if chuCai.isalpha():\n",
    "    if chuCai == 'u' or chuCai == 'e' or chuCai == 'o' or chuCai == 'a' or chuCai == 'i' or chuCai == 'U' or chuCai == 'E' or chuCai == 'O' or chuCai == 'A' or chuCai == 'I' :\n",
    "        print('Đây là nguyên âm!')\n",
    "    else:\n",
    "        print('Đây là phụ âm!')\n",
    "else:\n",
    "    print(\"Không phải chữ cái!\")"
   ]
  },
  {
   "cell_type": "code",
   "execution_count": 63,
   "metadata": {},
   "outputs": [
    {
     "name": "stdout",
     "output_type": "stream",
     "text": [
      "Nhập vào một chữ cái: !\n",
      "Không phải chữ cái!\n"
     ]
    }
   ],
   "source": [
    "chuCai = input('Nhập vào một chữ cái: ')\n",
    "if chuCai.isalpha():\n",
    "    if chuCai == 'u' or chuCai == 'e' or chuCai == 'o' or chuCai == 'a' or chuCai == 'i' or chuCai == 'U' or chuCai == 'E' or chuCai == 'O' or chuCai == 'A' or chuCai == 'I' :\n",
    "        print('Đây là nguyên âm!')\n",
    "    else:\n",
    "        print('Đây là phụ âm!')\n",
    "else:\n",
    "    print(\"Không phải chữ cái!\")"
   ]
  },
  {
   "cell_type": "code",
   "execution_count": 64,
   "metadata": {},
   "outputs": [
    {
     "name": "stdout",
     "output_type": "stream",
     "text": [
      "Nhập vào một chữ cái: t\n",
      "Đây là phụ âm!\n"
     ]
    }
   ],
   "source": [
    "chuCai = input('Nhập vào một chữ cái: ')\n",
    "if chuCai.isalpha():\n",
    "    if chuCai == 'u' or chuCai == 'e' or chuCai == 'o' or chuCai == 'a' or chuCai == 'i' or chuCai == 'U' or chuCai == 'E' or chuCai == 'O' or chuCai == 'A' or chuCai == 'I' :\n",
    "        print('Đây là nguyên âm!')\n",
    "    else:\n",
    "        print('Đây là phụ âm!')\n",
    "else:\n",
    "    print(\"Không phải chữ cái!\")"
   ]
  },
  {
   "cell_type": "code",
   "execution_count": 65,
   "metadata": {},
   "outputs": [
    {
     "name": "stdout",
     "output_type": "stream",
     "text": [
      "Nhập vào một chữ cái: I\n",
      "Đây là nguyên âm!\n"
     ]
    }
   ],
   "source": [
    "chuCai = input('Nhập vào một chữ cái: ')\n",
    "if chuCai.isalpha():\n",
    "    if chuCai == 'u' or chuCai == 'e' or chuCai == 'o' or chuCai == 'a' or chuCai == 'i' or chuCai == 'U' or chuCai == 'E' or chuCai == 'O' or chuCai == 'A' or chuCai == 'I' :\n",
    "        print('Đây là nguyên âm!')\n",
    "    else:\n",
    "        print('Đây là phụ âm!')\n",
    "else:\n",
    "    print(\"Không phải chữ cái!\")"
   ]
  },
  {
   "cell_type": "code",
   "execution_count": 66,
   "metadata": {},
   "outputs": [
    {
     "name": "stdout",
     "output_type": "stream",
     "text": [
      "Nhập vào một chữ cái: L\n",
      "Đây là phụ âm!\n"
     ]
    }
   ],
   "source": [
    "chuCai = input('Nhập vào một chữ cái: ')\n",
    "if chuCai.isalpha():\n",
    "    if chuCai == 'u' or chuCai == 'e' or chuCai == 'o' or chuCai == 'a' or chuCai == 'i' or chuCai == 'U' or chuCai == 'E' or chuCai == 'O' or chuCai == 'A' or chuCai == 'I' :\n",
    "        print('Đây là nguyên âm!')\n",
    "    else:\n",
    "        print('Đây là phụ âm!')\n",
    "else:\n",
    "    print(\"Không phải chữ cái!\")"
   ]
  },
  {
   "cell_type": "markdown",
   "metadata": {},
   "source": [
    "### Bài 7: Tính chỉ số BMI\n",
    "**Nhập vào chiều cao (m) và cân nặng (kg) và tính chỉ số BMI của người đó, Dựa vào chỉ số BMI tính được đưa ra nhận xét về cơ thể của người đó.**"
   ]
  },
  {
   "cell_type": "code",
   "execution_count": 76,
   "metadata": {},
   "outputs": [
    {
     "name": "stdout",
     "output_type": "stream",
     "text": [
      "Nhập vào cân nặng: 50\n",
      "Nhập vào chiều cao: 175\n",
      "Bạn đang thiếu cân!\n"
     ]
    }
   ],
   "source": [
    "weight = float(input('Nhập vào cân nặng: '))\n",
    "height = float(input('Nhập vào chiều cao: '))\n",
    "bmi = weight / (height*height)\n",
    "\n",
    "if bmi < 18.5:\n",
    "    print('Bạn đang thiếu cân!')\n",
    "elif bmi > 18.5 and bmi < 24.9:\n",
    "    print('Bạn đang ở mức binhg thường!')\n",
    "elif bmi > 25 and bmi < 29.9:\n",
    "    print('Bạn đang thừa cân!')\n",
    "else:\n",
    "    print('Bạn đang ở mức béo phì')"
   ]
  },
  {
   "cell_type": "markdown",
   "metadata": {},
   "source": [
    "### Bài 8: Xác định mùa trong năm\n",
    "**Nhập vào tháng sinh của bạn, và cho biết bạn sinh vào mùa nào biết:**\n",
    "* yêu cầu:\n",
    "    * nếu 1,2,3: vào mùa xuân\n",
    "    * nếu 4,5,6: vào mùa hè\n",
    "    * nếu 7,8,9: vào mùa thu\n",
    "    * nếu 10,11,12: mùa đông\n",
    "    * <1 hoặc >12 :tháng sinh không đúng"
   ]
  },
  {
   "cell_type": "code",
   "execution_count": 3,
   "metadata": {},
   "outputs": [
    {
     "name": "stdout",
     "output_type": "stream",
     "text": [
      "Nhập vào tháng sinh của bạn: 3\n",
      "Bạn sinh vào mùa xuân!\n"
     ]
    }
   ],
   "source": [
    "birthday = int(input('Nhập vào tháng sinh của bạn: '))\n",
    "if birthday == 1 or birthday == 2 or birthday == 3:\n",
    "    print('Bạn sinh vào mùa xuân!')\n",
    "elif birthday == 4 or birthday == 5 or birthday == 6:\n",
    "    print('Bạn sinh vào mùa hè!')\n",
    "elif birthday == 7 or birthday == 8 or birthday == 9:\n",
    "    print('Bạn sinh vào mùa thu!')\n",
    "elif birthday == 10 or birthday == 11 or birthday == 12:\n",
    "    print('Bạn sinh vào mùa đông!')\n",
    "else:\n",
    "    print('tháng sinh không đúng!')"
   ]
  },
  {
   "cell_type": "markdown",
   "metadata": {},
   "source": [
    "### Bài 9: Hiển thị bảng cửu chương\n",
    "**Nhập vào bảng cửu chương muốn in (1-10), hiển thị bảng cửu chương tương ứng với số vừa nhập. (Thực hiện kiểm tra giá trị nhập, chỉ thỏa mãn khi giá trị nhập vào trong khoảng [1,10]**"
   ]
  },
  {
   "cell_type": "code",
   "execution_count": 96,
   "metadata": {},
   "outputs": [
    {
     "name": "stdout",
     "output_type": "stream",
     "text": [
      "Nhập vào bảng cửu chương muốn hiển thị [1-10]: 6\n",
      "Bảng cửu chương:  6\n",
      "6 x 1 = 6\n",
      "6 x 2 = 12\n",
      "6 x 3 = 18\n",
      "6 x 4 = 24\n",
      "6 x 5 = 30\n",
      "6 x 6 = 36\n",
      "6 x 7 = 42\n",
      "6 x 8 = 48\n",
      "6 x 9 = 54\n",
      "6 x 10 = 60\n"
     ]
    }
   ],
   "source": [
    "cuuChuong = int(input('Nhập vào bảng cửu chương muốn hiển thị [1-10]: '))\n",
    "if cuuChuong<1 or cuuChuong>10:\n",
    "    cuuChuong = int(input('giá trị nhập không đúng vui lòng nhập giá trị từ 1-10: '))\n",
    "for i in range(cuuChuong,cuuChuong+1):\n",
    "    print('Bảng cửu chương: ',i)\n",
    "    for j in range(1,11):\n",
    "        print(i,'x',j,'=',i*j)\n",
    "\n"
   ]
  },
  {
   "cell_type": "markdown",
   "metadata": {},
   "source": [
    "### Bài 10: Tính điểm học tập của bạn\n",
    "**khởi tạo 1 dãy số bao gồm các phần tử là điểm của bạn. Hãy thực hiện**\n",
    "1. tạo danh sách là các điểm chữ tương ứng với điểm hệ 10 ở trên\n",
    "2. tính điểm trung bình hệ 10 và hệ 4"
   ]
  },
  {
   "cell_type": "code",
   "execution_count": 93,
   "metadata": {},
   "outputs": [
    {
     "name": "stdout",
     "output_type": "stream",
     "text": [
      "Điểm hệ 10:  [4.2, 7.6, 5.6, 8.4, 6.9, 9.1]\n",
      "Điểm chữ tương ứng:  ['D', 'B', 'C', 'B+', 'C+', 'A+']\n",
      "---------Điểm trung bình----------\n",
      "Tổng số môn học:  6\n",
      "ĐTB hệ 10:  6.966666666666666\n",
      "ĐTB hệ 4: \n"
     ]
    }
   ],
   "source": [
    "diem_he_10 = [4.2, 7.6, 5.6, 8.4, 6.9, 9.1]\n",
    "print('Điểm hệ 10: ',diem_he_10)\n",
    "diem_chu = ['D','B','C','B+','C+','A+']\n",
    "print('Điểm chữ tương ứng: ',diem_chu)\n",
    "print('---------Điểm trung bình----------')\n",
    "print('Tổng số môn học: ',len(diem_he_10))\n",
    "\n",
    "tong = 0\n",
    "for i in diem_he_10:\n",
    "    tong = tong + i\n",
    "print('ĐTB hệ 10: ', tong/len(diem_he_10))\n",
    "\n",
    "print('ĐTB hệ 4: ')"
   ]
  },
  {
   "cell_type": "markdown",
   "metadata": {},
   "source": [
    "### Bài 11:Kiểm tra N có phải số nguyên tố không ?\n",
    "**Nhập vào số tự nhiên N,cho biết N có phải là số nguyên tố hay không? (Số nguyên tố là số lớn hơn 1,chỉ chia hết cho 1 và chính nó)**\n"
   ]
  },
  {
   "cell_type": "code",
   "execution_count": 33,
   "metadata": {},
   "outputs": [
    {
     "name": "stdout",
     "output_type": "stream",
     "text": [
      "Nhập vào một số: 7\n",
      "Số 7 là số nguyên tố!\n"
     ]
    }
   ],
   "source": [
    "n = int(input('Nhập vào một số: '))\n",
    "def is_prime(n):\n",
    "    count = 0\n",
    "    for i in range(1, n + 1):\n",
    "        if n % i == 0:\n",
    "            count += 1\n",
    "    if count == 2:\n",
    "        return True\n",
    "    return False\n",
    "\n",
    "if (is_prime(n)) == True:\n",
    "    print('Số',n,'là số nguyên tố!')\n",
    "else:\n",
    "    print('Số',n,'không phải là số nguyên tố!')"
   ]
  },
  {
   "cell_type": "markdown",
   "metadata": {},
   "source": [
    "### Bài 12: dãy số nguyên tố\n",
    "**nhập vào một số n, hiển thị các số nguyên tố từ 2 đến n:**"
   ]
  },
  {
   "cell_type": "code",
   "execution_count": 44,
   "metadata": {},
   "outputs": [
    {
     "name": "stdout",
     "output_type": "stream",
     "text": [
      "Nhập vào một số: 9\n",
      "Các số nguyên tố từ 2 đến  9 là:\n",
      "2\n",
      "3\n",
      "5\n",
      "7\n"
     ]
    }
   ],
   "source": [
    "n = int(input('Nhập vào một số: '))\n",
    "def is_prime(n):\n",
    "    if n<2:\n",
    "        return False\n",
    "    for i in range(2,n):\n",
    "        if n % i == 0:\n",
    "            return False\n",
    "            break;\n",
    "    return True\n",
    "\n",
    "print('Các số nguyên tố từ 2 đến ',n,'là:')\n",
    "for j in range(2,n):\n",
    "    if is_prime(j) == True:\n",
    "        print(j)"
   ]
  },
  {
   "cell_type": "markdown",
   "metadata": {},
   "source": [
    "### Bài 13: Đổi số từ thập phân sang nhị phân\n",
    "**nhập vào một số tự nhiên n(n>0). chuyển đổi số n sang hệ nhị phân**"
   ]
  },
  {
   "cell_type": "code",
   "execution_count": 66,
   "metadata": {},
   "outputs": [
    {
     "name": "stdout",
     "output_type": "stream",
     "text": [
      "Nhập vào một số: 30\n",
      "Số nhị phân tương ứng là:  11110\n"
     ]
    }
   ],
   "source": [
    "n = int(input('Nhập vào một số: '))\n",
    "bin = []\n",
    "while (n>0):\n",
    "    a=int(float(n%2))\n",
    "    bin.append(a)\n",
    "    n=(n-a)/2\n",
    "string=\"\"\n",
    "for j in bin[::-1]:\n",
    "       string=string+str(j)\n",
    "print('Số nhị phân tương ứng là: ',string)\n",
    "        "
   ]
  },
  {
   "cell_type": "markdown",
   "metadata": {},
   "source": [
    "### Bài 14: Tìm Max - Min\n",
    "**Khởi tạo một dãy số là chiều cao của sinh viên trong một lớp (m)**\n",
    "* Thực hiên:\n",
    "    1. Hiển thị chiều cao của sinh viên cao nhất và thấp nhất\n",
    "    2. Tính chiều cao trung bình của sinh viên trong lớp\n",
    "    3. Số sinh viên trong một lớp có chiều cao cao hơn hoặc bằng chiều cao tb của lớp\n",
    "    "
   ]
  },
  {
   "cell_type": "code",
   "execution_count": 25,
   "metadata": {},
   "outputs": [
    {
     "name": "stdout",
     "output_type": "stream",
     "text": [
      "Chiều cao của các sinh viên là:  [1.75, 1.63, 1.68, 1.55, 1.7, 1.58]\n",
      "Sinh viên cao nhất:  1.75 (m)\n",
      "Sinh viên thấp nhất:  1.55 (m)\n",
      "Chiều cao TB của sinh viên là:  1.6483333333333332 (m)\n",
      "Số sinh viên trong lớp có chiều cao >= chiều cao Tb là:  3\n"
     ]
    }
   ],
   "source": [
    "height = [1.75, 1.63, 1.68, 1.55, 1.70, 1.58]\n",
    "print('Chiều cao của các sinh viên là: ', height)\n",
    "\n",
    "max = height[0]\n",
    "min = height[0]\n",
    "\n",
    "for i in height:\n",
    "    if max<i:\n",
    "        max = i\n",
    "    if min>i:\n",
    "        min = i\n",
    "print('Sinh viên cao nhất: ',max,'(m)')\n",
    "print('Sinh viên thấp nhất: ',min,'(m)')\n",
    "\n",
    "tong=0\n",
    "for i in height:\n",
    "    tong += i\n",
    "print('Chiều cao TB của sinh viên là: ',tong/len(height),'(m)')\n",
    "heightTb = tong/len(height)\n",
    "\n",
    "newHeight = []\n",
    "for i in height:\n",
    "    if i >= heightTb:\n",
    "        newHeight.append(i)\n",
    "print('Số sinh viên trong lớp có chiều cao >= chiều cao Tb là: ',len(newHeight))\n"
   ]
  },
  {
   "cell_type": "markdown",
   "metadata": {},
   "source": [
    "### Bài: 15_1: Viết hàm greeting(): trả về cầu chào với tham số truyền vào là họ tên và năm sinh"
   ]
  },
  {
   "cell_type": "code",
   "execution_count": 30,
   "metadata": {},
   "outputs": [
    {
     "name": "stdout",
     "output_type": "stream",
     "text": [
      "Nhập vào họ tên: huy\n",
      "Nhập vào năm sinh: 1999\n",
      "Bạn huy năm nay 21 tuổi\n"
     ]
    }
   ],
   "source": [
    "from datetime import date\n",
    "\n",
    "def greeting(name, namSinh):\n",
    "    today = date.today()\n",
    "    tuoi = today.year - int(namSinh)\n",
    "    return tuoi;\n",
    "\n",
    "a = input('Nhập vào họ tên: ')\n",
    "b = input('Nhập vào năm sinh: ')\n",
    "print('Bạn',a,'năm nay',greeting(a,b),'tuổi')\n",
    "    "
   ]
  },
  {
   "cell_type": "markdown",
   "metadata": {},
   "source": [
    "### Bài 15_2: viết hàm rabbit_count(): tính số thỏ trong rừng khi truyền vào số tháng"
   ]
  },
  {
   "cell_type": "code",
   "execution_count": 33,
   "metadata": {},
   "outputs": [
    {
     "name": "stdout",
     "output_type": "stream",
     "text": [
      "Nhập vào số tháng: 3\n",
      "Trong rừng có  16 con thỏ\n"
     ]
    }
   ],
   "source": [
    "def rabbit_count(month):\n",
    "    original = 2\n",
    "    i = 2\n",
    "    while(i <= month):\n",
    "        original = original*original\n",
    "        i += 1\n",
    "    return original;\n",
    "\n",
    "m = int(input('Nhập vào số tháng: '))\n",
    "print('Trong rừng có ', rabbit_count(m),'con thỏ')"
   ]
  },
  {
   "cell_type": "markdown",
   "metadata": {},
   "source": [
    "### Bài 15_3: viết hàm count_mark(): trả về số sinh viên học lại và tổng số sinh viên trong lớp với tham số truyền vào là danh sách bảng điểm"
   ]
  },
  {
   "cell_type": "code",
   "execution_count": 49,
   "metadata": {},
   "outputs": [
    {
     "name": "stdout",
     "output_type": "stream",
     "text": [
      "Nhập vào số danh sách điểm: 4\n",
      "Nhập điểm thứ: 1D\n",
      "Nhập điểm thứ: 2F\n",
      "Nhập điểm thứ: 3C\n",
      "Nhập điểm thứ: 4A\n",
      "Danh sách điểm vừa nhập là:  ['D', 'F', 'C', 'A']\n",
      "1) Số sinh viên trong lớp là:  4\n",
      "2) Số sinh viên phải học lại môn này là:  1\n"
     ]
    }
   ],
   "source": [
    "def count_mark(list_diem):\n",
    "    print('1) Số sinh viên trong lớp là: ', len(list_diem))\n",
    "    print('2) Số sinh viên phải học lại môn này là: ', list_diem.count('F'))\n",
    "\n",
    "n = int(input('Nhập vào số danh sách điểm: '))\n",
    "mang = []\n",
    "for i in range(n):\n",
    "    mang.append(input('Nhập điểm thứ: %d' % (i+1)))\n",
    "print('Danh sách điểm vừa nhập là: ',mang)\n",
    "count_mark(mang)\n"
   ]
  },
  {
   "cell_type": "markdown",
   "metadata": {},
   "source": [
    "### Bài 15_4: viết hàm bmi_show(): trả về nhân xét dựa vào chỉ số bmi đã tính dựa trên 2 tham số truyền vào là cân nặng và chiều cao"
   ]
  },
  {
   "cell_type": "code",
   "execution_count": 2,
   "metadata": {},
   "outputs": [
    {
     "name": "stdout",
     "output_type": "stream",
     "text": [
      "Nhập vào cân nặng: 75\n",
      "Nhập vào chiều cao: 1.75\n",
      "Bạn đang ở mức binhg thường!\n"
     ]
    }
   ],
   "source": [
    "def bmi_show(weight, height):\n",
    "    bmi = weight / (height*height)\n",
    "    if bmi < 18.5:\n",
    "        print('Bạn đang thiếu cân!')\n",
    "    elif bmi > 18.5 and bmi < 24.9:\n",
    "        print('Bạn đang ở mức binhg thường!')\n",
    "    elif bmi > 25 and bmi < 29.9:\n",
    "        print('Bạn đang thừa cân!')\n",
    "    else:\n",
    "        print('Bạn đang ở mức béo phì')\n",
    "\n",
    "w = float(input('Nhập vào cân nặng: '))\n",
    "h = float(input('Nhập vào chiều cao: '))\n",
    "bmi_show(w,h)"
   ]
  },
  {
   "cell_type": "markdown",
   "metadata": {},
   "source": [
    "### Bài 15_5: viết hàm call_point(): trả về điểm tb hệ 10 với tham số truyền vào là một danh sách điểm"
   ]
  },
  {
   "cell_type": "code",
   "execution_count": 14,
   "metadata": {},
   "outputs": [
    {
     "name": "stdout",
     "output_type": "stream",
     "text": [
      "Nhập vào số lượng điểm: 4\n",
      "Nhập điểm thứ 1 :5.6\n",
      "Nhập điểm thứ 2 :7.4\n",
      "Nhập điểm thứ 3 :6.6\n",
      "Nhập điểm thứ 4 :8.1\n",
      "ĐTB hệ 10:  6.925000000000001\n"
     ]
    }
   ],
   "source": [
    "def call_point(diem_he_10):\n",
    "    tong = 0\n",
    "    for i in diem_he_10:\n",
    "        tong = tong + i\n",
    "    return tong;\n",
    "\n",
    "n = int(input('Nhập vào số lượng điểm: '))\n",
    "mang = []\n",
    "for i in range(n):\n",
    "    mang.append(float(input('Nhập điểm thứ %d :' % (i+1) )))\n",
    "print('ĐTB hệ 10: ',call_point(mang)/len(mang))\n",
    "    "
   ]
  },
  {
   "cell_type": "markdown",
   "metadata": {},
   "source": [
    "### Bài 15_6: viết hàm is_prime(): trả về danh sách các số nguyên tố từ 2 >n với tham số truyền vào là n"
   ]
  },
  {
   "cell_type": "code",
   "execution_count": 17,
   "metadata": {},
   "outputs": [
    {
     "name": "stdout",
     "output_type": "stream",
     "text": [
      "Nhập vào một số: 21\n",
      "Các số nguyên tố từ 2 đến  21 là:\n",
      "2\n",
      "3\n",
      "5\n",
      "7\n",
      "11\n",
      "13\n",
      "17\n",
      "19\n"
     ]
    }
   ],
   "source": [
    "n = int(input('Nhập vào một số: '))\n",
    "def is_prime(n):\n",
    "    if n<2:\n",
    "        return False\n",
    "    for i in range(2,n):\n",
    "        if n % i == 0:\n",
    "            return False\n",
    "            break;\n",
    "    return True\n",
    "\n",
    "print('Các số nguyên tố từ 2 đến ',n,'là:')\n",
    "for j in range(2,n):\n",
    "    if is_prime(j) == True:\n",
    "        print(j)"
   ]
  },
  {
   "cell_type": "code",
   "execution_count": null,
   "metadata": {},
   "outputs": [],
   "source": []
  }
 ],
 "metadata": {
  "kernelspec": {
   "display_name": "Python 3",
   "language": "python",
   "name": "python3"
  },
  "language_info": {
   "codemirror_mode": {
    "name": "ipython",
    "version": 3
   },
   "file_extension": ".py",
   "mimetype": "text/x-python",
   "name": "python",
   "nbconvert_exporter": "python",
   "pygments_lexer": "ipython3",
   "version": "3.8.3"
  }
 },
 "nbformat": 4,
 "nbformat_minor": 4
}
