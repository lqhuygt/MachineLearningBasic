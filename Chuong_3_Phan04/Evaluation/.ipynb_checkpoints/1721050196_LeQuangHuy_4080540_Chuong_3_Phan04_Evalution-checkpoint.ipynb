{
 "cells": [
  {
   "cell_type": "markdown",
   "metadata": {},
   "source": [
    "# A| Đánh giá mô hình phân lớp"
   ]
  },
  {
   "cell_type": "markdown",
   "metadata": {},
   "source": [
    "## THỰC HÀNH 3.5\n",
    "---\n"
   ]
  },
  {
   "cell_type": "markdown",
   "metadata": {},
   "source": [
    "* Sinh viên xem lại bài thực hành 3.2 trong Chương 3 – phần 02 về phân loại rượu với thuật toán Decsion tree.\n",
    "* Thực hiện xác định các tham số Accuracy, confusion matrix, Precision, Recall, F1-score với 2 trường hợp đã làm trên tập Test"
   ]
  },
  {
   "cell_type": "code",
   "execution_count": 2,
   "metadata": {},
   "outputs": [
    {
     "name": "stdout",
     "output_type": "stream",
     "text": [
      "<class 'numpy.ndarray'>\n",
      "Kích thước dữ liệu đầu vào (features): (178, 13)\n",
      "Kích thước dữ liệu đầu ra (target)   : (178,)\n"
     ]
    }
   ],
   "source": [
    "#Đọc tập dữ liệu wine Dataset\n",
    "import sklearn.datasets as datask\n",
    "#Đọc dữ liệu trả về biến array\n",
    "X_wine, y_wine = datask.load_wine(return_X_y=True)\n",
    "\n",
    "print(type(X_wine))\n",
    "print('Kích thước dữ liệu đầu vào (features):', X_wine.shape)\n",
    "print('Kích thước dữ liệu đầu ra (target)   :', y_wine.shape)"
   ]
  },
  {
   "cell_type": "code",
   "execution_count": 3,
   "metadata": {},
   "outputs": [
    {
     "name": "stdout",
     "output_type": "stream",
     "text": [
      "1. Kích thước tập Training: 133\n",
      "2. Kích thước tập Test    : 45\n"
     ]
    }
   ],
   "source": [
    "#Tách tập dữ liệu data_wine thành 2 phần train – test theo tỷ lệ 75% - 25%\n",
    "from sklearn.model_selection import train_test_split\n",
    "X_train, X_test, y_train, y_test = train_test_split(X_wine, y_wine, \n",
    "                                                    test_size=0.25, \n",
    "                                                    random_state=50)\n",
    "\n",
    "print(\"1. Kích thước tập Training: %d\" %len(y_train))\n",
    "print(\"2. Kích thước tập Test    : %d\" %len(y_test))"
   ]
  },
  {
   "cell_type": "code",
   "execution_count": 4,
   "metadata": {},
   "outputs": [
    {
     "data": {
      "text/plain": [
       "DecisionTreeClassifier(random_state=0, splitter='random')"
      ]
     },
     "execution_count": 4,
     "metadata": {},
     "output_type": "execute_result"
    }
   ],
   "source": [
    "#Gọi thư viên thuật toán DecisionTree\n",
    "from sklearn.tree import DecisionTreeClassifier\n",
    "\n",
    "#Xây dựng và huấn luyện với model: Decision Tree \n",
    "model_tree  = DecisionTreeClassifier(\n",
    "                                     splitter='random', \n",
    "                                     random_state=0)\n",
    "# Huấn luyên mô hình với dữ liệu huấn luyện\n",
    "model_tree.fit(X_train, y_train)"
   ]
  },
  {
   "cell_type": "code",
   "execution_count": 5,
   "metadata": {},
   "outputs": [
    {
     "name": "stdout",
     "output_type": "stream",
     "text": [
      "Kết quả phân loại rượu trên tập dữ liệu TEST:\n",
      "Predicted labels:  [1 1 1 2 2 2 1 1 0 2 0 0 2 0 1 1 1 1 0 0 0 1 0 2 0 0 1 1 0 1 0 0 2 2 0 1 0\n",
      " 2 0 0 1 1 1 2 1]\n",
      "Ground truth    :  [1 1 1 2 2 2 1 1 0 2 0 0 1 0 1 2 1 2 1 0 0 1 0 2 0 0 1 1 0 1 0 0 2 2 0 1 1\n",
      " 2 0 0 1 1 1 2 1]\n",
      "Độ chính xác đạt: 88.89 %\n"
     ]
    }
   ],
   "source": [
    "#Phân loại rượu trên tập kiểm thử với độ chính xác Accuracy\n",
    "y_pred = model_tree.predict(X_test)\n",
    "\n",
    "print(\"Kết quả phân loại rượu trên tập dữ liệu TEST:\")\n",
    "print(\"Predicted labels: \", y_pred)\n",
    "print(\"Ground truth    : \", y_test)\n",
    "\n",
    "from sklearn.metrics import accuracy_score\n",
    "print(\"Độ chính xác đạt: %.2f %%\" %(100*accuracy_score(y_test, y_pred)))"
   ]
  },
  {
   "cell_type": "code",
   "execution_count": 6,
   "metadata": {},
   "outputs": [
    {
     "name": "stdout",
     "output_type": "stream",
     "text": [
      "Confusion matrix:\n",
      "[[15  0  0]\n",
      " [ 2 16  1]\n",
      " [ 0  2  9]]\n"
     ]
    }
   ],
   "source": [
    "# độ chính xác Accuracy Confusion Matrix\n",
    "from sklearn.metrics import confusion_matrix\n",
    "cnf_matrix = confusion_matrix(y_test, y_pred)\n",
    "print('Confusion matrix:')\n",
    "print(cnf_matrix)"
   ]
  },
  {
   "cell_type": "code",
   "execution_count": 8,
   "metadata": {},
   "outputs": [
    {
     "name": "stdout",
     "output_type": "stream",
     "text": [
      "Chỉ số Precision =  [0.88235294 0.88888889 0.9       ]\n"
     ]
    }
   ],
   "source": [
    "#độ chính xác Precision:\n",
    "from sklearn.metrics import precision_score\n",
    "precision = precision_score(y_test,\n",
    "                            y_pred,                           \n",
    "                            average=None)\n",
    "print('Chỉ số Precision = ',precision)"
   ]
  },
  {
   "cell_type": "code",
   "execution_count": 13,
   "metadata": {},
   "outputs": [
    {
     "name": "stdout",
     "output_type": "stream",
     "text": [
      "Chỉ số recall =  [1.         0.84210526 0.81818182]\n"
     ]
    }
   ],
   "source": [
    "#độ chính xác Recall:\n",
    "from sklearn.metrics import recall_score\n",
    "recall = recall_score(y_test,\n",
    "                        y_pred,                         \n",
    "                        average=None)\n",
    "print('Chỉ số recall = ',recall)"
   ]
  },
  {
   "cell_type": "code",
   "execution_count": 28,
   "metadata": {},
   "outputs": [
    {
     "name": "stdout",
     "output_type": "stream",
     "text": [
      "Chỉ số F1-score =  [0.9375     0.86486486 0.85714286]\n"
     ]
    }
   ],
   "source": [
    "#độ chính xác F1:\n",
    "from sklearn.metrics import f1_score\n",
    "f1 = f1_score(y_test,\n",
    "              y_pred,                           \n",
    "              average=None)\n",
    "print('Chỉ số F1-score = ',f1)"
   ]
  },
  {
   "cell_type": "code",
   "execution_count": 29,
   "metadata": {},
   "outputs": [
    {
     "name": "stdout",
     "output_type": "stream",
     "text": [
      "              precision    recall  f1-score   support\n",
      "\n",
      "     class 0       0.88      1.00      0.94        15\n",
      "     class 1       0.89      0.84      0.86        19\n",
      "     class 3       0.90      0.82      0.86        11\n",
      "\n",
      "    accuracy                           0.89        45\n",
      "   macro avg       0.89      0.89      0.89        45\n",
      "weighted avg       0.89      0.89      0.89        45\n",
      "\n"
     ]
    }
   ],
   "source": [
    "from sklearn.metrics import classification_report\n",
    "target_names = ['class 0', 'class 1','class 3']\n",
    "#Các thông số đánh giá bộ phân lớp:\n",
    "print(classification_report(y_test, \n",
    "                            y_pred, \n",
    "                            target_names=target_names))"
   ]
  },
  {
   "cell_type": "markdown",
   "metadata": {},
   "source": [
    "Sử dụng thuật toán Cây quyết định  trong 2 trường hợp:\n"
   ]
  },
  {
   "cell_type": "markdown",
   "metadata": {},
   "source": [
    "* Sử dụng độ đo Entropy: Xác định độ chính xác của mô hình trên tập Test (25%).\n"
   ]
  },
  {
   "cell_type": "code",
   "execution_count": 18,
   "metadata": {},
   "outputs": [
    {
     "name": "stdout",
     "output_type": "stream",
     "text": [
      "Độ chính xác của tập huấn luyện: 1.0\n"
     ]
    }
   ],
   "source": [
    "#Gọi thư viên thuật toán DecisionTree\n",
    "from sklearn.tree import DecisionTreeClassifier\n",
    "\n",
    "#Xây dựng và huấn luyện với model: Decision Tree \n",
    "model_tree  = DecisionTreeClassifier(criterion= 'entropy', \n",
    "                                     splitter='random', \n",
    "                                     random_state=0)\n",
    "# Huấn luyên mô hình với dữ liệu huấn luyện\n",
    "model_tree.fit(X_train, y_train)\n",
    "\n",
    "print(\"Độ chính xác của tập huấn luyện:\",model_tree.score(X_train, y_train))"
   ]
  },
  {
   "cell_type": "markdown",
   "metadata": {},
   "source": [
    "* Sử dụng độ đo Gini: Xác định độ chính xác của mô hình trên tập Test (25%)."
   ]
  },
  {
   "cell_type": "code",
   "execution_count": 19,
   "metadata": {},
   "outputs": [
    {
     "name": "stdout",
     "output_type": "stream",
     "text": [
      "Độ chính xác của tập huấn luyện: 1.0\n"
     ]
    }
   ],
   "source": [
    "#Gọi thư viên thuật toán DecisionTree\n",
    "from sklearn.tree import DecisionTreeClassifier\n",
    "\n",
    "#Xây dựng và huấn luyện với model: Decision Tree \n",
    "model_tree  = DecisionTreeClassifier(criterion= 'gini', \n",
    "                                     splitter='best', \n",
    "                                     random_state=0)\n",
    "# Huấn luyên mô hình với dữ liệu huấn luyện\n",
    "model_tree.fit(X_train, y_train)\n",
    "\n",
    "print(\"Độ chính xác của tập huấn luyện:\",model_tree.score(X_train, y_train))"
   ]
  },
  {
   "cell_type": "code",
   "execution_count": null,
   "metadata": {},
   "outputs": [],
   "source": []
  },
  {
   "cell_type": "markdown",
   "metadata": {},
   "source": [
    "# B| Đánh giá mô hình hồi quy"
   ]
  },
  {
   "cell_type": "code",
   "execution_count": null,
   "metadata": {},
   "outputs": [],
   "source": []
  },
  {
   "cell_type": "code",
   "execution_count": null,
   "metadata": {},
   "outputs": [],
   "source": []
  },
  {
   "cell_type": "code",
   "execution_count": null,
   "metadata": {},
   "outputs": [],
   "source": []
  },
  {
   "cell_type": "markdown",
   "metadata": {},
   "source": []
  }
 ],
 "metadata": {
  "kernelspec": {
   "display_name": "Python 3",
   "language": "python",
   "name": "python3"
  },
  "language_info": {
   "codemirror_mode": {
    "name": "ipython",
    "version": 3
   },
   "file_extension": ".py",
   "mimetype": "text/x-python",
   "name": "python",
   "nbconvert_exporter": "python",
   "pygments_lexer": "ipython3",
   "version": "3.8.3"
  }
 },
 "nbformat": 4,
 "nbformat_minor": 4
}
