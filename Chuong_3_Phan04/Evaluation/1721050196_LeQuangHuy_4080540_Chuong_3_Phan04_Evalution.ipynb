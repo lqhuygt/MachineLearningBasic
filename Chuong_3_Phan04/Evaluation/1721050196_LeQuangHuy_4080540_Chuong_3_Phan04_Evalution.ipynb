{
 "cells": [
  {
   "cell_type": "markdown",
   "metadata": {},
   "source": [
    "# A| Đánh giá mô hình phân lớp"
   ]
  },
  {
   "cell_type": "markdown",
   "metadata": {},
   "source": [
    "## THỰC HÀNH 3.5\n",
    "---\n"
   ]
  },
  {
   "cell_type": "markdown",
   "metadata": {},
   "source": [
    "* Sinh viên xem lại bài thực hành 3.2 trong Chương 3 – phần 02 về phân loại rượu với thuật toán Decsion tree.\n",
    "* Thực hiện xác định các tham số Accuracy, confusion matrix, Precision, Recall, F1-score với 2 trường hợp đã làm trên tập Test"
   ]
  },
  {
   "cell_type": "code",
   "execution_count": 2,
   "metadata": {},
   "outputs": [
    {
     "name": "stdout",
     "output_type": "stream",
     "text": [
      "<class 'numpy.ndarray'>\n",
      "Kích thước dữ liệu đầu vào (features): (178, 13)\n",
      "Kích thước dữ liệu đầu ra (target)   : (178,)\n"
     ]
    }
   ],
   "source": [
    "#Đọc tập dữ liệu wine Dataset\n",
    "import sklearn.datasets as datask\n",
    "#Đọc dữ liệu trả về biến array\n",
    "X_wine, y_wine = datask.load_wine(return_X_y=True)\n",
    "\n",
    "print(type(X_wine))\n",
    "print('Kích thước dữ liệu đầu vào (features):', X_wine.shape)\n",
    "print('Kích thước dữ liệu đầu ra (target)   :', y_wine.shape)"
   ]
  },
  {
   "cell_type": "code",
   "execution_count": 3,
   "metadata": {},
   "outputs": [
    {
     "name": "stdout",
     "output_type": "stream",
     "text": [
      "1. Kích thước tập Training: 133\n",
      "2. Kích thước tập Test    : 45\n"
     ]
    }
   ],
   "source": [
    "#Tách tập dữ liệu data_wine thành 2 phần train – test theo tỷ lệ 75% - 25%\n",
    "from sklearn.model_selection import train_test_split\n",
    "X_train, X_test, y_train, y_test = train_test_split(X_wine, y_wine, \n",
    "                                                    test_size=0.25, \n",
    "                                                    random_state=50)\n",
    "\n",
    "print(\"1. Kích thước tập Training: %d\" %len(y_train))\n",
    "print(\"2. Kích thước tập Test    : %d\" %len(y_test))"
   ]
  },
  {
   "cell_type": "code",
   "execution_count": 4,
   "metadata": {},
   "outputs": [
    {
     "data": {
      "text/plain": [
       "DecisionTreeClassifier(random_state=0, splitter='random')"
      ]
     },
     "execution_count": 4,
     "metadata": {},
     "output_type": "execute_result"
    }
   ],
   "source": [
    "#Gọi thư viên thuật toán DecisionTree\n",
    "from sklearn.tree import DecisionTreeClassifier\n",
    "\n",
    "#Xây dựng và huấn luyện với model: Decision Tree \n",
    "model_tree  = DecisionTreeClassifier(\n",
    "                                     splitter='random', \n",
    "                                     random_state=0)\n",
    "# Huấn luyên mô hình với dữ liệu huấn luyện\n",
    "model_tree.fit(X_train, y_train)"
   ]
  },
  {
   "cell_type": "code",
   "execution_count": 5,
   "metadata": {},
   "outputs": [
    {
     "name": "stdout",
     "output_type": "stream",
     "text": [
      "Kết quả phân loại rượu trên tập dữ liệu TEST:\n",
      "Predicted labels:  [1 1 1 2 2 2 1 1 0 2 0 0 2 0 1 1 1 1 0 0 0 1 0 2 0 0 1 1 0 1 0 0 2 2 0 1 0\n",
      " 2 0 0 1 1 1 2 1]\n",
      "Ground truth    :  [1 1 1 2 2 2 1 1 0 2 0 0 1 0 1 2 1 2 1 0 0 1 0 2 0 0 1 1 0 1 0 0 2 2 0 1 1\n",
      " 2 0 0 1 1 1 2 1]\n",
      "Độ chính xác đạt: 88.89 %\n"
     ]
    }
   ],
   "source": [
    "#Phân loại rượu trên tập kiểm thử với độ chính xác Accuracy\n",
    "y_pred = model_tree.predict(X_test)\n",
    "\n",
    "print(\"Kết quả phân loại rượu trên tập dữ liệu TEST:\")\n",
    "print(\"Predicted labels: \", y_pred)\n",
    "print(\"Ground truth    : \", y_test)\n",
    "\n",
    "from sklearn.metrics import accuracy_score\n",
    "print(\"Độ chính xác đạt: %.2f %%\" %(100*accuracy_score(y_test, y_pred)))"
   ]
  },
  {
   "cell_type": "code",
   "execution_count": 6,
   "metadata": {},
   "outputs": [
    {
     "name": "stdout",
     "output_type": "stream",
     "text": [
      "Confusion matrix:\n",
      "[[15  0  0]\n",
      " [ 2 16  1]\n",
      " [ 0  2  9]]\n"
     ]
    }
   ],
   "source": [
    "# độ chính xác Accuracy Confusion Matrix\n",
    "from sklearn.metrics import confusion_matrix\n",
    "cnf_matrix = confusion_matrix(y_test, y_pred)\n",
    "print('Confusion matrix:')\n",
    "print(cnf_matrix)"
   ]
  },
  {
   "cell_type": "code",
   "execution_count": 8,
   "metadata": {},
   "outputs": [
    {
     "name": "stdout",
     "output_type": "stream",
     "text": [
      "Chỉ số Precision =  [0.88235294 0.88888889 0.9       ]\n"
     ]
    }
   ],
   "source": [
    "#độ chính xác Precision:\n",
    "from sklearn.metrics import precision_score\n",
    "precision = precision_score(y_test,\n",
    "                            y_pred,                           \n",
    "                            average=None)\n",
    "print('Chỉ số Precision = ',precision)"
   ]
  },
  {
   "cell_type": "code",
   "execution_count": 13,
   "metadata": {},
   "outputs": [
    {
     "name": "stdout",
     "output_type": "stream",
     "text": [
      "Chỉ số recall =  [1.         0.84210526 0.81818182]\n"
     ]
    }
   ],
   "source": [
    "#độ chính xác Recall:\n",
    "from sklearn.metrics import recall_score\n",
    "recall = recall_score(y_test,\n",
    "                        y_pred,                         \n",
    "                        average=None)\n",
    "print('Chỉ số recall = ',recall)"
   ]
  },
  {
   "cell_type": "code",
   "execution_count": 28,
   "metadata": {},
   "outputs": [
    {
     "name": "stdout",
     "output_type": "stream",
     "text": [
      "Chỉ số F1-score =  [0.9375     0.86486486 0.85714286]\n"
     ]
    }
   ],
   "source": [
    "#độ chính xác F1:\n",
    "from sklearn.metrics import f1_score\n",
    "f1 = f1_score(y_test,\n",
    "              y_pred,                           \n",
    "              average=None)\n",
    "print('Chỉ số F1-score = ',f1)"
   ]
  },
  {
   "cell_type": "code",
   "execution_count": 29,
   "metadata": {},
   "outputs": [
    {
     "name": "stdout",
     "output_type": "stream",
     "text": [
      "              precision    recall  f1-score   support\n",
      "\n",
      "     class 0       0.88      1.00      0.94        15\n",
      "     class 1       0.89      0.84      0.86        19\n",
      "     class 3       0.90      0.82      0.86        11\n",
      "\n",
      "    accuracy                           0.89        45\n",
      "   macro avg       0.89      0.89      0.89        45\n",
      "weighted avg       0.89      0.89      0.89        45\n",
      "\n"
     ]
    }
   ],
   "source": [
    "from sklearn.metrics import classification_report\n",
    "target_names = ['class 0', 'class 1','class 3']\n",
    "#Các thông số đánh giá bộ phân lớp:\n",
    "print(classification_report(y_test, \n",
    "                            y_pred, \n",
    "                            target_names=target_names))"
   ]
  },
  {
   "cell_type": "markdown",
   "metadata": {},
   "source": [
    "Sử dụng thuật toán Cây quyết định  trong 2 trường hợp:\n"
   ]
  },
  {
   "cell_type": "markdown",
   "metadata": {},
   "source": [
    "* Sử dụng độ đo Entropy: Xác định độ chính xác của mô hình trên tập Test (25%).\n"
   ]
  },
  {
   "cell_type": "code",
   "execution_count": 18,
   "metadata": {},
   "outputs": [
    {
     "name": "stdout",
     "output_type": "stream",
     "text": [
      "Độ chính xác của tập huấn luyện: 1.0\n"
     ]
    }
   ],
   "source": [
    "#Gọi thư viên thuật toán DecisionTree\n",
    "from sklearn.tree import DecisionTreeClassifier\n",
    "\n",
    "#Xây dựng và huấn luyện với model: Decision Tree \n",
    "model_tree  = DecisionTreeClassifier(criterion= 'entropy', \n",
    "                                     splitter='random', \n",
    "                                     random_state=0)\n",
    "# Huấn luyên mô hình với dữ liệu huấn luyện\n",
    "model_tree.fit(X_train, y_train)\n",
    "\n",
    "print(\"Độ chính xác của tập huấn luyện:\",model_tree.score(X_train, y_train))"
   ]
  },
  {
   "cell_type": "markdown",
   "metadata": {},
   "source": [
    "* Sử dụng độ đo Gini: Xác định độ chính xác của mô hình trên tập Test (25%)."
   ]
  },
  {
   "cell_type": "code",
   "execution_count": 19,
   "metadata": {},
   "outputs": [
    {
     "name": "stdout",
     "output_type": "stream",
     "text": [
      "Độ chính xác của tập huấn luyện: 1.0\n"
     ]
    }
   ],
   "source": [
    "#Gọi thư viên thuật toán DecisionTree\n",
    "from sklearn.tree import DecisionTreeClassifier\n",
    "\n",
    "#Xây dựng và huấn luyện với model: Decision Tree \n",
    "model_tree  = DecisionTreeClassifier(criterion= 'gini', \n",
    "                                     splitter='best', \n",
    "                                     random_state=0)\n",
    "# Huấn luyên mô hình với dữ liệu huấn luyện\n",
    "model_tree.fit(X_train, y_train)\n",
    "\n",
    "print(\"Độ chính xác của tập huấn luyện:\",model_tree.score(X_train, y_train))"
   ]
  },
  {
   "cell_type": "code",
   "execution_count": null,
   "metadata": {},
   "outputs": [],
   "source": []
  },
  {
   "cell_type": "markdown",
   "metadata": {},
   "source": [
    "# B| Đánh giá mô hình hồi quy"
   ]
  },
  {
   "cell_type": "markdown",
   "metadata": {},
   "source": [
    "## THỰC HÀNH 3.6\n",
    "---\n",
    "* Sinh viên xem lại bài thực hành 3.3 trong Chương 3 – phần 03 về bài toán hồi quy với tập dữ liệu Diabetes Dataset .\n",
    "* Xây dựng mô hình hồi quy tuyến tính với tất các thuộc tính đầu vào (input). Xác định sai số MAE, MSE, RMSE và R2  trên tập Train và Test.\n"
   ]
  },
  {
   "cell_type": "code",
   "execution_count": 19,
   "metadata": {},
   "outputs": [
    {
     "name": "stdout",
     "output_type": "stream",
     "text": [
      "<class 'numpy.ndarray'>\n",
      "Kích thước dữ liệu đầu vào (features): (442, 10)\n",
      "Kích thước dữ liệu đầu ra (target)   : (442,)\n"
     ]
    }
   ],
   "source": [
    "#Đọc tập dữ liệu Iris Dataset\n",
    "import sklearn.datasets as datask\n",
    "#Đọc dữ liệu trả về biến array\n",
    "X_diabetes, y_diabetes = datask.load_diabetes(return_X_y=True)\n",
    "\n",
    "print(type(X_diabetes))\n",
    "print('Kích thước dữ liệu đầu vào (features):', X_diabetes.shape)\n",
    "print('Kích thước dữ liệu đầu ra (target)   :', y_diabetes.shape)"
   ]
  },
  {
   "cell_type": "code",
   "execution_count": 36,
   "metadata": {},
   "outputs": [
    {
     "name": "stdout",
     "output_type": "stream",
     "text": [
      "1. Kích thước tập Training: 353\n",
      "2. Kích thước tập Test    : 89\n"
     ]
    }
   ],
   "source": [
    "# Biến X_diabetes: Lưu trữ 10 biến độc lập (input)\n",
    "# Biến y_diabetes: Lưu trữ biến phụ thuộc (target)\n",
    "\n",
    "from sklearn.model_selection import train_test_split\n",
    "X_train_all, X_test_all, y_train, y_test = train_test_split(X_diabetes, \n",
    "                                                    y_diabetes, \n",
    "                                                    test_size=0.2, \n",
    "                                                    random_state=50)\n",
    "print(\"1. Kích thước tập Training: %d\" %len(y_train))\n",
    "print(\"2. Kích thước tập Test    : %d\" %len(y_test))"
   ]
  },
  {
   "cell_type": "code",
   "execution_count": 37,
   "metadata": {},
   "outputs": [
    {
     "data": {
      "text/plain": [
       "array([[ 0.08166637,  0.05068012, -0.00297252, -0.03321358,  0.04246153,\n",
       "         0.05787118, -0.01026611,  0.03430886, -0.00060925, -0.0010777 ],\n",
       "       [-0.02730979, -0.04464164,  0.04768465, -0.04698506,  0.03420581,\n",
       "         0.05724488, -0.08021722,  0.13025177,  0.04506617,  0.13146972]])"
      ]
     },
     "execution_count": 37,
     "metadata": {},
     "output_type": "execute_result"
    }
   ],
   "source": [
    "X_train_all[:2,:]"
   ]
  },
  {
   "cell_type": "code",
   "execution_count": 38,
   "metadata": {},
   "outputs": [
    {
     "data": {
      "text/plain": [
       "array([139., 317.])"
      ]
     },
     "execution_count": 38,
     "metadata": {},
     "output_type": "execute_result"
    }
   ],
   "source": [
    "y_train[:2]"
   ]
  },
  {
   "cell_type": "code",
   "execution_count": 39,
   "metadata": {},
   "outputs": [
    {
     "data": {
      "text/plain": [
       "LinearRegression()"
      ]
     },
     "execution_count": 39,
     "metadata": {},
     "output_type": "execute_result"
    }
   ],
   "source": [
    "#Sử dụng model hồi quy tuyến tính cho bài toán \n",
    "from sklearn.linear_model import LinearRegression\n",
    "lin_model_all = LinearRegression(fit_intercept=True)# fit ứng với beta 0\n",
    "lin_model_all.fit(X_train_all, y_train)"
   ]
  },
  {
   "cell_type": "code",
   "execution_count": 40,
   "metadata": {},
   "outputs": [
    {
     "name": "stdout",
     "output_type": "stream",
     "text": [
      "[ 72.39635284  87.10241309 269.74341071  80.60898279  73.1741801\n",
      "  42.89772697 154.94323987 186.45829394  97.94144538 137.63198912\n",
      " 157.59342356 100.52649635 106.13055228  83.12440293 145.0406827\n",
      "  81.78006479  77.23359572 151.17821453 160.40179413  92.54844233\n",
      " 157.76025214 141.3471851  167.02455754 126.14443914 213.42218891\n",
      " 163.7321554  158.26881524 121.53466999 125.78366562 245.05645831\n",
      " 221.33030832 185.35779481  51.76587731  38.79576972  57.14817637\n",
      "  36.5754586  155.4325103  123.60372691 165.12419399 133.48265513\n",
      " 169.0497851  169.29376964 169.84942724 134.04805947 202.35285594\n",
      " 178.64738173 122.20417974 179.58417758 173.16196243  53.74554589\n",
      " 145.60364891  94.4883821  191.77812624 156.29583849  95.47593202\n",
      " 161.81944759 125.2615453  217.02995874 120.04517998 245.56967689\n",
      " 187.10682482 143.63594983  52.47871832 109.33917606 117.84453964\n",
      " 157.11763121 167.28347065 163.00674797  68.66661974  69.06340111\n",
      " 197.43509697 178.86362065  70.24282952 258.92528926 231.69535325\n",
      " 138.21094803 205.39922952 288.77620784 180.99548416 113.3640176\n",
      " 168.91954854 153.56562762 145.83619564 215.99495693 143.002242\n",
      " 211.65292252 145.78459269 218.25715283 100.05125647]\n"
     ]
    }
   ],
   "source": [
    "#Sử dụng model huẩn luyện được trên tập Train để dự đoán trên tập Test\n",
    "y_pred_all = lin_model_all.predict(X_test_all)\n",
    "print(y_pred_all)"
   ]
  },
  {
   "cell_type": "code",
   "execution_count": 41,
   "metadata": {},
   "outputs": [
    {
     "name": "stdout",
     "output_type": "stream",
     "text": [
      "Sai số  MAE =  40.666784520508585\n"
     ]
    }
   ],
   "source": [
    "# Sai số MAE\n",
    "from sklearn.metrics import mean_absolute_error\n",
    "mae = mean_absolute_error(y_test, y_pred_all)\n",
    "print('Sai số  MAE = ', mae)"
   ]
  },
  {
   "cell_type": "code",
   "execution_count": 42,
   "metadata": {},
   "outputs": [
    {
     "name": "stdout",
     "output_type": "stream",
     "text": [
      "Sai số MSE =  2650.9384531241976\n"
     ]
    }
   ],
   "source": [
    "# Sai số MSE\n",
    "from sklearn.metrics import mean_squared_error\n",
    "mse = mean_squared_error(y_test, y_pred_all)\n",
    "print('Sai số MSE = ', mse)"
   ]
  },
  {
   "cell_type": "code",
   "execution_count": 43,
   "metadata": {},
   "outputs": [
    {
     "name": "stdout",
     "output_type": "stream",
     "text": [
      "Sai số RMSE =  51.487264960611355\n"
     ]
    }
   ],
   "source": [
    "# Sai số RMSE\n",
    "from sklearn.metrics import mean_squared_error\n",
    "rmse = mean_squared_error(y_test,\n",
    "                          y_pred_all,\n",
    "                          squared=False)\n",
    "print('Sai số RMSE = ', rmse)"
   ]
  },
  {
   "cell_type": "code",
   "execution_count": 44,
   "metadata": {},
   "outputs": [
    {
     "name": "stdout",
     "output_type": "stream",
     "text": [
      "Hệ số R^2 =  0.523408747228272\n"
     ]
    }
   ],
   "source": [
    "# Sai số R2\n",
    "from sklearn.metrics import r2_score\n",
    "r2 = r2_score(y_test, y_pred_all)\n",
    "print('Hệ số R^2 = ', r2)"
   ]
  },
  {
   "cell_type": "code",
   "execution_count": null,
   "metadata": {},
   "outputs": [],
   "source": []
  },
  {
   "cell_type": "code",
   "execution_count": null,
   "metadata": {},
   "outputs": [],
   "source": []
  },
  {
   "cell_type": "code",
   "execution_count": null,
   "metadata": {},
   "outputs": [],
   "source": []
  },
  {
   "cell_type": "code",
   "execution_count": null,
   "metadata": {},
   "outputs": [],
   "source": []
  }
 ],
 "metadata": {
  "kernelspec": {
   "display_name": "Python 3",
   "language": "python",
   "name": "python3"
  },
  "language_info": {
   "codemirror_mode": {
    "name": "ipython",
    "version": 3
   },
   "file_extension": ".py",
   "mimetype": "text/x-python",
   "name": "python",
   "nbconvert_exporter": "python",
   "pygments_lexer": "ipython3",
   "version": "3.8.3"
  }
 },
 "nbformat": 4,
 "nbformat_minor": 4
}
