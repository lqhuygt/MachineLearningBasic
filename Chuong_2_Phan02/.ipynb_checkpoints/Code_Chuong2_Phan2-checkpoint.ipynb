{
 "cells": [
  {
   "cell_type": "markdown",
   "metadata": {},
   "source": [
    "# MÔN HỌC: KỸ NGHỆ TRI THỨC VÀ HỌC MÁY\n",
    "-----\n",
    "## Chương 2 - Thu thập và chuẩn bị dữ liệu(phần 02)\n",
    "----\n",
    "Giảng Viên: Đặng Văn Nam\n",
    "\n",
    "Email: dangvannam@humg.edu.vn"
   ]
  },
  {
   "cell_type": "markdown",
   "metadata": {},
   "source": [
    "# 1) Giới thiệu\n",
    "---\n",
    "**Pandas** là một thư viện mã nguồn mở được xây dựng dựa trên NumPy, sử dụng để thao tác và phân tích dữ liệu. Với Pandas chúng ta có thể:\n",
    "Xử lý tập dữ liệu khác nhau về định dạng: chuỗi thời gian, bảng không đồng nhất, ma trận dữ liệu\n",
    "* Import dữ liệu từ nhiều nguồn khác nhau như CSV, DB/SQL…\n",
    "* Xử lý vô số phép toán cho tập dữ liệu: subsetting, slicing, filtering, merging, groupBy, re-ordering, and re-shaping,..\n",
    "* Xử lý dữ liệu mất mát theo mong muốn.\n",
    "* Xử lý, phân tích dữ liệu tốt như mô hình hoá và thống kê.\n",
    "* Tích hợp tốt với các thư viện khác của python.\n",
    "\n",
    "https://pandas.pydata.org/"
   ]
  },
  {
   "cell_type": "markdown",
   "metadata": {},
   "source": [
    "# 2) Làm việc với các đối tượng trong Pandas\n",
    "---\n",
    "## 2.1) Series\n",
    "\n",
    "**Series** là mảng một chiều (1D) giống như kiểu vector trong Numpy, hay như một cột của một bảng, nhưng nó bao gồm thêm một bảng đánh index."
   ]
  },
  {
   "cell_type": "code",
   "execution_count": null,
   "metadata": {},
   "outputs": [],
   "source": [
    "#Khai báo sử dụng thư viện\n",
    "import pandas as pd\n",
    "import numpy as np\n",
    "import matplotlib.pyplot as plt"
   ]
  },
  {
   "cell_type": "code",
   "execution_count": null,
   "metadata": {},
   "outputs": [],
   "source": [
    "#Tạo một đối tượng series\n",
    "#index mặc định đánh số từ 0\n",
    "data = pd.Series([2.8, 3, 4.44, 5])\n",
    "data"
   ]
  },
  {
   "cell_type": "code",
   "execution_count": null,
   "metadata": {},
   "outputs": [],
   "source": [
    "#Mỗi một đối tượng series bao gồm 2 thành phần\n",
    "#1. Values\n",
    "#2. index\n",
    "\n",
    "print('Values:', data.values)\n",
    "print('Indices:', data.index)"
   ]
  },
  {
   "cell_type": "code",
   "execution_count": null,
   "metadata": {},
   "outputs": [],
   "source": [
    "#Tạo một đối tượng series với index thiết lập\n",
    "data = pd.Series([1.25, 2, 3.5, 4.75, 8.0],\n",
    "                 index=['a', 'b', 'c', 'd','k'])\n",
    "data"
   ]
  },
  {
   "cell_type": "code",
   "execution_count": null,
   "metadata": {},
   "outputs": [],
   "source": [
    "print('Values:', data.values)\n",
    "print('Indices:', data.index)"
   ]
  },
  {
   "cell_type": "code",
   "execution_count": null,
   "metadata": {},
   "outputs": [],
   "source": [
    "#Truy cập tới một phần tử trong series thông qua index hoặc thứ tự\n",
    "print('Phần tử có index = b:', data['b'])\n",
    "print('Phần tử ở vị trí 1  :', data[1])"
   ]
  },
  {
   "cell_type": "code",
   "execution_count": null,
   "metadata": {},
   "outputs": [],
   "source": [
    "#Tạo đối tượng series từ một biến kiểu Dictionary\n",
    "#Chỉ số được tự động sắp xếp.\n",
    "population_dict = {'California': 38332521,\n",
    "                   'Texas': 26448193,\n",
    "                   'New York': 19651127,\n",
    "                   'Florida': 19552860,\n",
    "                   'Illinois': 12882135}\n",
    "population = pd.Series(population_dict,name='Population_USA')\n",
    "population"
   ]
  },
  {
   "cell_type": "code",
   "execution_count": null,
   "metadata": {},
   "outputs": [],
   "source": [
    "#View tên của series\n",
    "population.name"
   ]
  },
  {
   "cell_type": "code",
   "execution_count": null,
   "metadata": {},
   "outputs": [],
   "source": [
    "population['Florida']"
   ]
  },
  {
   "cell_type": "code",
   "execution_count": null,
   "metadata": {},
   "outputs": [],
   "source": [
    "#Chuyển đổi từ dữ liệu vector sang series\n",
    "a_vector = np.array([8,12,9,0,7,11])\n",
    "a_series = pd.Series(a_vector,dtype='float')\n",
    "a_series\n"
   ]
  },
  {
   "cell_type": "markdown",
   "metadata": {},
   "source": [
    "## 1.2) DataFrame\n",
    "---"
   ]
  },
  {
   "cell_type": "code",
   "execution_count": null,
   "metadata": {},
   "outputs": [],
   "source": [
    "#Tạo DataFrame từ các Series\n",
    "area_dict = {'California': 423967, 'Texas': 695662, 'New York': 141297,\n",
    "             'Florida': 170312, 'Illinois': 149995}\n",
    "area = pd.Series(area_dict, name='Area_USA')\n",
    "area"
   ]
  },
  {
   "cell_type": "code",
   "execution_count": null,
   "metadata": {},
   "outputs": [],
   "source": [
    "data_usa = pd.DataFrame({'population':population,\n",
    "                         'area':area})\n",
    "data_usa"
   ]
  },
  {
   "cell_type": "code",
   "execution_count": null,
   "metadata": {},
   "outputs": [],
   "source": [
    "#Tương tự như series, DataFrame cũng có thuộc tính values và index\n",
    "df_values = data_usa.values\n",
    "df_index = data_usa.index\n",
    "print('Values of DataFrame:\\n',df_values)\n",
    "print('Index of DataFrame:\\n',df_index)"
   ]
  },
  {
   "cell_type": "code",
   "execution_count": null,
   "metadata": {},
   "outputs": [],
   "source": [
    "#Tạo một DataFrame từ một biến Dict\n",
    "#Chỉ số được tạo mặc định từ 0\n",
    "data_dict = {\n",
    "    'apples': [3, 2, 0, 1], \n",
    "    'oranges': [0, 3, 7, 2]}\n",
    "\n",
    "purchases = pd.DataFrame(data_dict)\n",
    "purchases"
   ]
  },
  {
   "cell_type": "code",
   "execution_count": null,
   "metadata": {},
   "outputs": [],
   "source": [
    "#Tạo DataFrame với index thiết lập\n",
    "purchases = pd.DataFrame(data_dict, \n",
    "                         index=['June', 'Robert', 'Lily', 'David'])\n",
    "purchases"
   ]
  },
  {
   "cell_type": "markdown",
   "metadata": {},
   "source": [
    "# 3) Quan sát và truy suất dữ liệu từ DataFrame\n",
    "---\n",
    "## 3.1) Quan sát dữ liệu"
   ]
  },
  {
   "cell_type": "code",
   "execution_count": null,
   "metadata": {},
   "outputs": [],
   "source": [
    "#Đọc dữ liệu mẫu được lưu trữ trong file csv\n",
    "path='Data_Excercise\\csv_Data_Loan.csv'\n",
    "df_loan=pd.read_csv(path)\n",
    "df_loan"
   ]
  },
  {
   "cell_type": "code",
   "execution_count": null,
   "metadata": {},
   "outputs": [],
   "source": [
    "#Quan sát dữ liệu biến DataFrame\n",
    "df_loan.info()"
   ]
  },
  {
   "cell_type": "code",
   "execution_count": null,
   "metadata": {},
   "outputs": [],
   "source": [
    "#Hiển thị 10 dòng đầu tiên\n",
    "df_loan.head(10)"
   ]
  },
  {
   "cell_type": "code",
   "execution_count": null,
   "metadata": {},
   "outputs": [],
   "source": [
    "#Hiển thị 5 dòng cuối cùng của biến df_loan\n",
    "df_loan.tail()"
   ]
  },
  {
   "cell_type": "code",
   "execution_count": null,
   "metadata": {},
   "outputs": [],
   "source": [
    "#Hiển thị kích thước df_loan (rows x columns)\n",
    "df_loan.shape"
   ]
  },
  {
   "cell_type": "code",
   "execution_count": null,
   "metadata": {},
   "outputs": [],
   "source": [
    "#Danh sách tên các columns trong df\n",
    "df_loan.columns"
   ]
  },
  {
   "cell_type": "code",
   "execution_count": null,
   "metadata": {},
   "outputs": [],
   "source": [
    "#Kiếm tra giá trị null trong Df\n",
    "df_loan.isnull()"
   ]
  },
  {
   "cell_type": "code",
   "execution_count": null,
   "metadata": {},
   "outputs": [],
   "source": [
    "#Thống kê số lượng null theo cột\n",
    "df_loan.isnull().sum()"
   ]
  },
  {
   "cell_type": "code",
   "execution_count": null,
   "metadata": {},
   "outputs": [],
   "source": [
    "#Cho biết số dòng dữ liệu không null\n",
    "df_loan.count()"
   ]
  },
  {
   "cell_type": "code",
   "execution_count": null,
   "metadata": {},
   "outputs": [],
   "source": [
    "#Số phần tử trong df (= rows x columns)\n",
    "df_loan.size"
   ]
  },
  {
   "cell_type": "code",
   "execution_count": null,
   "metadata": {},
   "outputs": [],
   "source": [
    "#Kiểu dữ liệu của từng columns trong df\n",
    "df_loan.dtypes"
   ]
  },
  {
   "cell_type": "code",
   "execution_count": null,
   "metadata": {},
   "outputs": [],
   "source": [
    "#Quan sát một số đặc trưng thống kê của df\n",
    "#Mặc định thống kê các cột dữ liệu số\n",
    "df_loan.describe()"
   ]
  },
  {
   "cell_type": "code",
   "execution_count": null,
   "metadata": {},
   "outputs": [],
   "source": [
    "#Quan sát một số đặc trưng thống kê của df\n",
    "#Thống kê các cột dữ liệu Object\n",
    "df_loan.describe(include='O')"
   ]
  },
  {
   "cell_type": "code",
   "execution_count": null,
   "metadata": {},
   "outputs": [],
   "source": [
    "#Thống kê tất cả các cột dữ liệu ko phân biệt số, object\n",
    "df_loan.describe(include='all')"
   ]
  },
  {
   "cell_type": "code",
   "execution_count": null,
   "metadata": {},
   "outputs": [],
   "source": [
    "#Quan sát đặc trưng thống kê theo từng cột\n",
    "#Dữ liệu số\n",
    "df_loan[['loan_amnt']].describe()"
   ]
  },
  {
   "cell_type": "code",
   "execution_count": null,
   "metadata": {},
   "outputs": [],
   "source": [
    "#Quan sát đặc trưng thống kê theo từng cột\n",
    "#Dữ liệu Object\n",
    "df_loan[['term']].describe()"
   ]
  },
  {
   "cell_type": "markdown",
   "metadata": {},
   "source": [
    "## 3.2) Truy xuất dữ liệu trong DataFrame\n",
    "---"
   ]
  },
  {
   "cell_type": "code",
   "execution_count": null,
   "metadata": {},
   "outputs": [],
   "source": [
    "#Truy xuất dữ liệu theo cột\n",
    "#Lấy dữ liệu của một cột\n",
    "df_state = df_loan[['addr_state']]\n",
    "df_state.head()"
   ]
  },
  {
   "cell_type": "code",
   "execution_count": null,
   "metadata": {},
   "outputs": [],
   "source": [
    "#Truy xuất dữ liệu theo cột\n",
    "#Chỉ lấy dữ liệu của 3 cột: loan_amnt, int_rate, purpose\n",
    "df_loan1 = df_loan[['loan_amnt','int_rate','purpose']]\n",
    "df_loan1.head()"
   ]
  },
  {
   "cell_type": "markdown",
   "metadata": {},
   "source": [
    "#### df.iloc[[index_row],[index_col]]: Truy cập tới dữ liệu của hàng và cột qua chỉ số index_row, index_col (tương tự như với Numpy)"
   ]
  },
  {
   "cell_type": "code",
   "execution_count": null,
   "metadata": {},
   "outputs": [],
   "source": [
    "#Sử dụng .iloc truy xuất dữ liệu như với Numpy\n",
    "#Truy xuất 10 dòng dữ liệu từ [10 --> 20) tất cả các cột\n",
    "df_loan.iloc[10:20,:]"
   ]
  },
  {
   "cell_type": "code",
   "execution_count": null,
   "metadata": {},
   "outputs": [],
   "source": [
    "#Truy xuất 100 dòng dữ liệu đầu tiên,\n",
    "#của các cột có index 0, 4, 6, 7\n",
    "df_loan.iloc[:100,[0,4,6,7]]"
   ]
  },
  {
   "cell_type": "code",
   "execution_count": null,
   "metadata": {},
   "outputs": [],
   "source": [
    "#Truy cập dòng dữ liệu 10, cột 7\n",
    "df_loan.iloc[10,7]"
   ]
  },
  {
   "cell_type": "code",
   "execution_count": null,
   "metadata": {},
   "outputs": [],
   "source": [
    "#Truy cập dòng dữ liệu 10, dòng 7\n",
    "#Cột dữ liệu 0, 1, 5\n",
    "df_loan.iloc[[10,7],[0,1,5]]"
   ]
  },
  {
   "cell_type": "markdown",
   "metadata": {},
   "source": [
    "#### df.loc[[index_row],[name_col]]: Truy cập tới dữ liệu của hàng và cột qua chỉ số index_row, tên cột name_col"
   ]
  },
  {
   "cell_type": "code",
   "execution_count": null,
   "metadata": {},
   "outputs": [],
   "source": [
    "#Truy cập từ dòng có index 20 đến dòng 25 của df\n",
    "#chỉ lấy dữ liệu 4 cột: loan_amnt, home_ownership, purpose, addr_state\n",
    "df_loan.loc[20:25,['loan_amnt','home_ownership','purpose','addr_state']]"
   ]
  },
  {
   "cell_type": "markdown",
   "metadata": {},
   "source": [
    "# 4) Replacing Values and Renamde Columns\n",
    "---\n",
    "## 4.1) Replacing values"
   ]
  },
  {
   "cell_type": "code",
   "execution_count": null,
   "metadata": {},
   "outputs": [],
   "source": [
    "#tách lấy dataframe để thực hiện replacing values\n",
    "df_new = df_loan.loc[:10,['loan_amnt',\n",
    "                          'home_ownership',\n",
    "                          'purpose',\n",
    "                          'addr_state']]\n",
    "df_new"
   ]
  },
  {
   "cell_type": "code",
   "execution_count": null,
   "metadata": {},
   "outputs": [],
   "source": [
    "#Thay thế giá trị purpose: credit_card--> wedding\n",
    "#của index đầu tiên\n",
    "df_new.loc[0,'purpose'] = 'wedding'\n",
    "df_new"
   ]
  },
  {
   "cell_type": "code",
   "execution_count": null,
   "metadata": {},
   "outputs": [],
   "source": [
    "#Thay thế giá trị thuộc tính loan_amnt: 2400 --> 8800\n",
    "#của index = 2\n",
    "df_new.iloc[2,0] = 8800\n",
    "df_new"
   ]
  },
  {
   "cell_type": "code",
   "execution_count": null,
   "metadata": {},
   "outputs": [],
   "source": [
    "#Thay thế nhiều giá trị trong DataFrame\n",
    "#RENT --> MORTGAGE\n",
    "#car --> small_business\n",
    "df_new.replace({'RENT':'MORTGAGE',\n",
    "                'car':'small_business'})"
   ]
  },
  {
   "cell_type": "code",
   "execution_count": null,
   "metadata": {},
   "outputs": [],
   "source": [
    "#Khi muốn thay đổi áp dụng lên DataFrame hiện tại\n",
    "#Thiết lập tham số inplace=True\n",
    "df_new.replace({'RENT':'MORTGAGE',\n",
    "                'car':'small_business'}, inplace=True)\n",
    "df_new"
   ]
  },
  {
   "cell_type": "code",
   "execution_count": null,
   "metadata": {},
   "outputs": [],
   "source": [
    "#Thay thế tên viết tắt bằng tên đầy đủ.\n",
    "state_name={'AZ':'Arizona',\n",
    "            'GA':'Georgia',\n",
    "            'IL':'Illinois',\n",
    "            'CA':'California',\n",
    "            'TX':'Texas',\n",
    "            'VA':'Virgrinia'}\n",
    "#Trong cột addr_state\n",
    "df_new['addr_state'].replace(state_name,inplace=True)\n",
    "df_new"
   ]
  },
  {
   "cell_type": "markdown",
   "metadata": {},
   "source": [
    "## 4.2) Thay đổi tên cột trong DataFrame\n",
    "---"
   ]
  },
  {
   "cell_type": "code",
   "execution_count": null,
   "metadata": {},
   "outputs": [],
   "source": [
    "df_new = df_loan[['loan_amnt','home_ownership','purpose','addr_state']].copy()\n",
    "df_new.info()"
   ]
  },
  {
   "cell_type": "code",
   "execution_count": null,
   "metadata": {},
   "outputs": [],
   "source": [
    "#Đổi tên cột\n",
    "t = df_new.rename(columns={'loan_amnt':'Số tiền vay',\n",
    "                       'home_ownership':'Tình trạng nhà ở',\n",
    "                       'purpose': ' Mục đích vay tiền',\n",
    "                       'addr_state':'Địa chỉ'})\n",
    "t.head()"
   ]
  },
  {
   "cell_type": "code",
   "execution_count": null,
   "metadata": {},
   "outputs": [],
   "source": [
    "#Muốn áp dụng thay đổi vào trực tiếp biến df, sử dụng inplace=True\n",
    "df_new.rename(columns={'loan_amnt':'Số tiền vay',\n",
    "                       'home_ownership':'Tình trạng nhà ở',\n",
    "                       'purpose': ' Mục đích vay tiền',\n",
    "                       'addr_state':'Địa chỉ'}, inplace=True)\n",
    "df_new.head()"
   ]
  },
  {
   "cell_type": "code",
   "execution_count": null,
   "metadata": {},
   "outputs": [],
   "source": [
    "#Đổi tên cột sang viết hoa\n",
    "df_new.rename(str.upper, axis='columns')"
   ]
  },
  {
   "cell_type": "code",
   "execution_count": null,
   "metadata": {},
   "outputs": [],
   "source": [
    "df_new"
   ]
  },
  {
   "cell_type": "markdown",
   "metadata": {},
   "source": [
    "## Thực hành 1\n",
    "---\n",
    "**Yêu cầu 1.1:**\n",
    "1. Đọc dữ liệu từ file .csv vào biến kiểu dataframe: df_patient với cột feature_1 là cột chỉ số (index_col)\n",
    "2. Hiển thị thông tin tổng quan của tập dữ liệu\n",
    "3. Hiển thị thông tin của 10 bệnh nhân đầu tiên và 5 bệnh nhân cuối cùng của tập dữ liệu.\n",
    "4. Đặt lại tên các cột dữ liệu trong Dataframe: \n",
    "    * Feature_1 --> Age\n",
    "    * Feature_2 --> Gender\n",
    "    * Feature_3 --> Type\n",
    "    * Feature_4 --> Blood_pressure\n",
    "    * Feature_5 --> Cholesterol\n",
    "    * Feature_6 --> Heartbeat\n",
    "    * Feature_7 --> Thalassemia\n",
    "    * Feature_8 --> Result"
   ]
  },
  {
   "cell_type": "code",
   "execution_count": null,
   "metadata": {},
   "outputs": [],
   "source": [
    "#{Học viên viết code thực hiện yêu cầu ở đây}\n",
    "\n",
    "\n"
   ]
  },
  {
   "cell_type": "code",
   "execution_count": null,
   "metadata": {},
   "outputs": [],
   "source": []
  },
  {
   "cell_type": "code",
   "execution_count": null,
   "metadata": {},
   "outputs": [],
   "source": []
  },
  {
   "cell_type": "code",
   "execution_count": null,
   "metadata": {},
   "outputs": [],
   "source": []
  },
  {
   "cell_type": "code",
   "execution_count": null,
   "metadata": {},
   "outputs": [],
   "source": []
  },
  {
   "cell_type": "markdown",
   "metadata": {},
   "source": [
    "**Yêu cầu 1.2:**\n",
    "Sử dụng phương thức .describe() cho biết:\n",
    "    \n",
    "    * Thuộc tính Age:\n",
    "        - Tuổi của bệnh nhân trẻ nhất\n",
    "        - Tuổi của bệnh nhân già nhất\n",
    "    * Thuộc tính Cholesterol:\n",
    "        - Cholesterol trung bình của các bệnh nhân\n",
    "        - Độ lệch chuẩn của giá trị này trong toàn bộ tập dữ liệu\n",
    "    * Bao nhiêu bệnh nhân giới tính nam (Male)\n",
    "    * Có bao nhiêu giá trị khác nhau của thuộc tính Type. Giá trị xuất hiện nhiều nhất là giá trị nào, bao nhiêu lần."
   ]
  },
  {
   "cell_type": "code",
   "execution_count": null,
   "metadata": {},
   "outputs": [],
   "source": [
    "#{Học viên viết code thực hiện yêu cầu ở đây}\n",
    "\n",
    "\n"
   ]
  },
  {
   "cell_type": "code",
   "execution_count": null,
   "metadata": {},
   "outputs": [],
   "source": []
  },
  {
   "cell_type": "markdown",
   "metadata": {},
   "source": [
    "**Yêu cầu 1.3:**\n",
    "\n",
    "Cho biết những cột nào trong dữ liệu có chứa missing data và số lượng missing là bao nhiêu?"
   ]
  },
  {
   "cell_type": "code",
   "execution_count": null,
   "metadata": {},
   "outputs": [],
   "source": [
    "#{Học viên viết code thực hiện yêu cầu ở đây}\n",
    "\n",
    "\n"
   ]
  },
  {
   "cell_type": "code",
   "execution_count": null,
   "metadata": {},
   "outputs": [],
   "source": []
  },
  {
   "cell_type": "markdown",
   "metadata": {},
   "source": [
    "**Yêu cầu 1.4:**\n",
    "Hiển thị thông tin của các bệnh nhân: \n",
    "   * Bệnh nhân có index: Patient_100; Patient_150; Patient_200\n",
    "   * Bệnh nhân ở vị trí 255 đến 260, với 3 thuộc tính: Age, Gender và Result"
   ]
  },
  {
   "cell_type": "code",
   "execution_count": null,
   "metadata": {},
   "outputs": [],
   "source": [
    "#{Học viên viết code thực hiện yêu cầu ở đây}\n",
    "\n",
    "\n",
    "\n"
   ]
  },
  {
   "cell_type": "code",
   "execution_count": null,
   "metadata": {},
   "outputs": [],
   "source": [
    "\n",
    "\n"
   ]
  },
  {
   "cell_type": "markdown",
   "metadata": {},
   "source": [
    "**Yêu cầu 1.5:**\n",
    "1. Thay đổi giá trị cho thuộc tính Gender: Male --> 0, Female --> 1\n",
    "2. Thay đổi giá trị cho thuộc tính Result: 0 --> No, 1 --> Yes\n",
    "3. Cập nhật giá trị thuộc tính Thalassemia của bệnh nhân có index: Patient_05 bằng giá trị 4.0"
   ]
  },
  {
   "cell_type": "code",
   "execution_count": null,
   "metadata": {},
   "outputs": [],
   "source": [
    "#{Học viên viết code thực hiện yêu cầu ở đây}\n",
    "\n",
    "\n",
    "\n"
   ]
  },
  {
   "cell_type": "code",
   "execution_count": null,
   "metadata": {},
   "outputs": [],
   "source": [
    "\n",
    "\n",
    "\n"
   ]
  },
  {
   "cell_type": "markdown",
   "metadata": {},
   "source": [
    "## 5) Filter Data\n",
    "---"
   ]
  },
  {
   "cell_type": "code",
   "execution_count": null,
   "metadata": {},
   "outputs": [],
   "source": [
    "path = 'Data_Excercise\\csv_Data_BMI.csv'\n",
    "df_bmi = pd.read_csv(path)\n",
    "df_bmi.info()"
   ]
  },
  {
   "cell_type": "code",
   "execution_count": null,
   "metadata": {},
   "outputs": [],
   "source": [
    "df_bmi.head()"
   ]
  },
  {
   "cell_type": "code",
   "execution_count": null,
   "metadata": {},
   "outputs": [],
   "source": [
    "#lọc danh sách người giới tính nam\n",
    "#Cách 1:\n",
    "df_male1 = df_bmi[df_bmi.Gender=='Male']\n",
    "df_male1.head(2)"
   ]
  },
  {
   "cell_type": "code",
   "execution_count": null,
   "metadata": {},
   "outputs": [],
   "source": [
    "#Cách 2: sử dụng phương thức query\n",
    "df_male2 = df_bmi.query('Gender==\"Male\"')\n",
    "df_male2.head(2)"
   ]
  },
  {
   "cell_type": "code",
   "execution_count": null,
   "metadata": {},
   "outputs": [],
   "source": [
    "#Cách 3: sử dụng iloc\n",
    "df_male3 = df_bmi.loc[(df_bmi.Gender==\"Male\")]\n",
    "df_male3.head(2)"
   ]
  },
  {
   "cell_type": "code",
   "execution_count": null,
   "metadata": {},
   "outputs": [],
   "source": [
    "#Kết hợp nhiều tiêu chí lọc dữ liệu\n",
    "#lọc người có giới tính Femal và cân nặng dưới 70kg\n",
    "df_p1 = df_bmi[(df_bmi.Gender =='Female') & (df_bmi.Weight_kg<70)]\n",
    "df_p1"
   ]
  },
  {
   "cell_type": "code",
   "execution_count": null,
   "metadata": {},
   "outputs": [],
   "source": [
    "#Kết hợp nhiều tiêu chí lọc dữ liệu\n",
    "#lọc người có chiều cao > 195 cm hoặc cân nặng > 150kg\n",
    "df_p2 = df_bmi[(df_bmi.Height_cm >195) | (df_bmi.Weight_kg>150)]\n",
    "df_p2"
   ]
  },
  {
   "cell_type": "code",
   "execution_count": null,
   "metadata": {},
   "outputs": [],
   "source": [
    "# toán tử ~ - Not\n",
    "df_p3 = df_bmi[~(df_bmi.Weight_kg<155)]\n",
    "df_p3"
   ]
  },
  {
   "cell_type": "code",
   "execution_count": null,
   "metadata": {},
   "outputs": [],
   "source": [
    "#Lọc ra những người có cân nặng bằng 150, 155 và 160kg\n",
    "# phương thức isin (tương tự như in)\n",
    "df_p4 = df_bmi[df_bmi.Weight_kg.isin([150,155,160])]\n",
    "df_p4"
   ]
  },
  {
   "cell_type": "code",
   "execution_count": null,
   "metadata": {},
   "outputs": [],
   "source": [
    "df_bmi[df_bmi.Weight_kg.isin([150,155,160])].count()\n"
   ]
  },
  {
   "cell_type": "markdown",
   "metadata": {},
   "source": [
    "## 6) Đặc trưng thống kê\n",
    "---"
   ]
  },
  {
   "cell_type": "code",
   "execution_count": null,
   "metadata": {},
   "outputs": [],
   "source": [
    "#Tính tổng theo cột chiều cao\n",
    "df_bmi['Height_cm'].sum()"
   ]
  },
  {
   "cell_type": "code",
   "execution_count": null,
   "metadata": {},
   "outputs": [],
   "source": [
    "#Tính tổng trong toàn bộ DataFrame\n",
    "df_bmi.sum()"
   ]
  },
  {
   "cell_type": "code",
   "execution_count": null,
   "metadata": {},
   "outputs": [],
   "source": [
    "#tìm Max, Min của thuộc tính cân nặng\n",
    "w_max = df_bmi['Weight_kg'].max()\n",
    "w_min = df_bmi['Weight_kg'].min()\n",
    "print('Cân nặng lớn nhất:',w_max, '(kg)')\n",
    "print('Cân nặng nhỏ nhất:',w_min, '(kg)')"
   ]
  },
  {
   "cell_type": "code",
   "execution_count": null,
   "metadata": {},
   "outputs": [],
   "source": [
    "#cộng dồn giá trị các phần tử theo hàng\n",
    "df_bmi['Weight_kg'].cumsum()"
   ]
  },
  {
   "cell_type": "code",
   "execution_count": null,
   "metadata": {},
   "outputs": [],
   "source": [
    "#tìm Mean, Median\n",
    "w_mean = df_bmi['Weight_kg'].mean()\n",
    "w_median = df_bmi['Weight_kg'].median()\n",
    "print('Cân nặng trung bình:',w_mean, '(kg)')\n",
    "print('trung vị:',w_median, '(kg)')"
   ]
  },
  {
   "cell_type": "code",
   "execution_count": null,
   "metadata": {},
   "outputs": [],
   "source": [
    "#tìm Mean, Median của chiều cao\n",
    "h_mean = df_bmi['Height_cm'].mean()\n",
    "h_median = df_bmi['Height_cm'].median()\n",
    "print('Chiều cao trung bình:',h_mean, '(cm)')\n",
    "print('Trung vị:',h_median, '(cm)')"
   ]
  },
  {
   "cell_type": "code",
   "execution_count": null,
   "metadata": {},
   "outputs": [],
   "source": [
    "#tìm độ lệch chuẩn của chiều cao, cân nặng\n",
    "h_std = df_bmi['Height_cm'].std()\n",
    "w_std = df_bmi['Weight_kg'].std()\n",
    "print('sdt của chiều cao:', h_std)\n",
    "print('sdt của cân nặng:', w_std)"
   ]
  },
  {
   "cell_type": "markdown",
   "metadata": {},
   "source": [
    "## 7) Unique\n",
    "---"
   ]
  },
  {
   "cell_type": "code",
   "execution_count": null,
   "metadata": {},
   "outputs": [],
   "source": [
    "#Xác định giá trị duy nhất trong một cột\n",
    "df_bmi['Gender'].unique()"
   ]
  },
  {
   "cell_type": "code",
   "execution_count": null,
   "metadata": {},
   "outputs": [],
   "source": [
    "#Thống kê số lượng theo giá trị duy nhất\n",
    "unique_gender = df_bmi['Gender'].value_counts()\n",
    "unique_gender"
   ]
  },
  {
   "cell_type": "code",
   "execution_count": null,
   "metadata": {},
   "outputs": [],
   "source": [
    "#Vẽ đồ thị thể hiện kết quả \n",
    "plt.barh(unique_gender.index, unique_gender.values)"
   ]
  },
  {
   "cell_type": "code",
   "execution_count": null,
   "metadata": {},
   "outputs": [],
   "source": [
    "#Thống kê theo cân nặng\n",
    "unique_weight = df_bmi['Weight_kg'].value_counts()\n",
    "unique_weight"
   ]
  },
  {
   "cell_type": "code",
   "execution_count": null,
   "metadata": {},
   "outputs": [],
   "source": [
    "type(unique_weight)"
   ]
  },
  {
   "cell_type": "code",
   "execution_count": null,
   "metadata": {},
   "outputs": [],
   "source": [
    "plt.bar(unique_weight.index,unique_weight.values)"
   ]
  },
  {
   "cell_type": "markdown",
   "metadata": {},
   "source": [
    "# THỰC HÀNH 2:\n",
    "---\n",
    "**Yêu cầu 1.1:**\n",
    "1. Đọc dữ liệu từ file .csv vào biến kiểu dataframe: df_patient với cột feature_1 là cột chỉ số (index_col)\n",
    "2. Đặt lại tên các cột dữ liệu trong Dataframe: \n",
    "    * Feature_1 --> Age\n",
    "    * Feature_2 --> Gender\n",
    "    * Feature_3 --> Type\n",
    "    * Feature_4 --> Blood_pressure\n",
    "    * Feature_5 --> Cholesterol\n",
    "    * Feature_6 --> Heartbeat\n",
    "    * Feature_7 --> Thalassemia\n",
    "    * Feature_8 --> Result"
   ]
  },
  {
   "cell_type": "code",
   "execution_count": null,
   "metadata": {},
   "outputs": [],
   "source": [
    "#{Học viên viết code thực hiện yêu cầu ở đây}\n",
    "\n",
    "\n",
    "\n",
    "\n",
    "\n"
   ]
  },
  {
   "cell_type": "markdown",
   "metadata": {},
   "source": [
    "**Yêu cầu 2.2:**\n",
    "Lọc dữ liệu trong df_patient thành các DataFrame:\n",
    "    * df_male: chứa danh sách bệnh nhân Nam\n",
    "    * df_female: chứa danh sách bệnh nhân nữ\n",
    "    * df_no: danh sách những người không bị bệnh đau tim\n",
    "    * df_yes: danh sách những người bị bệnh đau tim"
   ]
  },
  {
   "cell_type": "code",
   "execution_count": null,
   "metadata": {},
   "outputs": [],
   "source": [
    "#{Học viên viết code thực hiện yêu cầu ở đây}\n",
    "\n"
   ]
  },
  {
   "cell_type": "code",
   "execution_count": null,
   "metadata": {},
   "outputs": [],
   "source": []
  },
  {
   "cell_type": "code",
   "execution_count": null,
   "metadata": {},
   "outputs": [],
   "source": []
  },
  {
   "cell_type": "code",
   "execution_count": null,
   "metadata": {},
   "outputs": [],
   "source": []
  },
  {
   "cell_type": "code",
   "execution_count": null,
   "metadata": {},
   "outputs": [],
   "source": []
  },
  {
   "cell_type": "markdown",
   "metadata": {},
   "source": [
    "**Yêu cầu 2.3:**\n",
    "Lọc trong df_patient dưa ra danh sách bệnh nhân thỏa mãn yêu cầu sau:\n",
    "1. Những người bị mắc bệnh đau tim và trên 70 tuổi\n",
    "2. Người có giới tính Female, có huyết áp trên 170 mmhg nhưng không bị bệnh đau tim.\n",
    "3. Những người có triệu chứng đau ngực là Typical angina, giới tính Male và bị bệnh đau tim."
   ]
  },
  {
   "cell_type": "code",
   "execution_count": null,
   "metadata": {},
   "outputs": [],
   "source": [
    "#{Học viên viết code thực hiện yêu cầu ở đây}\n",
    "\n"
   ]
  },
  {
   "cell_type": "code",
   "execution_count": null,
   "metadata": {},
   "outputs": [],
   "source": []
  },
  {
   "cell_type": "code",
   "execution_count": null,
   "metadata": {},
   "outputs": [],
   "source": []
  },
  {
   "cell_type": "markdown",
   "metadata": {},
   "source": [
    "**Yêu cầu 2.4:** Xác định:\n",
    "1. Chỉ số huyết áp (Blood_pressure) thấp nhất, cao nhất, trung bình, trung vị và độ lệch chuẩn của tập dữ liệu\n",
    "2. Chỉ số nhịp tim (Heartbeat) thấp nhất, cao nhất, trung bình, trung vị và độ lệch chuẩn của tập dữ liệu\n"
   ]
  },
  {
   "cell_type": "code",
   "execution_count": null,
   "metadata": {},
   "outputs": [],
   "source": [
    "#{Học viên viết code thực hiện yêu cầu ở đây}\n",
    "\n",
    "\n"
   ]
  },
  {
   "cell_type": "code",
   "execution_count": null,
   "metadata": {},
   "outputs": [],
   "source": []
  },
  {
   "cell_type": "markdown",
   "metadata": {},
   "source": [
    "**Yêu cầu 2.5: Xác định:**\n",
    "1. Số giá trị khác nhau của thuộc tính Type\n",
    "2. Vẽ đồ thị dạng cột thể hiện kết quả thống kê số lượng theo từng giá trị khác nhau của thuộc tính Type\n"
   ]
  },
  {
   "cell_type": "code",
   "execution_count": null,
   "metadata": {},
   "outputs": [],
   "source": [
    "#{Học viên viết code thực hiện yêu cầu ở đây}\n",
    "\n"
   ]
  },
  {
   "cell_type": "code",
   "execution_count": null,
   "metadata": {},
   "outputs": [],
   "source": []
  },
  {
   "cell_type": "code",
   "execution_count": null,
   "metadata": {},
   "outputs": [],
   "source": []
  },
  {
   "cell_type": "code",
   "execution_count": null,
   "metadata": {},
   "outputs": [],
   "source": []
  }
 ],
 "metadata": {
  "kernelspec": {
   "display_name": "Python 3",
   "language": "python",
   "name": "python3"
  },
  "language_info": {
   "codemirror_mode": {
    "name": "ipython",
    "version": 3
   },
   "file_extension": ".py",
   "mimetype": "text/x-python",
   "name": "python",
   "nbconvert_exporter": "python",
   "pygments_lexer": "ipython3",
   "version": "3.8.3"
  }
 },
 "nbformat": 4,
 "nbformat_minor": 2
}
