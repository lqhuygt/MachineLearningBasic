{
 "cells": [
  {
   "cell_type": "markdown",
   "metadata": {},
   "source": [
    "## MÔN HỌC: KỸ NGHỆ TRI THỨC VÀ HỌC MÁY\n",
    "-----\n",
    "Chương 02 - Làm việc với dữ liệu từ các nguồn khác nhau\n",
    "----\n",
    "Giảng Viên: Đặng Văn Nam\n",
    "\n",
    "Email: dangvannam@humg.edu.vn"
   ]
  },
  {
   "cell_type": "markdown",
   "metadata": {},
   "source": [
    "## 1) Giới thiệu\n",
    "---\n",
    "Để có thể phân tích dữ liệu cho bất kỳ mục đích gì, bước đầu tiên bao giờ cũng phải thu thập và đọc dữ liệu từ tất cả các nguồn, các dạng khác nhau.\n",
    "\n",
    "Dữ liệu tồn tại trong rất nhiều dạng khác nhau, từ dữ liệu trong các file cơ bản như Excel, CSV, text, Json, XML…hay lưu trữ trong các CSDL. Dữ liệu còn có thể được cung cập thông qua các API. \n",
    "\n",
    "Trong bài học này chúng ta sẽ tìm hiểu cách đọc dữ liệu từ một số dạng cơ bản và phổ biến nhất."
   ]
  },
  {
   "cell_type": "markdown",
   "metadata": {},
   "source": [
    "# 2.Read data with Pandas\n",
    "---\n",
    "## 2.1) Pandas"
   ]
  },
  {
   "cell_type": "code",
   "execution_count": 4,
   "metadata": {},
   "outputs": [
    {
     "name": "stdout",
     "output_type": "stream",
     "text": [
      "Version Sklearn:  0.23.1\n"
     ]
    }
   ],
   "source": [
    "#Kiểm tra phiên bản của thư viện Pandas\n",
    "import sklearn as sk\n",
    "print('Version Sklearn: ',sk.__version__)"
   ]
  },
  {
   "cell_type": "markdown",
   "metadata": {},
   "source": [
    "## 2.2 Load data from .CSV\n",
    "---"
   ]
  },
  {
   "cell_type": "code",
   "execution_count": 10,
   "metadata": {},
   "outputs": [
    {
     "name": "stdout",
     "output_type": "stream",
     "text": [
      "<class 'pandas.core.frame.DataFrame'>\n",
      "RangeIndex: 500 entries, 0 to 499\n",
      "Data columns (total 4 columns):\n",
      " #   Column     Non-Null Count  Dtype \n",
      "---  ------     --------------  ----- \n",
      " 0   Personal   500 non-null    object\n",
      " 1   Gender     500 non-null    object\n",
      " 2   Height_cm  500 non-null    int64 \n",
      " 3   Weight_kg  500 non-null    int64 \n",
      "dtypes: int64(2), object(2)\n",
      "memory usage: 15.8+ KB\n"
     ]
    }
   ],
   "source": [
    "import pandas as pd\n",
    "path = 'Data_Excercise\\csv_Data_BMI.csv'\n",
    "#Sử dụng phương thức read_csv\n",
    "data = pd.read_csv(path)\n",
    "#Hiển thị thông tin biến Data\n",
    "data.info()"
   ]
  },
  {
   "cell_type": "code",
   "execution_count": 6,
   "metadata": {},
   "outputs": [
    {
     "data": {
      "text/html": [
       "<div>\n",
       "<style scoped>\n",
       "    .dataframe tbody tr th:only-of-type {\n",
       "        vertical-align: middle;\n",
       "    }\n",
       "\n",
       "    .dataframe tbody tr th {\n",
       "        vertical-align: top;\n",
       "    }\n",
       "\n",
       "    .dataframe thead th {\n",
       "        text-align: right;\n",
       "    }\n",
       "</style>\n",
       "<table border=\"1\" class=\"dataframe\">\n",
       "  <thead>\n",
       "    <tr style=\"text-align: right;\">\n",
       "      <th></th>\n",
       "      <th>Personal</th>\n",
       "      <th>Gender</th>\n",
       "      <th>Height_cm</th>\n",
       "      <th>Weight_kg</th>\n",
       "    </tr>\n",
       "  </thead>\n",
       "  <tbody>\n",
       "    <tr>\n",
       "      <th>0</th>\n",
       "      <td>P1</td>\n",
       "      <td>Male</td>\n",
       "      <td>174</td>\n",
       "      <td>96</td>\n",
       "    </tr>\n",
       "    <tr>\n",
       "      <th>1</th>\n",
       "      <td>P2</td>\n",
       "      <td>Male</td>\n",
       "      <td>189</td>\n",
       "      <td>87</td>\n",
       "    </tr>\n",
       "    <tr>\n",
       "      <th>2</th>\n",
       "      <td>P3</td>\n",
       "      <td>Female</td>\n",
       "      <td>185</td>\n",
       "      <td>110</td>\n",
       "    </tr>\n",
       "    <tr>\n",
       "      <th>3</th>\n",
       "      <td>P4</td>\n",
       "      <td>Female</td>\n",
       "      <td>195</td>\n",
       "      <td>104</td>\n",
       "    </tr>\n",
       "    <tr>\n",
       "      <th>4</th>\n",
       "      <td>P5</td>\n",
       "      <td>Male</td>\n",
       "      <td>149</td>\n",
       "      <td>61</td>\n",
       "    </tr>\n",
       "  </tbody>\n",
       "</table>\n",
       "</div>"
      ],
      "text/plain": [
       "  Personal  Gender  Height_cm  Weight_kg\n",
       "0       P1    Male        174         96\n",
       "1       P2    Male        189         87\n",
       "2       P3  Female        185        110\n",
       "3       P4  Female        195        104\n",
       "4       P5    Male        149         61"
      ]
     },
     "execution_count": 6,
     "metadata": {},
     "output_type": "execute_result"
    }
   ],
   "source": [
    "#Hiển thị 5 dòng dữ liệu đầu tiên\n",
    "data.head()"
   ]
  },
  {
   "cell_type": "code",
   "execution_count": 7,
   "metadata": {},
   "outputs": [
    {
     "data": {
      "text/html": [
       "<div>\n",
       "<style scoped>\n",
       "    .dataframe tbody tr th:only-of-type {\n",
       "        vertical-align: middle;\n",
       "    }\n",
       "\n",
       "    .dataframe tbody tr th {\n",
       "        vertical-align: top;\n",
       "    }\n",
       "\n",
       "    .dataframe thead th {\n",
       "        text-align: right;\n",
       "    }\n",
       "</style>\n",
       "<table border=\"1\" class=\"dataframe\">\n",
       "  <thead>\n",
       "    <tr style=\"text-align: right;\">\n",
       "      <th></th>\n",
       "      <th>Personal</th>\n",
       "      <th>Gender</th>\n",
       "      <th>Height_cm</th>\n",
       "      <th>Weight_kg</th>\n",
       "    </tr>\n",
       "  </thead>\n",
       "  <tbody>\n",
       "    <tr>\n",
       "      <th>495</th>\n",
       "      <td>P496</td>\n",
       "      <td>Female</td>\n",
       "      <td>150</td>\n",
       "      <td>153</td>\n",
       "    </tr>\n",
       "    <tr>\n",
       "      <th>496</th>\n",
       "      <td>P497</td>\n",
       "      <td>Female</td>\n",
       "      <td>184</td>\n",
       "      <td>121</td>\n",
       "    </tr>\n",
       "    <tr>\n",
       "      <th>497</th>\n",
       "      <td>P498</td>\n",
       "      <td>Female</td>\n",
       "      <td>141</td>\n",
       "      <td>136</td>\n",
       "    </tr>\n",
       "    <tr>\n",
       "      <th>498</th>\n",
       "      <td>P499</td>\n",
       "      <td>Male</td>\n",
       "      <td>150</td>\n",
       "      <td>95</td>\n",
       "    </tr>\n",
       "    <tr>\n",
       "      <th>499</th>\n",
       "      <td>P500</td>\n",
       "      <td>Male</td>\n",
       "      <td>173</td>\n",
       "      <td>131</td>\n",
       "    </tr>\n",
       "  </tbody>\n",
       "</table>\n",
       "</div>"
      ],
      "text/plain": [
       "    Personal  Gender  Height_cm  Weight_kg\n",
       "495     P496  Female        150        153\n",
       "496     P497  Female        184        121\n",
       "497     P498  Female        141        136\n",
       "498     P499    Male        150         95\n",
       "499     P500    Male        173        131"
      ]
     },
     "execution_count": 7,
     "metadata": {},
     "output_type": "execute_result"
    }
   ],
   "source": [
    "#Hiển thị 5 dòng dữ liệu cuối cùng\n",
    "data.tail()"
   ]
  },
  {
   "cell_type": "markdown",
   "metadata": {},
   "source": [
    "**Ví Dụ 1:**"
   ]
  },
  {
   "cell_type": "code",
   "execution_count": 11,
   "metadata": {},
   "outputs": [
    {
     "name": "stdout",
     "output_type": "stream",
     "text": [
      "<class 'pandas.core.frame.DataFrame'>\n",
      "Index: 500 entries, P1 to P500\n",
      "Data columns (total 3 columns):\n",
      " #   Column     Non-Null Count  Dtype \n",
      "---  ------     --------------  ----- \n",
      " 0   Gender     500 non-null    object\n",
      " 1   Height_cm  500 non-null    int64 \n",
      " 2   Weight_kg  500 non-null    int64 \n",
      "dtypes: int64(2), object(1)\n",
      "memory usage: 15.6+ KB\n"
     ]
    }
   ],
   "source": [
    "#Sử dụng phương thức read_csv()\n",
    "#Tham số: Thiết lập cột index là cột Personal\n",
    "data1 = pd.read_csv(path,\n",
    "                    index_col=0)\n",
    "data1.info()"
   ]
  },
  {
   "cell_type": "code",
   "execution_count": null,
   "metadata": {},
   "outputs": [],
   "source": [
    "#Hiển thị dữ liệu 5 dòng đầu tiên\n",
    "data1.head()"
   ]
  },
  {
   "cell_type": "markdown",
   "metadata": {},
   "source": [
    "**Ví Dụ 2:**"
   ]
  },
  {
   "cell_type": "code",
   "execution_count": 8,
   "metadata": {},
   "outputs": [
    {
     "name": "stdout",
     "output_type": "stream",
     "text": [
      "<class 'pandas.core.frame.DataFrame'>\n",
      "RangeIndex: 100 entries, 0 to 99\n",
      "Data columns (total 2 columns):\n",
      " #   Column     Non-Null Count  Dtype\n",
      "---  ------     --------------  -----\n",
      " 0   Height_cm  100 non-null    int64\n",
      " 1   Weight_kg  100 non-null    int64\n",
      "dtypes: int64(2)\n",
      "memory usage: 1.7 KB\n"
     ]
    }
   ],
   "source": [
    "#Sử dụng phương thức read_csv()\n",
    "#Thiết lập số hàng, cột muốn đọc dữ liệu\n",
    "data2 = pd.read_csv(path,\n",
    "                    nrows=100,\n",
    "                    usecols=['Height_cm', 'Weight_kg'])\n",
    "data2.info()"
   ]
  },
  {
   "cell_type": "code",
   "execution_count": 9,
   "metadata": {},
   "outputs": [
    {
     "data": {
      "text/html": [
       "<div>\n",
       "<style scoped>\n",
       "    .dataframe tbody tr th:only-of-type {\n",
       "        vertical-align: middle;\n",
       "    }\n",
       "\n",
       "    .dataframe tbody tr th {\n",
       "        vertical-align: top;\n",
       "    }\n",
       "\n",
       "    .dataframe thead th {\n",
       "        text-align: right;\n",
       "    }\n",
       "</style>\n",
       "<table border=\"1\" class=\"dataframe\">\n",
       "  <thead>\n",
       "    <tr style=\"text-align: right;\">\n",
       "      <th></th>\n",
       "      <th>Height_cm</th>\n",
       "      <th>Weight_kg</th>\n",
       "    </tr>\n",
       "  </thead>\n",
       "  <tbody>\n",
       "    <tr>\n",
       "      <th>0</th>\n",
       "      <td>174</td>\n",
       "      <td>96</td>\n",
       "    </tr>\n",
       "    <tr>\n",
       "      <th>1</th>\n",
       "      <td>189</td>\n",
       "      <td>87</td>\n",
       "    </tr>\n",
       "    <tr>\n",
       "      <th>2</th>\n",
       "      <td>185</td>\n",
       "      <td>110</td>\n",
       "    </tr>\n",
       "    <tr>\n",
       "      <th>3</th>\n",
       "      <td>195</td>\n",
       "      <td>104</td>\n",
       "    </tr>\n",
       "    <tr>\n",
       "      <th>4</th>\n",
       "      <td>149</td>\n",
       "      <td>61</td>\n",
       "    </tr>\n",
       "  </tbody>\n",
       "</table>\n",
       "</div>"
      ],
      "text/plain": [
       "   Height_cm  Weight_kg\n",
       "0        174         96\n",
       "1        189         87\n",
       "2        185        110\n",
       "3        195        104\n",
       "4        149         61"
      ]
     },
     "execution_count": 9,
     "metadata": {},
     "output_type": "execute_result"
    }
   ],
   "source": [
    "#Hiển thị dữ liệu 5 dòng đầu tiên\n",
    "data2.head()"
   ]
  },
  {
   "cell_type": "markdown",
   "metadata": {},
   "source": [
    "**Ví dụ 3:**"
   ]
  },
  {
   "cell_type": "code",
   "execution_count": 10,
   "metadata": {},
   "outputs": [
    {
     "name": "stdout",
     "output_type": "stream",
     "text": [
      "<class 'pandas.core.frame.DataFrame'>\n",
      "RangeIndex: 496 entries, 0 to 495\n",
      "Data columns (total 4 columns):\n",
      " #   Column  Non-Null Count  Dtype \n",
      "---  ------  --------------  ----- \n",
      " 0   ID      496 non-null    object\n",
      " 1   Sex     496 non-null    object\n",
      " 2   H(cm)   496 non-null    int64 \n",
      " 3   W(kg)   496 non-null    int64 \n",
      "dtypes: int64(2), object(2)\n",
      "memory usage: 15.6+ KB\n"
     ]
    }
   ],
   "source": [
    "#Thiết lập tham số đọc dữ liệu từ dòng thứ 5 trong file\n",
    "#và đặt lại tên của các cột dữ liệu\n",
    "data3 = pd.read_csv(path,\n",
    "                    names=['ID','Sex','H(cm)','W(kg)'],\n",
    "                    skiprows=5)# bỏ 5 dòng đầu tiên\n",
    "data3.info()"
   ]
  },
  {
   "cell_type": "code",
   "execution_count": 11,
   "metadata": {},
   "outputs": [
    {
     "data": {
      "text/html": [
       "<div>\n",
       "<style scoped>\n",
       "    .dataframe tbody tr th:only-of-type {\n",
       "        vertical-align: middle;\n",
       "    }\n",
       "\n",
       "    .dataframe tbody tr th {\n",
       "        vertical-align: top;\n",
       "    }\n",
       "\n",
       "    .dataframe thead th {\n",
       "        text-align: right;\n",
       "    }\n",
       "</style>\n",
       "<table border=\"1\" class=\"dataframe\">\n",
       "  <thead>\n",
       "    <tr style=\"text-align: right;\">\n",
       "      <th></th>\n",
       "      <th>ID</th>\n",
       "      <th>Sex</th>\n",
       "      <th>H(cm)</th>\n",
       "      <th>W(kg)</th>\n",
       "    </tr>\n",
       "  </thead>\n",
       "  <tbody>\n",
       "    <tr>\n",
       "      <th>0</th>\n",
       "      <td>P5</td>\n",
       "      <td>Male</td>\n",
       "      <td>149</td>\n",
       "      <td>61</td>\n",
       "    </tr>\n",
       "    <tr>\n",
       "      <th>1</th>\n",
       "      <td>P6</td>\n",
       "      <td>Male</td>\n",
       "      <td>189</td>\n",
       "      <td>104</td>\n",
       "    </tr>\n",
       "    <tr>\n",
       "      <th>2</th>\n",
       "      <td>P7</td>\n",
       "      <td>Male</td>\n",
       "      <td>147</td>\n",
       "      <td>92</td>\n",
       "    </tr>\n",
       "    <tr>\n",
       "      <th>3</th>\n",
       "      <td>P8</td>\n",
       "      <td>Male</td>\n",
       "      <td>154</td>\n",
       "      <td>111</td>\n",
       "    </tr>\n",
       "    <tr>\n",
       "      <th>4</th>\n",
       "      <td>P9</td>\n",
       "      <td>Male</td>\n",
       "      <td>174</td>\n",
       "      <td>90</td>\n",
       "    </tr>\n",
       "  </tbody>\n",
       "</table>\n",
       "</div>"
      ],
      "text/plain": [
       "   ID   Sex  H(cm)  W(kg)\n",
       "0  P5  Male    149     61\n",
       "1  P6  Male    189    104\n",
       "2  P7  Male    147     92\n",
       "3  P8  Male    154    111\n",
       "4  P9  Male    174     90"
      ]
     },
     "execution_count": 11,
     "metadata": {},
     "output_type": "execute_result"
    }
   ],
   "source": [
    "#Hiển thị 5 dòng dữ liệu đầu tiên\n",
    "data3.head()"
   ]
  },
  {
   "cell_type": "code",
   "execution_count": null,
   "metadata": {},
   "outputs": [],
   "source": []
  },
  {
   "cell_type": "markdown",
   "metadata": {},
   "source": [
    "## THỰC HÀNH 2.2\n",
    "---\n",
    "**Yêu cầu 2.2.1: Học viên đọc dữ liệu dạng CSV lưu trong file Data_Loan.csv với các tham số mặc định**\n"
   ]
  },
  {
   "cell_type": "code",
   "execution_count": 12,
   "metadata": {},
   "outputs": [
    {
     "name": "stdout",
     "output_type": "stream",
     "text": [
      "<class 'pandas.core.frame.DataFrame'>\n",
      "RangeIndex: 163987 entries, 0 to 163986\n",
      "Data columns (total 15 columns):\n",
      " #   Column                 Non-Null Count   Dtype  \n",
      "---  ------                 --------------   -----  \n",
      " 0   loan_amnt              163987 non-null  int64  \n",
      " 1   term                   163987 non-null  object \n",
      " 2   int_rate               163987 non-null  float64\n",
      " 3   emp_length             158183 non-null  float64\n",
      " 4   home_ownership         163987 non-null  object \n",
      " 5   annual_inc             163983 non-null  float64\n",
      " 6   purpose                163987 non-null  object \n",
      " 7   addr_state             163987 non-null  object \n",
      " 8   dti                    163987 non-null  float64\n",
      " 9   delinq_2yrs            163958 non-null  float64\n",
      " 10  revol_util             163794 non-null  float64\n",
      " 11  total_acc              163958 non-null  float64\n",
      " 12  bad_loan               163987 non-null  int64  \n",
      " 13  longest_credit_length  163958 non-null  float64\n",
      " 14  verification_status    163987 non-null  object \n",
      "dtypes: float64(8), int64(2), object(5)\n",
      "memory usage: 18.8+ MB\n"
     ]
    }
   ],
   "source": [
    "#{HỌC VIÊN VIẾT CODE YÊU CẦU 2.2.1 VÀO ĐÂY}\n",
    "import pandas as pd\n",
    "path = 'Data_Excercise\\csv_Data_Loan.csv'\n",
    "#Sử dụng phương thức read_csv\n",
    "data = pd.read_csv(path)\n",
    "#Hiển thị thông tin biến Data\n",
    "data.info()\n",
    "\n",
    "\n"
   ]
  },
  {
   "cell_type": "code",
   "execution_count": 13,
   "metadata": {},
   "outputs": [
    {
     "data": {
      "text/html": [
       "<div>\n",
       "<style scoped>\n",
       "    .dataframe tbody tr th:only-of-type {\n",
       "        vertical-align: middle;\n",
       "    }\n",
       "\n",
       "    .dataframe tbody tr th {\n",
       "        vertical-align: top;\n",
       "    }\n",
       "\n",
       "    .dataframe thead th {\n",
       "        text-align: right;\n",
       "    }\n",
       "</style>\n",
       "<table border=\"1\" class=\"dataframe\">\n",
       "  <thead>\n",
       "    <tr style=\"text-align: right;\">\n",
       "      <th></th>\n",
       "      <th>loan_amnt</th>\n",
       "      <th>term</th>\n",
       "      <th>int_rate</th>\n",
       "      <th>emp_length</th>\n",
       "      <th>home_ownership</th>\n",
       "      <th>annual_inc</th>\n",
       "      <th>purpose</th>\n",
       "      <th>addr_state</th>\n",
       "      <th>dti</th>\n",
       "      <th>delinq_2yrs</th>\n",
       "      <th>revol_util</th>\n",
       "      <th>total_acc</th>\n",
       "      <th>bad_loan</th>\n",
       "      <th>longest_credit_length</th>\n",
       "      <th>verification_status</th>\n",
       "    </tr>\n",
       "  </thead>\n",
       "  <tbody>\n",
       "    <tr>\n",
       "      <th>0</th>\n",
       "      <td>5000</td>\n",
       "      <td>36 months</td>\n",
       "      <td>10.65</td>\n",
       "      <td>10.0</td>\n",
       "      <td>RENT</td>\n",
       "      <td>24000.0</td>\n",
       "      <td>credit_card</td>\n",
       "      <td>AZ</td>\n",
       "      <td>27.65</td>\n",
       "      <td>0.0</td>\n",
       "      <td>83.7</td>\n",
       "      <td>9.0</td>\n",
       "      <td>0</td>\n",
       "      <td>26.0</td>\n",
       "      <td>verified</td>\n",
       "    </tr>\n",
       "    <tr>\n",
       "      <th>1</th>\n",
       "      <td>2500</td>\n",
       "      <td>60 months</td>\n",
       "      <td>15.27</td>\n",
       "      <td>0.0</td>\n",
       "      <td>RENT</td>\n",
       "      <td>30000.0</td>\n",
       "      <td>car</td>\n",
       "      <td>GA</td>\n",
       "      <td>1.00</td>\n",
       "      <td>0.0</td>\n",
       "      <td>9.4</td>\n",
       "      <td>4.0</td>\n",
       "      <td>1</td>\n",
       "      <td>12.0</td>\n",
       "      <td>verified</td>\n",
       "    </tr>\n",
       "    <tr>\n",
       "      <th>2</th>\n",
       "      <td>2400</td>\n",
       "      <td>36 months</td>\n",
       "      <td>15.96</td>\n",
       "      <td>10.0</td>\n",
       "      <td>RENT</td>\n",
       "      <td>12252.0</td>\n",
       "      <td>small_business</td>\n",
       "      <td>IL</td>\n",
       "      <td>8.72</td>\n",
       "      <td>0.0</td>\n",
       "      <td>98.5</td>\n",
       "      <td>10.0</td>\n",
       "      <td>0</td>\n",
       "      <td>10.0</td>\n",
       "      <td>not verified</td>\n",
       "    </tr>\n",
       "    <tr>\n",
       "      <th>3</th>\n",
       "      <td>10000</td>\n",
       "      <td>36 months</td>\n",
       "      <td>13.49</td>\n",
       "      <td>10.0</td>\n",
       "      <td>RENT</td>\n",
       "      <td>49200.0</td>\n",
       "      <td>other</td>\n",
       "      <td>CA</td>\n",
       "      <td>20.00</td>\n",
       "      <td>0.0</td>\n",
       "      <td>21.0</td>\n",
       "      <td>37.0</td>\n",
       "      <td>0</td>\n",
       "      <td>15.0</td>\n",
       "      <td>verified</td>\n",
       "    </tr>\n",
       "    <tr>\n",
       "      <th>4</th>\n",
       "      <td>5000</td>\n",
       "      <td>36 months</td>\n",
       "      <td>7.90</td>\n",
       "      <td>3.0</td>\n",
       "      <td>RENT</td>\n",
       "      <td>36000.0</td>\n",
       "      <td>wedding</td>\n",
       "      <td>AZ</td>\n",
       "      <td>11.20</td>\n",
       "      <td>0.0</td>\n",
       "      <td>28.3</td>\n",
       "      <td>12.0</td>\n",
       "      <td>0</td>\n",
       "      <td>7.0</td>\n",
       "      <td>verified</td>\n",
       "    </tr>\n",
       "  </tbody>\n",
       "</table>\n",
       "</div>"
      ],
      "text/plain": [
       "   loan_amnt       term  int_rate  emp_length home_ownership  annual_inc  \\\n",
       "0       5000  36 months     10.65        10.0           RENT     24000.0   \n",
       "1       2500  60 months     15.27         0.0           RENT     30000.0   \n",
       "2       2400  36 months     15.96        10.0           RENT     12252.0   \n",
       "3      10000  36 months     13.49        10.0           RENT     49200.0   \n",
       "4       5000  36 months      7.90         3.0           RENT     36000.0   \n",
       "\n",
       "          purpose addr_state    dti  delinq_2yrs  revol_util  total_acc  \\\n",
       "0     credit_card         AZ  27.65          0.0        83.7        9.0   \n",
       "1             car         GA   1.00          0.0         9.4        4.0   \n",
       "2  small_business         IL   8.72          0.0        98.5       10.0   \n",
       "3           other         CA  20.00          0.0        21.0       37.0   \n",
       "4         wedding         AZ  11.20          0.0        28.3       12.0   \n",
       "\n",
       "   bad_loan  longest_credit_length verification_status  \n",
       "0         0                   26.0            verified  \n",
       "1         1                   12.0            verified  \n",
       "2         0                   10.0        not verified  \n",
       "3         0                   15.0            verified  \n",
       "4         0                    7.0            verified  "
      ]
     },
     "execution_count": 13,
     "metadata": {},
     "output_type": "execute_result"
    }
   ],
   "source": [
    "#Hiển thị 5 dòng dữ liệu đầu tiên\n",
    "data.head()"
   ]
  },
  {
   "cell_type": "code",
   "execution_count": 14,
   "metadata": {},
   "outputs": [
    {
     "data": {
      "text/html": [
       "<div>\n",
       "<style scoped>\n",
       "    .dataframe tbody tr th:only-of-type {\n",
       "        vertical-align: middle;\n",
       "    }\n",
       "\n",
       "    .dataframe tbody tr th {\n",
       "        vertical-align: top;\n",
       "    }\n",
       "\n",
       "    .dataframe thead th {\n",
       "        text-align: right;\n",
       "    }\n",
       "</style>\n",
       "<table border=\"1\" class=\"dataframe\">\n",
       "  <thead>\n",
       "    <tr style=\"text-align: right;\">\n",
       "      <th></th>\n",
       "      <th>loan_amnt</th>\n",
       "      <th>term</th>\n",
       "      <th>int_rate</th>\n",
       "      <th>emp_length</th>\n",
       "      <th>home_ownership</th>\n",
       "      <th>annual_inc</th>\n",
       "      <th>purpose</th>\n",
       "      <th>addr_state</th>\n",
       "      <th>dti</th>\n",
       "      <th>delinq_2yrs</th>\n",
       "      <th>revol_util</th>\n",
       "      <th>total_acc</th>\n",
       "      <th>bad_loan</th>\n",
       "      <th>longest_credit_length</th>\n",
       "      <th>verification_status</th>\n",
       "    </tr>\n",
       "  </thead>\n",
       "  <tbody>\n",
       "    <tr>\n",
       "      <th>163982</th>\n",
       "      <td>15000</td>\n",
       "      <td>60 months</td>\n",
       "      <td>12.39</td>\n",
       "      <td>3.0</td>\n",
       "      <td>MORTGAGE</td>\n",
       "      <td>45000.0</td>\n",
       "      <td>credit_card</td>\n",
       "      <td>OK</td>\n",
       "      <td>31.44</td>\n",
       "      <td>4.0</td>\n",
       "      <td>75.8</td>\n",
       "      <td>34.0</td>\n",
       "      <td>0</td>\n",
       "      <td>20.0</td>\n",
       "      <td>not verified</td>\n",
       "    </tr>\n",
       "    <tr>\n",
       "      <th>163983</th>\n",
       "      <td>20000</td>\n",
       "      <td>36 months</td>\n",
       "      <td>14.99</td>\n",
       "      <td>10.0</td>\n",
       "      <td>OWN</td>\n",
       "      <td>80000.0</td>\n",
       "      <td>home_improvement</td>\n",
       "      <td>VA</td>\n",
       "      <td>23.65</td>\n",
       "      <td>0.0</td>\n",
       "      <td>68.8</td>\n",
       "      <td>18.0</td>\n",
       "      <td>0</td>\n",
       "      <td>22.0</td>\n",
       "      <td>verified</td>\n",
       "    </tr>\n",
       "    <tr>\n",
       "      <th>163984</th>\n",
       "      <td>12825</td>\n",
       "      <td>36 months</td>\n",
       "      <td>17.14</td>\n",
       "      <td>6.0</td>\n",
       "      <td>MORTGAGE</td>\n",
       "      <td>38000.0</td>\n",
       "      <td>debt_consolidation</td>\n",
       "      <td>TX</td>\n",
       "      <td>9.03</td>\n",
       "      <td>0.0</td>\n",
       "      <td>70.7</td>\n",
       "      <td>24.0</td>\n",
       "      <td>0</td>\n",
       "      <td>9.0</td>\n",
       "      <td>not verified</td>\n",
       "    </tr>\n",
       "    <tr>\n",
       "      <th>163985</th>\n",
       "      <td>27650</td>\n",
       "      <td>60 months</td>\n",
       "      <td>21.99</td>\n",
       "      <td>0.0</td>\n",
       "      <td>RENT</td>\n",
       "      <td>60000.0</td>\n",
       "      <td>credit_card</td>\n",
       "      <td>NY</td>\n",
       "      <td>10.10</td>\n",
       "      <td>1.0</td>\n",
       "      <td>61.2</td>\n",
       "      <td>20.0</td>\n",
       "      <td>0</td>\n",
       "      <td>6.0</td>\n",
       "      <td>verified</td>\n",
       "    </tr>\n",
       "    <tr>\n",
       "      <th>163986</th>\n",
       "      <td>17000</td>\n",
       "      <td>60 months</td>\n",
       "      <td>15.99</td>\n",
       "      <td>10.0</td>\n",
       "      <td>MORTGAGE</td>\n",
       "      <td>63078.0</td>\n",
       "      <td>debt_consolidation</td>\n",
       "      <td>PA</td>\n",
       "      <td>31.70</td>\n",
       "      <td>0.0</td>\n",
       "      <td>54.0</td>\n",
       "      <td>28.0</td>\n",
       "      <td>0</td>\n",
       "      <td>16.0</td>\n",
       "      <td>verified</td>\n",
       "    </tr>\n",
       "  </tbody>\n",
       "</table>\n",
       "</div>"
      ],
      "text/plain": [
       "        loan_amnt       term  int_rate  emp_length home_ownership  annual_inc  \\\n",
       "163982      15000  60 months     12.39         3.0       MORTGAGE     45000.0   \n",
       "163983      20000  36 months     14.99        10.0            OWN     80000.0   \n",
       "163984      12825  36 months     17.14         6.0       MORTGAGE     38000.0   \n",
       "163985      27650  60 months     21.99         0.0           RENT     60000.0   \n",
       "163986      17000  60 months     15.99        10.0       MORTGAGE     63078.0   \n",
       "\n",
       "                   purpose addr_state    dti  delinq_2yrs  revol_util  \\\n",
       "163982         credit_card         OK  31.44          4.0        75.8   \n",
       "163983    home_improvement         VA  23.65          0.0        68.8   \n",
       "163984  debt_consolidation         TX   9.03          0.0        70.7   \n",
       "163985         credit_card         NY  10.10          1.0        61.2   \n",
       "163986  debt_consolidation         PA  31.70          0.0        54.0   \n",
       "\n",
       "        total_acc  bad_loan  longest_credit_length verification_status  \n",
       "163982       34.0         0                   20.0        not verified  \n",
       "163983       18.0         0                   22.0            verified  \n",
       "163984       24.0         0                    9.0        not verified  \n",
       "163985       20.0         0                    6.0            verified  \n",
       "163986       28.0         0                   16.0            verified  "
      ]
     },
     "execution_count": 14,
     "metadata": {},
     "output_type": "execute_result"
    }
   ],
   "source": [
    "#Hiển thị 5 dòng dữ liệu cuối cùng\n",
    "data.tail()"
   ]
  },
  {
   "cell_type": "markdown",
   "metadata": {},
   "source": [
    "**Yêu cầu 2.2.2: Đọc dữ liệu từ file Data_Loan.CSV vào 2 biến DataFrame tương ứng**\n",
    "1. df_number: Chỉ chứa các cột dữ liệu số\n",
    "2. df_object: Chỉ chứa các cột dữ liệu Object\n"
   ]
  },
  {
   "cell_type": "code",
   "execution_count": 28,
   "metadata": {},
   "outputs": [
    {
     "name": "stdout",
     "output_type": "stream",
     "text": [
      "<class 'pandas.core.frame.DataFrame'>\n",
      "RangeIndex: 163987 entries, 0 to 163986\n",
      "Data columns (total 9 columns):\n",
      " #   Column                 Non-Null Count   Dtype  \n",
      "---  ------                 --------------   -----  \n",
      " 0   loan_amnt              163987 non-null  int64  \n",
      " 1   int_rate               163987 non-null  float64\n",
      " 2   emp_length             158183 non-null  float64\n",
      " 3   annual_inc             163983 non-null  float64\n",
      " 4   dti                    163987 non-null  float64\n",
      " 5   delinq_2yrs            163958 non-null  float64\n",
      " 6   revol_util             163794 non-null  float64\n",
      " 7   total_acc              163958 non-null  float64\n",
      " 8   longest_credit_length  163958 non-null  float64\n",
      "dtypes: float64(8), int64(1)\n",
      "memory usage: 11.3 MB\n",
      "<class 'pandas.core.frame.DataFrame'>\n",
      "RangeIndex: 163987 entries, 0 to 163986\n",
      "Data columns (total 5 columns):\n",
      " #   Column               Non-Null Count   Dtype \n",
      "---  ------               --------------   ----- \n",
      " 0   term                 163987 non-null  object\n",
      " 1   home_ownership       163987 non-null  object\n",
      " 2   purpose              163987 non-null  object\n",
      " 3   addr_state           163987 non-null  object\n",
      " 4   verification_status  163987 non-null  object\n",
      "dtypes: object(5)\n",
      "memory usage: 6.3+ MB\n"
     ]
    }
   ],
   "source": [
    "#{HỌC VIÊN VIẾT CODE YÊU CẦU 2.2.2 VÀO ĐÂY}\n",
    "# Chỉ chứa các cột dữ liệu số\n",
    "dataLoan = pd.read_csv(path,\n",
    "                    usecols=['loan_amnt', 'int_rate', 'emp_length', 'annual_inc', 'dti', 'delinq_2yrs', 'revol_util',\n",
    "                            'total_acc', 'longest_credit_length'])\n",
    "dataLoan.info()\n",
    "\n",
    "#Chỉ chứa các cột dữ liệu Object\n",
    "dataLoan1 = pd.read_csv(path,\n",
    "                    usecols=['term', 'home_ownership', 'purpose', 'addr_state', 'verification_status'])\n",
    "dataLoan1.info()\n"
   ]
  },
  {
   "cell_type": "markdown",
   "metadata": {},
   "source": [
    "## 2.3 Load data from Excel\n",
    "---"
   ]
  },
  {
   "cell_type": "code",
   "execution_count": 20,
   "metadata": {},
   "outputs": [
    {
     "name": "stdout",
     "output_type": "stream",
     "text": [
      "<class 'pandas.core.frame.DataFrame'>\n",
      "RangeIndex: 66 entries, 0 to 65\n",
      "Data columns (total 11 columns):\n",
      " #   Column     Non-Null Count  Dtype  \n",
      "---  ------     --------------  -----  \n",
      " 0   STT        66 non-null     int64  \n",
      " 1   Mã SV      66 non-null     int64  \n",
      " 2   Họ         66 non-null     object \n",
      " 3   Tên        66 non-null     object \n",
      " 4   Ngày sinh  66 non-null     object \n",
      " 5   Tên Lớp    66 non-null     object \n",
      " 6   A          66 non-null     float64\n",
      " 7   B1         66 non-null     float64\n",
      " 8   B2         66 non-null     float64\n",
      " 9   C1         66 non-null     float64\n",
      " 10  C2         66 non-null     float64\n",
      "dtypes: float64(5), int64(2), object(4)\n",
      "memory usage: 5.8+ KB\n"
     ]
    }
   ],
   "source": [
    "import pandas as pd\n",
    "path_excel = 'Data_Excercise\\excel_Data_Point.xlsx'\n",
    "#Đọc dữ liệu từ file excel\n",
    "data_ex = pd.read_excel(path_excel)\n",
    "data_ex.info()"
   ]
  },
  {
   "cell_type": "code",
   "execution_count": 21,
   "metadata": {},
   "outputs": [
    {
     "data": {
      "text/html": [
       "<div>\n",
       "<style scoped>\n",
       "    .dataframe tbody tr th:only-of-type {\n",
       "        vertical-align: middle;\n",
       "    }\n",
       "\n",
       "    .dataframe tbody tr th {\n",
       "        vertical-align: top;\n",
       "    }\n",
       "\n",
       "    .dataframe thead th {\n",
       "        text-align: right;\n",
       "    }\n",
       "</style>\n",
       "<table border=\"1\" class=\"dataframe\">\n",
       "  <thead>\n",
       "    <tr style=\"text-align: right;\">\n",
       "      <th></th>\n",
       "      <th>STT</th>\n",
       "      <th>Mã SV</th>\n",
       "      <th>Họ</th>\n",
       "      <th>Tên</th>\n",
       "      <th>Ngày sinh</th>\n",
       "      <th>Tên Lớp</th>\n",
       "      <th>A</th>\n",
       "      <th>B1</th>\n",
       "      <th>B2</th>\n",
       "      <th>C1</th>\n",
       "      <th>C2</th>\n",
       "    </tr>\n",
       "  </thead>\n",
       "  <tbody>\n",
       "    <tr>\n",
       "      <th>0</th>\n",
       "      <td>1</td>\n",
       "      <td>1621050322</td>\n",
       "      <td>Phạm Trường</td>\n",
       "      <td>An</td>\n",
       "      <td>04/10/1998</td>\n",
       "      <td>DCCTPM61_1</td>\n",
       "      <td>8.0</td>\n",
       "      <td>0.0</td>\n",
       "      <td>5.0</td>\n",
       "      <td>7.5</td>\n",
       "      <td>8.0</td>\n",
       "    </tr>\n",
       "    <tr>\n",
       "      <th>1</th>\n",
       "      <td>2</td>\n",
       "      <td>1621050512</td>\n",
       "      <td>Nguyễn Quang Duy</td>\n",
       "      <td>Anh</td>\n",
       "      <td>08/10/1998</td>\n",
       "      <td>DCCTPM61_1</td>\n",
       "      <td>6.0</td>\n",
       "      <td>3.0</td>\n",
       "      <td>7.5</td>\n",
       "      <td>8.5</td>\n",
       "      <td>9.0</td>\n",
       "    </tr>\n",
       "    <tr>\n",
       "      <th>2</th>\n",
       "      <td>3</td>\n",
       "      <td>1621050211</td>\n",
       "      <td>Nguyễn Thế</td>\n",
       "      <td>Anh</td>\n",
       "      <td>26/08/1998</td>\n",
       "      <td>DCCTPM61_1</td>\n",
       "      <td>6.7</td>\n",
       "      <td>4.0</td>\n",
       "      <td>6.5</td>\n",
       "      <td>3.0</td>\n",
       "      <td>5.0</td>\n",
       "    </tr>\n",
       "    <tr>\n",
       "      <th>3</th>\n",
       "      <td>4</td>\n",
       "      <td>1621050827</td>\n",
       "      <td>Đỗ Xuân</td>\n",
       "      <td>Bách</td>\n",
       "      <td>13/07/1998</td>\n",
       "      <td>DCCTPM61_1</td>\n",
       "      <td>8.0</td>\n",
       "      <td>6.5</td>\n",
       "      <td>8.0</td>\n",
       "      <td>10.0</td>\n",
       "      <td>9.0</td>\n",
       "    </tr>\n",
       "    <tr>\n",
       "      <th>4</th>\n",
       "      <td>5</td>\n",
       "      <td>1621050298</td>\n",
       "      <td>Dương Trí</td>\n",
       "      <td>Bách</td>\n",
       "      <td>25/09/1998</td>\n",
       "      <td>DCCTPM61_1</td>\n",
       "      <td>7.0</td>\n",
       "      <td>5.0</td>\n",
       "      <td>8.0</td>\n",
       "      <td>8.5</td>\n",
       "      <td>9.0</td>\n",
       "    </tr>\n",
       "  </tbody>\n",
       "</table>\n",
       "</div>"
      ],
      "text/plain": [
       "   STT       Mã SV                Họ   Tên   Ngày sinh     Tên Lớp    A   B1  \\\n",
       "0    1  1621050322       Phạm Trường    An  04/10/1998  DCCTPM61_1  8.0  0.0   \n",
       "1    2  1621050512  Nguyễn Quang Duy   Anh  08/10/1998  DCCTPM61_1  6.0  3.0   \n",
       "2    3  1621050211        Nguyễn Thế   Anh  26/08/1998  DCCTPM61_1  6.7  4.0   \n",
       "3    4  1621050827           Đỗ Xuân  Bách  13/07/1998  DCCTPM61_1  8.0  6.5   \n",
       "4    5  1621050298         Dương Trí  Bách  25/09/1998  DCCTPM61_1  7.0  5.0   \n",
       "\n",
       "    B2    C1   C2  \n",
       "0  5.0   7.5  8.0  \n",
       "1  7.5   8.5  9.0  \n",
       "2  6.5   3.0  5.0  \n",
       "3  8.0  10.0  9.0  \n",
       "4  8.0   8.5  9.0  "
      ]
     },
     "execution_count": 21,
     "metadata": {},
     "output_type": "execute_result"
    }
   ],
   "source": [
    "#Hiển thị 5 dòng dữ liệu đầu tiên\n",
    "data_ex.head()"
   ]
  },
  {
   "cell_type": "code",
   "execution_count": 22,
   "metadata": {},
   "outputs": [
    {
     "name": "stdout",
     "output_type": "stream",
     "text": [
      "<class 'pandas.core.frame.DataFrame'>\n",
      "Int64Index: 66 entries, 1621050322 to 1621050013\n",
      "Data columns (total 5 columns):\n",
      " #   Column  Non-Null Count  Dtype  \n",
      "---  ------  --------------  -----  \n",
      " 0   A       66 non-null     float64\n",
      " 1   B1      66 non-null     float64\n",
      " 2   B2      66 non-null     float64\n",
      " 3   C1      66 non-null     float64\n",
      " 4   C2      66 non-null     float64\n",
      "dtypes: float64(5)\n",
      "memory usage: 3.1 KB\n"
     ]
    }
   ],
   "source": [
    "#Ví dụ:\n",
    "#Đọc dữ liệu tại sheet đầu tiên, \n",
    "#Chỉ lấy dữ liệu cột Mã SV và các cột điểm \n",
    "#Thiết lập cột đầu tiên làm index\n",
    "data_ex1 = pd.read_excel(path_excel,\n",
    "                        sheet_name=0,\n",
    "                        usecols=[1,6,7,8,9,10],\n",
    "                        index_col=0)\n",
    "data_ex1.info()"
   ]
  },
  {
   "cell_type": "code",
   "execution_count": 23,
   "metadata": {},
   "outputs": [
    {
     "data": {
      "text/html": [
       "<div>\n",
       "<style scoped>\n",
       "    .dataframe tbody tr th:only-of-type {\n",
       "        vertical-align: middle;\n",
       "    }\n",
       "\n",
       "    .dataframe tbody tr th {\n",
       "        vertical-align: top;\n",
       "    }\n",
       "\n",
       "    .dataframe thead th {\n",
       "        text-align: right;\n",
       "    }\n",
       "</style>\n",
       "<table border=\"1\" class=\"dataframe\">\n",
       "  <thead>\n",
       "    <tr style=\"text-align: right;\">\n",
       "      <th></th>\n",
       "      <th>A</th>\n",
       "      <th>B1</th>\n",
       "      <th>B2</th>\n",
       "      <th>C1</th>\n",
       "      <th>C2</th>\n",
       "    </tr>\n",
       "    <tr>\n",
       "      <th>Mã SV</th>\n",
       "      <th></th>\n",
       "      <th></th>\n",
       "      <th></th>\n",
       "      <th></th>\n",
       "      <th></th>\n",
       "    </tr>\n",
       "  </thead>\n",
       "  <tbody>\n",
       "    <tr>\n",
       "      <th>1621050322</th>\n",
       "      <td>8.0</td>\n",
       "      <td>0.0</td>\n",
       "      <td>5.0</td>\n",
       "      <td>7.5</td>\n",
       "      <td>8.0</td>\n",
       "    </tr>\n",
       "    <tr>\n",
       "      <th>1621050512</th>\n",
       "      <td>6.0</td>\n",
       "      <td>3.0</td>\n",
       "      <td>7.5</td>\n",
       "      <td>8.5</td>\n",
       "      <td>9.0</td>\n",
       "    </tr>\n",
       "    <tr>\n",
       "      <th>1621050211</th>\n",
       "      <td>6.7</td>\n",
       "      <td>4.0</td>\n",
       "      <td>6.5</td>\n",
       "      <td>3.0</td>\n",
       "      <td>5.0</td>\n",
       "    </tr>\n",
       "    <tr>\n",
       "      <th>1621050827</th>\n",
       "      <td>8.0</td>\n",
       "      <td>6.5</td>\n",
       "      <td>8.0</td>\n",
       "      <td>10.0</td>\n",
       "      <td>9.0</td>\n",
       "    </tr>\n",
       "    <tr>\n",
       "      <th>1621050298</th>\n",
       "      <td>7.0</td>\n",
       "      <td>5.0</td>\n",
       "      <td>8.0</td>\n",
       "      <td>8.5</td>\n",
       "      <td>9.0</td>\n",
       "    </tr>\n",
       "  </tbody>\n",
       "</table>\n",
       "</div>"
      ],
      "text/plain": [
       "              A   B1   B2    C1   C2\n",
       "Mã SV                               \n",
       "1621050322  8.0  0.0  5.0   7.5  8.0\n",
       "1621050512  6.0  3.0  7.5   8.5  9.0\n",
       "1621050211  6.7  4.0  6.5   3.0  5.0\n",
       "1621050827  8.0  6.5  8.0  10.0  9.0\n",
       "1621050298  7.0  5.0  8.0   8.5  9.0"
      ]
     },
     "execution_count": 23,
     "metadata": {},
     "output_type": "execute_result"
    }
   ],
   "source": [
    "#Hiển thị 5 dòng dữ liệu đầu tiên\n",
    "data_ex1.head()"
   ]
  },
  {
   "cell_type": "code",
   "execution_count": 9,
   "metadata": {},
   "outputs": [
    {
     "name": "stdout",
     "output_type": "stream",
     "text": [
      "<class 'pandas.core.frame.DataFrame'>\n",
      "RangeIndex: 48 entries, 0 to 47\n",
      "Data columns (total 11 columns):\n",
      " #   Column                              Non-Null Count  Dtype \n",
      "---  ------                              --------------  ----- \n",
      " 0   Cộng Hòa Xã Hội Chủ Nghĩa Việt Nam  45 non-null     object\n",
      " 1   Unnamed: 1                          40 non-null     object\n",
      " 2   Unnamed: 2                          40 non-null     object\n",
      " 3   Unnamed: 3                          40 non-null     object\n",
      " 4   Unnamed: 4                          42 non-null     object\n",
      " 5   Unnamed: 5                          40 non-null     object\n",
      " 6   Unnamed: 6                          40 non-null     object\n",
      " 7   Unnamed: 7                          40 non-null     object\n",
      " 8   Unnamed: 8                          40 non-null     object\n",
      " 9   Unnamed: 9                          40 non-null     object\n",
      " 10  Unnamed: 10                         40 non-null     object\n",
      "dtypes: object(11)\n",
      "memory usage: 4.2+ KB\n"
     ]
    }
   ],
   "source": [
    "#Ví dụ 2:\n",
    "#Đọc dữ liệu tại sheet 2, \n",
    "#Trường hợp: sử dụng các tham số mặc định\n",
    "data_ex2 = pd.read_excel(path_excel,\n",
    "                        sheet_name=1)\n",
    "data_ex2.info()"
   ]
  },
  {
   "cell_type": "code",
   "execution_count": 24,
   "metadata": {},
   "outputs": [
    {
     "data": {
      "text/html": [
       "<div>\n",
       "<style scoped>\n",
       "    .dataframe tbody tr th:only-of-type {\n",
       "        vertical-align: middle;\n",
       "    }\n",
       "\n",
       "    .dataframe tbody tr th {\n",
       "        vertical-align: top;\n",
       "    }\n",
       "\n",
       "    .dataframe thead th {\n",
       "        text-align: right;\n",
       "    }\n",
       "</style>\n",
       "<table border=\"1\" class=\"dataframe\">\n",
       "  <thead>\n",
       "    <tr style=\"text-align: right;\">\n",
       "      <th></th>\n",
       "      <th>Cộng Hòa Xã Hội Chủ Nghĩa Việt Nam</th>\n",
       "      <th>Unnamed: 1</th>\n",
       "      <th>Unnamed: 2</th>\n",
       "      <th>Unnamed: 3</th>\n",
       "      <th>Unnamed: 4</th>\n",
       "      <th>Unnamed: 5</th>\n",
       "      <th>Unnamed: 6</th>\n",
       "      <th>Unnamed: 7</th>\n",
       "      <th>Unnamed: 8</th>\n",
       "      <th>Unnamed: 9</th>\n",
       "      <th>Unnamed: 10</th>\n",
       "    </tr>\n",
       "  </thead>\n",
       "  <tbody>\n",
       "    <tr>\n",
       "      <th>0</th>\n",
       "      <td>Độc lập - Tự do - Hạnh phúc</td>\n",
       "      <td>NaN</td>\n",
       "      <td>NaN</td>\n",
       "      <td>NaN</td>\n",
       "      <td>NaN</td>\n",
       "      <td>NaN</td>\n",
       "      <td>NaN</td>\n",
       "      <td>NaN</td>\n",
       "      <td>NaN</td>\n",
       "      <td>NaN</td>\n",
       "      <td>NaN</td>\n",
       "    </tr>\n",
       "    <tr>\n",
       "      <th>1</th>\n",
       "      <td>NaN</td>\n",
       "      <td>NaN</td>\n",
       "      <td>NaN</td>\n",
       "      <td>NaN</td>\n",
       "      <td>NaN</td>\n",
       "      <td>NaN</td>\n",
       "      <td>NaN</td>\n",
       "      <td>NaN</td>\n",
       "      <td>NaN</td>\n",
       "      <td>NaN</td>\n",
       "      <td>NaN</td>\n",
       "    </tr>\n",
       "    <tr>\n",
       "      <th>2</th>\n",
       "      <td>BẢNG GHI ĐIỂM CHUYÊN CẦN VÀ KIỂM TRA</td>\n",
       "      <td>NaN</td>\n",
       "      <td>NaN</td>\n",
       "      <td>NaN</td>\n",
       "      <td>NaN</td>\n",
       "      <td>NaN</td>\n",
       "      <td>NaN</td>\n",
       "      <td>NaN</td>\n",
       "      <td>NaN</td>\n",
       "      <td>NaN</td>\n",
       "      <td>NaN</td>\n",
       "    </tr>\n",
       "    <tr>\n",
       "      <th>3</th>\n",
       "      <td>Học kỳ 2 - Năm học 2019-2020 (1A)</td>\n",
       "      <td>NaN</td>\n",
       "      <td>NaN</td>\n",
       "      <td>NaN</td>\n",
       "      <td>NaN</td>\n",
       "      <td>NaN</td>\n",
       "      <td>NaN</td>\n",
       "      <td>NaN</td>\n",
       "      <td>NaN</td>\n",
       "      <td>NaN</td>\n",
       "      <td>NaN</td>\n",
       "    </tr>\n",
       "    <tr>\n",
       "      <th>4</th>\n",
       "      <td>NaN</td>\n",
       "      <td>NaN</td>\n",
       "      <td>NaN</td>\n",
       "      <td>NaN</td>\n",
       "      <td>NaN</td>\n",
       "      <td>NaN</td>\n",
       "      <td>NaN</td>\n",
       "      <td>NaN</td>\n",
       "      <td>NaN</td>\n",
       "      <td>NaN</td>\n",
       "      <td>NaN</td>\n",
       "    </tr>\n",
       "    <tr>\n",
       "      <th>5</th>\n",
       "      <td>Tên môn học: An toàn và Bảo mật TT</td>\n",
       "      <td>NaN</td>\n",
       "      <td>NaN</td>\n",
       "      <td>NaN</td>\n",
       "      <td>Mã môn học/ mã nhóm: 4080130/02</td>\n",
       "      <td>NaN</td>\n",
       "      <td>NaN</td>\n",
       "      <td>NaN</td>\n",
       "      <td>NaN</td>\n",
       "      <td>NaN</td>\n",
       "      <td>NaN</td>\n",
       "    </tr>\n",
       "    <tr>\n",
       "      <th>6</th>\n",
       "      <td>Tên Giảng viên: Đặng Văn Nam</td>\n",
       "      <td>NaN</td>\n",
       "      <td>NaN</td>\n",
       "      <td>NaN</td>\n",
       "      <td>Mã Giảng viên: 0805-08</td>\n",
       "      <td>NaN</td>\n",
       "      <td>NaN</td>\n",
       "      <td>NaN</td>\n",
       "      <td>NaN</td>\n",
       "      <td>NaN</td>\n",
       "      <td>NaN</td>\n",
       "    </tr>\n",
       "    <tr>\n",
       "      <th>7</th>\n",
       "      <td>NaN</td>\n",
       "      <td>NaN</td>\n",
       "      <td>NaN</td>\n",
       "      <td>NaN</td>\n",
       "      <td>NaN</td>\n",
       "      <td>NaN</td>\n",
       "      <td>NaN</td>\n",
       "      <td>NaN</td>\n",
       "      <td>NaN</td>\n",
       "      <td>NaN</td>\n",
       "      <td>NaN</td>\n",
       "    </tr>\n",
       "    <tr>\n",
       "      <th>8</th>\n",
       "      <td>STT</td>\n",
       "      <td>Mã SV</td>\n",
       "      <td>Họ</td>\n",
       "      <td>Tên</td>\n",
       "      <td>Ngày sinh</td>\n",
       "      <td>Tên Lớp</td>\n",
       "      <td>A</td>\n",
       "      <td>B1</td>\n",
       "      <td>B2</td>\n",
       "      <td>C1</td>\n",
       "      <td>C2</td>\n",
       "    </tr>\n",
       "    <tr>\n",
       "      <th>9</th>\n",
       "      <td>1</td>\n",
       "      <td>1621050193</td>\n",
       "      <td>Đặng Đình</td>\n",
       "      <td>An</td>\n",
       "      <td>15/02/1998</td>\n",
       "      <td>DCCTPM61_1</td>\n",
       "      <td>7</td>\n",
       "      <td>6.5</td>\n",
       "      <td>7.5</td>\n",
       "      <td>7</td>\n",
       "      <td>8</td>\n",
       "    </tr>\n",
       "  </tbody>\n",
       "</table>\n",
       "</div>"
      ],
      "text/plain": [
       "     Cộng Hòa Xã Hội Chủ Nghĩa Việt Nam  Unnamed: 1 Unnamed: 2 Unnamed: 3  \\\n",
       "0           Độc lập - Tự do - Hạnh phúc         NaN        NaN        NaN   \n",
       "1                                   NaN         NaN        NaN        NaN   \n",
       "2  BẢNG GHI ĐIỂM CHUYÊN CẦN VÀ KIỂM TRA         NaN        NaN        NaN   \n",
       "3     Học kỳ 2 - Năm học 2019-2020 (1A)         NaN        NaN        NaN   \n",
       "4                                   NaN         NaN        NaN        NaN   \n",
       "5    Tên môn học: An toàn và Bảo mật TT         NaN        NaN        NaN   \n",
       "6          Tên Giảng viên: Đặng Văn Nam         NaN        NaN        NaN   \n",
       "7                                   NaN         NaN        NaN        NaN   \n",
       "8                                   STT       Mã SV         Họ        Tên   \n",
       "9                                     1  1621050193  Đặng Đình         An   \n",
       "\n",
       "                        Unnamed: 4  Unnamed: 5 Unnamed: 6 Unnamed: 7  \\\n",
       "0                              NaN         NaN        NaN        NaN   \n",
       "1                              NaN         NaN        NaN        NaN   \n",
       "2                              NaN         NaN        NaN        NaN   \n",
       "3                              NaN         NaN        NaN        NaN   \n",
       "4                              NaN         NaN        NaN        NaN   \n",
       "5  Mã môn học/ mã nhóm: 4080130/02         NaN        NaN        NaN   \n",
       "6           Mã Giảng viên: 0805-08         NaN        NaN        NaN   \n",
       "7                              NaN         NaN        NaN        NaN   \n",
       "8                        Ngày sinh     Tên Lớp          A         B1   \n",
       "9                       15/02/1998  DCCTPM61_1          7        6.5   \n",
       "\n",
       "  Unnamed: 8 Unnamed: 9 Unnamed: 10  \n",
       "0        NaN        NaN         NaN  \n",
       "1        NaN        NaN         NaN  \n",
       "2        NaN        NaN         NaN  \n",
       "3        NaN        NaN         NaN  \n",
       "4        NaN        NaN         NaN  \n",
       "5        NaN        NaN         NaN  \n",
       "6        NaN        NaN         NaN  \n",
       "7        NaN        NaN         NaN  \n",
       "8         B2         C1          C2  \n",
       "9        7.5          7           8  "
      ]
     },
     "execution_count": 24,
     "metadata": {},
     "output_type": "execute_result"
    }
   ],
   "source": [
    "#dữ liệu chứa toàn bộ cả phần tiêu đề\n",
    "data_ex2.head(10)"
   ]
  },
  {
   "cell_type": "code",
   "execution_count": 25,
   "metadata": {},
   "outputs": [
    {
     "name": "stdout",
     "output_type": "stream",
     "text": [
      "<class 'pandas.core.frame.DataFrame'>\n",
      "RangeIndex: 39 entries, 0 to 38\n",
      "Data columns (total 11 columns):\n",
      " #   Column     Non-Null Count  Dtype  \n",
      "---  ------     --------------  -----  \n",
      " 0   STT        39 non-null     int64  \n",
      " 1   Mã SV      39 non-null     int64  \n",
      " 2   Họ         39 non-null     object \n",
      " 3   Tên        39 non-null     object \n",
      " 4   Ngày sinh  39 non-null     object \n",
      " 5   Tên Lớp    39 non-null     object \n",
      " 6   A          39 non-null     float64\n",
      " 7   B1         39 non-null     float64\n",
      " 8   B2         39 non-null     float64\n",
      " 9   C1         39 non-null     float64\n",
      " 10  C2         39 non-null     float64\n",
      "dtypes: float64(5), int64(2), object(4)\n",
      "memory usage: 3.5+ KB\n"
     ]
    }
   ],
   "source": [
    "#Ví dụ 3:\n",
    "#Đọc dữ liệu tại sheet '4080130_02',từ dòng 9\n",
    "data_ex3 = pd.read_excel(path_excel,\n",
    "                         sheet_name='4080130_02',\n",
    "                         skiprows=9)\n",
    "data_ex3.info()"
   ]
  },
  {
   "cell_type": "code",
   "execution_count": 26,
   "metadata": {},
   "outputs": [
    {
     "data": {
      "text/html": [
       "<div>\n",
       "<style scoped>\n",
       "    .dataframe tbody tr th:only-of-type {\n",
       "        vertical-align: middle;\n",
       "    }\n",
       "\n",
       "    .dataframe tbody tr th {\n",
       "        vertical-align: top;\n",
       "    }\n",
       "\n",
       "    .dataframe thead th {\n",
       "        text-align: right;\n",
       "    }\n",
       "</style>\n",
       "<table border=\"1\" class=\"dataframe\">\n",
       "  <thead>\n",
       "    <tr style=\"text-align: right;\">\n",
       "      <th></th>\n",
       "      <th>STT</th>\n",
       "      <th>Mã SV</th>\n",
       "      <th>Họ</th>\n",
       "      <th>Tên</th>\n",
       "      <th>Ngày sinh</th>\n",
       "      <th>Tên Lớp</th>\n",
       "      <th>A</th>\n",
       "      <th>B1</th>\n",
       "      <th>B2</th>\n",
       "      <th>C1</th>\n",
       "      <th>C2</th>\n",
       "    </tr>\n",
       "  </thead>\n",
       "  <tbody>\n",
       "    <tr>\n",
       "      <th>0</th>\n",
       "      <td>1</td>\n",
       "      <td>1621050193</td>\n",
       "      <td>Đặng Đình</td>\n",
       "      <td>An</td>\n",
       "      <td>15/02/1998</td>\n",
       "      <td>DCCTPM61_1</td>\n",
       "      <td>7.0</td>\n",
       "      <td>6.5</td>\n",
       "      <td>7.5</td>\n",
       "      <td>7.0</td>\n",
       "      <td>8.0</td>\n",
       "    </tr>\n",
       "    <tr>\n",
       "      <th>1</th>\n",
       "      <td>2</td>\n",
       "      <td>1621070195</td>\n",
       "      <td>Mai Việt</td>\n",
       "      <td>Anh</td>\n",
       "      <td>01/09/1998</td>\n",
       "      <td>DCCTPM62A</td>\n",
       "      <td>8.0</td>\n",
       "      <td>6.5</td>\n",
       "      <td>6.0</td>\n",
       "      <td>5.0</td>\n",
       "      <td>6.0</td>\n",
       "    </tr>\n",
       "    <tr>\n",
       "      <th>2</th>\n",
       "      <td>3</td>\n",
       "      <td>1721050524</td>\n",
       "      <td>Nguyễn Thị</td>\n",
       "      <td>Anh</td>\n",
       "      <td>18/05/1999</td>\n",
       "      <td>DCCTPM62A</td>\n",
       "      <td>7.7</td>\n",
       "      <td>6.0</td>\n",
       "      <td>7.5</td>\n",
       "      <td>8.5</td>\n",
       "      <td>9.0</td>\n",
       "    </tr>\n",
       "    <tr>\n",
       "      <th>3</th>\n",
       "      <td>4</td>\n",
       "      <td>1621050484</td>\n",
       "      <td>Phạm Tuấn</td>\n",
       "      <td>Anh</td>\n",
       "      <td>27/10/1998</td>\n",
       "      <td>DCCTPM61_1</td>\n",
       "      <td>6.3</td>\n",
       "      <td>3.0</td>\n",
       "      <td>5.0</td>\n",
       "      <td>0.0</td>\n",
       "      <td>5.0</td>\n",
       "    </tr>\n",
       "    <tr>\n",
       "      <th>4</th>\n",
       "      <td>5</td>\n",
       "      <td>1621050260</td>\n",
       "      <td>Phan Tuấn</td>\n",
       "      <td>Anh</td>\n",
       "      <td>20/05/1998</td>\n",
       "      <td>DCCTPM61_1</td>\n",
       "      <td>7.7</td>\n",
       "      <td>6.5</td>\n",
       "      <td>7.0</td>\n",
       "      <td>10.0</td>\n",
       "      <td>9.0</td>\n",
       "    </tr>\n",
       "  </tbody>\n",
       "</table>\n",
       "</div>"
      ],
      "text/plain": [
       "   STT       Mã SV          Họ  Tên   Ngày sinh     Tên Lớp    A   B1   B2  \\\n",
       "0    1  1621050193   Đặng Đình   An  15/02/1998  DCCTPM61_1  7.0  6.5  7.5   \n",
       "1    2  1621070195    Mai Việt  Anh  01/09/1998   DCCTPM62A  8.0  6.5  6.0   \n",
       "2    3  1721050524  Nguyễn Thị  Anh  18/05/1999   DCCTPM62A  7.7  6.0  7.5   \n",
       "3    4  1621050484   Phạm Tuấn  Anh  27/10/1998  DCCTPM61_1  6.3  3.0  5.0   \n",
       "4    5  1621050260   Phan Tuấn  Anh  20/05/1998  DCCTPM61_1  7.7  6.5  7.0   \n",
       "\n",
       "     C1   C2  \n",
       "0   7.0  8.0  \n",
       "1   5.0  6.0  \n",
       "2   8.5  9.0  \n",
       "3   0.0  5.0  \n",
       "4  10.0  9.0  "
      ]
     },
     "execution_count": 26,
     "metadata": {},
     "output_type": "execute_result"
    }
   ],
   "source": [
    "#Hiển thị 5 dòng dữ liệu đầu tiên\n",
    "data_ex3.head()"
   ]
  },
  {
   "cell_type": "code",
   "execution_count": 27,
   "metadata": {},
   "outputs": [
    {
     "name": "stdout",
     "output_type": "stream",
     "text": [
      "<class 'pandas.core.frame.DataFrame'>\n",
      "RangeIndex: 39 entries, 0 to 38\n",
      "Data columns (total 11 columns):\n",
      " #   Column  Non-Null Count  Dtype  \n",
      "---  ------  --------------  -----  \n",
      " 0   0       39 non-null     int64  \n",
      " 1   1       39 non-null     int64  \n",
      " 2   2       39 non-null     object \n",
      " 3   3       39 non-null     object \n",
      " 4   4       39 non-null     object \n",
      " 5   5       39 non-null     object \n",
      " 6   6       39 non-null     float64\n",
      " 7   7       39 non-null     float64\n",
      " 8   8       39 non-null     float64\n",
      " 9   9       39 non-null     float64\n",
      " 10  10      39 non-null     float64\n",
      "dtypes: float64(5), int64(2), object(4)\n",
      "memory usage: 3.5+ KB\n"
     ]
    }
   ],
   "source": [
    "#Ví dụ 4\n",
    "#Đọc dữ liệu từ sheet: '4080130_03'\n",
    "#Dữ liệu không chứa dòng header\n",
    "data_ex4 = pd.read_excel(path_excel,\n",
    "                        sheet_name='4080130_03',\n",
    "                        header=None)\n",
    "data_ex4.info()"
   ]
  },
  {
   "cell_type": "code",
   "execution_count": 28,
   "metadata": {},
   "outputs": [
    {
     "data": {
      "text/html": [
       "<div>\n",
       "<style scoped>\n",
       "    .dataframe tbody tr th:only-of-type {\n",
       "        vertical-align: middle;\n",
       "    }\n",
       "\n",
       "    .dataframe tbody tr th {\n",
       "        vertical-align: top;\n",
       "    }\n",
       "\n",
       "    .dataframe thead th {\n",
       "        text-align: right;\n",
       "    }\n",
       "</style>\n",
       "<table border=\"1\" class=\"dataframe\">\n",
       "  <thead>\n",
       "    <tr style=\"text-align: right;\">\n",
       "      <th></th>\n",
       "      <th>0</th>\n",
       "      <th>1</th>\n",
       "      <th>2</th>\n",
       "      <th>3</th>\n",
       "      <th>4</th>\n",
       "      <th>5</th>\n",
       "      <th>6</th>\n",
       "      <th>7</th>\n",
       "      <th>8</th>\n",
       "      <th>9</th>\n",
       "      <th>10</th>\n",
       "    </tr>\n",
       "  </thead>\n",
       "  <tbody>\n",
       "    <tr>\n",
       "      <th>0</th>\n",
       "      <td>1</td>\n",
       "      <td>1621050041</td>\n",
       "      <td>Đào Tuấn</td>\n",
       "      <td>Anh</td>\n",
       "      <td>22/10/1998</td>\n",
       "      <td>DCCTPM61_1</td>\n",
       "      <td>6.7</td>\n",
       "      <td>9.0</td>\n",
       "      <td>5.5</td>\n",
       "      <td>8.5</td>\n",
       "      <td>8.0</td>\n",
       "    </tr>\n",
       "    <tr>\n",
       "      <th>1</th>\n",
       "      <td>2</td>\n",
       "      <td>1621050262</td>\n",
       "      <td>Vũ Thị Lan</td>\n",
       "      <td>Anh</td>\n",
       "      <td>26/09/1998</td>\n",
       "      <td>DCCTPM61_1</td>\n",
       "      <td>6.7</td>\n",
       "      <td>7.0</td>\n",
       "      <td>9.0</td>\n",
       "      <td>8.5</td>\n",
       "      <td>6.0</td>\n",
       "    </tr>\n",
       "    <tr>\n",
       "      <th>2</th>\n",
       "      <td>3</td>\n",
       "      <td>1621050083</td>\n",
       "      <td>Trịnh Như</td>\n",
       "      <td>Bình</td>\n",
       "      <td>06/04/1998</td>\n",
       "      <td>DCCTPM61_1</td>\n",
       "      <td>7.3</td>\n",
       "      <td>8.5</td>\n",
       "      <td>9.5</td>\n",
       "      <td>10.0</td>\n",
       "      <td>9.0</td>\n",
       "    </tr>\n",
       "    <tr>\n",
       "      <th>3</th>\n",
       "      <td>4</td>\n",
       "      <td>1621050113</td>\n",
       "      <td>Trần Văn</td>\n",
       "      <td>Cương</td>\n",
       "      <td>19/06/1998</td>\n",
       "      <td>DCCTPM61_1</td>\n",
       "      <td>5.7</td>\n",
       "      <td>5.0</td>\n",
       "      <td>6.0</td>\n",
       "      <td>10.0</td>\n",
       "      <td>5.0</td>\n",
       "    </tr>\n",
       "    <tr>\n",
       "      <th>4</th>\n",
       "      <td>5</td>\n",
       "      <td>1621050384</td>\n",
       "      <td>Nguyễn Sỹ</td>\n",
       "      <td>Dũng</td>\n",
       "      <td>02/10/1998</td>\n",
       "      <td>DCCTPM61_1</td>\n",
       "      <td>7.0</td>\n",
       "      <td>0.0</td>\n",
       "      <td>7.5</td>\n",
       "      <td>8.5</td>\n",
       "      <td>9.0</td>\n",
       "    </tr>\n",
       "  </tbody>\n",
       "</table>\n",
       "</div>"
      ],
      "text/plain": [
       "   0           1           2      3           4           5    6    7    8   \\\n",
       "0   1  1621050041    Đào Tuấn    Anh  22/10/1998  DCCTPM61_1  6.7  9.0  5.5   \n",
       "1   2  1621050262  Vũ Thị Lan    Anh  26/09/1998  DCCTPM61_1  6.7  7.0  9.0   \n",
       "2   3  1621050083   Trịnh Như   Bình  06/04/1998  DCCTPM61_1  7.3  8.5  9.5   \n",
       "3   4  1621050113    Trần Văn  Cương  19/06/1998  DCCTPM61_1  5.7  5.0  6.0   \n",
       "4   5  1621050384   Nguyễn Sỹ   Dũng  02/10/1998  DCCTPM61_1  7.0  0.0  7.5   \n",
       "\n",
       "     9    10  \n",
       "0   8.5  8.0  \n",
       "1   8.5  6.0  \n",
       "2  10.0  9.0  \n",
       "3  10.0  5.0  \n",
       "4   8.5  9.0  "
      ]
     },
     "execution_count": 28,
     "metadata": {},
     "output_type": "execute_result"
    }
   ],
   "source": [
    "#Hiển thị 5 dòng dữ liệu đầu tiên\n",
    "data_ex4.head()"
   ]
  },
  {
   "cell_type": "code",
   "execution_count": 29,
   "metadata": {},
   "outputs": [
    {
     "name": "stdout",
     "output_type": "stream",
     "text": [
      "<class 'pandas.core.frame.DataFrame'>\n",
      "Int64Index: 39 entries, 1621050041 to 1621050034\n",
      "Data columns (total 5 columns):\n",
      " #   Column  Non-Null Count  Dtype  \n",
      "---  ------  --------------  -----  \n",
      " 0   A       39 non-null     float64\n",
      " 1   B1      39 non-null     float64\n",
      " 2   B2      39 non-null     float64\n",
      " 3   C1      39 non-null     float64\n",
      " 4   C2      39 non-null     float64\n",
      "dtypes: float64(5)\n",
      "memory usage: 1.8 KB\n"
     ]
    }
   ],
   "source": [
    "#Ví dụ 4.1\n",
    "#Đọc dữ liệu từ sheet: '4080130_03'\n",
    "#Dữ liệu không chứa dòng header\n",
    "#Đặt tên cho các cột\n",
    "data_ex41 = pd.read_excel(path_excel,\n",
    "                        sheet_name='4080130_03',\n",
    "                        header=None,\n",
    "                        usecols=[1,6,7,8,9,10],\n",
    "                        names=['Mã SV','A','B1','B2','C1','C2'],\n",
    "                        index_col=0)\n",
    "data_ex41.info()"
   ]
  },
  {
   "cell_type": "code",
   "execution_count": 30,
   "metadata": {},
   "outputs": [
    {
     "data": {
      "text/html": [
       "<div>\n",
       "<style scoped>\n",
       "    .dataframe tbody tr th:only-of-type {\n",
       "        vertical-align: middle;\n",
       "    }\n",
       "\n",
       "    .dataframe tbody tr th {\n",
       "        vertical-align: top;\n",
       "    }\n",
       "\n",
       "    .dataframe thead th {\n",
       "        text-align: right;\n",
       "    }\n",
       "</style>\n",
       "<table border=\"1\" class=\"dataframe\">\n",
       "  <thead>\n",
       "    <tr style=\"text-align: right;\">\n",
       "      <th></th>\n",
       "      <th>A</th>\n",
       "      <th>B1</th>\n",
       "      <th>B2</th>\n",
       "      <th>C1</th>\n",
       "      <th>C2</th>\n",
       "    </tr>\n",
       "    <tr>\n",
       "      <th>Mã SV</th>\n",
       "      <th></th>\n",
       "      <th></th>\n",
       "      <th></th>\n",
       "      <th></th>\n",
       "      <th></th>\n",
       "    </tr>\n",
       "  </thead>\n",
       "  <tbody>\n",
       "    <tr>\n",
       "      <th>1621050041</th>\n",
       "      <td>6.7</td>\n",
       "      <td>9.0</td>\n",
       "      <td>5.5</td>\n",
       "      <td>8.5</td>\n",
       "      <td>8.0</td>\n",
       "    </tr>\n",
       "    <tr>\n",
       "      <th>1621050262</th>\n",
       "      <td>6.7</td>\n",
       "      <td>7.0</td>\n",
       "      <td>9.0</td>\n",
       "      <td>8.5</td>\n",
       "      <td>6.0</td>\n",
       "    </tr>\n",
       "    <tr>\n",
       "      <th>1621050083</th>\n",
       "      <td>7.3</td>\n",
       "      <td>8.5</td>\n",
       "      <td>9.5</td>\n",
       "      <td>10.0</td>\n",
       "      <td>9.0</td>\n",
       "    </tr>\n",
       "    <tr>\n",
       "      <th>1621050113</th>\n",
       "      <td>5.7</td>\n",
       "      <td>5.0</td>\n",
       "      <td>6.0</td>\n",
       "      <td>10.0</td>\n",
       "      <td>5.0</td>\n",
       "    </tr>\n",
       "    <tr>\n",
       "      <th>1621050384</th>\n",
       "      <td>7.0</td>\n",
       "      <td>0.0</td>\n",
       "      <td>7.5</td>\n",
       "      <td>8.5</td>\n",
       "      <td>9.0</td>\n",
       "    </tr>\n",
       "  </tbody>\n",
       "</table>\n",
       "</div>"
      ],
      "text/plain": [
       "              A   B1   B2    C1   C2\n",
       "Mã SV                               \n",
       "1621050041  6.7  9.0  5.5   8.5  8.0\n",
       "1621050262  6.7  7.0  9.0   8.5  6.0\n",
       "1621050083  7.3  8.5  9.5  10.0  9.0\n",
       "1621050113  5.7  5.0  6.0  10.0  5.0\n",
       "1621050384  7.0  0.0  7.5   8.5  9.0"
      ]
     },
     "execution_count": 30,
     "metadata": {},
     "output_type": "execute_result"
    }
   ],
   "source": [
    "#Hiển thị 5 dòng dữ liệu đầu tiên\n",
    "data_ex41.head()"
   ]
  },
  {
   "cell_type": "markdown",
   "metadata": {},
   "source": [
    "## THỰC HÀNH 2.3\n",
    "---"
   ]
  },
  {
   "cell_type": "code",
   "execution_count": 32,
   "metadata": {},
   "outputs": [
    {
     "name": "stdout",
     "output_type": "stream",
     "text": [
      "<class 'pandas.core.frame.DataFrame'>\n",
      "RangeIndex: 1338 entries, 0 to 1337\n",
      "Data columns (total 25 columns):\n",
      " #   Column                       Non-Null Count  Dtype  \n",
      "---  ------                       --------------  -----  \n",
      " 0   Title                        1338 non-null   object \n",
      " 1   Year                         1338 non-null   int64  \n",
      " 2   Genres                       1338 non-null   object \n",
      " 3   Language                     1334 non-null   object \n",
      " 4   Country                      1338 non-null   object \n",
      " 5   Content Rating               1316 non-null   object \n",
      " 6   Duration                     1338 non-null   int64  \n",
      " 7   Aspect Ratio                 1308 non-null   float64\n",
      " 8   Budget                       1281 non-null   float64\n",
      " 9   Gross Earnings               1086 non-null   float64\n",
      " 10  Director                     1338 non-null   object \n",
      " 11  Actor 1                      1338 non-null   object \n",
      " 12  Actor 2                      1338 non-null   object \n",
      " 13  Actor 3                      1336 non-null   object \n",
      " 14  Facebook Likes - Director    1338 non-null   int64  \n",
      " 15  Facebook Likes - Actor 1     1338 non-null   int64  \n",
      " 16  Facebook Likes - Actor 2     1338 non-null   int64  \n",
      " 17  Facebook Likes - Actor 3     1336 non-null   float64\n",
      " 18  Facebook Likes - cast Total  1338 non-null   int64  \n",
      " 19  Facebook likes - Movie       1338 non-null   int64  \n",
      " 20  Facenumber in posters        1338 non-null   int64  \n",
      " 21  User Votes                   1338 non-null   int64  \n",
      " 22  Reviews by Users             1338 non-null   int64  \n",
      " 23  Reviews by Crtiics           1335 non-null   float64\n",
      " 24  IMDB Score                   1338 non-null   float64\n",
      "dtypes: float64(6), int64(10), object(9)\n",
      "memory usage: 261.5+ KB\n"
     ]
    }
   ],
   "source": [
    "#{HỌC VIÊN VIẾT CODE YÊU CẦU 2.3 VÀO ĐÂY}\n",
    "import pandas as pd\n",
    "path_excel = 'Data_Excercise\\excel_Data_Movies.xls'\n",
    "#Đọc dữ liệu từ file excel\n",
    "data_ex = pd.read_excel(path_excel)\n",
    "data_ex.info()\n",
    "\n"
   ]
  },
  {
   "cell_type": "markdown",
   "metadata": {},
   "source": [
    "## 2.4 Load data from Json\n",
    "---"
   ]
  },
  {
   "cell_type": "code",
   "execution_count": 33,
   "metadata": {},
   "outputs": [
    {
     "data": {
      "text/html": [
       "<div>\n",
       "<style scoped>\n",
       "    .dataframe tbody tr th:only-of-type {\n",
       "        vertical-align: middle;\n",
       "    }\n",
       "\n",
       "    .dataframe tbody tr th {\n",
       "        vertical-align: top;\n",
       "    }\n",
       "\n",
       "    .dataframe thead th {\n",
       "        text-align: right;\n",
       "    }\n",
       "</style>\n",
       "<table border=\"1\" class=\"dataframe\">\n",
       "  <thead>\n",
       "    <tr style=\"text-align: right;\">\n",
       "      <th></th>\n",
       "      <th>Product</th>\n",
       "      <th>Price</th>\n",
       "      <th>Manufacturer</th>\n",
       "    </tr>\n",
       "  </thead>\n",
       "  <tbody>\n",
       "    <tr>\n",
       "      <th>0</th>\n",
       "      <td>Desktop Computer</td>\n",
       "      <td>700</td>\n",
       "      <td>IBM</td>\n",
       "    </tr>\n",
       "    <tr>\n",
       "      <th>1</th>\n",
       "      <td>Tablet</td>\n",
       "      <td>250</td>\n",
       "      <td>Apple</td>\n",
       "    </tr>\n",
       "    <tr>\n",
       "      <th>2</th>\n",
       "      <td>iPhone</td>\n",
       "      <td>800</td>\n",
       "      <td>Apple</td>\n",
       "    </tr>\n",
       "    <tr>\n",
       "      <th>3</th>\n",
       "      <td>Laptop</td>\n",
       "      <td>1200</td>\n",
       "      <td>Dell</td>\n",
       "    </tr>\n",
       "  </tbody>\n",
       "</table>\n",
       "</div>"
      ],
      "text/plain": [
       "            Product  Price Manufacturer\n",
       "0  Desktop Computer    700          IBM\n",
       "1            Tablet    250        Apple\n",
       "2            iPhone    800        Apple\n",
       "3            Laptop   1200         Dell"
      ]
     },
     "execution_count": 33,
     "metadata": {},
     "output_type": "execute_result"
    }
   ],
   "source": [
    "import pandas as pd\n",
    "path_json = 'Data_Excercise\\json_Data_product.json'\n",
    "#Đọc dữ liệu từ file Json vào biến DataFrame\n",
    "#Sử dụng các tham số mặc định\n",
    "data_json = pd.read_json(path_json)\n",
    "data_json"
   ]
  },
  {
   "cell_type": "code",
   "execution_count": 34,
   "metadata": {},
   "outputs": [
    {
     "data": {
      "text/html": [
       "<div>\n",
       "<style scoped>\n",
       "    .dataframe tbody tr th:only-of-type {\n",
       "        vertical-align: middle;\n",
       "    }\n",
       "\n",
       "    .dataframe tbody tr th {\n",
       "        vertical-align: top;\n",
       "    }\n",
       "\n",
       "    .dataframe thead th {\n",
       "        text-align: right;\n",
       "    }\n",
       "</style>\n",
       "<table border=\"1\" class=\"dataframe\">\n",
       "  <thead>\n",
       "    <tr style=\"text-align: right;\">\n",
       "      <th></th>\n",
       "      <th>0</th>\n",
       "      <th>1</th>\n",
       "      <th>2</th>\n",
       "      <th>3</th>\n",
       "    </tr>\n",
       "  </thead>\n",
       "  <tbody>\n",
       "    <tr>\n",
       "      <th>Product</th>\n",
       "      <td>Desktop Computer</td>\n",
       "      <td>Tablet</td>\n",
       "      <td>iPhone</td>\n",
       "      <td>Laptop</td>\n",
       "    </tr>\n",
       "    <tr>\n",
       "      <th>Price</th>\n",
       "      <td>700</td>\n",
       "      <td>250</td>\n",
       "      <td>800</td>\n",
       "      <td>1200</td>\n",
       "    </tr>\n",
       "    <tr>\n",
       "      <th>Manufacturer</th>\n",
       "      <td>IBM</td>\n",
       "      <td>Apple</td>\n",
       "      <td>Apple</td>\n",
       "      <td>Dell</td>\n",
       "    </tr>\n",
       "  </tbody>\n",
       "</table>\n",
       "</div>"
      ],
      "text/plain": [
       "                             0       1       2       3\n",
       "Product       Desktop Computer  Tablet  iPhone  Laptop\n",
       "Price                      700     250     800    1200\n",
       "Manufacturer               IBM   Apple   Apple    Dell"
      ]
     },
     "execution_count": 34,
     "metadata": {},
     "output_type": "execute_result"
    }
   ],
   "source": [
    "#Đọc dữ liệu từ file Json vào biến DataFrame\n",
    "#Sử dụng tham số orient='index'\n",
    "data_json1 = pd.read_json(path_json, orient='index')\n",
    "data_json1"
   ]
  },
  {
   "cell_type": "code",
   "execution_count": 36,
   "metadata": {},
   "outputs": [
    {
     "data": {
      "text/plain": [
       "dict"
      ]
     },
     "execution_count": 36,
     "metadata": {},
     "output_type": "execute_result"
    }
   ],
   "source": [
    "#Hoặc Sử dụng thư viện json làm việc với dữ liệu json\n",
    "import json\n",
    "with open(path_json, 'r') as myfile:\n",
    "    data=myfile.read()\n",
    "\n",
    "# Đọc dữ liệu vào biến obj\n",
    "obj = json.loads(data)\n",
    "type(obj)"
   ]
  },
  {
   "cell_type": "code",
   "execution_count": 37,
   "metadata": {},
   "outputs": [
    {
     "data": {
      "text/plain": [
       "{'0': 'Desktop Computer', '1': 'Tablet', '2': 'iPhone', '3': 'Laptop'}"
      ]
     },
     "execution_count": 37,
     "metadata": {},
     "output_type": "execute_result"
    }
   ],
   "source": [
    "#Lấy giá trị của key = 'Product'\n",
    "obj['Product']"
   ]
  },
  {
   "cell_type": "code",
   "execution_count": 38,
   "metadata": {},
   "outputs": [
    {
     "data": {
      "text/plain": [
       "{'0': 700, '1': 250, '2': 800, '3': 1200}"
      ]
     },
     "execution_count": 38,
     "metadata": {},
     "output_type": "execute_result"
    }
   ],
   "source": [
    "#Lấy giá trị của key = 'Price'\n",
    "obj['Price']"
   ]
  },
  {
   "cell_type": "markdown",
   "metadata": {},
   "source": [
    "### THỰC HÀNH 2.4\n",
    "---"
   ]
  },
  {
   "cell_type": "code",
   "execution_count": null,
   "metadata": {},
   "outputs": [],
   "source": [
    "#{HỌC VIÊN VIẾT CODE YÊU CẦU 2.4 VÀO ĐÂY}\n",
    "\n",
    "\n",
    "\n",
    "\n",
    "\n",
    "\n",
    "\n",
    "\n"
   ]
  },
  {
   "cell_type": "markdown",
   "metadata": {},
   "source": [
    "## 3. Tải dữ liệu mẫu từ Sklearn\n",
    "---"
   ]
  },
  {
   "cell_type": "code",
   "execution_count": 1,
   "metadata": {},
   "outputs": [
    {
     "name": "stdout",
     "output_type": "stream",
     "text": [
      "<class 'numpy.ndarray'>\n",
      "Kích thước dữ liệu đầu vào (features): (506, 13)\n",
      "Kích thước dữ liệu đầu ra (target): (506,)\n"
     ]
    }
   ],
   "source": [
    "#Đọc tập dữ liệu Boston House Prices Dataset\n",
    "import sklearn.datasets as datask\n",
    "X, y = datask.load_boston(return_X_y=True)\n",
    "\n",
    "print(type(X))\n",
    "print('Kích thước dữ liệu đầu vào (features):', X.shape)\n",
    "print('Kích thước dữ liệu đầu ra (target):', y.shape)"
   ]
  },
  {
   "cell_type": "code",
   "execution_count": 2,
   "metadata": {},
   "outputs": [
    {
     "name": "stdout",
     "output_type": "stream",
     "text": [
      "Bộ dữ liệu 0 ) [6.320e-03 1.800e+01 2.310e+00 0.000e+00 5.380e-01 6.575e+00 6.520e+01\n",
      " 4.090e+00 1.000e+00 2.960e+02 1.530e+01 3.969e+02 4.980e+00] -- 24.0\n",
      "Bộ dữ liệu 1 ) [2.7310e-02 0.0000e+00 7.0700e+00 0.0000e+00 4.6900e-01 6.4210e+00\n",
      " 7.8900e+01 4.9671e+00 2.0000e+00 2.4200e+02 1.7800e+01 3.9690e+02\n",
      " 9.1400e+00] -- 21.6\n",
      "Bộ dữ liệu 2 ) [2.7290e-02 0.0000e+00 7.0700e+00 0.0000e+00 4.6900e-01 7.1850e+00\n",
      " 6.1100e+01 4.9671e+00 2.0000e+00 2.4200e+02 1.7800e+01 3.9283e+02\n",
      " 4.0300e+00] -- 34.7\n",
      "Bộ dữ liệu 3 ) [3.2370e-02 0.0000e+00 2.1800e+00 0.0000e+00 4.5800e-01 6.9980e+00\n",
      " 4.5800e+01 6.0622e+00 3.0000e+00 2.2200e+02 1.8700e+01 3.9463e+02\n",
      " 2.9400e+00] -- 33.4\n",
      "Bộ dữ liệu 4 ) [6.9050e-02 0.0000e+00 2.1800e+00 0.0000e+00 4.5800e-01 7.1470e+00\n",
      " 5.4200e+01 6.0622e+00 3.0000e+00 2.2200e+02 1.8700e+01 3.9690e+02\n",
      " 5.3300e+00] -- 36.2\n",
      "Bộ dữ liệu 5 ) [2.9850e-02 0.0000e+00 2.1800e+00 0.0000e+00 4.5800e-01 6.4300e+00\n",
      " 5.8700e+01 6.0622e+00 3.0000e+00 2.2200e+02 1.8700e+01 3.9412e+02\n",
      " 5.2100e+00] -- 28.7\n",
      "Bộ dữ liệu 6 ) [8.8290e-02 1.2500e+01 7.8700e+00 0.0000e+00 5.2400e-01 6.0120e+00\n",
      " 6.6600e+01 5.5605e+00 5.0000e+00 3.1100e+02 1.5200e+01 3.9560e+02\n",
      " 1.2430e+01] -- 22.9\n",
      "Bộ dữ liệu 7 ) [1.4455e-01 1.2500e+01 7.8700e+00 0.0000e+00 5.2400e-01 6.1720e+00\n",
      " 9.6100e+01 5.9505e+00 5.0000e+00 3.1100e+02 1.5200e+01 3.9690e+02\n",
      " 1.9150e+01] -- 27.1\n",
      "Bộ dữ liệu 8 ) [2.1124e-01 1.2500e+01 7.8700e+00 0.0000e+00 5.2400e-01 5.6310e+00\n",
      " 1.0000e+02 6.0821e+00 5.0000e+00 3.1100e+02 1.5200e+01 3.8663e+02\n",
      " 2.9930e+01] -- 16.5\n",
      "Bộ dữ liệu 9 ) [1.7004e-01 1.2500e+01 7.8700e+00 0.0000e+00 5.2400e-01 6.0040e+00\n",
      " 8.5900e+01 6.5921e+00 5.0000e+00 3.1100e+02 1.5200e+01 3.8671e+02\n",
      " 1.7100e+01] -- 18.9\n"
     ]
    }
   ],
   "source": [
    "#Hiển thị 10 bộ dữ liệu đầu tiên\n",
    "for i in range(0,10):\n",
    "    print('Bộ dữ liệu',i,')', X[i,:], '--',y[i])"
   ]
  },
  {
   "cell_type": "code",
   "execution_count": 3,
   "metadata": {},
   "outputs": [
    {
     "name": "stdout",
     "output_type": "stream",
     "text": [
      "<class 'numpy.ndarray'>\n",
      "Kích thước dữ liệu đầu vào (features): (150, 4)\n",
      "Kích thước dữ liệu đầu ra (target)   : (150,)\n",
      "Bộ dữ liệu 1)   [4.9 3.  1.4 0.2] -- 0\n",
      "Bộ dữ liệu 55)  [5.7 2.8 4.5 1.3] -- 1\n",
      "Bộ dữ liệu 111) [6.4 2.7 5.3 1.9] -- 2\n"
     ]
    }
   ],
   "source": [
    "#Đọc tập dữ liệu Iris Dataset\n",
    "import sklearn.datasets as datask\n",
    "#Đọc dữ liệu trả về biến array\n",
    "X_iris, y_iris = datask.load_iris(return_X_y=True)\n",
    "\n",
    "print(type(X_iris))\n",
    "print('Kích thước dữ liệu đầu vào (features):', X_iris.shape)\n",
    "print('Kích thước dữ liệu đầu ra (target)   :', y_iris.shape)\n",
    "print('Bộ dữ liệu 1)  ', X_iris[1,:], '--',y_iris[1])\n",
    "print('Bộ dữ liệu 55) ', X_iris[55,:], '--',y_iris[55])\n",
    "print('Bộ dữ liệu 111)', X_iris[111,:], '--',y_iris[111])"
   ]
  },
  {
   "cell_type": "code",
   "execution_count": null,
   "metadata": {},
   "outputs": [],
   "source": [
    "#Hiển thị toàn bộ dữ liệu \n",
    "for i in range(0,150):\n",
    "    print('Bộ dữ liệu',i,')', X_iris[i,:], '--',y_iris[i])"
   ]
  },
  {
   "cell_type": "code",
   "execution_count": 4,
   "metadata": {},
   "outputs": [
    {
     "data": {
      "text/plain": [
       "0      0\n",
       "1      0\n",
       "2      0\n",
       "3      0\n",
       "4      0\n",
       "      ..\n",
       "145    2\n",
       "146    2\n",
       "147    2\n",
       "148    2\n",
       "149    2\n",
       "Name: target, Length: 150, dtype: int32"
      ]
     },
     "execution_count": 4,
     "metadata": {},
     "output_type": "execute_result"
    }
   ],
   "source": [
    "#Tham số as_frame=True\n",
    "\n",
    "import sklearn.datasets as datask\n",
    "#Đọc dữ liệu trả về Dataframe\n",
    "df_iris = datask.load_iris(as_frame=True)\n",
    "df_iris.data\n",
    "df_iris.target"
   ]
  },
  {
   "cell_type": "code",
   "execution_count": null,
   "metadata": {},
   "outputs": [],
   "source": [
    "df_iris.target"
   ]
  },
  {
   "cell_type": "markdown",
   "metadata": {},
   "source": [
    "## Demo basic xây dựng một mô hình học máy trong phân lớp Hoa Lan sử dụng bộ dữ liệu mẫu để huấn luyện mô hình\n",
    "---"
   ]
  },
  {
   "cell_type": "code",
   "execution_count": 5,
   "metadata": {},
   "outputs": [
    {
     "name": "stdout",
     "output_type": "stream",
     "text": [
      "Độ chính xác của tập huấn luyện: 1.0\n"
     ]
    }
   ],
   "source": [
    "#Gọi thư viên thuật toán DecisionTree\n",
    "from sklearn.tree import DecisionTreeClassifier\n",
    "\n",
    "#Xây dựng và huấn luyện với model: Decision Tree\n",
    "clf = DecisionTreeClassifier(random_state=0)\n",
    "\n",
    "# Huấn luyên mô hình với dữ liệu huấn luyện\n",
    "model_tree = clf.fit(X_iris, y_iris)\n",
    "print(\"Độ chính xác của tập huấn luyện:\",model_tree.score(X_iris, y_iris))"
   ]
  },
  {
   "cell_type": "code",
   "execution_count": null,
   "metadata": {},
   "outputs": [],
   "source": [
    "#TRỰC QUAN HÓA CÂY QUYẾT ĐỊNH\n",
    "#Cài đặt thư viện hỗ trợ hiển thị sơ đồ nếu chưa cài đặt\n",
    "!pip install pydotplus"
   ]
  },
  {
   "cell_type": "code",
   "execution_count": 6,
   "metadata": {},
   "outputs": [
    {
     "data": {
      "image/png": "[encoded data removed]",
      "text/plain": [
       "<IPython.core.display.Image object>"
      ]
     },
     "execution_count": 6,
     "metadata": {},
     "output_type": "execute_result"
    }
   ],
   "source": [
    "import pydotplus\n",
    "from IPython.display import Image  \n",
    "import numpy as np\n",
    "from sklearn import tree\n",
    "# Trực quan hóa dữ liệu huấn luyện\n",
    "dot_data = tree.export_graphviz(model_tree, out_file=None, \n",
    "                                feature_names=['sepal_length','sepal_width','petal_length','petal_width'],  \n",
    "                                class_names=['Iris-setosa','Iris-versicolor','Iris-virginica'])\n",
    "\n",
    "# Draw graph\n",
    "graph = pydotplus.graph_from_dot_data(dot_data)  \n",
    "\n",
    "# Show graph\n",
    "Image(graph.create_png())"
   ]
  },
  {
   "cell_type": "code",
   "execution_count": null,
   "metadata": {},
   "outputs": [],
   "source": [
    "###### Sử dụng model được huấn luyện dự đoán cho bộ dữ liệu mới\n",
    "#Thông số bộ dữ liệu mới\n",
    "\n",
    "#sepal length (cm)\tsepal width (cm)\tpetal length (cm)\tpetal width (cm)\n",
    "\n",
    "ts_iris = np.array([8.2,  3.1,  3.9, 0.7])\n",
    "\n",
    "X_new = ts_iris.reshape(1,-1)\n",
    "print(X_new)\n",
    "#Xác định lớp của hoa dựa vào các thông số này trên model đã huấn luyện\n",
    "y_new = model_tree.predict(X_new)\n",
    "\n",
    "if y_new==0:\n",
    "    print('Đây là hoa ',y_new,': Iris-setosa')\n",
    "elif y_new==1:\n",
    "    print('Đây là hoa ',y_new,': Iris-versicolor')\n",
    "else:\n",
    "    print('Đây là hoa ',y_new,': Iris-virginica')"
   ]
  },
  {
   "cell_type": "markdown",
   "metadata": {},
   "source": [
    "## THỰC HÀNH 3\n",
    "---\n",
    "**Yêu cầu 3.1: Học viên tìm hiểu tập dữ liệu mẫu nhận dạng các loại rượu ( Wine recognition dataset).**\n",
    "1. Đọc dữ liệu từ dataset mẫu.\n",
    "2. Xây dựng một mô hình ML theo theo thuật toán Decision Tree.\n"
   ]
  },
  {
   "cell_type": "code",
   "execution_count": null,
   "metadata": {},
   "outputs": [],
   "source": [
    "#{HỌC VIÊN VIẾT CODE YÊU CẦU 5.1 VÀO ĐÂY}\n",
    "\n",
    "\n",
    "\n",
    "\n",
    "\n"
   ]
  },
  {
   "cell_type": "markdown",
   "metadata": {},
   "source": [
    "## 4. Tạo simulated dataset\n",
    "---\n",
    "### 4.1) Simulated Dataset cho bài toán Phân lớp"
   ]
  },
  {
   "cell_type": "code",
   "execution_count": null,
   "metadata": {},
   "outputs": [],
   "source": [
    "#load module datasets trong thư viện sklearn\n",
    "import sklearn.datasets as datask\n",
    "\n",
    "#Tạo dữ liệu mẫu cho bài toán PHÂN LỚP\n",
    "#Với 200 mẫu, đầu vào 5 thuộc tính, phân thành 2 lớp\n",
    "X_features,y_target = datask.make_classification(n_samples=200,\n",
    "                                                 n_features=5,\n",
    "                                                 n_classes=2)\n",
    "print(X_features[:10,:])\n",
    "print(y_target[:10])"
   ]
  },
  {
   "cell_type": "markdown",
   "metadata": {},
   "source": [
    "### 4.2) Simulated Dataset cho bài toán Hồi quy\n",
    "---"
   ]
  },
  {
   "cell_type": "code",
   "execution_count": null,
   "metadata": {},
   "outputs": [],
   "source": [
    "#load module datasets trong thư viện sklearn\n",
    "import sklearn.datasets as datask\n",
    "\n",
    "#Tạo dữ liệu mẫu cho bài toán HỒI QUY\n",
    "X_features, y_target, coff= datask.make_regression(n_samples=200,\n",
    "                                                n_features=5,\n",
    "                                                n_informative=3,\n",
    "                                                n_targets=1,\n",
    "                                                noise=0.0,\n",
    "                                                coef=True,\n",
    "                                                random_state=1)\n",
    "print(X_features[:10,:])\n",
    "print(y_target[:10])"
   ]
  },
  {
   "cell_type": "markdown",
   "metadata": {},
   "source": [
    "### 4.3) Simulated Dataset cho bài toán Phân cụm\n",
    "---"
   ]
  },
  {
   "cell_type": "code",
   "execution_count": null,
   "metadata": {},
   "outputs": [],
   "source": [
    "#load module datasets trong thư viện sklearn\n",
    "import sklearn.datasets as datask\n",
    "\n",
    "#Tạo dữ liệu mẫu cho bài toán PHÂN CỤM\n",
    "X_features, y_target = datask.make_blobs(n_samples=1000,\n",
    "                                         centers=4,\n",
    "                                         n_features=2,\n",
    "                                         random_state=0)\n",
    "print(X_features[:10,:])\n",
    "print(y_target[:10])"
   ]
  },
  {
   "cell_type": "code",
   "execution_count": null,
   "metadata": {},
   "outputs": [],
   "source": [
    "import matplotlib.pyplot as plt\n",
    "#Trực quan hóa các cụm theo dữ liệu simulated\n",
    "plt.scatter(X_features[:,0],X_features[:,1], c=y_target)"
   ]
  },
  {
   "cell_type": "markdown",
   "metadata": {},
   "source": [
    "## THỰC HÀNH 4:\n",
    "---\n",
    "**Yêu cầu 4.1: Học viên tạo một tập dữ liệu mẫu cho bài toán phân lớp theo yêu cầu sau:**\n",
    "1. Dataset mẫu bao gồm: 1000 samples, 8 features, 2 classes.\n",
    "2. Xây dựng một mô hình ML theo theo thuật toán Decision Tree với Dataset tạo được.\n"
   ]
  },
  {
   "cell_type": "code",
   "execution_count": null,
   "metadata": {},
   "outputs": [],
   "source": [
    "#{HỌC VIÊN VIẾT CODE YÊU CẦU 6.1 VÀO ĐÂY}\n",
    "\n",
    "\n",
    "\n",
    "\n",
    "\n",
    "\n",
    "\n"
   ]
  },
  {
   "cell_type": "markdown",
   "metadata": {},
   "source": [
    "**Yêu cầu 4.2: Học viên tạo một tập dữ liệu mẫu cho bài toán phân cụm theo yêu cầu sau:**\n",
    "1. Dataset mẫu bao gồm: 10000 samples, 2 features, 5 centers, cluster_std = 0.7\n",
    "2. Trực quan hóa tập Dataset ở trên lên biểu đồ.\n",
    "3. Thay đổi tham số cluster_std trong khoảng từ [0-1.0], nhận xét kết quả thu được"
   ]
  },
  {
   "cell_type": "code",
   "execution_count": null,
   "metadata": {},
   "outputs": [],
   "source": [
    "#{HỌC VIÊN VIẾT CODE YÊU CẦU 6.2 VÀO ĐÂY}\n",
    "\n",
    "\n",
    "\n",
    "\n",
    "\n",
    "\n",
    "\n",
    "\n"
   ]
  }
 ],
 "metadata": {
  "kernelspec": {
   "display_name": "Python 3",
   "language": "python",
   "name": "python3"
  },
  "language_info": {
   "codemirror_mode": {
    "name": "ipython",
    "version": 3
   },
   "file_extension": ".py",
   "mimetype": "text/x-python",
   "name": "python",
   "nbconvert_exporter": "python",
   "pygments_lexer": "ipython3",
   "version": "3.8.3"
  }
 },
 "nbformat": 4,
 "nbformat_minor": 2
}
