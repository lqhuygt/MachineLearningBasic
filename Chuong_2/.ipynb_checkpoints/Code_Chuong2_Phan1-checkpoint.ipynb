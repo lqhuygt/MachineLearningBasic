{
 "cells": [
  {
   "cell_type": "markdown",
   "metadata": {},
   "source": [
    "## MÔN HỌC: KỸ NGHỆ TRI THỨC VÀ HỌC MÁY\n",
    "-----\n",
    "Chương 02 - Làm việc với dữ liệu từ các nguồn khác nhau\n",
    "----\n",
    "Giảng Viên: Đặng Văn Nam\n",
    "\n",
    "Email: dangvannam@humg.edu.vn"
   ]
  },
  {
   "cell_type": "markdown",
   "metadata": {},
   "source": [
    "## 1) Giới thiệu\n",
    "---\n",
    "Để có thể phân tích dữ liệu cho bất kỳ mục đích gì, bước đầu tiên bao giờ cũng phải thu thập và đọc dữ liệu từ tất cả các nguồn, các dạng khác nhau.\n",
    "\n",
    "Dữ liệu tồn tại trong rất nhiều dạng khác nhau, từ dữ liệu trong các file cơ bản như Excel, CSV, text, Json, XML…hay lưu trữ trong các CSDL. Dữ liệu còn có thể được cung cập thông qua các API. \n",
    "\n",
    "Trong bài học này chúng ta sẽ tìm hiểu cách đọc dữ liệu từ một số dạng cơ bản và phổ biến nhất."
   ]
  },
  {
   "cell_type": "markdown",
   "metadata": {},
   "source": [
    "# 2.Read data with Pandas\n",
    "---\n",
    "## 2.1) Pandas"
   ]
  },
  {
   "cell_type": "code",
   "execution_count": null,
   "metadata": {},
   "outputs": [],
   "source": [
    "#Kiểm tra phiên bản của thư viện Pandas\n",
    "import pandas as pd\n",
    "print('Version Pandas: ',pd.__version__)"
   ]
  },
  {
   "cell_type": "markdown",
   "metadata": {},
   "source": [
    "## 2.2 Load data from .CSV\n",
    "---"
   ]
  },
  {
   "cell_type": "code",
   "execution_count": null,
   "metadata": {},
   "outputs": [],
   "source": [
    "import pandas as pd\n",
    "path = 'Data_Excercise\\csv_Data_BMI.csv'\n",
    "#Sử dụng phương thức read_csv\n",
    "data = pd.read_csv(path)\n",
    "#Hiển thị thông tin biến Data\n",
    "data.info()"
   ]
  },
  {
   "cell_type": "code",
   "execution_count": null,
   "metadata": {},
   "outputs": [],
   "source": [
    "#Hiển thị 5 dòng dữ liệu đầu tiên\n",
    "data.head()"
   ]
  },
  {
   "cell_type": "code",
   "execution_count": null,
   "metadata": {},
   "outputs": [],
   "source": [
    "#Hiển thị 5 dòng dữ liệu cuối cùng\n",
    "data.tail()"
   ]
  },
  {
   "cell_type": "markdown",
   "metadata": {},
   "source": [
    "**Ví Dụ 1:**"
   ]
  },
  {
   "cell_type": "code",
   "execution_count": null,
   "metadata": {},
   "outputs": [],
   "source": [
    "#Sử dụng phương thức read_csv()\n",
    "#Tham số: Thiết lập cột index là cột Personal\n",
    "data1 = pd.read_csv(path,\n",
    "                    index_col=0)\n",
    "data1.info()"
   ]
  },
  {
   "cell_type": "code",
   "execution_count": null,
   "metadata": {},
   "outputs": [],
   "source": [
    "#Hiển thị dữ liệu 5 dòng đầu tiên\n",
    "data1.head()"
   ]
  },
  {
   "cell_type": "markdown",
   "metadata": {},
   "source": [
    "**Ví Dụ 2:**"
   ]
  },
  {
   "cell_type": "code",
   "execution_count": null,
   "metadata": {},
   "outputs": [],
   "source": [
    "#Sử dụng phương thức read_csv()\n",
    "#Thiết lập số hàng, cột muốn đọc dữ liệu\n",
    "data2 = pd.read_csv(path,\n",
    "                    nrows=100,\n",
    "                    usecols=['Height_cm', 'Weight_kg'])\n",
    "data2.info()"
   ]
  },
  {
   "cell_type": "code",
   "execution_count": null,
   "metadata": {},
   "outputs": [],
   "source": [
    "#Hiển thị dữ liệu 5 dòng đầu tiên\n",
    "data2.head()"
   ]
  },
  {
   "cell_type": "markdown",
   "metadata": {},
   "source": [
    "**Ví dụ 3:**"
   ]
  },
  {
   "cell_type": "code",
   "execution_count": null,
   "metadata": {},
   "outputs": [],
   "source": [
    "#Thiết lập tham số đọc dữ liệu từ dòng thứ 5 trong file\n",
    "#và đặt lại tên của các cột dữ liệu\n",
    "data3 = pd.read_csv(path,\n",
    "                    names=['ID','Sex','H(cm)','W(kg)'],\n",
    "                    skiprows=5)\n",
    "data3.info()"
   ]
  },
  {
   "cell_type": "code",
   "execution_count": null,
   "metadata": {},
   "outputs": [],
   "source": [
    "#Hiển thị 5 dòng dữ liệu đầu tiên\n",
    "data3.head()"
   ]
  },
  {
   "cell_type": "code",
   "execution_count": null,
   "metadata": {},
   "outputs": [],
   "source": []
  },
  {
   "cell_type": "markdown",
   "metadata": {},
   "source": [
    "## THỰC HÀNH 2.2\n",
    "---\n",
    "**Yêu cầu 2.2.1: Học viên đọc dữ liệu dạng CSV lưu trong file Data_Loan.csv với các tham số mặc định**\n"
   ]
  },
  {
   "cell_type": "code",
   "execution_count": null,
   "metadata": {},
   "outputs": [],
   "source": [
    "#{HỌC VIÊN VIẾT CODE YÊU CẦU 2.2.1 VÀO ĐÂY}\n",
    "\n",
    "\n",
    "\n",
    "\n",
    "\n"
   ]
  },
  {
   "cell_type": "markdown",
   "metadata": {},
   "source": [
    "**Yêu cầu 2.2.2: Đọc dữ liệu từ file Data_Loan.CSV vào 2 biến DataFrame tương ứng**\n",
    "1. df_number: Chỉ chứa các cột dữ liệu số\n",
    "2. df_object: Chỉ chứa các cột dữ liệu Object\n"
   ]
  },
  {
   "cell_type": "code",
   "execution_count": null,
   "metadata": {},
   "outputs": [],
   "source": [
    "#{HỌC VIÊN VIẾT CODE YÊU CẦU 2.2.2 VÀO ĐÂY}\n",
    "\n",
    "\n",
    "\n",
    "\n"
   ]
  },
  {
   "cell_type": "markdown",
   "metadata": {},
   "source": [
    "## 2.3 Load data from Excel\n",
    "---"
   ]
  },
  {
   "cell_type": "code",
   "execution_count": null,
   "metadata": {},
   "outputs": [],
   "source": [
    "import pandas as pd\n",
    "path_excel = 'Data_Excercise\\excel_Data_Point.xlsx'\n",
    "#Đọc dữ liệu từ file excel\n",
    "data_ex = pd.read_excel(path_excel)\n",
    "data_ex.info()"
   ]
  },
  {
   "cell_type": "code",
   "execution_count": null,
   "metadata": {},
   "outputs": [],
   "source": [
    "#Hiển thị 5 dòng dữ liệu đầu tiên\n",
    "data_ex.head()"
   ]
  },
  {
   "cell_type": "code",
   "execution_count": null,
   "metadata": {},
   "outputs": [],
   "source": [
    "#Ví dụ:\n",
    "#Đọc dữ liệu tại sheet đầu tiên, \n",
    "#Chỉ lấy dữ liệu cột Mã SV và các cột điểm \n",
    "#Thiết lập cột đầu tiên làm index\n",
    "data_ex1 = pd.read_excel(path_excel,\n",
    "                        sheet_name=0,\n",
    "                        usecols=[1,6,7,8,9,10],\n",
    "                        index_col=0)\n",
    "data_ex1.info()"
   ]
  },
  {
   "cell_type": "code",
   "execution_count": null,
   "metadata": {},
   "outputs": [],
   "source": [
    "#Hiển thị 5 dòng dữ liệu đầu tiên\n",
    "data_ex1.head()"
   ]
  },
  {
   "cell_type": "code",
   "execution_count": null,
   "metadata": {},
   "outputs": [],
   "source": [
    "#Ví dụ 2:\n",
    "#Đọc dữ liệu tại sheet 2, \n",
    "#Trường hợp: sử dụng các tham số mặc định\n",
    "data_ex2 = pd.read_excel(path_excel,\n",
    "                        sheet_name=1)\n",
    "data_ex2.info()"
   ]
  },
  {
   "cell_type": "code",
   "execution_count": null,
   "metadata": {},
   "outputs": [],
   "source": [
    "#dữ liệu chứa toàn bộ cả phần tiêu đề\n",
    "data_ex2.head(10)"
   ]
  },
  {
   "cell_type": "code",
   "execution_count": null,
   "metadata": {},
   "outputs": [],
   "source": [
    "#Ví dụ 3:\n",
    "#Đọc dữ liệu tại sheet '4080130_02',từ dòng 9\n",
    "data_ex3 = pd.read_excel(path_excel,\n",
    "                         sheet_name='4080130_02',\n",
    "                         skiprows=9)\n",
    "data_ex3.info()"
   ]
  },
  {
   "cell_type": "code",
   "execution_count": null,
   "metadata": {},
   "outputs": [],
   "source": [
    "#Hiển thị 5 dòng dữ liệu đầu tiên\n",
    "data_ex3.head()"
   ]
  },
  {
   "cell_type": "code",
   "execution_count": null,
   "metadata": {},
   "outputs": [],
   "source": [
    "#Ví dụ 4\n",
    "#Đọc dữ liệu từ sheet: '4080130_03'\n",
    "#Dữ liệu không chứa dòng header\n",
    "data_ex4 = pd.read_excel(path_excel,\n",
    "                        sheet_name='4080130_03',\n",
    "                        header=None)\n",
    "data_ex4.info()"
   ]
  },
  {
   "cell_type": "code",
   "execution_count": null,
   "metadata": {},
   "outputs": [],
   "source": [
    "#Hiển thị 5 dòng dữ liệu đầu tiên\n",
    "data_ex4.head()"
   ]
  },
  {
   "cell_type": "code",
   "execution_count": null,
   "metadata": {},
   "outputs": [],
   "source": [
    "#Ví dụ 4.1\n",
    "#Đọc dữ liệu từ sheet: '4080130_03'\n",
    "#Dữ liệu không chứa dòng header\n",
    "#Đặt tên cho các cột\n",
    "data_ex41 = pd.read_excel(path_excel,\n",
    "                        sheet_name='4080130_03',\n",
    "                        header=None,\n",
    "                        usecols=[1,6,7,8,9,10],\n",
    "                        names=['Mã SV','A','B1','B2','C1','C2'],\n",
    "                        index_col=0)\n",
    "data_ex41.info()"
   ]
  },
  {
   "cell_type": "code",
   "execution_count": null,
   "metadata": {},
   "outputs": [],
   "source": [
    "#Hiển thị 5 dòng dữ liệu đầu tiên\n",
    "data_ex41.head()"
   ]
  },
  {
   "cell_type": "markdown",
   "metadata": {},
   "source": [
    "## THỰC HÀNH 2.3\n",
    "---"
   ]
  },
  {
   "cell_type": "code",
   "execution_count": null,
   "metadata": {},
   "outputs": [],
   "source": [
    "#{HỌC VIÊN VIẾT CODE YÊU CẦU 2.3 VÀO ĐÂY}\n",
    "\n",
    "\n",
    "\n",
    "\n",
    "\n",
    "\n",
    "\n"
   ]
  },
  {
   "cell_type": "markdown",
   "metadata": {},
   "source": [
    "## 2.4 Load data from Json\n",
    "---"
   ]
  },
  {
   "cell_type": "code",
   "execution_count": null,
   "metadata": {},
   "outputs": [],
   "source": [
    "import pandas as pd\n",
    "path_json = 'Data_Excercise\\json_Data_product.json'\n",
    "#Đọc dữ liệu từ file Json vào biến DataFrame\n",
    "#Sử dụng các tham số mặc định\n",
    "data_json = pd.read_json(path_json)\n",
    "data_json"
   ]
  },
  {
   "cell_type": "code",
   "execution_count": null,
   "metadata": {},
   "outputs": [],
   "source": [
    "#Đọc dữ liệu từ file Json vào biến DataFrame\n",
    "#Sử dụng tham số orient='index'\n",
    "data_json1 = pd.read_json(path_json, orient='index')\n",
    "data_json1"
   ]
  },
  {
   "cell_type": "code",
   "execution_count": null,
   "metadata": {},
   "outputs": [],
   "source": [
    "#Hoặc Sử dụng thư viện json làm việc với dữ liệu json\n",
    "import json\n",
    "with open(path_json, 'r') as myfile:\n",
    "    data=myfile.read()\n",
    "\n",
    "# Đọc dữ liệu vào biến obj\n",
    "obj = json.loads(data)\n",
    "type(obj)"
   ]
  },
  {
   "cell_type": "code",
   "execution_count": null,
   "metadata": {},
   "outputs": [],
   "source": [
    "#Lấy giá trị của key = 'Product'\n",
    "obj['Product']"
   ]
  },
  {
   "cell_type": "code",
   "execution_count": null,
   "metadata": {},
   "outputs": [],
   "source": [
    "#Lấy giá trị của key = 'Price'\n",
    "obj['Price']"
   ]
  },
  {
   "cell_type": "markdown",
   "metadata": {},
   "source": [
    "### THỰC HÀNH 2.4\n",
    "---"
   ]
  },
  {
   "cell_type": "code",
   "execution_count": null,
   "metadata": {},
   "outputs": [],
   "source": [
    "#{HỌC VIÊN VIẾT CODE YÊU CẦU 2.4 VÀO ĐÂY}\n",
    "\n",
    "\n",
    "\n",
    "\n",
    "\n",
    "\n",
    "\n",
    "\n"
   ]
  },
  {
   "cell_type": "markdown",
   "metadata": {},
   "source": [
    "## 3. Tải dữ liệu mẫu từ Sklearn\n",
    "---"
   ]
  },
  {
   "cell_type": "code",
   "execution_count": null,
   "metadata": {},
   "outputs": [],
   "source": [
    "#Đọc tập dữ liệu Boston House Prices Dataset\n",
    "import sklearn.datasets as datask\n",
    "X, y = datask.load_boston(return_X_y=True)\n",
    "\n",
    "print(type(X))\n",
    "print('Kích thước dữ liệu đầu vào (features):', X.shape)\n",
    "print('Kích thước dữ liệu đầu ra (target):', y.shape)"
   ]
  },
  {
   "cell_type": "code",
   "execution_count": null,
   "metadata": {},
   "outputs": [],
   "source": [
    "#Hiển thị 10 bộ dữ liệu đầu tiên\n",
    "for i in range(0,10):\n",
    "    print('Bộ dữ liệu',i,')', X[i,:], '--',y[i])"
   ]
  },
  {
   "cell_type": "code",
   "execution_count": null,
   "metadata": {},
   "outputs": [],
   "source": [
    "#Đọc tập dữ liệu Iris Dataset\n",
    "import sklearn.datasets as datask\n",
    "#Đọc dữ liệu trả về biến array\n",
    "X_iris, y_iris = datask.load_iris(return_X_y=True)\n",
    "\n",
    "print(type(X_iris))\n",
    "print('Kích thước dữ liệu đầu vào (features):', X_iris.shape)\n",
    "print('Kích thước dữ liệu đầu ra (target)   :', y_iris.shape)\n",
    "print('Bộ dữ liệu 1)  ', X_iris[1,:], '--',y_iris[1])\n",
    "print('Bộ dữ liệu 55) ', X_iris[55,:], '--',y_iris[55])\n",
    "print('Bộ dữ liệu 111)', X_iris[111,:], '--',y_iris[111])"
   ]
  },
  {
   "cell_type": "code",
   "execution_count": null,
   "metadata": {},
   "outputs": [],
   "source": [
    "#Hiển thị toàn bộ dữ liệu \n",
    "for i in range(0,150):\n",
    "    print('Bộ dữ liệu',i,')', X_iris[i,:], '--',y_iris[i])"
   ]
  },
  {
   "cell_type": "code",
   "execution_count": null,
   "metadata": {},
   "outputs": [],
   "source": [
    "#Tham số as_frame=True\n",
    "\n",
    "import sklearn.datasets as datask\n",
    "#Đọc dữ liệu trả về Dataframe\n",
    "df_iris = datask.load_iris(as_frame=True)\n",
    "df_iris.data\n",
    "df_iris.target"
   ]
  },
  {
   "cell_type": "code",
   "execution_count": null,
   "metadata": {},
   "outputs": [],
   "source": [
    "df_iris.target"
   ]
  },
  {
   "cell_type": "markdown",
   "metadata": {},
   "source": [
    "## Demo basic xây dựng một mô hình học máy trong phân lớp Hoa Lan sử dụng bộ dữ liệu mẫu để huấn luyện mô hình\n",
    "---"
   ]
  },
  {
   "cell_type": "code",
   "execution_count": null,
   "metadata": {},
   "outputs": [],
   "source": [
    "#Gọi thư viên thuật toán DecisionTree\n",
    "from sklearn.tree import DecisionTreeClassifier\n",
    "\n",
    "#Xây dựng và huấn luyện với model: Decision Tree\n",
    "clf = DecisionTreeClassifier(random_state=0)\n",
    "\n",
    "# Huấn luyên mô hình với dữ liệu huấn luyện\n",
    "model_tree = clf.fit(X_iris, y_iris)\n",
    "print(\"Độ chính xác của tập huấn luyện:\",model_tree.score(X_iris, y_iris))"
   ]
  },
  {
   "cell_type": "code",
   "execution_count": null,
   "metadata": {},
   "outputs": [],
   "source": [
    "#TRỰC QUAN HÓA CÂY QUYẾT ĐỊNH\n",
    "#Cài đặt thư viện hỗ trợ hiển thị sơ đồ nếu chưa cài đặt\n",
    "!pip install pydotplus"
   ]
  },
  {
   "cell_type": "code",
   "execution_count": null,
   "metadata": {},
   "outputs": [],
   "source": [
    "import pydotplus\n",
    "from IPython.display import Image  \n",
    "import numpy as np\n",
    "from sklearn import tree\n",
    "# Trực quan hóa dữ liệu huấn luyện\n",
    "dot_data = tree.export_graphviz(model_tree, out_file=None, \n",
    "                                feature_names=['sepal_length','sepal_width','petal_length','petal_width'],  \n",
    "                                class_names=['Iris-setosa','Iris-versicolor','Iris-virginica'])\n",
    "\n",
    "# Draw graph\n",
    "graph = pydotplus.graph_from_dot_data(dot_data)  \n",
    "\n",
    "# Show graph\n",
    "Image(graph.create_png())"
   ]
  },
  {
   "cell_type": "code",
   "execution_count": null,
   "metadata": {},
   "outputs": [],
   "source": [
    "###### Sử dụng model được huấn luyện dự đoán cho bộ dữ liệu mới\n",
    "#Thông số bộ dữ liệu mới\n",
    "\n",
    "#sepal length (cm)\tsepal width (cm)\tpetal length (cm)\tpetal width (cm)\n",
    "\n",
    "ts_iris = np.array([8.2,  3.1,  3.9, 0.7])\n",
    "\n",
    "X_new = ts_iris.reshape(1,-1)\n",
    "print(X_new)\n",
    "#Xác định lớp của hoa dựa vào các thông số này trên model đã huấn luyện\n",
    "y_new = model_tree.predict(X_new)\n",
    "\n",
    "if y_new==0:\n",
    "    print('Đây là hoa ',y_new,': Iris-setosa')\n",
    "elif y_new==1:\n",
    "    print('Đây là hoa ',y_new,': Iris-versicolor')\n",
    "else:\n",
    "    print('Đây là hoa ',y_new,': Iris-virginica')"
   ]
  },
  {
   "cell_type": "markdown",
   "metadata": {},
   "source": [
    "## THỰC HÀNH 3\n",
    "---\n",
    "**Yêu cầu 3.1: Học viên tìm hiểu tập dữ liệu mẫu nhận dạng các loại rượu ( Wine recognition dataset).**\n",
    "1. Đọc dữ liệu từ dataset mẫu.\n",
    "2. Xây dựng một mô hình ML theo theo thuật toán Decision Tree.\n"
   ]
  },
  {
   "cell_type": "code",
   "execution_count": null,
   "metadata": {},
   "outputs": [],
   "source": [
    "#{HỌC VIÊN VIẾT CODE YÊU CẦU 5.1 VÀO ĐÂY}\n",
    "\n",
    "\n",
    "\n",
    "\n",
    "\n"
   ]
  },
  {
   "cell_type": "markdown",
   "metadata": {},
   "source": [
    "## 4. Tạo simulated dataset\n",
    "---\n",
    "### 4.1) Simulated Dataset cho bài toán Phân lớp"
   ]
  },
  {
   "cell_type": "code",
   "execution_count": null,
   "metadata": {},
   "outputs": [],
   "source": [
    "#load module datasets trong thư viện sklearn\n",
    "import sklearn.datasets as datask\n",
    "\n",
    "#Tạo dữ liệu mẫu cho bài toán PHÂN LỚP\n",
    "#Với 200 mẫu, đầu vào 5 thuộc tính, phân thành 2 lớp\n",
    "X_features,y_target = datask.make_classification(n_samples=200,\n",
    "                                                 n_features=5,\n",
    "                                                 n_classes=2)\n",
    "print(X_features[:10,:])\n",
    "print(y_target[:10])"
   ]
  },
  {
   "cell_type": "markdown",
   "metadata": {},
   "source": [
    "### 4.2) Simulated Dataset cho bài toán Hồi quy\n",
    "---"
   ]
  },
  {
   "cell_type": "code",
   "execution_count": null,
   "metadata": {},
   "outputs": [],
   "source": [
    "#load module datasets trong thư viện sklearn\n",
    "import sklearn.datasets as datask\n",
    "\n",
    "#Tạo dữ liệu mẫu cho bài toán HỒI QUY\n",
    "X_features, y_target, coff= datask.make_regression(n_samples=200,\n",
    "                                                n_features=5,\n",
    "                                                n_informative=3,\n",
    "                                                n_targets=1,\n",
    "                                                noise=0.0,\n",
    "                                                coef=True,\n",
    "                                                random_state=1)\n",
    "print(X_features[:10,:])\n",
    "print(y_target[:10])"
   ]
  },
  {
   "cell_type": "markdown",
   "metadata": {},
   "source": [
    "### 4.3) Simulated Dataset cho bài toán Phân cụm\n",
    "---"
   ]
  },
  {
   "cell_type": "code",
   "execution_count": null,
   "metadata": {},
   "outputs": [],
   "source": [
    "#load module datasets trong thư viện sklearn\n",
    "import sklearn.datasets as datask\n",
    "\n",
    "#Tạo dữ liệu mẫu cho bài toán PHÂN CỤM\n",
    "X_features, y_target = datask.make_blobs(n_samples=1000,\n",
    "                                         centers=4,\n",
    "                                         n_features=2,\n",
    "                                         random_state=0)\n",
    "print(X_features[:10,:])\n",
    "print(y_target[:10])"
   ]
  },
  {
   "cell_type": "code",
   "execution_count": null,
   "metadata": {},
   "outputs": [],
   "source": [
    "import matplotlib.pyplot as plt\n",
    "#Trực quan hóa các cụm theo dữ liệu simulated\n",
    "plt.scatter(X_features[:,0],X_features[:,1], c=y_target)"
   ]
  },
  {
   "cell_type": "markdown",
   "metadata": {},
   "source": [
    "## THỰC HÀNH 4:\n",
    "---\n",
    "**Yêu cầu 4.1: Học viên tạo một tập dữ liệu mẫu cho bài toán phân lớp theo yêu cầu sau:**\n",
    "1. Dataset mẫu bao gồm: 1000 samples, 8 features, 2 classes.\n",
    "2. Xây dựng một mô hình ML theo theo thuật toán Decision Tree với Dataset tạo được.\n"
   ]
  },
  {
   "cell_type": "code",
   "execution_count": null,
   "metadata": {},
   "outputs": [],
   "source": [
    "#{HỌC VIÊN VIẾT CODE YÊU CẦU 6.1 VÀO ĐÂY}\n",
    "\n",
    "\n",
    "\n",
    "\n",
    "\n",
    "\n",
    "\n"
   ]
  },
  {
   "cell_type": "markdown",
   "metadata": {},
   "source": [
    "**Yêu cầu 4.2: Học viên tạo một tập dữ liệu mẫu cho bài toán phân cụm theo yêu cầu sau:**\n",
    "1. Dataset mẫu bao gồm: 10000 samples, 2 features, 5 centers, cluster_std = 0.7\n",
    "2. Trực quan hóa tập Dataset ở trên lên biểu đồ.\n",
    "3. Thay đổi tham số cluster_std trong khoảng từ [0-1.0], nhận xét kết quả thu được"
   ]
  },
  {
   "cell_type": "code",
   "execution_count": null,
   "metadata": {},
   "outputs": [],
   "source": [
    "#{HỌC VIÊN VIẾT CODE YÊU CẦU 6.2 VÀO ĐÂY}\n",
    "\n",
    "\n",
    "\n",
    "\n",
    "\n",
    "\n",
    "\n",
    "\n"
   ]
  }
 ],
 "metadata": {
  "kernelspec": {
   "display_name": "Python 3",
   "language": "python",
   "name": "python3"
  },
  "language_info": {
   "codemirror_mode": {
    "name": "ipython",
    "version": 3
   },
   "file_extension": ".py",
   "mimetype": "text/x-python",
   "name": "python",
   "nbconvert_exporter": "python",
   "pygments_lexer": "ipython3",
   "version": "3.8.3"
  }
 },
 "nbformat": 4,
 "nbformat_minor": 2
}
