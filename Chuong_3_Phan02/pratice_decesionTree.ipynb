{
 "cells": [
  {
   "cell_type": "code",
   "execution_count": 3,
   "metadata": {},
   "outputs": [
    {
     "name": "stdout",
     "output_type": "stream",
     "text": [
      "<class 'numpy.ndarray'>\n",
      "kích thước của X_wine:  (178, 13)\n",
      "kích thước của y_wine:  (178,)\n"
     ]
    }
   ],
   "source": [
    "import sklearn.datasets as datask\n",
    "X_wine, y_wine = datask.load_wine(return_X_y = True)\n",
    "print(type(X_wine))\n",
    "print(\"kích thước của X_wine: \",X_wine.shape)\n",
    "print(\"kích thước của y_wine: \",y_wine.shape)"
   ]
  },
  {
   "cell_type": "code",
   "execution_count": 22,
   "metadata": {},
   "outputs": [
    {
     "name": "stdout",
     "output_type": "stream",
     "text": [
      "Kích thước tập train:  160\n",
      "Kích thước tập test:  18\n"
     ]
    }
   ],
   "source": [
    "#Tách tập dữ liệu thành 2 phần train test tỉ lệ 80-20\n",
    "from sklearn.model_selection import train_test_split\n",
    "\n",
    "X_train, X_test, y_train, y_test = train_test_split(X_wine, y_wine, test_size=0.1, random_state=0)\n",
    "print(\"Kích thước tập train: \",len(y_train))\n",
    "print(\"Kích thước tập test: \",len(y_test))"
   ]
  },
  {
   "cell_type": "code",
   "execution_count": 23,
   "metadata": {},
   "outputs": [
    {
     "name": "stdout",
     "output_type": "stream",
     "text": [
      "Độ chính xác trên tập huấn luyện:  1.0\n"
     ]
    }
   ],
   "source": [
    "#trainning model\n",
    "from sklearn.tree import DecisionTreeClassifier\n",
    "\n",
    "model_tree = DecisionTreeClassifier(criterion = 'entropy', splitter='random', random_state=0)\n",
    "model_tree.fit(X_train,y_train)\n",
    "print(\"Độ chính xác trên tập huấn luyện: \", model_tree.score(X_train,y_train))"
   ]
  },
  {
   "cell_type": "code",
   "execution_count": 27,
   "metadata": {},
   "outputs": [
    {
     "name": "stdout",
     "output_type": "stream",
     "text": [
      "Độ chính xác khi dự đoán là:  1.0\n",
      "groud truth:  [0 2 1 0 1 1 0 2 1 1 2 2 0 1 2 1 0 0]\n",
      "predict label:  [0 2 1 0 1 1 0 2 1 1 2 2 0 1 2 1 0 0]\n"
     ]
    }
   ],
   "source": [
    "#dự đoán\n",
    "predict = model_tree.predict(X_test)\n",
    "\n",
    "from sklearn.metrics import accuracy_score\n",
    "# đánh giá độ chính xác khi dự đoán\n",
    "acc = accuracy_score(predict,y_test)\n",
    "print(\"Độ chính xác khi dự đoán là: \",acc)\n",
    "print(\"groud truth: \", y_test)\n",
    "print(\"predict label: \", predict)"
   ]
  },
  {
   "cell_type": "code",
   "execution_count": 25,
   "metadata": {},
   "outputs": [
    {
     "name": "stdout",
     "output_type": "stream",
     "text": [
      "Độ sâu của cây quyết định:  8\n"
     ]
    }
   ],
   "source": [
    "print(\"Độ sâu của cây quyết định: \", model_tree.get_depth())"
   ]
  },
  {
   "cell_type": "code",
   "execution_count": 28,
   "metadata": {},
   "outputs": [
    {
     "name": "stdout",
     "output_type": "stream",
     "text": [
      "Số nút lá của cây quyết định của cây quyết định:  18\n"
     ]
    }
   ],
   "source": [
    "print(\"Số nút lá của cây quyết định của cây quyết định: \", model_tree.get_n_leaves())"
   ]
  },
  {
   "cell_type": "code",
   "execution_count": 56,
   "metadata": {},
   "outputs": [],
   "source": [
    "import numpy as np\n",
    "def pred_wine(model_tree,Alcohol, Malic_acid, Ash, Alcalinity_of_ash, Magnesium, Total_phenols, Nonflavanoid_phenols,\n",
    "             Flavanoids, Proanthocyanins, Color_intensity, Hue, OD280_OD315_of_diluted_wines, Proline):\n",
    "    new = np.array([[Alcohol, Malic_acid, Ash, Alcalinity_of_ash, Magnesium, Total_phenols, Nonflavanoid_phenols,\n",
    "             Flavanoids, Proanthocyanins, Color_intensity, Hue, OD280_OD315_of_diluted_wines, Proline]])\n",
    "    pre_model = model_tree.predict(new)\n",
    "    if pre_model == 0:\n",
    "        return \"Class 0\"\n",
    "    elif pre_model == 1:\n",
    "        return \"Class 1\"\n",
    "    else:\n",
    "        return \"Class 2\"\n",
    "        \n",
    "        \n",
    "        "
   ]
  },
  {
   "cell_type": "code",
   "execution_count": 57,
   "metadata": {},
   "outputs": [
    {
     "data": {
      "text/plain": [
       "'Class 1'"
      ]
     },
     "execution_count": 57,
     "metadata": {},
     "output_type": "execute_result"
    }
   ],
   "source": [
    "\n",
    "Alcohol= 12.7\n",
    "Malic_acid=3.05\n",
    "Ash=1.88\n",
    "Alcalinity_of_ash=28.8\n",
    "Magnesium=101.1\n",
    "Total_phenols=2.88\n",
    "Nonflavanoid_phenols=3.88\n",
    "Flavanoids=0.44\n",
    "Proanthocyanins=2.88\n",
    "Color_intensity=8.8\n",
    "Hue=1.48\n",
    "OD280_OD315_of_diluted_wines=3.88\n",
    "Proline=888\n",
    "pred_wine(model_tree,Alcohol,Malic_acid,Ash,Alcalinity_of_ash,Magnesium,Total_phenols,Flavanoids,Proanthocyanins,Color_intensity\n",
    "         ,Hue,OD280_OD315_of_diluted_wines,Proline,Nonflavanoid_phenols)"
   ]
  },
  {
   "cell_type": "code",
   "execution_count": null,
   "metadata": {},
   "outputs": [],
   "source": []
  }
 ],
 "metadata": {
  "kernelspec": {
   "display_name": "Python 3",
   "language": "python",
   "name": "python3"
  },
  "language_info": {
   "codemirror_mode": {
    "name": "ipython",
    "version": 3
   },
   "file_extension": ".py",
   "mimetype": "text/x-python",
   "name": "python",
   "nbconvert_exporter": "python",
   "pygments_lexer": "ipython3",
   "version": "3.8.5"
  }
 },
 "nbformat": 4,
 "nbformat_minor": 4
}
