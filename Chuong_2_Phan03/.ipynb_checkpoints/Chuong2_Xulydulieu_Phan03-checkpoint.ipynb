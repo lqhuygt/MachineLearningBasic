{
 "cells": [
  {
   "cell_type": "markdown",
   "metadata": {},
   "source": [
    "## KHÓA HỌC: KỸ NGHỆ TRI THỨC VÀ HỌC MÁY\n",
    "-----\n",
    "Chương 2 - Thu thập và chuẩn bị dữu liệu - Phần 03\n",
    "----\n",
    "Giảng Viên: Đặng Văn Nam\n",
    "\n",
    "Email: dangvannam@humg.edu.vn"
   ]
  },
  {
   "cell_type": "markdown",
   "metadata": {},
   "source": [
    "# Nội dung bài học\n",
    "---\n",
    "1. Xóa cột/hàng trong Dataframe\n",
    "2. Xử lý hàng trùng lặp (Duplicate rows)\n",
    "3. Sắp xếp trong DataFrame\n",
    "4. Nhóm các hàng trong DataFrame dựa vào giá trị (Groupby)\n",
    "5. Áp dụng hàm cho các phần tử trong một cột (Apply)\n",
    "6. Ghép nối các DataFrame (Concatenating)\n",
    "7. Trộn các DataFrame (Merging)\n",
    "8. Ví dụ xử lý dữ liệu"
   ]
  },
  {
   "cell_type": "markdown",
   "metadata": {},
   "source": [
    "# 1) Xóa cột/hàng trong DataFrame\n",
    "---"
   ]
  },
  {
   "cell_type": "code",
   "execution_count": null,
   "metadata": {},
   "outputs": [],
   "source": [
    "#Khai báo sử dụng thư viện\n",
    "import pandas as pd\n",
    "import numpy as np\n",
    "import matplotlib.pyplot as plt"
   ]
  },
  {
   "cell_type": "code",
   "execution_count": null,
   "metadata": {},
   "outputs": [],
   "source": [
    "#Đọc dữ liệu mẫu được lưu trữ trong file csv\n",
    "path='Data_Excercise\\csv_Data_Loan.csv'\n",
    "df_loan=pd.read_csv(path)\n",
    "df_loan.head()"
   ]
  },
  {
   "cell_type": "code",
   "execution_count": null,
   "metadata": {},
   "outputs": [],
   "source": [
    "#Quan sát dữ liệu biến DataFrame\n",
    "df_loan.info()"
   ]
  },
  {
   "cell_type": "code",
   "execution_count": null,
   "metadata": {},
   "outputs": [],
   "source": [
    "#Xử dụng .drop(axis=1|columns) để xóa cột\n",
    "#Xóa một số cột trong df_loan\n",
    "df_loan1 = df_loan.drop(['annual_inc',\n",
    "                         'dti','delinq_2yrs',\n",
    "                         'revol_util',\n",
    "                         'longest_credit_length',\n",
    "                         'verification_status'], axis=1)\n",
    "df_loan1.info()"
   ]
  },
  {
   "cell_type": "code",
   "execution_count": null,
   "metadata": {},
   "outputs": [],
   "source": [
    "df_loan1.head()"
   ]
  },
  {
   "cell_type": "code",
   "execution_count": null,
   "metadata": {},
   "outputs": [],
   "source": [
    "#Xóa cột trong một DataFrame sử dụng chỉ số cột\n",
    "df_loan2 = df_loan.drop(df_loan.columns[[5,8,9,10,13,14]], \n",
    "                        axis='columns')\n",
    "df_loan2.info()"
   ]
  },
  {
   "cell_type": "code",
   "execution_count": null,
   "metadata": {},
   "outputs": [],
   "source": [
    "df_loan2.head(10)"
   ]
  },
  {
   "cell_type": "code",
   "execution_count": null,
   "metadata": {},
   "outputs": [],
   "source": [
    "#Xóa hàng trong một DataFrame\n",
    "#Xóa hàng có index: 3,9\n",
    "df_loan2.drop([3,9],inplace=True)\n",
    "df_loan2.head(10)"
   ]
  },
  {
   "cell_type": "code",
   "execution_count": null,
   "metadata": {},
   "outputs": [],
   "source": [
    "#Loại bỏ tất cả các dòng dữ liệu có addr_state = CA\n",
    "df_loan3 = df_loan1[df_loan1.addr_state!='CA']\n",
    "df_loan3"
   ]
  },
  {
   "cell_type": "markdown",
   "metadata": {},
   "source": [
    "## 2) Xử lý hàng trùng lặp trong DataFrame\n",
    "---"
   ]
  },
  {
   "cell_type": "code",
   "execution_count": null,
   "metadata": {},
   "outputs": [],
   "source": [
    "#Tạo DataFrame mẫu\n",
    "d = { 'Name':['Alisa','raghu','jodha','jodha','raghu','Cathrine', 'Alisa','Bobby','Bobby','Alisa','raghu','Cathrine'],\n",
    "     'Age':[26,23,23,23,23,24,26,24,22,26,23,24], \n",
    "     'Score':[85,31,55,55,31,77,85,63,42,85,31,np.nan]}\n",
    "df = pd.DataFrame(d,columns=['Name','Age','Score'])\n",
    "df"
   ]
  },
  {
   "cell_type": "code",
   "execution_count": null,
   "metadata": {},
   "outputs": [],
   "source": [
    "#Trường hợp 1:\n",
    "#Sử dụng df.drop_duplicates() với các tham số mặc định\n",
    "#--> giữ lại hàng trùng lặp đầu tiên\n",
    "df1 = df.drop_duplicates()\n",
    "df1"
   ]
  },
  {
   "cell_type": "code",
   "execution_count": null,
   "metadata": {},
   "outputs": [],
   "source": [
    "#Trường hợp 2:\n",
    "#Sử dụng df.drop_duplicates()\n",
    "#với các tham số keep='last'\n",
    "#Giữ lại các hàng trùng lặp cuối cùng\n",
    "df2=df.drop_duplicates(keep='last')\n",
    "df2"
   ]
  },
  {
   "cell_type": "code",
   "execution_count": null,
   "metadata": {},
   "outputs": [],
   "source": [
    "#Trường hợp 3:\n",
    "#Sử dụng df.drop_duplicates()\n",
    "#với các tham số keep=False\n",
    "#Xóa hết các hàng trùng lặp khỏi df\n",
    "df3=df.drop_duplicates(keep=False)\n",
    "df3"
   ]
  },
  {
   "cell_type": "code",
   "execution_count": null,
   "metadata": {},
   "outputs": [],
   "source": [
    "#Trường hợp 4:\n",
    "#Sử dụng df.drop_duplicates()\n",
    "#Loại bỏ các hàng trùng nhau theo cột Name\n",
    "df4=df.drop_duplicates(['Name'],keep='first')\n",
    "df4"
   ]
  },
  {
   "cell_type": "code",
   "execution_count": null,
   "metadata": {},
   "outputs": [],
   "source": [
    "#Trường hợp 5:\n",
    "#Sử dụng df.drop_duplicates()\n",
    "#Loại bỏ các hàng trùng nhau theo cột Name, Age\n",
    "df5=df.drop_duplicates(['Name','Age'],\n",
    "                       keep='first')\n",
    "df5"
   ]
  },
  {
   "cell_type": "markdown",
   "metadata": {},
   "source": [
    "## 3) Sắp xếp dữ liệu trong Pandas\n",
    "---"
   ]
  },
  {
   "cell_type": "code",
   "execution_count": null,
   "metadata": {},
   "outputs": [],
   "source": [
    "#Tạo dữ liệu mẫu\n",
    "d = {'Name':pd.Series(['Alisa','Bobby','Cathrine','Madonna','Rocky','Sebastian','Jaqluine',\n",
    "   'Rahul','David','Andrew','Ajay','Teresa','Madonna']),\n",
    "   'Age':pd.Series([26,27,25,24,31,27,25,33,42,32,51,47,38]),\n",
    "   'Score':pd.Series([89,87,67,55,47,72,76,79,44,92,99,69,73])}\n",
    "#Create a DataFrame\n",
    "df = pd.DataFrame(d)\n",
    "df\n"
   ]
  },
  {
   "cell_type": "code",
   "execution_count": null,
   "metadata": {},
   "outputs": [],
   "source": [
    "#Trường hợp 1:\n",
    "#Sắp xếp dữ liệu Dataframe theo cột Score\n",
    "#Mặc định là sắp xếp tăng dần\n",
    "df.sort_values(by='Name')"
   ]
  },
  {
   "cell_type": "code",
   "execution_count": null,
   "metadata": {},
   "outputs": [],
   "source": [
    "#Trường hợp 2:\n",
    "#Sắp xếp dữ liệu Dataframe theo cột Score\n",
    "#Giá trị giảm dần\n",
    "df.sort_values(by='Score',ascending=False)"
   ]
  },
  {
   "cell_type": "code",
   "execution_count": null,
   "metadata": {},
   "outputs": [],
   "source": [
    "#Trường hợp 3:\n",
    "#Sắp xếp dữ liệu Dataframe theo cột Name, Score\n",
    "#Giá trị tăng dần\n",
    "df.sort_values(by=['Name','Score'])"
   ]
  },
  {
   "cell_type": "code",
   "execution_count": null,
   "metadata": {},
   "outputs": [],
   "source": [
    "#Trường hợp 4:\n",
    "#Sắp xếp dữ liệu Dataframe theo cột Name, Score\n",
    "#Giá trị cột Name tăng dần\n",
    "#Giá trị cột Score giảm dần\n",
    "df.sort_values(by=['Name','Score'],\n",
    "               ascending=[True,False])"
   ]
  },
  {
   "cell_type": "code",
   "execution_count": null,
   "metadata": {},
   "outputs": [],
   "source": [
    "#Trường hợp 4:\n",
    "#Sắp xếp dữ liệu Dataframe theo cột Name, Score\n",
    "df.sort_values(by=['Age','Score'],\n",
    "               ascending=[True,True])"
   ]
  },
  {
   "cell_type": "markdown",
   "metadata": {},
   "source": [
    "## 4) Nhóm dữ liệu (groupby)\n",
    "---"
   ]
  },
  {
   "cell_type": "code",
   "execution_count": null,
   "metadata": {},
   "outputs": [],
   "source": [
    "#Tạo dữ liệu mẫu\n",
    "d = {'Name':['Alisa','Bobby','Cathrine','Alisa','Bobby','Cathrine','Alisa','Bobby','Cathrine','Alisa','Bobby','Cathrine'],\n",
    "    'Exam':['Semester 1','Semester 1','Semester 1','Semester 1','Semester 1','Semester 1','Semester 2','Semester 2','Semester 2','Semester 2','Semester 2','Semester 2'],\n",
    "    'Subject':['Mathematics','Mathematics','Mathematics','Science','Science','Science','Mathematics','Mathematics','Mathematics','Science','Science','Science'],\n",
    "    'Score':[62,47,55,74,31,77,85,63,42,67,89,81]}\n",
    "df = pd.DataFrame(d,columns=['Name','Exam','Subject','Score'])\n",
    "df"
   ]
  },
  {
   "cell_type": "code",
   "execution_count": null,
   "metadata": {},
   "outputs": [],
   "source": [
    "#Trường hợp 1:\n",
    "#Nhóm theo tên sinh viên (Name)\n",
    "#Thực hiện tính điểm trung bình Score\n",
    "df['Score'].groupby([df['Name']]).mean()"
   ]
  },
  {
   "cell_type": "code",
   "execution_count": null,
   "metadata": {},
   "outputs": [],
   "source": [
    "(67+74+85+62)/4"
   ]
  },
  {
   "cell_type": "code",
   "execution_count": null,
   "metadata": {},
   "outputs": [],
   "source": [
    "#Trường hợp 2:\n",
    "#Nhóm dữ liệu theo tên sinh viên (Name)\n",
    "#và Bài kiểm tra (Exam)\n",
    "#sau đó thực hiện tính tổng\n",
    "df['Score'].groupby([df['Name'],\n",
    "                     df['Exam']]).sum()"
   ]
  },
  {
   "cell_type": "code",
   "execution_count": null,
   "metadata": {},
   "outputs": [],
   "source": [
    "#Trường hợp 3:\n",
    "#Nhóm dữ liệu theo Subject và Exam\n",
    "#Thực hiện tính tổng Score\n",
    "df.groupby(['Subject', 'Exam']).sum()"
   ]
  },
  {
   "cell_type": "markdown",
   "metadata": {},
   "source": [
    "## THỰC HÀNH 1\n",
    "---\n",
    "**Yêu cầu 1.1:**\n",
    "Đọc dữ liệu từ file Data_Patient.csv vào biến kiểu dataframe: df_patient với cột id là cột chỉ số (index_col); Hiển thị 10 dòng dữ liệu đầu tiên"
   ]
  },
  {
   "cell_type": "code",
   "execution_count": null,
   "metadata": {},
   "outputs": [],
   "source": [
    "#{Học viên viết code thực hiện yêu cầu vào đây!}\n",
    "\n",
    "\n"
   ]
  },
  {
   "cell_type": "markdown",
   "metadata": {},
   "source": [
    "### **Yêu cầu 1.2:**\n",
    "Xóa cột dữ liệu có tên ‘Thalassemia’ và áp dụng thay đổi lên chính df_patient."
   ]
  },
  {
   "cell_type": "code",
   "execution_count": null,
   "metadata": {
    "scrolled": true
   },
   "outputs": [],
   "source": [
    "#{Học viên viết code thực hiện yêu cầu vào đây!}\n",
    "\n",
    "\n"
   ]
  },
  {
   "cell_type": "markdown",
   "metadata": {},
   "source": [
    "### **Yêu cầu 1.3:**\n",
    "A) Tạo df_patient1 bằng cách loại bỏ đi 100 dòng dữ liệu đầu tiên từ df_patient.\n",
    "\n",
    "B) Tạo df_patient2 bằng cách loại bỏ đi các dòng dữ liệu có thuộc tính Type = ‘Non-anginal pain’ và nhip tim > 187 từ df_patient."
   ]
  },
  {
   "cell_type": "code",
   "execution_count": null,
   "metadata": {},
   "outputs": [],
   "source": [
    "#{Học viên viết code thực hiện yêu cầu vào đây!}\n",
    "\n",
    "\n"
   ]
  },
  {
   "cell_type": "code",
   "execution_count": null,
   "metadata": {},
   "outputs": [],
   "source": []
  },
  {
   "cell_type": "code",
   "execution_count": null,
   "metadata": {},
   "outputs": [],
   "source": []
  },
  {
   "cell_type": "markdown",
   "metadata": {},
   "source": [
    "### **Yêu cầu 1.4:**\n",
    "---\n",
    "\n",
    "A) Sắp xếp lại dữ liệu cho df_patient theo chiều giảm dần của index, áp dụng thay đổi trực tiếp lên DataFrame này.\n",
    "\n",
    "B) Tạo df_patient3 bằng cách sắp xếp dữ liệu theo thuộc tính Gender tăng dần, Nếu trùng giá trị Gender thì sắp xếp theo thuộc tính Age giảm dần."
   ]
  },
  {
   "cell_type": "code",
   "execution_count": null,
   "metadata": {},
   "outputs": [],
   "source": [
    "#A. {Học viên viết code thực hiện yêu cầu vào đây!}\n",
    "\n",
    "\n"
   ]
  },
  {
   "cell_type": "code",
   "execution_count": null,
   "metadata": {},
   "outputs": [],
   "source": []
  },
  {
   "cell_type": "code",
   "execution_count": null,
   "metadata": {},
   "outputs": [],
   "source": []
  },
  {
   "cell_type": "code",
   "execution_count": null,
   "metadata": {},
   "outputs": [],
   "source": [
    "#B. {Học viên viết code thực hiện yêu cầu vào đây!}\n",
    "\n",
    "\n"
   ]
  },
  {
   "cell_type": "code",
   "execution_count": null,
   "metadata": {},
   "outputs": [],
   "source": []
  },
  {
   "cell_type": "markdown",
   "metadata": {},
   "source": [
    "### **Yêu cầu 1.5:**\n",
    "A) Nhóm bệnh nhân theo thuộc tính Gender và tìm tuổi lớn nhất, nhỏ nhất, trung bình của bệnh nhân theo giới tính.\n"
   ]
  },
  {
   "cell_type": "code",
   "execution_count": null,
   "metadata": {},
   "outputs": [],
   "source": [
    "#{Học viên viết code thực hiện yêu cầu vào đây!}\n",
    "\n",
    "\n"
   ]
  },
  {
   "cell_type": "code",
   "execution_count": null,
   "metadata": {},
   "outputs": [],
   "source": []
  },
  {
   "cell_type": "code",
   "execution_count": null,
   "metadata": {},
   "outputs": [],
   "source": []
  },
  {
   "cell_type": "markdown",
   "metadata": {},
   "source": [
    "#### B) Nhóm bệnh nhân theo thuộc tính Gender và Type và tìm tuổi lớn nhất, nhỏ nhất, trung bình của bệnh nhân theo giới tính và loại đau ngực."
   ]
  },
  {
   "cell_type": "code",
   "execution_count": null,
   "metadata": {},
   "outputs": [],
   "source": [
    "#{Học viên viết code thực hiện yêu cầu vào đây!}\n",
    "\n",
    "\n"
   ]
  },
  {
   "cell_type": "code",
   "execution_count": null,
   "metadata": {},
   "outputs": [],
   "source": []
  },
  {
   "cell_type": "code",
   "execution_count": null,
   "metadata": {},
   "outputs": [],
   "source": []
  },
  {
   "cell_type": "markdown",
   "metadata": {},
   "source": [
    "### Yêu cầu 1.6:\n",
    "---\n",
    "A) Thực hiện xóa các bệnh nhân có index trùng nhau, giữ lại bệnh nhân có index trùng nhau đầu tiên, áp dụng cho chính dataframe hiện tại."
   ]
  },
  {
   "cell_type": "code",
   "execution_count": null,
   "metadata": {},
   "outputs": [],
   "source": [
    "#{Học viên viết code thực hiện yêu cầu vào đây!}\n",
    "\n",
    "\n"
   ]
  },
  {
   "cell_type": "code",
   "execution_count": null,
   "metadata": {},
   "outputs": [],
   "source": []
  },
  {
   "cell_type": "code",
   "execution_count": null,
   "metadata": {},
   "outputs": [],
   "source": [
    "\n"
   ]
  },
  {
   "cell_type": "markdown",
   "metadata": {},
   "source": [
    "## 5) Apply(function)\n",
    "---"
   ]
  },
  {
   "cell_type": "code",
   "execution_count": null,
   "metadata": {},
   "outputs": [],
   "source": [
    "#Tạo dữ liệu mẫu\n",
    "d = {'Name':pd.Series(['william','Mason','ella','jackson','lincoln','aubrey','Hudson','christian','Sawyer','silas','Bennett','kingston']),\n",
    "    'Score_Math':pd.Series([66,57,75,44,31,67,85,33,42,62,51,47]),\n",
    "    'Score_Science':pd.Series([89,87,67,55,47,72,76,79,44,92,93,69])}\n",
    "df = pd.DataFrame(d)\n",
    "df"
   ]
  },
  {
   "cell_type": "code",
   "execution_count": null,
   "metadata": {},
   "outputs": [],
   "source": [
    "##ÁP DỤNG HÀM CHO TỪNG CỘT RIÊNG LẺ\n",
    "#-----------------------------------------------------------"
   ]
  },
  {
   "cell_type": "code",
   "execution_count": null,
   "metadata": {},
   "outputs": [],
   "source": [
    "#Thực hiện: Viết hoa tên học sinh\n",
    "#Cách 1:\n",
    "def upcase(x):\n",
    "    return x.upper()\n",
    "\n",
    "df['Name'] = df['Name'].apply(upcase)\n",
    "df"
   ]
  },
  {
   "cell_type": "code",
   "execution_count": null,
   "metadata": {},
   "outputs": [],
   "source": [
    "#Cách 2: \n",
    "df['Name'] = df['Name'].apply(lambda x:x.upper())\n",
    "df"
   ]
  },
  {
   "cell_type": "code",
   "execution_count": null,
   "metadata": {},
   "outputs": [],
   "source": [
    "#Cách 3:\n",
    "df['Name'] = df['Name'].str.upper()\n",
    "df"
   ]
  },
  {
   "cell_type": "code",
   "execution_count": null,
   "metadata": {},
   "outputs": [],
   "source": [
    "#Điểm trung bình = (score_math*2 + score_science)/3\n",
    "#Viết hàm tính điểm trung bình\n",
    "def mean_point(point1,point2):\n",
    "    return round((point1*2+point2)/3,1)"
   ]
  },
  {
   "cell_type": "code",
   "execution_count": null,
   "metadata": {},
   "outputs": [],
   "source": [
    "#Tạo một cột Point tính điểm của từng học sinh\n",
    "df['Point'] = df.apply(lambda row: mean_point(row['Score_Math'],\n",
    "                                              row['Score_Science']), \n",
    "                       axis=1)\n",
    "df"
   ]
  },
  {
   "cell_type": "code",
   "execution_count": null,
   "metadata": {},
   "outputs": [],
   "source": [
    "#.apply(func) áp dụng một hàm cho dataframe theo hàng hoặc cột\n",
    "df2 = df.apply(np.mean,axis=1)\n",
    "df2"
   ]
  },
  {
   "cell_type": "code",
   "execution_count": null,
   "metadata": {},
   "outputs": [],
   "source": [
    "### Áp dụng .appply() Xử lý dữ liệu file csv_Data_BMI\n",
    "#-----------------------------------------------------\n",
    "path = 'Data_Excercise\\csv_Data_BMI.csv'\n",
    "df_bmi = pd.read_csv(path,index_col=0)\n",
    "df_bmi.info()"
   ]
  },
  {
   "cell_type": "code",
   "execution_count": null,
   "metadata": {},
   "outputs": [],
   "source": [
    "df_bmi.head()"
   ]
  },
  {
   "cell_type": "code",
   "execution_count": null,
   "metadata": {},
   "outputs": [],
   "source": [
    "#Tạo thêm một cột 'Height_m' đổi dữ liệu Height từ cm --> m\n",
    "df_bmi['Height_m'] = df_bmi['Height_cm']/100\n",
    "df_bmi.head()"
   ]
  },
  {
   "cell_type": "code",
   "execution_count": null,
   "metadata": {},
   "outputs": [],
   "source": [
    "#Viết hàm tính chỉ số BMI dựa và Height (cm), Weight (kg)\n",
    "def bmi(h,w):\n",
    "    h = h/100\n",
    "    bmi = round(w/(h**2),1)\n",
    "    return bmi"
   ]
  },
  {
   "cell_type": "code",
   "execution_count": null,
   "metadata": {},
   "outputs": [],
   "source": [
    "#Áp dụng hàm tính BMI cho các hàng dữ liệu của DF\n",
    "df_bmi['BMI'] = df_bmi.apply(lambda row: bmi(row['Height_cm'],row['Weight_kg']), axis=1)\n",
    "df_bmi.head()"
   ]
  },
  {
   "cell_type": "code",
   "execution_count": null,
   "metadata": {},
   "outputs": [],
   "source": [
    "#Dựa vào chỉ số xác định mức béo phì\n",
    "#---\n",
    "def check_bmi(x):\n",
    "    if (x<18.5):\n",
    "        return 'UNDERWEIGHT'\n",
    "    elif (18.5 <= x <= 24.9):\n",
    "        return 'NORMAL'\n",
    "    elif (25.0 <= x <= 29.9):\n",
    "        return 'OVERWEIGHT'\n",
    "    elif (30.0 <= x <= 34.9):\n",
    "        return 'OBESE'\n",
    "    else:\n",
    "        return 'EXTREMELY OBESE'"
   ]
  },
  {
   "cell_type": "code",
   "execution_count": null,
   "metadata": {},
   "outputs": [],
   "source": [
    "df_bmi['Type'] = df_bmi['BMI'].apply(lambda x: check_bmi(x))\n",
    "df_bmi.head()"
   ]
  },
  {
   "cell_type": "code",
   "execution_count": null,
   "metadata": {},
   "outputs": [],
   "source": [
    "#Group dữ liệu theo Type\n",
    "df_bmi.groupby(['Type']).count()"
   ]
  },
  {
   "cell_type": "code",
   "execution_count": null,
   "metadata": {},
   "outputs": [],
   "source": [
    "#Group dữ liệu theo giới tính và loại\n",
    "df_bmi.groupby(['Gender','Type']).count()"
   ]
  },
  {
   "cell_type": "code",
   "execution_count": null,
   "metadata": {},
   "outputs": [],
   "source": [
    "#Lọc dữ liệu: Danh sách những người béo phì\n",
    "df_bmi[df_bmi.Type=='EXTREMELY OBESE']"
   ]
  },
  {
   "cell_type": "code",
   "execution_count": null,
   "metadata": {},
   "outputs": [],
   "source": [
    "#Lọc dữ liệu: Danh sách những người béo phì\n",
    "df_bmi[(df_bmi.Gender =='Male') & (df_bmi.Type=='EXTREMELY OBESE')]"
   ]
  },
  {
   "cell_type": "markdown",
   "metadata": {},
   "source": [
    "## 6. Kết nối và trộn dữ liệu giữa các DataFrame (merge, concat)\n",
    "---"
   ]
  },
  {
   "cell_type": "markdown",
   "metadata": {},
   "source": [
    "### A) Ví dụ về việc nối, trộn các dataset trong Pandas"
   ]
  },
  {
   "cell_type": "code",
   "execution_count": null,
   "metadata": {},
   "outputs": [],
   "source": [
    "import pandas as pd\n",
    "import numpy as np\n",
    "\n",
    "class display(object):\n",
    "    \"\"\"Display HTML representation of multiple objects\"\"\"\n",
    "    template = \"\"\"<div style=\"float: left; padding: 10px;\">\n",
    "    <p style='font-family:\"Courier New\", Courier, monospace'>{0}</p>{1}\n",
    "    </div>\"\"\"\n",
    "    def __init__(self, *args):\n",
    "        self.args = args\n",
    "        \n",
    "    def _repr_html_(self):\n",
    "        return '\\n'.join(self.template.format(a, eval(a)._repr_html_())\n",
    "                         for a in self.args)\n",
    "    \n",
    "    def __repr__(self):\n",
    "        return '\\n\\n'.join(a + '\\n' + repr(eval(a))\n",
    "                           for a in self.args)"
   ]
  },
  {
   "cell_type": "code",
   "execution_count": null,
   "metadata": {},
   "outputs": [],
   "source": [
    "#File state-population.csv lưu trữ dân số của 48 bang của Mỹ [1990-2013]\n",
    "#Bao gồm tổng số dân | số dân dưới 18 tuổi\n",
    "pop = pd.read_csv('Data_Excercise/state-population.csv')\n",
    "pop.info()"
   ]
  },
  {
   "cell_type": "code",
   "execution_count": null,
   "metadata": {},
   "outputs": [],
   "source": [
    "#File state-areas.csv lưu trữ diện tích của 51 bang [dặm vuông]\n",
    "areas = pd.read_csv('Data_Excercise/state-areas.csv')\n",
    "areas.info()"
   ]
  },
  {
   "cell_type": "code",
   "execution_count": null,
   "metadata": {},
   "outputs": [],
   "source": [
    "#File stae-abbrevs.csv lưu trữ tên và ký hiệu của 50 bang\n",
    "abbrevs = pd.read_csv('Data_Excercise/state-abbrevs.csv')\n",
    "abbrevs.info()"
   ]
  },
  {
   "cell_type": "markdown",
   "metadata": {},
   "source": [
    "### Yêu cầu bài toán:\n",
    "---\n",
    "**Thực hiện xếp hạng các tiểu bang và vùng lãnh thổ của Hoa kỳ theo mật độ dân số năm 2010**\n",
    "\n",
    "Để thực hiện yêu cầu này bắt buộc phải kết hợp các dữ liệu từ 3 file lại với nhau"
   ]
  },
  {
   "cell_type": "code",
   "execution_count": null,
   "metadata": {},
   "outputs": [],
   "source": [
    "display('pop.head()', 'areas.head()', 'abbrevs.head()')"
   ]
  },
  {
   "cell_type": "code",
   "execution_count": null,
   "metadata": {},
   "outputs": [],
   "source": [
    "#Bước 1: kết hợp dữ liệu file state-population với state-abbrevs \n",
    "#để lấy được tên đầy đủ của các bang \n",
    "merged = pd.merge(pop, abbrevs, \n",
    "                  how='outer',\n",
    "                  left_on='state/region', \n",
    "                  right_on='abbreviation')\n",
    "\n",
    "merged.head()"
   ]
  },
  {
   "cell_type": "code",
   "execution_count": null,
   "metadata": {},
   "outputs": [],
   "source": [
    "#Xóa cột abbreviation vì trùng lặp với state/region\n",
    "merged = merged.drop('abbreviation', 1)\n",
    "merged.head()"
   ]
  },
  {
   "cell_type": "code",
   "execution_count": null,
   "metadata": {},
   "outputs": [],
   "source": [
    "#Kiểm tra việc ghép dữ liệu có thiếu (null) hàng nào ko?\n",
    "merged.isnull().any()"
   ]
  },
  {
   "cell_type": "code",
   "execution_count": null,
   "metadata": {},
   "outputs": [],
   "source": [
    "#Một số thông tin về dân số không có dữ liệu\n",
    "merged[merged['population'].isnull()].tail(10)\n",
    "#Bang PR không có dữ liệu về dân số trước năm 2000"
   ]
  },
  {
   "cell_type": "code",
   "execution_count": null,
   "metadata": {},
   "outputs": [],
   "source": [
    "#Kiểm tra danh sách các mã bang không có tên đầy đủ\n",
    "merged.loc[merged['state'].isnull(), 'state/region'].unique()\n",
    "\n",
    "#---> Có 2 mã PR, USA không có tên đầy đủ trong file state-abbrevs.csv"
   ]
  },
  {
   "cell_type": "code",
   "execution_count": null,
   "metadata": {},
   "outputs": [],
   "source": [
    "#Xử lý bằng cách điền trực tiếp tên đầy đủ cho 2 mã này\n",
    "merged.loc[merged['state/region'] == 'PR', 'state'] = 'Puerto Rico'\n",
    "merged.loc[merged['state/region'] == 'USA', 'state'] = 'United States'\n",
    "merged.isnull().any()"
   ]
  },
  {
   "cell_type": "code",
   "execution_count": null,
   "metadata": {},
   "outputs": [],
   "source": [
    "#Bước 2: Kết hợp dữ liệu merged với dữ liệu state-areas.csv\n",
    "#Việc kết hợp dựa vào cột state\n",
    "display('merged.head()','areas.head()')"
   ]
  },
  {
   "cell_type": "code",
   "execution_count": null,
   "metadata": {},
   "outputs": [],
   "source": [
    "#Kết hợp hai DataFrame dựa vào cột state\n",
    "final = pd.merge(merged, areas, on='state', how='left')\n",
    "final.head()"
   ]
  },
  {
   "cell_type": "code",
   "execution_count": null,
   "metadata": {},
   "outputs": [],
   "source": [
    "#Kiểm tra dữ liệu Null khi ghép \n",
    "final.isnull().any()"
   ]
  },
  {
   "cell_type": "code",
   "execution_count": null,
   "metadata": {},
   "outputs": [],
   "source": [
    "#Liệt hàng null\n",
    "final['state'][final['area (sq. mi)'].isnull()].unique()"
   ]
  },
  {
   "cell_type": "code",
   "execution_count": null,
   "metadata": {},
   "outputs": [],
   "source": [
    "#View dữ liệu có state = 'United States'\n",
    "final[final['state']=='United States']"
   ]
  },
  {
   "cell_type": "code",
   "execution_count": null,
   "metadata": {},
   "outputs": [],
   "source": [
    "final.info()"
   ]
  },
  {
   "cell_type": "code",
   "execution_count": null,
   "metadata": {},
   "outputs": [],
   "source": [
    "#Có thể tính toán diện tích của USA bằng cách sử dụng hàm Sum để tính tổng diện tích của tất cả các bang\n",
    "#Tuy nhiên, trong yêu cầu đặt ra là xếp hạng tiểu bang và vùng lãnh thổ. Nên dữ liệu về cả USA là không\n",
    "#cần thiết. Để đơn giản trong trường hợp này, chúng ta xóa các hàng USA.\n",
    "final.dropna(inplace=True)\n",
    "final.head()"
   ]
  },
  {
   "cell_type": "code",
   "execution_count": null,
   "metadata": {},
   "outputs": [],
   "source": [
    "final.info()"
   ]
  },
  {
   "cell_type": "code",
   "execution_count": null,
   "metadata": {},
   "outputs": [],
   "source": [
    "#Đến đây chúng ta đã có tất cả dữ liệu chúng ta cần cho bài toán, \n",
    "#Các dữ liệu liên quan từ 3 file khác nhau đã được kết hợp lại."
   ]
  },
  {
   "cell_type": "code",
   "execution_count": null,
   "metadata": {},
   "outputs": [],
   "source": [
    "#Bước 3: Truy vấn dữ liệu cần cho yêu cầu\n",
    "#-------------------------------\n",
    "#Yêu cầu: Tỷ lệ dân số năm 2010 --> Dữ liệu năm 2010 | Tổng số dân\n",
    "data2010 = final.query(\"year==2010 & ages=='total'\")\n",
    "data2010.info()"
   ]
  },
  {
   "cell_type": "code",
   "execution_count": null,
   "metadata": {},
   "outputs": [],
   "source": [
    "data2010"
   ]
  },
  {
   "cell_type": "code",
   "execution_count": null,
   "metadata": {},
   "outputs": [],
   "source": [
    "# chỉ lấy dữ liệu của các cột [state, population, area (sq. mi)]\n",
    "data_ok = data2010[['state','population','area (sq. mi)']]\n",
    "#Thiết lập cột state làm index\n",
    "#data_ok.set_index('state', inplace=True)\n",
    "data_ok.head()"
   ]
  },
  {
   "cell_type": "code",
   "execution_count": null,
   "metadata": {},
   "outputs": [],
   "source": [
    "data_ok['density'] = data_ok['population'] / data_ok['area (sq. mi)']\n",
    "data_ok.head()"
   ]
  },
  {
   "cell_type": "code",
   "execution_count": null,
   "metadata": {},
   "outputs": [],
   "source": [
    "#Sắp xếp lại dữ liệu theo chiều giảm dần của density\n",
    "data_ok.sort_values(by=['density'],ascending=False,inplace=True)\n",
    "data_ok"
   ]
  },
  {
   "cell_type": "markdown",
   "metadata": {},
   "source": [
    "### 6.1) Trộn dữ liệu giữa các DataFrame (merge)\n",
    "---"
   ]
  },
  {
   "cell_type": "code",
   "execution_count": null,
   "metadata": {},
   "outputs": [],
   "source": [
    "#Tạo dữ liệu mẫu\n",
    "#DataFrame1:\n",
    "d1 = {'Customer_id':pd.Series([1,2,3,4,5,6]),\n",
    "      'Product':pd.Series(['Oven','Oven','Oven','Television','Television','Television'])}\n",
    "df1 = pd.DataFrame(d1)\n",
    "\n",
    "#DataFrame2:\n",
    "d2 = {'Customer_id':pd.Series([2,4,6,7,8]),\n",
    "    'State':pd.Series(['California','California','Texas','New York','Indiana'])}\n",
    "df2 = pd.DataFrame(d2)\n",
    "\n",
    "display('df1.head(10)','df2.head(10)')"
   ]
  },
  {
   "cell_type": "code",
   "execution_count": null,
   "metadata": {},
   "outputs": [],
   "source": [
    "#Trường hợp 1:\n",
    "#Inner join DataFrame\n",
    "inner_join_df= pd.merge(df1, df2, \n",
    "                        on='Customer_id', \n",
    "                        how='inner')\n",
    "inner_join_df"
   ]
  },
  {
   "cell_type": "code",
   "execution_count": null,
   "metadata": {},
   "outputs": [],
   "source": [
    "#Trường hợp 2:\n",
    "#Outer join DataFrame\n",
    "inner_join_df= pd.merge(df1, df2, \n",
    "                        on='Customer_id', \n",
    "                        how='outer')\n",
    "inner_join_df"
   ]
  },
  {
   "cell_type": "code",
   "execution_count": null,
   "metadata": {},
   "outputs": [],
   "source": [
    "#Trường hợp 3:\n",
    "#Left join DataFrame\n",
    "inner_join_df= pd.merge(df1, df2, \n",
    "                        on='Customer_id', \n",
    "                        how='left')\n",
    "inner_join_df"
   ]
  },
  {
   "cell_type": "code",
   "execution_count": null,
   "metadata": {},
   "outputs": [],
   "source": [
    "#Trường hợp 4:\n",
    "#Right join DataFrame\n",
    "inner_join_df= pd.merge(df1, df2, \n",
    "                        on='Customer_id', \n",
    "                        how='right')\n",
    "inner_join_df"
   ]
  },
  {
   "cell_type": "markdown",
   "metadata": {},
   "source": [
    "### 6.2) Nối dữ liệu giữa các DataFrame\n",
    "---"
   ]
  },
  {
   "cell_type": "markdown",
   "metadata": {},
   "source": [
    "### a) Kết nối các dataframe theo cột [concat(axis=1)]\n",
    "---"
   ]
  },
  {
   "cell_type": "code",
   "execution_count": null,
   "metadata": {},
   "outputs": [],
   "source": [
    "#Tạo dữ liệu mẫu\n",
    "d = {'Name':['Alisa','Bobby','Cathrine','Madonna','Rocky','Sebastian','Jaqluine','Rahul','David'],\n",
    "    'Score1':[62,47,55,74,31,77,85,63,42],\n",
    "    'Score2':[89,87,67,55,47,72,76,79,44]}\n",
    "df1 = pd.DataFrame(d)\n",
    "df1\n"
   ]
  },
  {
   "cell_type": "code",
   "execution_count": null,
   "metadata": {},
   "outputs": [],
   "source": [
    "d = {'Name':['Alisa','Bobby','Cathrine','Madonna','Rocky','Sebastian','Jaqluine'],\n",
    "    'Score3':[56,86,77,45,73,62,74]}\n",
    "df2 = pd.DataFrame(d)\n",
    "df2\n"
   ]
  },
  {
   "cell_type": "code",
   "execution_count": null,
   "metadata": {},
   "outputs": [],
   "source": [
    "#Trường hợp 1:\n",
    "#Mặc định join='outer'\n",
    "df_concat1 = pd.concat([df1, df2], axis=1)\n",
    "df_concat1"
   ]
  },
  {
   "cell_type": "code",
   "execution_count": null,
   "metadata": {},
   "outputs": [],
   "source": [
    "#Trường hợp 2:\n",
    "#Tham số join='inner'\n",
    "df_concat2 = pd.concat([df1, df2], \n",
    "                       axis=1, \n",
    "                       join='inner')\n",
    "df_concat2"
   ]
  },
  {
   "cell_type": "code",
   "execution_count": null,
   "metadata": {},
   "outputs": [],
   "source": [
    "#Trường hợp 3:\n",
    "#Tham số ignore_index=True\n",
    "#(Không sử dụng tên cột, đánh lại nhãn 0, 1...)\n",
    "df_concat3 = pd.concat([df1, df2], \n",
    "                       axis=1, \n",
    "                       join='inner',\n",
    "                       ignore_index=True)\n",
    "df_concat3"
   ]
  },
  {
   "cell_type": "markdown",
   "metadata": {},
   "source": [
    "### 6.2) Kết nối các dataframe theo hàng\n",
    "---\n",
    "concat() | append()"
   ]
  },
  {
   "cell_type": "code",
   "execution_count": null,
   "metadata": {},
   "outputs": [],
   "source": [
    "#Tạo dữ liệu mẫu:\n",
    "d1 = {'Name':['Alisa','Bobby','Cathrine','Madonna','Rocky'],\n",
    "   'Score1':[62,47,55,74,31],\n",
    "   'Score2':[89,87,67,55,47],\n",
    "   'Score3':[56,86,77,45,73]}\n",
    "df1 = pd.DataFrame(d1)\n",
    "\n",
    "d2 = {'Name':['Andrew','Ajay','Teresa'],\n",
    "     'Score1':[32,71,57],\n",
    "     'Score2':[92,99,69],\n",
    "     'Score3':[67,97,68]}\n",
    "df2 = pd.DataFrame(d2)\n",
    "\n",
    "display('df1.head()','df2.head()')"
   ]
  },
  {
   "cell_type": "code",
   "execution_count": null,
   "metadata": {},
   "outputs": [],
   "source": [
    "#Trường hợp 1: sử dụng concat\n",
    "df_row = pd.concat([df1,df2],ignore_index=True)\n",
    "df_row"
   ]
  },
  {
   "cell_type": "code",
   "execution_count": null,
   "metadata": {},
   "outputs": [],
   "source": [
    "#Trường hợp 1: Sử dụng append()\n",
    "df_row2 = df1.append(df2)\n",
    "df_row2"
   ]
  },
  {
   "cell_type": "code",
   "execution_count": null,
   "metadata": {},
   "outputs": [],
   "source": [
    "#Trường hợp các cột khác tên nối vào nhau\n",
    "d = {'Name':['Jack','danny','vishwa'],\n",
    "   'Score1':[32,71,70],\n",
    "   'Score4':[72,91,89],\n",
    "   'Score5':[57,72,78]}\n",
    "df3 = pd.DataFrame(d)\n",
    "display('df1.head()','df3.head()')\n"
   ]
  },
  {
   "cell_type": "code",
   "execution_count": null,
   "metadata": {},
   "outputs": [],
   "source": [
    "#Trường hợp các cột khác tên\n",
    "pd.concat([df1,df3])"
   ]
  },
  {
   "cell_type": "code",
   "execution_count": null,
   "metadata": {},
   "outputs": [],
   "source": [
    "#sử dụng tham số join='inner'\n",
    "pd.concat([df1,df3], join ='inner')"
   ]
  },
  {
   "cell_type": "code",
   "execution_count": null,
   "metadata": {},
   "outputs": [],
   "source": [
    "#Trường hợp 2\n",
    "pd.concat([df1,df3], keys=['df1','df3'])"
   ]
  },
  {
   "cell_type": "markdown",
   "metadata": {},
   "source": [
    "## THỰC HÀNH 2\n",
    "---\n",
    "**Yêu cầu 2.1:**\n",
    "Đọc dữ liệu từ file Data_Point.xlsx vào biến kiểu dataframe: \n",
    "    * df_lop1 dữ liệu điểm sheet 0 (4080130_01)\n",
    "    * df_lop2 dữ liệu điểm sheet 1 (4080130_02)\n",
    "    * df_lop3 dữ liệu điểm sheet 2 (4080130_03)\n",
    "\n",
    "THAM KHẢO LẠI BÀI HỌC SỐ 06 ĐỂ ĐỌC DỮ LIỆU\n"
   ]
  },
  {
   "cell_type": "code",
   "execution_count": null,
   "metadata": {},
   "outputs": [],
   "source": [
    "#{Học viên viết code thực hiện yêu cầu vào đây!}\n",
    "\n",
    "\n"
   ]
  },
  {
   "cell_type": "code",
   "execution_count": null,
   "metadata": {},
   "outputs": [],
   "source": []
  },
  {
   "cell_type": "code",
   "execution_count": null,
   "metadata": {},
   "outputs": [],
   "source": []
  },
  {
   "cell_type": "markdown",
   "metadata": {},
   "source": [
    "### **Yêu cầu 2.2:**\n",
    "---\n",
    "Nối 3 DataFrame df_lop1, df_lop2, df_lop3 thành một DataFrame df_full chứa tất cả danh sách bảng điểm của 3 lớp "
   ]
  },
  {
   "cell_type": "code",
   "execution_count": null,
   "metadata": {},
   "outputs": [],
   "source": [
    "#{Học viên viết code thực hiện yêu cầu vào đây!}\n",
    "\n",
    "\n"
   ]
  },
  {
   "cell_type": "code",
   "execution_count": null,
   "metadata": {},
   "outputs": [],
   "source": []
  },
  {
   "cell_type": "code",
   "execution_count": null,
   "metadata": {},
   "outputs": [],
   "source": []
  },
  {
   "cell_type": "markdown",
   "metadata": {},
   "source": [
    "### **Yêu cầu 2.3:**\n",
    "---\n",
    "Trong df_full: Tạo một cột Diem_he10 được tính dựa vào các cột tương ứng của từng hàng dữ liệu, theo công thức sau:\n",
    "\n",
    "**Diem_he10 = 0.6 * A + 0.3 * ((B1+B2)/2) + 0.1 * ((C1+C2)/2)**\n",
    "    \n",
    "Làm tròn đến 1 số sau dấu phẩy"
   ]
  },
  {
   "cell_type": "code",
   "execution_count": null,
   "metadata": {},
   "outputs": [],
   "source": [
    "#{Học viên viết code thực hiện yêu cầu vào đây!}\n",
    "\n",
    "\n"
   ]
  },
  {
   "cell_type": "code",
   "execution_count": null,
   "metadata": {},
   "outputs": [],
   "source": []
  },
  {
   "cell_type": "markdown",
   "metadata": {},
   "source": [
    "### **Yêu cầu 2.4:**\n",
    "---\n",
    "Từ cột Diem_he10 trong df_full tạo một cột Diem_chu, Diem_so theo quy đổi:\n",
    "\n",
    "    * Điểm hệ 10 Từ 9.0 đến 10.0  ----> Điểm chữ: A+  ----> Điểm số: 4.0\n",
    "    * Điểm hệ 10 Từ 8.5 đến 8.9  ----> Điểm chữ: A    ----> Điểm số: 3.7\n",
    "    * Điểm hệ 10 Từ 8.0 đến 8.4  ----> Điểm chữ: B+   ----> Điểm số: 3.5   \n",
    "    * Điểm hệ 10 Từ 7.0 đến 7.9  ----> Điểm chữ: B    ----> Điểm số: 3.0\n",
    "    * Điểm hệ 10 Từ 6.5 đến 6.9  ----> Điểm chữ: C+   ----> Điểm số: 2.5  \n",
    "    * Điểm hệ 10 Từ 5.5 đến 6.4  ----> Điểm chữ: C    ----> Điểm số: 2.0     \n",
    "    * Điểm hệ 10 Từ 5.0 đến 5.4  ----> Điểm chữ: D+   ----> Điểm số: 1.5 \n",
    "    * Điểm hệ 10 Từ 4.0 đến 4.9  ----> Điểm chữ: D    ----> Điểm số: 1.0  \n",
    "    * Điểm hệ 10 Từ 0.0 đến 3.9  ----> Điểm chữ: F    ----> Điểm số: 0.0 \n"
   ]
  },
  {
   "cell_type": "code",
   "execution_count": null,
   "metadata": {},
   "outputs": [],
   "source": [
    "#{Học viên viết code thực hiện yêu cầu vào đây!}\n",
    "\n",
    "\n"
   ]
  },
  {
   "cell_type": "code",
   "execution_count": null,
   "metadata": {},
   "outputs": [],
   "source": []
  },
  {
   "cell_type": "code",
   "execution_count": null,
   "metadata": {},
   "outputs": [],
   "source": []
  },
  {
   "cell_type": "code",
   "execution_count": null,
   "metadata": {},
   "outputs": [],
   "source": []
  },
  {
   "cell_type": "markdown",
   "metadata": {},
   "source": [
    "### **Yêu cầu 2.5:**\n",
    "---\n",
    "Tạo một DataFrame df_diem_ok chỉ lấy dữ liệu các cột [‘Code’, ‘Diem_he10’, ‘Diem_chu’, ‘Diem_so’] từ df_full"
   ]
  },
  {
   "cell_type": "code",
   "execution_count": null,
   "metadata": {},
   "outputs": [],
   "source": [
    "#{Học viên viết code thực hiện yêu cầu vào đây!}\n",
    "\n",
    "\n",
    "\n"
   ]
  },
  {
   "cell_type": "code",
   "execution_count": null,
   "metadata": {},
   "outputs": [],
   "source": []
  },
  {
   "cell_type": "code",
   "execution_count": null,
   "metadata": {},
   "outputs": [],
   "source": []
  },
  {
   "cell_type": "markdown",
   "metadata": {},
   "source": [
    "###  **Yêu cầu 2.6:**\n",
    "---\n",
    "1. Đọc dữ liệu trong sheet: code của file excel Data_point vào DataFrame df_code.\n",
    "2. Trộn (merge) dữ liệu của df_code và df_diem_ok để ghép phách cho bảng điểm và lưu và df_finaly.\n",
    "3. Lưu dữ liệu trong DataFrame df_finaly ra file excel: Diem_4080130.xlsx"
   ]
  },
  {
   "cell_type": "code",
   "execution_count": null,
   "metadata": {},
   "outputs": [],
   "source": [
    "#{Học viên viết code thực hiện yêu cầu vào đây!}\n",
    "\n",
    "\n"
   ]
  },
  {
   "cell_type": "code",
   "execution_count": null,
   "metadata": {},
   "outputs": [],
   "source": []
  },
  {
   "cell_type": "code",
   "execution_count": null,
   "metadata": {},
   "outputs": [],
   "source": []
  },
  {
   "cell_type": "code",
   "execution_count": null,
   "metadata": {},
   "outputs": [],
   "source": []
  },
  {
   "cell_type": "code",
   "execution_count": null,
   "metadata": {},
   "outputs": [],
   "source": []
  }
 ],
 "metadata": {
  "kernelspec": {
   "display_name": "Python 3",
   "language": "python",
   "name": "python3"
  },
  "language_info": {
   "codemirror_mode": {
    "name": "ipython",
    "version": 3
   },
   "file_extension": ".py",
   "mimetype": "text/x-python",
   "name": "python",
   "nbconvert_exporter": "python",
   "pygments_lexer": "ipython3",
   "version": "3.8.3"
  }
 },
 "nbformat": 4,
 "nbformat_minor": 2
}
