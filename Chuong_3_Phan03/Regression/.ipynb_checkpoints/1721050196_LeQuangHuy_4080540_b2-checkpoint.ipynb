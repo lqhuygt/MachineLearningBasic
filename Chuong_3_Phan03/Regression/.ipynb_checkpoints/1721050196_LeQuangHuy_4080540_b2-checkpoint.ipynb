{
 "cells": [
  {
   "cell_type": "code",
   "execution_count": 95,
   "metadata": {},
   "outputs": [
    {
     "name": "stdout",
     "output_type": "stream",
     "text": [
      "<class 'numpy.ndarray'>\n",
      "Kích thước dữ liệu đầu vào (features): (442, 10)\n",
      "Kích thước dữ liệu đầu ra (target)   : (442,)\n"
     ]
    }
   ],
   "source": [
    "#Đọc tập dữ liệu Iris Dataset\n",
    "import sklearn.datasets as datask\n",
    "#Đọc dữ liệu trả về biến array\n",
    "X_diabetes, y_diabetes = datask.load_diabetes(return_X_y=True)\n",
    "\n",
    "print(type(X_diabetes))\n",
    "print('Kích thước dữ liệu đầu vào (features):', X_diabetes.shape)\n",
    "print('Kích thước dữ liệu đầu ra (target)   :', y_diabetes.shape)\n"
   ]
  },
  {
   "cell_type": "markdown",
   "metadata": {},
   "source": [
    "**Yêu cầu 2:**\n",
    "---\n",
    "* Trong tập dữ liệu Diabetes xác định thuộc tính có ảnh hưởng lớn nhất (hệ số tương quan cao nhất) tới thuộc tính target.\n",
    "* Tách tập dữ liệu thành 2 phần Train – Test với tỷ lệ 75%-25%"
   ]
  },
  {
   "cell_type": "code",
   "execution_count": 96,
   "metadata": {},
   "outputs": [],
   "source": [
    "#{Sinh viên viết code ở đây!}\n",
    "\n",
    "\n",
    "\n"
   ]
  },
  {
   "cell_type": "code",
   "execution_count": 97,
   "metadata": {},
   "outputs": [
    {
     "data": {
      "text/html": [
       "<div>\n",
       "<style scoped>\n",
       "    .dataframe tbody tr th:only-of-type {\n",
       "        vertical-align: middle;\n",
       "    }\n",
       "\n",
       "    .dataframe tbody tr th {\n",
       "        vertical-align: top;\n",
       "    }\n",
       "\n",
       "    .dataframe thead th {\n",
       "        text-align: right;\n",
       "    }\n",
       "</style>\n",
       "<table border=\"1\" class=\"dataframe\">\n",
       "  <thead>\n",
       "    <tr style=\"text-align: right;\">\n",
       "      <th></th>\n",
       "      <th>age</th>\n",
       "      <th>sex</th>\n",
       "      <th>bmi</th>\n",
       "      <th>bp</th>\n",
       "      <th>s1 tc</th>\n",
       "      <th>s2 ldl</th>\n",
       "      <th>s3 hdl</th>\n",
       "      <th>s4 tch</th>\n",
       "      <th>s5 ltg</th>\n",
       "      <th>s6 glu</th>\n",
       "    </tr>\n",
       "  </thead>\n",
       "  <tbody>\n",
       "    <tr>\n",
       "      <th>0</th>\n",
       "      <td>0.038076</td>\n",
       "      <td>0.050680</td>\n",
       "      <td>0.061696</td>\n",
       "      <td>0.021872</td>\n",
       "      <td>-0.044223</td>\n",
       "      <td>-0.034821</td>\n",
       "      <td>-0.043401</td>\n",
       "      <td>-0.002592</td>\n",
       "      <td>0.019908</td>\n",
       "      <td>-0.017646</td>\n",
       "    </tr>\n",
       "    <tr>\n",
       "      <th>1</th>\n",
       "      <td>-0.001882</td>\n",
       "      <td>-0.044642</td>\n",
       "      <td>-0.051474</td>\n",
       "      <td>-0.026328</td>\n",
       "      <td>-0.008449</td>\n",
       "      <td>-0.019163</td>\n",
       "      <td>0.074412</td>\n",
       "      <td>-0.039493</td>\n",
       "      <td>-0.068330</td>\n",
       "      <td>-0.092204</td>\n",
       "    </tr>\n",
       "    <tr>\n",
       "      <th>2</th>\n",
       "      <td>0.085299</td>\n",
       "      <td>0.050680</td>\n",
       "      <td>0.044451</td>\n",
       "      <td>-0.005671</td>\n",
       "      <td>-0.045599</td>\n",
       "      <td>-0.034194</td>\n",
       "      <td>-0.032356</td>\n",
       "      <td>-0.002592</td>\n",
       "      <td>0.002864</td>\n",
       "      <td>-0.025930</td>\n",
       "    </tr>\n",
       "    <tr>\n",
       "      <th>3</th>\n",
       "      <td>-0.089063</td>\n",
       "      <td>-0.044642</td>\n",
       "      <td>-0.011595</td>\n",
       "      <td>-0.036656</td>\n",
       "      <td>0.012191</td>\n",
       "      <td>0.024991</td>\n",
       "      <td>-0.036038</td>\n",
       "      <td>0.034309</td>\n",
       "      <td>0.022692</td>\n",
       "      <td>-0.009362</td>\n",
       "    </tr>\n",
       "    <tr>\n",
       "      <th>4</th>\n",
       "      <td>0.005383</td>\n",
       "      <td>-0.044642</td>\n",
       "      <td>-0.036385</td>\n",
       "      <td>0.021872</td>\n",
       "      <td>0.003935</td>\n",
       "      <td>0.015596</td>\n",
       "      <td>0.008142</td>\n",
       "      <td>-0.002592</td>\n",
       "      <td>-0.031991</td>\n",
       "      <td>-0.046641</td>\n",
       "    </tr>\n",
       "  </tbody>\n",
       "</table>\n",
       "</div>"
      ],
      "text/plain": [
       "        age       sex       bmi        bp     s1 tc    s2 ldl    s3 hdl  \\\n",
       "0  0.038076  0.050680  0.061696  0.021872 -0.044223 -0.034821 -0.043401   \n",
       "1 -0.001882 -0.044642 -0.051474 -0.026328 -0.008449 -0.019163  0.074412   \n",
       "2  0.085299  0.050680  0.044451 -0.005671 -0.045599 -0.034194 -0.032356   \n",
       "3 -0.089063 -0.044642 -0.011595 -0.036656  0.012191  0.024991 -0.036038   \n",
       "4  0.005383 -0.044642 -0.036385  0.021872  0.003935  0.015596  0.008142   \n",
       "\n",
       "     s4 tch    s5 ltg    s6 glu  \n",
       "0 -0.002592  0.019908 -0.017646  \n",
       "1 -0.039493 -0.068330 -0.092204  \n",
       "2 -0.002592  0.002864 -0.025930  \n",
       "3  0.034309  0.022692 -0.009362  \n",
       "4 -0.002592 -0.031991 -0.046641  "
      ]
     },
     "execution_count": 97,
     "metadata": {},
     "output_type": "execute_result"
    }
   ],
   "source": [
    "import pandas as pd\n",
    "x_features = pd.DataFrame(X_diabetes,\n",
    "                        columns=['age','sex','bmi','bp','s1 tc','s2 ldl','s3 hdl','s4 tch','s5 ltg','s6 glu'])\n",
    "x_features.head()"
   ]
  },
  {
   "cell_type": "code",
   "execution_count": 98,
   "metadata": {},
   "outputs": [
    {
     "data": {
      "text/html": [
       "<div>\n",
       "<style scoped>\n",
       "    .dataframe tbody tr th:only-of-type {\n",
       "        vertical-align: middle;\n",
       "    }\n",
       "\n",
       "    .dataframe tbody tr th {\n",
       "        vertical-align: top;\n",
       "    }\n",
       "\n",
       "    .dataframe thead th {\n",
       "        text-align: right;\n",
       "    }\n",
       "</style>\n",
       "<table border=\"1\" class=\"dataframe\">\n",
       "  <thead>\n",
       "    <tr style=\"text-align: right;\">\n",
       "      <th></th>\n",
       "      <th>age</th>\n",
       "      <th>sex</th>\n",
       "      <th>bmi</th>\n",
       "      <th>bp</th>\n",
       "      <th>s1 tc</th>\n",
       "      <th>s2 ldl</th>\n",
       "      <th>s3 hdl</th>\n",
       "      <th>s4 tch</th>\n",
       "      <th>s5 ltg</th>\n",
       "      <th>s6 glu</th>\n",
       "    </tr>\n",
       "  </thead>\n",
       "  <tbody>\n",
       "    <tr>\n",
       "      <th>count</th>\n",
       "      <td>4.420000e+02</td>\n",
       "      <td>4.420000e+02</td>\n",
       "      <td>4.420000e+02</td>\n",
       "      <td>4.420000e+02</td>\n",
       "      <td>4.420000e+02</td>\n",
       "      <td>4.420000e+02</td>\n",
       "      <td>4.420000e+02</td>\n",
       "      <td>4.420000e+02</td>\n",
       "      <td>4.420000e+02</td>\n",
       "      <td>4.420000e+02</td>\n",
       "    </tr>\n",
       "    <tr>\n",
       "      <th>mean</th>\n",
       "      <td>-3.634285e-16</td>\n",
       "      <td>1.308343e-16</td>\n",
       "      <td>-8.045349e-16</td>\n",
       "      <td>1.281655e-16</td>\n",
       "      <td>-8.835316e-17</td>\n",
       "      <td>1.327024e-16</td>\n",
       "      <td>-4.574646e-16</td>\n",
       "      <td>3.777301e-16</td>\n",
       "      <td>-3.830854e-16</td>\n",
       "      <td>-3.412882e-16</td>\n",
       "    </tr>\n",
       "    <tr>\n",
       "      <th>std</th>\n",
       "      <td>4.761905e-02</td>\n",
       "      <td>4.761905e-02</td>\n",
       "      <td>4.761905e-02</td>\n",
       "      <td>4.761905e-02</td>\n",
       "      <td>4.761905e-02</td>\n",
       "      <td>4.761905e-02</td>\n",
       "      <td>4.761905e-02</td>\n",
       "      <td>4.761905e-02</td>\n",
       "      <td>4.761905e-02</td>\n",
       "      <td>4.761905e-02</td>\n",
       "    </tr>\n",
       "    <tr>\n",
       "      <th>min</th>\n",
       "      <td>-1.072256e-01</td>\n",
       "      <td>-4.464164e-02</td>\n",
       "      <td>-9.027530e-02</td>\n",
       "      <td>-1.123996e-01</td>\n",
       "      <td>-1.267807e-01</td>\n",
       "      <td>-1.156131e-01</td>\n",
       "      <td>-1.023071e-01</td>\n",
       "      <td>-7.639450e-02</td>\n",
       "      <td>-1.260974e-01</td>\n",
       "      <td>-1.377672e-01</td>\n",
       "    </tr>\n",
       "    <tr>\n",
       "      <th>25%</th>\n",
       "      <td>-3.729927e-02</td>\n",
       "      <td>-4.464164e-02</td>\n",
       "      <td>-3.422907e-02</td>\n",
       "      <td>-3.665645e-02</td>\n",
       "      <td>-3.424784e-02</td>\n",
       "      <td>-3.035840e-02</td>\n",
       "      <td>-3.511716e-02</td>\n",
       "      <td>-3.949338e-02</td>\n",
       "      <td>-3.324879e-02</td>\n",
       "      <td>-3.317903e-02</td>\n",
       "    </tr>\n",
       "    <tr>\n",
       "      <th>50%</th>\n",
       "      <td>5.383060e-03</td>\n",
       "      <td>-4.464164e-02</td>\n",
       "      <td>-7.283766e-03</td>\n",
       "      <td>-5.670611e-03</td>\n",
       "      <td>-4.320866e-03</td>\n",
       "      <td>-3.819065e-03</td>\n",
       "      <td>-6.584468e-03</td>\n",
       "      <td>-2.592262e-03</td>\n",
       "      <td>-1.947634e-03</td>\n",
       "      <td>-1.077698e-03</td>\n",
       "    </tr>\n",
       "    <tr>\n",
       "      <th>75%</th>\n",
       "      <td>3.807591e-02</td>\n",
       "      <td>5.068012e-02</td>\n",
       "      <td>3.124802e-02</td>\n",
       "      <td>3.564384e-02</td>\n",
       "      <td>2.835801e-02</td>\n",
       "      <td>2.984439e-02</td>\n",
       "      <td>2.931150e-02</td>\n",
       "      <td>3.430886e-02</td>\n",
       "      <td>3.243323e-02</td>\n",
       "      <td>2.791705e-02</td>\n",
       "    </tr>\n",
       "    <tr>\n",
       "      <th>max</th>\n",
       "      <td>1.107267e-01</td>\n",
       "      <td>5.068012e-02</td>\n",
       "      <td>1.705552e-01</td>\n",
       "      <td>1.320442e-01</td>\n",
       "      <td>1.539137e-01</td>\n",
       "      <td>1.987880e-01</td>\n",
       "      <td>1.811791e-01</td>\n",
       "      <td>1.852344e-01</td>\n",
       "      <td>1.335990e-01</td>\n",
       "      <td>1.356118e-01</td>\n",
       "    </tr>\n",
       "  </tbody>\n",
       "</table>\n",
       "</div>"
      ],
      "text/plain": [
       "                age           sex           bmi            bp         s1 tc  \\\n",
       "count  4.420000e+02  4.420000e+02  4.420000e+02  4.420000e+02  4.420000e+02   \n",
       "mean  -3.634285e-16  1.308343e-16 -8.045349e-16  1.281655e-16 -8.835316e-17   \n",
       "std    4.761905e-02  4.761905e-02  4.761905e-02  4.761905e-02  4.761905e-02   \n",
       "min   -1.072256e-01 -4.464164e-02 -9.027530e-02 -1.123996e-01 -1.267807e-01   \n",
       "25%   -3.729927e-02 -4.464164e-02 -3.422907e-02 -3.665645e-02 -3.424784e-02   \n",
       "50%    5.383060e-03 -4.464164e-02 -7.283766e-03 -5.670611e-03 -4.320866e-03   \n",
       "75%    3.807591e-02  5.068012e-02  3.124802e-02  3.564384e-02  2.835801e-02   \n",
       "max    1.107267e-01  5.068012e-02  1.705552e-01  1.320442e-01  1.539137e-01   \n",
       "\n",
       "             s2 ldl        s3 hdl        s4 tch        s5 ltg        s6 glu  \n",
       "count  4.420000e+02  4.420000e+02  4.420000e+02  4.420000e+02  4.420000e+02  \n",
       "mean   1.327024e-16 -4.574646e-16  3.777301e-16 -3.830854e-16 -3.412882e-16  \n",
       "std    4.761905e-02  4.761905e-02  4.761905e-02  4.761905e-02  4.761905e-02  \n",
       "min   -1.156131e-01 -1.023071e-01 -7.639450e-02 -1.260974e-01 -1.377672e-01  \n",
       "25%   -3.035840e-02 -3.511716e-02 -3.949338e-02 -3.324879e-02 -3.317903e-02  \n",
       "50%   -3.819065e-03 -6.584468e-03 -2.592262e-03 -1.947634e-03 -1.077698e-03  \n",
       "75%    2.984439e-02  2.931150e-02  3.430886e-02  3.243323e-02  2.791705e-02  \n",
       "max    1.987880e-01  1.811791e-01  1.852344e-01  1.335990e-01  1.356118e-01  "
      ]
     },
     "execution_count": 98,
     "metadata": {},
     "output_type": "execute_result"
    }
   ],
   "source": [
    "#Các đặc trưng thống kê của các features đầu vào:\n",
    "x_features.describe()"
   ]
  },
  {
   "cell_type": "code",
   "execution_count": 99,
   "metadata": {},
   "outputs": [
    {
     "data": {
      "text/html": [
       "<div>\n",
       "<style scoped>\n",
       "    .dataframe tbody tr th:only-of-type {\n",
       "        vertical-align: middle;\n",
       "    }\n",
       "\n",
       "    .dataframe tbody tr th {\n",
       "        vertical-align: top;\n",
       "    }\n",
       "\n",
       "    .dataframe thead th {\n",
       "        text-align: right;\n",
       "    }\n",
       "</style>\n",
       "<table border=\"1\" class=\"dataframe\">\n",
       "  <thead>\n",
       "    <tr style=\"text-align: right;\">\n",
       "      <th></th>\n",
       "      <th>qmodp</th>\n",
       "    </tr>\n",
       "  </thead>\n",
       "  <tbody>\n",
       "    <tr>\n",
       "      <th>count</th>\n",
       "      <td>442.000000</td>\n",
       "    </tr>\n",
       "    <tr>\n",
       "      <th>mean</th>\n",
       "      <td>152.133484</td>\n",
       "    </tr>\n",
       "    <tr>\n",
       "      <th>std</th>\n",
       "      <td>77.093005</td>\n",
       "    </tr>\n",
       "    <tr>\n",
       "      <th>min</th>\n",
       "      <td>25.000000</td>\n",
       "    </tr>\n",
       "    <tr>\n",
       "      <th>25%</th>\n",
       "      <td>87.000000</td>\n",
       "    </tr>\n",
       "    <tr>\n",
       "      <th>50%</th>\n",
       "      <td>140.500000</td>\n",
       "    </tr>\n",
       "    <tr>\n",
       "      <th>75%</th>\n",
       "      <td>211.500000</td>\n",
       "    </tr>\n",
       "    <tr>\n",
       "      <th>max</th>\n",
       "      <td>346.000000</td>\n",
       "    </tr>\n",
       "  </tbody>\n",
       "</table>\n",
       "</div>"
      ],
      "text/plain": [
       "            qmodp\n",
       "count  442.000000\n",
       "mean   152.133484\n",
       "std     77.093005\n",
       "min     25.000000\n",
       "25%     87.000000\n",
       "50%    140.500000\n",
       "75%    211.500000\n",
       "max    346.000000"
      ]
     },
     "execution_count": 99,
     "metadata": {},
     "output_type": "execute_result"
    }
   ],
   "source": [
    "#Quan sát các đặc trưng thống kê của diabetes: Target\n",
    "import pandas as pd\n",
    "y_diabetes = pd.DataFrame(y_diabetes,columns=['qmodp'])\n",
    "y_diabetes.describe()"
   ]
  },
  {
   "cell_type": "code",
   "execution_count": 100,
   "metadata": {},
   "outputs": [
    {
     "data": {
      "text/html": [
       "<div>\n",
       "<style scoped>\n",
       "    .dataframe tbody tr th:only-of-type {\n",
       "        vertical-align: middle;\n",
       "    }\n",
       "\n",
       "    .dataframe tbody tr th {\n",
       "        vertical-align: top;\n",
       "    }\n",
       "\n",
       "    .dataframe thead th {\n",
       "        text-align: right;\n",
       "    }\n",
       "</style>\n",
       "<table border=\"1\" class=\"dataframe\">\n",
       "  <thead>\n",
       "    <tr style=\"text-align: right;\">\n",
       "      <th></th>\n",
       "      <th>age</th>\n",
       "      <th>sex</th>\n",
       "      <th>bmi</th>\n",
       "      <th>bp</th>\n",
       "      <th>s1 tc</th>\n",
       "      <th>s2 ldl</th>\n",
       "      <th>s3 hdl</th>\n",
       "      <th>s4 tch</th>\n",
       "      <th>s5 ltg</th>\n",
       "      <th>s6 glu</th>\n",
       "      <th>qmodp</th>\n",
       "    </tr>\n",
       "  </thead>\n",
       "  <tbody>\n",
       "    <tr>\n",
       "      <th>0</th>\n",
       "      <td>0.038076</td>\n",
       "      <td>0.050680</td>\n",
       "      <td>0.061696</td>\n",
       "      <td>0.021872</td>\n",
       "      <td>-0.044223</td>\n",
       "      <td>-0.034821</td>\n",
       "      <td>-0.043401</td>\n",
       "      <td>-0.002592</td>\n",
       "      <td>0.019908</td>\n",
       "      <td>-0.017646</td>\n",
       "      <td>151.0</td>\n",
       "    </tr>\n",
       "    <tr>\n",
       "      <th>1</th>\n",
       "      <td>-0.001882</td>\n",
       "      <td>-0.044642</td>\n",
       "      <td>-0.051474</td>\n",
       "      <td>-0.026328</td>\n",
       "      <td>-0.008449</td>\n",
       "      <td>-0.019163</td>\n",
       "      <td>0.074412</td>\n",
       "      <td>-0.039493</td>\n",
       "      <td>-0.068330</td>\n",
       "      <td>-0.092204</td>\n",
       "      <td>75.0</td>\n",
       "    </tr>\n",
       "    <tr>\n",
       "      <th>2</th>\n",
       "      <td>0.085299</td>\n",
       "      <td>0.050680</td>\n",
       "      <td>0.044451</td>\n",
       "      <td>-0.005671</td>\n",
       "      <td>-0.045599</td>\n",
       "      <td>-0.034194</td>\n",
       "      <td>-0.032356</td>\n",
       "      <td>-0.002592</td>\n",
       "      <td>0.002864</td>\n",
       "      <td>-0.025930</td>\n",
       "      <td>141.0</td>\n",
       "    </tr>\n",
       "    <tr>\n",
       "      <th>3</th>\n",
       "      <td>-0.089063</td>\n",
       "      <td>-0.044642</td>\n",
       "      <td>-0.011595</td>\n",
       "      <td>-0.036656</td>\n",
       "      <td>0.012191</td>\n",
       "      <td>0.024991</td>\n",
       "      <td>-0.036038</td>\n",
       "      <td>0.034309</td>\n",
       "      <td>0.022692</td>\n",
       "      <td>-0.009362</td>\n",
       "      <td>206.0</td>\n",
       "    </tr>\n",
       "    <tr>\n",
       "      <th>4</th>\n",
       "      <td>0.005383</td>\n",
       "      <td>-0.044642</td>\n",
       "      <td>-0.036385</td>\n",
       "      <td>0.021872</td>\n",
       "      <td>0.003935</td>\n",
       "      <td>0.015596</td>\n",
       "      <td>0.008142</td>\n",
       "      <td>-0.002592</td>\n",
       "      <td>-0.031991</td>\n",
       "      <td>-0.046641</td>\n",
       "      <td>135.0</td>\n",
       "    </tr>\n",
       "  </tbody>\n",
       "</table>\n",
       "</div>"
      ],
      "text/plain": [
       "        age       sex       bmi        bp     s1 tc    s2 ldl    s3 hdl  \\\n",
       "0  0.038076  0.050680  0.061696  0.021872 -0.044223 -0.034821 -0.043401   \n",
       "1 -0.001882 -0.044642 -0.051474 -0.026328 -0.008449 -0.019163  0.074412   \n",
       "2  0.085299  0.050680  0.044451 -0.005671 -0.045599 -0.034194 -0.032356   \n",
       "3 -0.089063 -0.044642 -0.011595 -0.036656  0.012191  0.024991 -0.036038   \n",
       "4  0.005383 -0.044642 -0.036385  0.021872  0.003935  0.015596  0.008142   \n",
       "\n",
       "     s4 tch    s5 ltg    s6 glu  qmodp  \n",
       "0 -0.002592  0.019908 -0.017646  151.0  \n",
       "1 -0.039493 -0.068330 -0.092204   75.0  \n",
       "2 -0.002592  0.002864 -0.025930  141.0  \n",
       "3  0.034309  0.022692 -0.009362  206.0  \n",
       "4 -0.002592 -0.031991 -0.046641  135.0  "
      ]
     },
     "execution_count": 100,
     "metadata": {},
     "output_type": "execute_result"
    }
   ],
   "source": [
    "#Ghép các thuộc tính input và label vào 1 dataframe\n",
    "diabetes = pd.concat([x_features,y_diabetes],axis=1)\n",
    "diabetes.head()"
   ]
  },
  {
   "cell_type": "code",
   "execution_count": 101,
   "metadata": {},
   "outputs": [
    {
     "data": {
      "text/plain": [
       "<matplotlib.axes._subplots.AxesSubplot at 0x1a4ba071220>"
      ]
     },
     "execution_count": 101,
     "metadata": {},
     "output_type": "execute_result"
    },
    {
     "data": {
      "image/png": "[encoded data removed]",
      "text/plain": [
       "<Figure size 720x360 with 2 Axes>"
      ]
     },
     "metadata": {},
     "output_type": "display_data"
    }
   ],
   "source": [
    "import seaborn as sns \n",
    "%matplotlib inline\n",
    "correlation_matrix = diabetes.corr().round(2)\n",
    "# annot = True to print the values inside the square\n",
    "sns.set(rc={'figure.figsize':(10,5)})\n",
    "sns.heatmap(data=correlation_matrix, annot=True)"
   ]
  },
  {
   "cell_type": "code",
   "execution_count": 102,
   "metadata": {},
   "outputs": [
    {
     "data": {
      "text/html": [
       "<div>\n",
       "<style scoped>\n",
       "    .dataframe tbody tr th:only-of-type {\n",
       "        vertical-align: middle;\n",
       "    }\n",
       "\n",
       "    .dataframe tbody tr th {\n",
       "        vertical-align: top;\n",
       "    }\n",
       "\n",
       "    .dataframe thead th {\n",
       "        text-align: right;\n",
       "    }\n",
       "</style>\n",
       "<table border=\"1\" class=\"dataframe\">\n",
       "  <thead>\n",
       "    <tr style=\"text-align: right;\">\n",
       "      <th></th>\n",
       "      <th>bmi</th>\n",
       "      <th>qmodp</th>\n",
       "    </tr>\n",
       "  </thead>\n",
       "  <tbody>\n",
       "    <tr>\n",
       "      <th>0</th>\n",
       "      <td>0.061696</td>\n",
       "      <td>151.0</td>\n",
       "    </tr>\n",
       "    <tr>\n",
       "      <th>1</th>\n",
       "      <td>-0.051474</td>\n",
       "      <td>75.0</td>\n",
       "    </tr>\n",
       "    <tr>\n",
       "      <th>2</th>\n",
       "      <td>0.044451</td>\n",
       "      <td>141.0</td>\n",
       "    </tr>\n",
       "    <tr>\n",
       "      <th>3</th>\n",
       "      <td>-0.011595</td>\n",
       "      <td>206.0</td>\n",
       "    </tr>\n",
       "    <tr>\n",
       "      <th>4</th>\n",
       "      <td>-0.036385</td>\n",
       "      <td>135.0</td>\n",
       "    </tr>\n",
       "  </tbody>\n",
       "</table>\n",
       "</div>"
      ],
      "text/plain": [
       "        bmi  qmodp\n",
       "0  0.061696  151.0\n",
       "1 -0.051474   75.0\n",
       "2  0.044451  141.0\n",
       "3 -0.011595  206.0\n",
       "4 -0.036385  135.0"
      ]
     },
     "execution_count": 102,
     "metadata": {},
     "output_type": "execute_result"
    }
   ],
   "source": [
    "data_simple_linear = diabetes[['bmi','qmodp']]\n",
    "data_simple_linear.head()"
   ]
  },
  {
   "cell_type": "code",
   "execution_count": 103,
   "metadata": {},
   "outputs": [
    {
     "name": "stdout",
     "output_type": "stream",
     "text": [
      "Chỉ số khối cơ thể: [ 0.06169621 -0.05147406  0.04445121 -0.01159501 -0.03638469 -0.04069594\n",
      " -0.04716281 -0.00189471  0.06169621  0.03906215]\n",
      "Thước đo tiến triển bệnh: [151.  75. 141. 206. 135.  97. 138.  63. 110. 310.]\n",
      "----------------------------------------------------\n",
      "giới tính : [ 0.05068012 -0.04464164  0.05068012 -0.04464164 -0.04464164 -0.04464164\n",
      "  0.05068012  0.05068012  0.05068012 -0.04464164]\n",
      "Thước đo tiến triển bệnh: [151.  75. 141. 206. 135.  97. 138.  63. 110. 310.]\n"
     ]
    }
   ],
   "source": [
    "#Tách các biến độc lập để xây dựng mô hình hồi quy\n",
    "X_bmi = diabetes['bmi'].values\n",
    "X_sex = diabetes['sex'].values\n",
    "\n",
    "\n",
    "y_diabetes = diabetes['qmodp'].values\n",
    "print('Chỉ số khối cơ thể:', X_bmi[:10])\n",
    "print('Thước đo tiến triển bệnh:', y_diabetes[:10])\n",
    "print('----------------------------------------------------')\n",
    "print('giới tính :', X_sex[:10])\n",
    "print('Thước đo tiến triển bệnh:', y_diabetes[:10])"
   ]
  },
  {
   "cell_type": "code",
   "execution_count": 104,
   "metadata": {},
   "outputs": [
    {
     "name": "stdout",
     "output_type": "stream",
     "text": [
      "1. Kích thước tập Training: 331\n",
      "2. Kích thước tập Test    : 111\n"
     ]
    }
   ],
   "source": [
    "#Sử dụng thuộc tính RM\n",
    "from sklearn.model_selection import train_test_split\n",
    "X_train, X_test, y_train, y_test = train_test_split(X_bmi, \n",
    "                                                    y_diabetes, \n",
    "                                                    test_size=0.25, \n",
    "                                                    random_state=50)\n",
    "X_train = X_train.reshape(-1, 1)\n",
    "y_train = y_train.reshape(-1, 1)\n",
    "print(\"1. Kích thước tập Training: %d\" %len(y_train))\n",
    "print(\"2. Kích thước tập Test    : %d\" %len(y_test))"
   ]
  },
  {
   "cell_type": "markdown",
   "metadata": {},
   "source": [
    "### Yêu cầu 3:\n",
    "---\n",
    "* 1) Xây dựng mô hình hồi quy tuyến tính đơn giản (Simple Linear Regression) với thuộc tính có ảnh hưởng cao nhất tới thuộc tính Target. Xác định sai số RMSE và R2 trên tập Train và Test.\n",
    "* 2) Xây dựng mô hình hồi quy tuyến tính với tất các thuộc tính đầu vào (input). Xác định sai số RMSE và R2  trên tập Train và Test.\n"
   ]
  },
  {
   "cell_type": "markdown",
   "metadata": {},
   "source": [
    "\n",
    "\n",
    "## 1) Xây dựng mô hình hồi quy tuyến tính đơn giản (Simple Linear Regression) với thuộc tính có ảnh hưởng cao nhất tới thuộc tính Target. Xác định sai số RMSE và R2 trên tập Train và Test.\n"
   ]
  },
  {
   "cell_type": "code",
   "execution_count": 105,
   "metadata": {},
   "outputs": [
    {
     "data": {
      "text/plain": [
       "LinearRegression()"
      ]
     },
     "execution_count": 105,
     "metadata": {},
     "output_type": "execute_result"
    }
   ],
   "source": [
    "#Sử dụng model hồi quy tuyến tính cho bài toán \n",
    "from sklearn.linear_model import LinearRegression\n",
    "lin_model = LinearRegression(fit_intercept=True)\n",
    "lin_model.fit(X_train, y_train)"
   ]
  },
  {
   "cell_type": "code",
   "execution_count": 106,
   "metadata": {},
   "outputs": [
    {
     "data": {
      "text/plain": [
       "array([[928.53817304]])"
      ]
     },
     "execution_count": 106,
     "metadata": {},
     "output_type": "execute_result"
    }
   ],
   "source": [
    "#Lấy các hệ số \n",
    "b1 = lin_model.coef_\n",
    "b1"
   ]
  },
  {
   "cell_type": "code",
   "execution_count": 107,
   "metadata": {},
   "outputs": [
    {
     "data": {
      "text/plain": [
       "array([152.89166943])"
      ]
     },
     "execution_count": 107,
     "metadata": {},
     "output_type": "execute_result"
    }
   ],
   "source": [
    "#Lấy bias\n",
    "b0 = lin_model.intercept_\n",
    "b0"
   ]
  },
  {
   "cell_type": "code",
   "execution_count": 108,
   "metadata": {},
   "outputs": [
    {
     "data": {
      "image/png": "[encoded data removed]",
      "text/plain": [
       "<Figure size 720x360 with 1 Axes>"
      ]
     },
     "metadata": {},
     "output_type": "display_data"
    }
   ],
   "source": [
    "#Trực quan hóa đường hồi quy tuyến tính\n",
    "import numpy as np\n",
    "xx=np.linspace(min(X_train),max(X_train)).reshape(-1,1)\n",
    "plt.scatter(X_train,y_train,color=\"blue\")\n",
    "plt.plot(xx,lin_model.predict(xx),color=\"red\",linewidth=3)\n",
    "plt.ylabel(\"y: Value of house / 1000 USD\")\n",
    "plt.xlabel(\"x: Number of rooms\")\n",
    "plt.show()"
   ]
  },
  {
   "cell_type": "code",
   "execution_count": 109,
   "metadata": {},
   "outputs": [
    {
     "name": "stdout",
     "output_type": "stream",
     "text": [
      "chỉ số bmi:  -0.0406959404999971\n",
      "thước đo tiến triển  [[115.10393518]]\n"
     ]
    }
   ],
   "source": [
    "#Check thử\n",
    "\n",
    "b1 = lin_model.coef_\n",
    "b0 = lin_model.intercept_\n",
    "\n",
    "x = X_test[0]\n",
    "print('chỉ số bmi: ', x)\n",
    "y = b0 + b1*x\n",
    "print('thước đo tiến triển ', y)"
   ]
  },
  {
   "cell_type": "code",
   "execution_count": 110,
   "metadata": {},
   "outputs": [
    {
     "data": {
      "text/plain": [
       "array([[115.10393518,  92.08577314, 244.20580054,  94.08735245,\n",
       "         70.06840075, 134.11893861, 157.13710065, 195.1671075 ,\n",
       "        138.12209722, 143.12604549, 150.13157307, 122.10946276,\n",
       "        101.09288003,  95.0881421 ,  93.0865628 ,  96.08893176,\n",
       "        102.09366968, 159.13867996, 177.15289373, 125.11183172,\n",
       "        210.17895231, 135.11972826, 159.13867996, 123.11025242,\n",
       "        158.1378903 , 186.16000061, 145.1276248 , 131.11656965,\n",
       "        139.12288688, 235.19869366, 224.19000747, 147.12920411,\n",
       "         96.08893176,  81.07708695,  97.08972141,  83.07866626,\n",
       "        199.17026612, 132.1173593 , 132.1173593 , 203.17342473,\n",
       "        154.13473169, 175.15131442, 169.1465765 , 114.10314553,\n",
       "        213.18132127, 157.13710065, 179.15447304, 196.16789715,\n",
       "        239.20185228, 124.11104207, 179.15447304, 169.1465765 ,\n",
       "        181.15605235, 156.136311  , 113.10235588, 124.11104207,\n",
       "        148.12999376, 202.17263508,  92.08577314, 232.1963247 ,\n",
       "        154.13473169, 143.12604549,  77.07392833, 167.14499719,\n",
       "        100.09209037, 163.14183857, 138.12209722, 130.11577999,\n",
       "         92.08577314, 119.1070938 , 172.14894546, 181.15605235,\n",
       "        105.09603864, 240.20264193, 183.15763165, 203.17342473,\n",
       "        169.1465765 , 255.21448674, 194.16631785, 151.13236273,\n",
       "        130.11577999, 122.10946276, 149.13078342, 207.17658335,\n",
       "        219.1860592 , 189.16236958, 141.12446619, 219.1860592 ,\n",
       "        118.10630415, 150.13157307, 197.16868681, 169.1465765 ,\n",
       "        122.10946276, 232.1963247 , 148.12999376, 172.14894546,\n",
       "        235.19869366, 125.11183172, 124.11104207, 142.12525584,\n",
       "        203.17342473, 166.14420754, 181.15605235, 189.16236958,\n",
       "        143.12604549, 272.22791086, 190.16315923, 142.12525584,\n",
       "        122.10946276, 124.11104207, 189.16236958]])"
      ]
     },
     "execution_count": 110,
     "metadata": {},
     "output_type": "execute_result"
    }
   ],
   "source": [
    "X_test = X_test.reshape(-1, 1)\n",
    "#y_test = y_test.reshape(-1, 1)\n",
    "\n",
    "y_pred =lin_model.predict(X_test)\n",
    "y_pred.reshape(1,-1)"
   ]
  },
  {
   "cell_type": "code",
   "execution_count": 111,
   "metadata": {},
   "outputs": [
    {
     "data": {
      "text/plain": [
       "<matplotlib.legend.Legend at 0x1a4ba2b89d0>"
      ]
     },
     "execution_count": 111,
     "metadata": {},
     "output_type": "execute_result"
    },
    {
     "data": {
      "image/png": "[encoded data removed]",
      "text/plain": [
       "<Figure size 720x360 with 1 Axes>"
      ]
     },
     "metadata": {},
     "output_type": "display_data"
    }
   ],
   "source": [
    "#Trực quan hóa kết quả\n",
    "plt.plot(y_pred[:20], marker='*',color ='black', linestyle=':', label='Giá dự đoán - Prediction')\n",
    "plt.plot(y_test[:20], marker='d', color='red', linestyle='--', label='Giá thật - Groundtruth')\n",
    "plt.legend()"
   ]
  },
  {
   "cell_type": "code",
   "execution_count": 112,
   "metadata": {},
   "outputs": [
    {
     "name": "stdout",
     "output_type": "stream",
     "text": [
      "1.A) MÔ HÌNH HỒI QUY TUYẾN TÍNH SỬ DỤNG 1 BIẾN ĐỘC LẬP\n",
      "Độ chính xác của mô hình trên tập huấn luyện:\n",
      "--------------------------------------------\n",
      "Sai số RMSE 63.529657408757075\n",
      "Sai số R2   0.32553653736178445\n",
      "\n",
      "\n",
      "Độ chính xác của mô hình trên tập kiểm thử:\n",
      "-------------------------------------------\n",
      "Sai số RMSE 58.844031963629675\n",
      "Sai số R2   0.39962717217367993\n"
     ]
    }
   ],
   "source": [
    "from sklearn.metrics import mean_squared_error, r2_score\n",
    "# model evaluation for training set\n",
    "y_train_predict = lin_model.predict(X_train)\n",
    "y_train_predict = y_train_predict.reshape(-1,1)\n",
    "\n",
    "rmse = (np.sqrt(mean_squared_error(y_train, y_train_predict)))\n",
    "r2 = r2_score(y_train, y_train_predict)\n",
    "\n",
    "print('1.A) MÔ HÌNH HỒI QUY TUYẾN TÍNH SỬ DỤNG 1 BIẾN ĐỘC LẬP')\n",
    "print(\"Độ chính xác của mô hình trên tập huấn luyện:\")\n",
    "print(\"--------------------------------------------\")\n",
    "print('Sai số RMSE {}'.format(rmse))\n",
    "print('Sai số R2   {}'.format(r2))\n",
    "print(\"\\n\")\n",
    "\n",
    "# model evaluation for testing set\n",
    "y_test_predict = lin_model.predict(X_test)\n",
    "y_test_predict = y_test_predict.reshape(-1,1)\n",
    "\n",
    "y_test = y_test.reshape(-1,1)\n",
    "rmse = (np.sqrt(mean_squared_error(y_test, y_test_predict)))\n",
    "r2 = r2_score(y_test, y_test_predict)\n",
    "\n",
    "print(\"Độ chính xác của mô hình trên tập kiểm thử:\")\n",
    "print(\"-------------------------------------------\")\n",
    "print('Sai số RMSE {}'.format(rmse))\n",
    "print('Sai số R2   {}'.format(r2))"
   ]
  },
  {
   "cell_type": "markdown",
   "metadata": {},
   "source": [
    "## 2) Xây dựng mô hình hồi quy tuyến tính với tất các thuộc tính đầu vào (input). Xác định sai số RMSE và R2 trên tập Train và Test."
   ]
  },
  {
   "cell_type": "code",
   "execution_count": 113,
   "metadata": {},
   "outputs": [
    {
     "name": "stdout",
     "output_type": "stream",
     "text": [
      "1. Kích thước tập Training: 353\n",
      "2. Kích thước tập Test    : 89\n"
     ]
    }
   ],
   "source": [
    "# Biến X_diabetes: Lưu trữ 10 biến độc lập (input)\n",
    "# Biến y_diabetes: Lưu trữ biến phụ thuộc (target)\n",
    "\n",
    "from sklearn.model_selection import train_test_split\n",
    "X_train_all, X_test_all, y_train, y_test = train_test_split(X_diabetes, \n",
    "                                                    y_diabetes, \n",
    "                                                    test_size=0.2, \n",
    "                                                    random_state=50)\n",
    "print(\"1. Kích thước tập Training: %d\" %len(y_train))\n",
    "print(\"2. Kích thước tập Test    : %d\" %len(y_test))"
   ]
  },
  {
   "cell_type": "code",
   "execution_count": 114,
   "metadata": {},
   "outputs": [
    {
     "data": {
      "text/plain": [
       "array([[ 0.08166637,  0.05068012, -0.00297252, -0.03321358,  0.04246153,\n",
       "         0.05787118, -0.01026611,  0.03430886, -0.00060925, -0.0010777 ],\n",
       "       [-0.02730979, -0.04464164,  0.04768465, -0.04698506,  0.03420581,\n",
       "         0.05724488, -0.08021722,  0.13025177,  0.04506617,  0.13146972]])"
      ]
     },
     "execution_count": 114,
     "metadata": {},
     "output_type": "execute_result"
    }
   ],
   "source": [
    "X_train_all[:2,:]"
   ]
  },
  {
   "cell_type": "code",
   "execution_count": 115,
   "metadata": {},
   "outputs": [
    {
     "data": {
      "text/plain": [
       "array([139., 317.])"
      ]
     },
     "execution_count": 115,
     "metadata": {},
     "output_type": "execute_result"
    }
   ],
   "source": [
    "y_train[:2]"
   ]
  },
  {
   "cell_type": "code",
   "execution_count": 116,
   "metadata": {},
   "outputs": [
    {
     "data": {
      "text/plain": [
       "LinearRegression()"
      ]
     },
     "execution_count": 116,
     "metadata": {},
     "output_type": "execute_result"
    }
   ],
   "source": [
    "#Sử dụng model hồi quy tuyến tính cho bài toán \n",
    "from sklearn.linear_model import LinearRegression\n",
    "lin_model_all = LinearRegression(fit_intercept=True)# fit ứng với beta 0\n",
    "lin_model_all.fit(X_train_all, y_train)"
   ]
  },
  {
   "cell_type": "code",
   "execution_count": 117,
   "metadata": {},
   "outputs": [
    {
     "name": "stdout",
     "output_type": "stream",
     "text": [
      "b0 = 151.78046854168937\n",
      "b1 = 41.48025115445525\n",
      "b2 = -256.08058843752474\n",
      "b3 = 498.42115053692453\n",
      "b4 = 343.1144072430577\n",
      "b5 = -995.0395561657715\n",
      "b6 = 658.246517636718\n",
      "b7 = 174.95061270078656\n",
      "b8 = 190.25932697663617\n",
      "b9 = 836.3716565174698\n",
      "b10 = 25.4883085779313\n"
     ]
    }
   ],
   "source": [
    "b0 = lin_model_all.intercept_\n",
    "print('b0 =',b0)\n",
    "dem=1\n",
    "for i in lin_model_all.coef_:\n",
    "    x = 'b'+str(dem)\n",
    "    print(x,'=',i)\n",
    "    dem=dem+1"
   ]
  },
  {
   "cell_type": "code",
   "execution_count": 118,
   "metadata": {},
   "outputs": [
    {
     "data": {
      "text/html": [
       "<div>\n",
       "<style scoped>\n",
       "    .dataframe tbody tr th:only-of-type {\n",
       "        vertical-align: middle;\n",
       "    }\n",
       "\n",
       "    .dataframe tbody tr th {\n",
       "        vertical-align: top;\n",
       "    }\n",
       "\n",
       "    .dataframe thead th {\n",
       "        text-align: right;\n",
       "    }\n",
       "</style>\n",
       "<table border=\"1\" class=\"dataframe\">\n",
       "  <thead>\n",
       "    <tr style=\"text-align: right;\">\n",
       "      <th></th>\n",
       "      <th>Coefficient</th>\n",
       "    </tr>\n",
       "  </thead>\n",
       "  <tbody>\n",
       "    <tr>\n",
       "      <th>age</th>\n",
       "      <td>41.480251</td>\n",
       "    </tr>\n",
       "    <tr>\n",
       "      <th>sex</th>\n",
       "      <td>-256.080588</td>\n",
       "    </tr>\n",
       "    <tr>\n",
       "      <th>bmi</th>\n",
       "      <td>498.421151</td>\n",
       "    </tr>\n",
       "    <tr>\n",
       "      <th>bp</th>\n",
       "      <td>343.114407</td>\n",
       "    </tr>\n",
       "    <tr>\n",
       "      <th>s1 tc</th>\n",
       "      <td>-995.039556</td>\n",
       "    </tr>\n",
       "    <tr>\n",
       "      <th>s2 ldl</th>\n",
       "      <td>658.246518</td>\n",
       "    </tr>\n",
       "    <tr>\n",
       "      <th>s3 hdl</th>\n",
       "      <td>174.950613</td>\n",
       "    </tr>\n",
       "    <tr>\n",
       "      <th>s4 tch</th>\n",
       "      <td>190.259327</td>\n",
       "    </tr>\n",
       "    <tr>\n",
       "      <th>s5 ltg</th>\n",
       "      <td>836.371657</td>\n",
       "    </tr>\n",
       "    <tr>\n",
       "      <th>s6 glu</th>\n",
       "      <td>25.488309</td>\n",
       "    </tr>\n",
       "  </tbody>\n",
       "</table>\n",
       "</div>"
      ],
      "text/plain": [
       "        Coefficient\n",
       "age       41.480251\n",
       "sex     -256.080588\n",
       "bmi      498.421151\n",
       "bp       343.114407\n",
       "s1 tc   -995.039556\n",
       "s2 ldl   658.246518\n",
       "s3 hdl   174.950613\n",
       "s4 tch   190.259327\n",
       "s5 ltg   836.371657\n",
       "s6 glu    25.488309"
      ]
     },
     "execution_count": 118,
     "metadata": {},
     "output_type": "execute_result"
    }
   ],
   "source": [
    "#Các hệ số ứng với từng biến độc lập:\n",
    "coeff_df = pd.DataFrame(lin_model_all.coef_, x_features.columns, columns =['Coefficient'])\n",
    "coeff_df"
   ]
  },
  {
   "cell_type": "code",
   "execution_count": 119,
   "metadata": {},
   "outputs": [
    {
     "name": "stdout",
     "output_type": "stream",
     "text": [
      "b0 = 151.78046854168937\n"
     ]
    }
   ],
   "source": [
    "b0 = lin_model_all.intercept_\n",
    "print('b0 =',b0)"
   ]
  },
  {
   "cell_type": "code",
   "execution_count": 120,
   "metadata": {},
   "outputs": [
    {
     "name": "stdout",
     "output_type": "stream",
     "text": [
      "[ 72.39635284  87.10241309 269.74341071  80.60898279  73.1741801\n",
      "  42.89772697 154.94323987 186.45829394  97.94144538 137.63198912\n",
      " 157.59342356 100.52649635 106.13055228  83.12440293 145.0406827\n",
      "  81.78006479  77.23359572 151.17821453 160.40179413  92.54844233\n",
      " 157.76025214 141.3471851  167.02455754 126.14443914 213.42218891\n",
      " 163.7321554  158.26881524 121.53466999 125.78366562 245.05645831\n",
      " 221.33030832 185.35779481  51.76587731  38.79576972  57.14817637\n",
      "  36.5754586  155.4325103  123.60372691 165.12419399 133.48265513\n",
      " 169.0497851  169.29376964 169.84942724 134.04805947 202.35285594\n",
      " 178.64738173 122.20417974 179.58417758 173.16196243  53.74554589\n",
      " 145.60364891  94.4883821  191.77812624 156.29583849  95.47593202\n",
      " 161.81944759 125.2615453  217.02995874 120.04517998 245.56967689\n",
      " 187.10682482 143.63594983  52.47871832 109.33917606 117.84453964\n",
      " 157.11763121 167.28347065 163.00674797  68.66661974  69.06340111\n",
      " 197.43509697 178.86362065  70.24282952 258.92528926 231.69535325\n",
      " 138.21094803 205.39922952 288.77620784 180.99548416 113.3640176\n",
      " 168.91954854 153.56562762 145.83619564 215.99495693 143.002242\n",
      " 211.65292252 145.78459269 218.25715283 100.05125647]\n"
     ]
    }
   ],
   "source": [
    "#Sử dụng model huẩn luyện được trên tập Train để dự đoán trên tập Test\n",
    "y_pred_all = lin_model_all.predict(X_test_all)\n",
    "print(y_pred_all)"
   ]
  },
  {
   "cell_type": "code",
   "execution_count": 121,
   "metadata": {},
   "outputs": [
    {
     "data": {
      "text/plain": [
       "<matplotlib.legend.Legend at 0x1a4ba32c0d0>"
      ]
     },
     "execution_count": 121,
     "metadata": {},
     "output_type": "execute_result"
    },
    {
     "data": {
      "image/png": "[encoded data removed]",
      "text/plain": [
       "<Figure size 720x360 with 1 Axes>"
      ]
     },
     "metadata": {},
     "output_type": "display_data"
    }
   ],
   "source": [
    "#Trực quan hóa kết quả dự đoán với kết quả groudtruth\n",
    "plt.plot(y_pred_all[10:20], marker='*',color ='black', linestyle=':', label='Giá dự đoán - Prediction')\n",
    "plt.plot(y_test[10:20], marker='d', color='red', linestyle='--', label='Giá thật - Groundtruth')\n",
    "plt.legend()"
   ]
  },
  {
   "cell_type": "code",
   "execution_count": 122,
   "metadata": {},
   "outputs": [
    {
     "name": "stdout",
     "output_type": "stream",
     "text": [
      "1.B) MÔ HÌNH HỒI QUY TUYẾN TÍNH VỚI TẤT CẢ CÁC BIẾN ĐỘC LẬP\n",
      "Độ chính xác của mô hình trên tập huấn luyện:\n",
      "--------------------------------------------\n",
      "Sai số RMSE 54.09134887796223\n",
      "Sai số R2   0.5132804580492172\n",
      "\n",
      "\n",
      "Độ chính xác của mô hình trên tập kiểm thử:\n",
      "-------------------------------------------\n",
      "Sai số RMSE 51.487264960611355\n",
      "Sai số R2   0.523408747228272\n"
     ]
    }
   ],
   "source": [
    "from sklearn.metrics import mean_squared_error, r2_score\n",
    "# model evaluation for training set\n",
    "y_train_predict = lin_model_all.predict(X_train_all)\n",
    "y_train_predict = y_train_predict.reshape(-1,1)\n",
    "\n",
    "rmse = (np.sqrt(mean_squared_error(y_train, y_train_predict)))\n",
    "r2 = r2_score(y_train, y_train_predict)\n",
    "\n",
    "print('1.B) MÔ HÌNH HỒI QUY TUYẾN TÍNH VỚI TẤT CẢ CÁC BIẾN ĐỘC LẬP')\n",
    "print(\"Độ chính xác của mô hình trên tập huấn luyện:\")\n",
    "print(\"--------------------------------------------\")\n",
    "print('Sai số RMSE {}'.format(rmse))\n",
    "print('Sai số R2   {}'.format(r2))\n",
    "print(\"\\n\")\n",
    "\n",
    "# model evaluation for testing set\n",
    "y_test_predict = lin_model_all.predict(X_test_all)\n",
    "y_test_predict = y_test_predict.reshape(-1,1)\n",
    "\n",
    "y_test = y_test.reshape(-1,1)\n",
    "rmse = (np.sqrt(mean_squared_error(y_test, y_test_predict)))\n",
    "r2 = r2_score(y_test, y_test_predict)\n",
    "\n",
    "print(\"Độ chính xác của mô hình trên tập kiểm thử:\")\n",
    "print(\"-------------------------------------------\")\n",
    "print('Sai số RMSE {}'.format(rmse))\n",
    "print('Sai số R2   {}'.format(r2))"
   ]
  },
  {
   "cell_type": "markdown",
   "metadata": {},
   "source": [
    "## Xây dựng mô hình hồi quy tuyến tính với 2 thuộc tính đầu vào (input) có hệ số tương quan > |0.5|. Xác định sai số RMSE và R2 trên tập train và test"
   ]
  },
  {
   "cell_type": "code",
   "execution_count": null,
   "metadata": {},
   "outputs": [],
   "source": []
  },
  {
   "cell_type": "code",
   "execution_count": null,
   "metadata": {},
   "outputs": [],
   "source": []
  },
  {
   "cell_type": "code",
   "execution_count": null,
   "metadata": {},
   "outputs": [],
   "source": []
  },
  {
   "cell_type": "code",
   "execution_count": null,
   "metadata": {},
   "outputs": [],
   "source": []
  }
 ],
 "metadata": {
  "kernelspec": {
   "display_name": "Python 3",
   "language": "python",
   "name": "python3"
  },
  "language_info": {
   "codemirror_mode": {
    "name": "ipython",
    "version": 3
   },
   "file_extension": ".py",
   "mimetype": "text/x-python",
   "name": "python",
   "nbconvert_exporter": "python",
   "pygments_lexer": "ipython3",
   "version": "3.8.3"
  }
 },
 "nbformat": 4,
 "nbformat_minor": 2
}
