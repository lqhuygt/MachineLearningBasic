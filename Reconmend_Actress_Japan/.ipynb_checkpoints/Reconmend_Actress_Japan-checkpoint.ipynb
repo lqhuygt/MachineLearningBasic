{
 "cells": [
  {
   "cell_type": "code",
   "execution_count": 1,
   "metadata": {},
   "outputs": [],
   "source": [
    "# import các thư viện cần thiết\n",
    "import pandas as pd\n",
    "import numpy as np\n",
    "import matplotlib.pyplot as plt\n",
    "from sklearn.cluster import KMeans\n",
    "from sklearn import metrics\n",
    "import warnings\n",
    "warnings.filterwarnings(\"ignore\")"
   ]
  },
  {
   "cell_type": "code",
   "execution_count": 2,
   "metadata": {},
   "outputs": [
    {
     "data": {
      "text/html": [
       "<div>\n",
       "<style scoped>\n",
       "    .dataframe tbody tr th:only-of-type {\n",
       "        vertical-align: middle;\n",
       "    }\n",
       "\n",
       "    .dataframe tbody tr th {\n",
       "        vertical-align: top;\n",
       "    }\n",
       "\n",
       "    .dataframe thead th {\n",
       "        text-align: right;\n",
       "    }\n",
       "</style>\n",
       "<table border=\"1\" class=\"dataframe\">\n",
       "  <thead>\n",
       "    <tr style=\"text-align: right;\">\n",
       "      <th></th>\n",
       "      <th>id</th>\n",
       "      <th>name</th>\n",
       "      <th>japanName</th>\n",
       "      <th>hiragana</th>\n",
       "      <th>bust</th>\n",
       "      <th>waist</th>\n",
       "      <th>hip</th>\n",
       "      <th>height</th>\n",
       "      <th>birthday</th>\n",
       "      <th>blood_type</th>\n",
       "      <th>hobby</th>\n",
       "      <th>prefectures</th>\n",
       "    </tr>\n",
       "  </thead>\n",
       "  <tbody>\n",
       "    <tr>\n",
       "      <th>0</th>\n",
       "      <td>3</td>\n",
       "      <td>Kitagawa Yui</td>\n",
       "      <td>北川ゆい</td>\n",
       "      <td>きたがわゆい</td>\n",
       "      <td>95.0</td>\n",
       "      <td>60.0</td>\n",
       "      <td>88.0</td>\n",
       "      <td>NaN</td>\n",
       "      <td>1980-12-14</td>\n",
       "      <td>AB</td>\n",
       "      <td>クラシックバレエ</td>\n",
       "      <td>None</td>\n",
       "    </tr>\n",
       "    <tr>\n",
       "      <th>1</th>\n",
       "      <td>4</td>\n",
       "      <td>Akira</td>\n",
       "      <td>Akira</td>\n",
       "      <td>あきら</td>\n",
       "      <td>90.0</td>\n",
       "      <td>58.0</td>\n",
       "      <td>86.0</td>\n",
       "      <td>157.0</td>\n",
       "      <td>1978-08-15</td>\n",
       "      <td>A</td>\n",
       "      <td>水泳、ゴルフ</td>\n",
       "      <td>東京都</td>\n",
       "    </tr>\n",
       "    <tr>\n",
       "      <th>2</th>\n",
       "      <td>6</td>\n",
       "      <td>Cocolo</td>\n",
       "      <td>COCOLO</td>\n",
       "      <td>こころ</td>\n",
       "      <td>96.0</td>\n",
       "      <td>55.0</td>\n",
       "      <td>85.0</td>\n",
       "      <td>168.0</td>\n",
       "      <td>1982-07-07</td>\n",
       "      <td>B</td>\n",
       "      <td>パソコン</td>\n",
       "      <td>茨城県</td>\n",
       "    </tr>\n",
       "    <tr>\n",
       "      <th>3</th>\n",
       "      <td>8</td>\n",
       "      <td>Saiko</td>\n",
       "      <td>Saiko</td>\n",
       "      <td>さいこ</td>\n",
       "      <td>80.0</td>\n",
       "      <td>59.0</td>\n",
       "      <td>82.0</td>\n",
       "      <td>162.0</td>\n",
       "      <td>1983-04-12</td>\n",
       "      <td>O</td>\n",
       "      <td>料理、大食い</td>\n",
       "      <td>東京都</td>\n",
       "    </tr>\n",
       "    <tr>\n",
       "      <th>4</th>\n",
       "      <td>11</td>\n",
       "      <td>Aida Momo</td>\n",
       "      <td>あいだもも</td>\n",
       "      <td>あいだもも</td>\n",
       "      <td>82.0</td>\n",
       "      <td>55.0</td>\n",
       "      <td>89.0</td>\n",
       "      <td>162.0</td>\n",
       "      <td>1970-06-18</td>\n",
       "      <td>A</td>\n",
       "      <td>エアロビクス</td>\n",
       "      <td>東京都</td>\n",
       "    </tr>\n",
       "  </tbody>\n",
       "</table>\n",
       "</div>"
      ],
      "text/plain": [
       "   id          name japanName hiragana  bust  waist   hip  height    birthday  \\\n",
       "0   3  Kitagawa Yui      北川ゆい   きたがわゆい  95.0   60.0  88.0     NaN  1980-12-14   \n",
       "1   4         Akira     Akira      あきら  90.0   58.0  86.0   157.0  1978-08-15   \n",
       "2   6        Cocolo    COCOLO      こころ  96.0   55.0  85.0   168.0  1982-07-07   \n",
       "3   8         Saiko     Saiko      さいこ  80.0   59.0  82.0   162.0  1983-04-12   \n",
       "4  11     Aida Momo     あいだもも    あいだもも  82.0   55.0  89.0   162.0  1970-06-18   \n",
       "\n",
       "  blood_type     hobby prefectures  \n",
       "0         AB  クラシックバレエ        None  \n",
       "1          A    水泳、ゴルフ         東京都  \n",
       "2          B      パソコン         茨城県  \n",
       "3          O    料理、大食い         東京都  \n",
       "4          A    エアロビクス         東京都  "
      ]
     },
     "execution_count": 2,
     "metadata": {},
     "output_type": "execute_result"
    }
   ],
   "source": [
    "# Hiển thị dữ liệu\n",
    "actress = pd.read_json(\"actress.json\")\n",
    "actress.head()"
   ]
  },
  {
   "cell_type": "code",
   "execution_count": 3,
   "metadata": {},
   "outputs": [
    {
     "name": "stdout",
     "output_type": "stream",
     "text": [
      "<class 'pandas.core.frame.DataFrame'>\n",
      "RangeIndex: 11186 entries, 0 to 11185\n",
      "Data columns (total 5 columns):\n",
      " #   Column      Non-Null Count  Dtype  \n",
      "---  ------      --------------  -----  \n",
      " 0   bust        6456 non-null   float64\n",
      " 1   waist       6436 non-null   float64\n",
      " 2   hip         6428 non-null   float64\n",
      " 3   height      5012 non-null   float64\n",
      " 4   blood_type  3171 non-null   object \n",
      "dtypes: float64(4), object(1)\n",
      "memory usage: 437.1+ KB\n"
     ]
    }
   ],
   "source": [
    "df = actress[['bust','waist','hip','height','blood_type']]\n",
    "df.info()"
   ]
  },
  {
   "cell_type": "code",
   "execution_count": 4,
   "metadata": {},
   "outputs": [
    {
     "name": "stdout",
     "output_type": "stream",
     "text": [
      "<class 'pandas.core.frame.DataFrame'>\n",
      "Int64Index: 2678 entries, 1 to 11185\n",
      "Data columns (total 5 columns):\n",
      " #   Column      Non-Null Count  Dtype  \n",
      "---  ------      --------------  -----  \n",
      " 0   bust        2678 non-null   float64\n",
      " 1   waist       2678 non-null   float64\n",
      " 2   hip         2678 non-null   float64\n",
      " 3   height      2678 non-null   float64\n",
      " 4   blood_type  2678 non-null   object \n",
      "dtypes: float64(4), object(1)\n",
      "memory usage: 125.5+ KB\n"
     ]
    }
   ],
   "source": [
    "# xóa những dòng dữ liệu bị thiếu\n",
    "df = df.dropna()\n",
    "df.info()"
   ]
  },
  {
   "cell_type": "code",
   "execution_count": 5,
   "metadata": {},
   "outputs": [
    {
     "data": {
      "text/html": [
       "<div>\n",
       "<style scoped>\n",
       "    .dataframe tbody tr th:only-of-type {\n",
       "        vertical-align: middle;\n",
       "    }\n",
       "\n",
       "    .dataframe tbody tr th {\n",
       "        vertical-align: top;\n",
       "    }\n",
       "\n",
       "    .dataframe thead th {\n",
       "        text-align: right;\n",
       "    }\n",
       "</style>\n",
       "<table border=\"1\" class=\"dataframe\">\n",
       "  <thead>\n",
       "    <tr style=\"text-align: right;\">\n",
       "      <th></th>\n",
       "      <th>bust</th>\n",
       "      <th>waist</th>\n",
       "      <th>hip</th>\n",
       "      <th>height</th>\n",
       "      <th>blood_type</th>\n",
       "    </tr>\n",
       "  </thead>\n",
       "  <tbody>\n",
       "    <tr>\n",
       "      <th>1</th>\n",
       "      <td>90.0</td>\n",
       "      <td>58.0</td>\n",
       "      <td>86.0</td>\n",
       "      <td>157.0</td>\n",
       "      <td>A</td>\n",
       "    </tr>\n",
       "    <tr>\n",
       "      <th>2</th>\n",
       "      <td>96.0</td>\n",
       "      <td>55.0</td>\n",
       "      <td>85.0</td>\n",
       "      <td>168.0</td>\n",
       "      <td>B</td>\n",
       "    </tr>\n",
       "    <tr>\n",
       "      <th>3</th>\n",
       "      <td>80.0</td>\n",
       "      <td>59.0</td>\n",
       "      <td>82.0</td>\n",
       "      <td>162.0</td>\n",
       "      <td>O</td>\n",
       "    </tr>\n",
       "    <tr>\n",
       "      <th>4</th>\n",
       "      <td>82.0</td>\n",
       "      <td>55.0</td>\n",
       "      <td>89.0</td>\n",
       "      <td>162.0</td>\n",
       "      <td>A</td>\n",
       "    </tr>\n",
       "    <tr>\n",
       "      <th>6</th>\n",
       "      <td>85.0</td>\n",
       "      <td>60.0</td>\n",
       "      <td>88.0</td>\n",
       "      <td>165.0</td>\n",
       "      <td>A</td>\n",
       "    </tr>\n",
       "  </tbody>\n",
       "</table>\n",
       "</div>"
      ],
      "text/plain": [
       "   bust  waist   hip  height blood_type\n",
       "1  90.0   58.0  86.0   157.0          A\n",
       "2  96.0   55.0  85.0   168.0          B\n",
       "3  80.0   59.0  82.0   162.0          O\n",
       "4  82.0   55.0  89.0   162.0          A\n",
       "6  85.0   60.0  88.0   165.0          A"
      ]
     },
     "execution_count": 5,
     "metadata": {},
     "output_type": "execute_result"
    }
   ],
   "source": [
    "df.head()"
   ]
  },
  {
   "cell_type": "code",
   "execution_count": 6,
   "metadata": {},
   "outputs": [
    {
     "data": {
      "text/plain": [
       "A     1100\n",
       "O      939\n",
       "B      422\n",
       "AB     217\n",
       "Name: blood_type, dtype: int64"
      ]
     },
     "execution_count": 6,
     "metadata": {},
     "output_type": "execute_result"
    }
   ],
   "source": [
    "# hiển thị các loại nhóm máu\n",
    "df.blood_type.value_counts()"
   ]
  },
  {
   "cell_type": "code",
   "execution_count": 7,
   "metadata": {},
   "outputs": [
    {
     "data": {
      "text/html": [
       "<div>\n",
       "<style scoped>\n",
       "    .dataframe tbody tr th:only-of-type {\n",
       "        vertical-align: middle;\n",
       "    }\n",
       "\n",
       "    .dataframe tbody tr th {\n",
       "        vertical-align: top;\n",
       "    }\n",
       "\n",
       "    .dataframe thead th {\n",
       "        text-align: right;\n",
       "    }\n",
       "</style>\n",
       "<table border=\"1\" class=\"dataframe\">\n",
       "  <thead>\n",
       "    <tr style=\"text-align: right;\">\n",
       "      <th></th>\n",
       "      <th>bust</th>\n",
       "      <th>waist</th>\n",
       "      <th>hip</th>\n",
       "      <th>height</th>\n",
       "      <th>blood_type</th>\n",
       "    </tr>\n",
       "  </thead>\n",
       "  <tbody>\n",
       "    <tr>\n",
       "      <th>1</th>\n",
       "      <td>90.0</td>\n",
       "      <td>58.0</td>\n",
       "      <td>86.0</td>\n",
       "      <td>157.0</td>\n",
       "      <td>1</td>\n",
       "    </tr>\n",
       "    <tr>\n",
       "      <th>2</th>\n",
       "      <td>96.0</td>\n",
       "      <td>55.0</td>\n",
       "      <td>85.0</td>\n",
       "      <td>168.0</td>\n",
       "      <td>2</td>\n",
       "    </tr>\n",
       "    <tr>\n",
       "      <th>3</th>\n",
       "      <td>80.0</td>\n",
       "      <td>59.0</td>\n",
       "      <td>82.0</td>\n",
       "      <td>162.0</td>\n",
       "      <td>0</td>\n",
       "    </tr>\n",
       "    <tr>\n",
       "      <th>4</th>\n",
       "      <td>82.0</td>\n",
       "      <td>55.0</td>\n",
       "      <td>89.0</td>\n",
       "      <td>162.0</td>\n",
       "      <td>1</td>\n",
       "    </tr>\n",
       "    <tr>\n",
       "      <th>6</th>\n",
       "      <td>85.0</td>\n",
       "      <td>60.0</td>\n",
       "      <td>88.0</td>\n",
       "      <td>165.0</td>\n",
       "      <td>1</td>\n",
       "    </tr>\n",
       "  </tbody>\n",
       "</table>\n",
       "</div>"
      ],
      "text/plain": [
       "   bust  waist   hip  height  blood_type\n",
       "1  90.0   58.0  86.0   157.0           1\n",
       "2  96.0   55.0  85.0   168.0           2\n",
       "3  80.0   59.0  82.0   162.0           0\n",
       "4  82.0   55.0  89.0   162.0           1\n",
       "6  85.0   60.0  88.0   165.0           1"
      ]
     },
     "execution_count": 7,
     "metadata": {},
     "output_type": "execute_result"
    }
   ],
   "source": [
    "# chuyển dữ liệu về dạng số\n",
    "mapper = {'O':0 , 'A':1, 'B':2, 'AB':3}\n",
    "df['blood_type'] = df['blood_type'].map(mapper)\n",
    "df.head()"
   ]
  },
  {
   "cell_type": "code",
   "execution_count": 8,
   "metadata": {},
   "outputs": [
    {
     "data": {
      "text/plain": [
       "array([[ 90.,  58.,  86., 157.,   1.],\n",
       "       [ 96.,  55.,  85., 168.,   2.],\n",
       "       [ 80.,  59.,  82., 162.,   0.],\n",
       "       ...,\n",
       "       [ 83.,  58.,  85., 165.,   0.],\n",
       "       [ 88.,  58.,  87., 153.,   0.],\n",
       "       [ 88.,  59.,  86., 161.,   2.]])"
      ]
     },
     "execution_count": 8,
     "metadata": {},
     "output_type": "execute_result"
    }
   ],
   "source": [
    "# convert về dạng numpy\n",
    "actress_np = df.to_numpy()\n",
    "actress_np"
   ]
  },
  {
   "cell_type": "code",
   "execution_count": 9,
   "metadata": {},
   "outputs": [],
   "source": [
    "# Ta chưa biết tập dữ liệu này phải phân thành bao nhiêu cụm\n",
    "# Nên sử dụng thuật toán KMeans để phân thành 5 cụm trước\n",
    "k_mean_5 = KMeans(n_clusters = 5)\n",
    "k_mean_5.fit(actress_np)\n",
    "label_5 = k_mean_5.labels_"
   ]
  },
  {
   "cell_type": "code",
   "execution_count": 10,
   "metadata": {},
   "outputs": [
    {
     "data": {
      "text/plain": [
       "array([4, 3, 0, ..., 3, 4, 3])"
      ]
     },
     "execution_count": 10,
     "metadata": {},
     "output_type": "execute_result"
    }
   ],
   "source": [
    "label_5"
   ]
  },
  {
   "cell_type": "code",
   "execution_count": 11,
   "metadata": {},
   "outputs": [
    {
     "data": {
      "text/plain": [
       "0.23750075572884666"
      ]
     },
     "execution_count": 11,
     "metadata": {},
     "output_type": "execute_result"
    }
   ],
   "source": [
    "# đánh giá độ chính xác của tập dữ liệu vừa train\n",
    "metrics.silhouette_score(actress_np,label_5,metric=\"euclidean\")"
   ]
  },
  {
   "cell_type": "code",
   "execution_count": 12,
   "metadata": {},
   "outputs": [
    {
     "data": {
      "text/plain": [
       "1065.2063432339353"
      ]
     },
     "execution_count": 12,
     "metadata": {},
     "output_type": "execute_result"
    }
   ],
   "source": [
    "metrics.calinski_harabasz_score(actress_np,label_5)"
   ]
  },
  {
   "cell_type": "code",
   "execution_count": 15,
   "metadata": {},
   "outputs": [],
   "source": [
    "# sử dụng vòng for để xem cái nào tối ưu nhất\n",
    "# sử dụng phương pháp cùi trỏ để tìm ra điểm tối ưu\n",
    "sum_distance = []\n",
    "k = range(1,15)\n",
    "for i in k:\n",
    "    k_mean = KMeans(n_clusters = i)\n",
    "    k_mean.fit(actress_np)\n",
    "    sum_distance.append(k_mean.inertia_)"
   ]
  },
  {
   "cell_type": "code",
   "execution_count": 19,
   "metadata": {},
   "outputs": [
    {
     "data": {
      "image/png": "[encoded data removed]",
      "text/plain": [
       "<Figure size 432x288 with 1 Axes>"
      ]
     },
     "metadata": {
      "needs_background": "light"
     },
     "output_type": "display_data"
    }
   ],
   "source": [
    "plt.plot(k,sum_distance, 'bx-')\n",
    "plt.show()"
   ]
  },
  {
   "cell_type": "code",
   "execution_count": 20,
   "metadata": {},
   "outputs": [],
   "source": [
    "# Nhìn vào biểu đồ với phương pháp cùi trỏ thì n_clusters = 3 sẽ tối ưu nhất\n",
    "k_mean_3 = KMeans(n_clusters = 3)\n",
    "model = k_mean_3.fit(actress_np)\n",
    "result = model.labels_"
   ]
  },
  {
   "cell_type": "code",
   "execution_count": 21,
   "metadata": {},
   "outputs": [
    {
     "data": {
      "text/plain": [
       "array([2, 0, 1, ..., 1, 2, 1])"
      ]
     },
     "execution_count": 21,
     "metadata": {},
     "output_type": "execute_result"
    }
   ],
   "source": [
    "result"
   ]
  },
  {
   "cell_type": "code",
   "execution_count": 22,
   "metadata": {},
   "outputs": [
    {
     "data": {
      "text/plain": [
       "0.30422441591177096"
      ]
     },
     "execution_count": 22,
     "metadata": {},
     "output_type": "execute_result"
    }
   ],
   "source": [
    "# đánh giá độ chính xác của tập dữ liệu vừa train\n",
    "metrics.silhouette_score(actress_np,result,metric=\"euclidean\")"
   ]
  },
  {
   "cell_type": "code",
   "execution_count": 23,
   "metadata": {},
   "outputs": [
    {
     "data": {
      "text/plain": [
       "1271.406189608148"
      ]
     },
     "execution_count": 23,
     "metadata": {},
     "output_type": "execute_result"
    }
   ],
   "source": [
    "metrics.calinski_harabasz_score(actress_np,result)"
   ]
  },
  {
   "cell_type": "code",
   "execution_count": 29,
   "metadata": {},
   "outputs": [
    {
     "data": {
      "text/html": [
       "<div>\n",
       "<style scoped>\n",
       "    .dataframe tbody tr th:only-of-type {\n",
       "        vertical-align: middle;\n",
       "    }\n",
       "\n",
       "    .dataframe tbody tr th {\n",
       "        vertical-align: top;\n",
       "    }\n",
       "\n",
       "    .dataframe thead th {\n",
       "        text-align: right;\n",
       "    }\n",
       "</style>\n",
       "<table border=\"1\" class=\"dataframe\">\n",
       "  <thead>\n",
       "    <tr style=\"text-align: right;\">\n",
       "      <th></th>\n",
       "      <th>bust</th>\n",
       "      <th>waist</th>\n",
       "      <th>hip</th>\n",
       "      <th>height</th>\n",
       "      <th>blood_type</th>\n",
       "    </tr>\n",
       "  </thead>\n",
       "  <tbody>\n",
       "    <tr>\n",
       "      <th>1</th>\n",
       "      <td>90.0</td>\n",
       "      <td>58.0</td>\n",
       "      <td>86.0</td>\n",
       "      <td>157.0</td>\n",
       "      <td>1</td>\n",
       "    </tr>\n",
       "    <tr>\n",
       "      <th>2</th>\n",
       "      <td>96.0</td>\n",
       "      <td>55.0</td>\n",
       "      <td>85.0</td>\n",
       "      <td>168.0</td>\n",
       "      <td>2</td>\n",
       "    </tr>\n",
       "    <tr>\n",
       "      <th>3</th>\n",
       "      <td>80.0</td>\n",
       "      <td>59.0</td>\n",
       "      <td>82.0</td>\n",
       "      <td>162.0</td>\n",
       "      <td>0</td>\n",
       "    </tr>\n",
       "    <tr>\n",
       "      <th>4</th>\n",
       "      <td>82.0</td>\n",
       "      <td>55.0</td>\n",
       "      <td>89.0</td>\n",
       "      <td>162.0</td>\n",
       "      <td>1</td>\n",
       "    </tr>\n",
       "    <tr>\n",
       "      <th>6</th>\n",
       "      <td>85.0</td>\n",
       "      <td>60.0</td>\n",
       "      <td>88.0</td>\n",
       "      <td>165.0</td>\n",
       "      <td>1</td>\n",
       "    </tr>\n",
       "  </tbody>\n",
       "</table>\n",
       "</div>"
      ],
      "text/plain": [
       "   bust  waist   hip  height  blood_type\n",
       "1  90.0   58.0  86.0   157.0           1\n",
       "2  96.0   55.0  85.0   168.0           2\n",
       "3  80.0   59.0  82.0   162.0           0\n",
       "4  82.0   55.0  89.0   162.0           1\n",
       "6  85.0   60.0  88.0   165.0           1"
      ]
     },
     "execution_count": 29,
     "metadata": {},
     "output_type": "execute_result"
    }
   ],
   "source": [
    "df.head()"
   ]
  },
  {
   "cell_type": "code",
   "execution_count": 33,
   "metadata": {},
   "outputs": [
    {
     "data": {
      "image/png": "[encoded data removed]",
      "text/plain": [
       "<Figure size 432x288 with 1 Axes>"
      ]
     },
     "metadata": {
      "needs_background": "light"
     },
     "output_type": "display_data"
    }
   ],
   "source": [
    "# vẽ biểu đồ phân cụm thể hiện sự phân tán của dữ liệu\n",
    "plt.scatter(\n",
    "    actress_np[result == 0, 0],\n",
    "    actress_np[result == 0, 3],\n",
    "    c = 'lightgreen', #màu\n",
    "    marker = 's',     #kí hiệu s = square\n",
    "    edgecolor = 'black', #boder\n",
    "    label = 'cluster 1' #tên nhãn\n",
    ")\n",
    "plt.scatter(\n",
    "    actress_np[result == 1, 0],\n",
    "    actress_np[result == 1, 3],\n",
    "    c = 'orange',\n",
    "    marker = 'o',\n",
    "    edgecolor = 'black',\n",
    "    label = 'cluster 2'\n",
    ")\n",
    "plt.scatter(\n",
    "    actress_np[result == 2, 0],\n",
    "    actress_np[result == 2, 3],\n",
    "    c = 'lightblue',\n",
    "    marker = 'v',\n",
    "    edgecolor = 'black',\n",
    "    label = 'cluster 3'\n",
    ")\n",
    "plt.scatter(\n",
    "    model.cluster_centers_[:, 0],\n",
    "    model.cluster_centers_[:, 3],\n",
    "    s=250,\n",
    "    marker = '*',\n",
    "    c = 'red',\n",
    "    edgecolor = 'black',\n",
    "    label = 'centroids'\n",
    ")\n",
    "\n",
    "plt.legend(scatterpoints=1) # chú thích\n",
    "plt.grid()\n",
    "plt.show()"
   ]
  },
  {
   "cell_type": "markdown",
   "metadata": {},
   "source": [
    "### input: vòng1, vòng2, vong3, chiều cao, nhóm máu -> thuộc cụm nào?"
   ]
  },
  {
   "cell_type": "code",
   "execution_count": 36,
   "metadata": {},
   "outputs": [
    {
     "name": "stdout",
     "output_type": "stream",
     "text": [
      "<class 'pandas.core.frame.DataFrame'>\n",
      "Int64Index: 2678 entries, 1 to 11185\n",
      "Data columns (total 6 columns):\n",
      " #   Column      Non-Null Count  Dtype  \n",
      "---  ------      --------------  -----  \n",
      " 0   id          2678 non-null   int64  \n",
      " 1   bust        2678 non-null   float64\n",
      " 2   waist       2678 non-null   float64\n",
      " 3   hip         2678 non-null   float64\n",
      " 4   height      2678 non-null   float64\n",
      " 5   blood_type  2678 non-null   object \n",
      "dtypes: float64(4), int64(1), object(1)\n",
      "memory usage: 146.5+ KB\n"
     ]
    }
   ],
   "source": [
    "df1 = actress[['id','bust','waist','hip','height','blood_type']]\n",
    "df1 = df1.dropna()\n",
    "df1.info()"
   ]
  },
  {
   "cell_type": "code",
   "execution_count": 37,
   "metadata": {},
   "outputs": [
    {
     "data": {
      "text/html": [
       "<div>\n",
       "<style scoped>\n",
       "    .dataframe tbody tr th:only-of-type {\n",
       "        vertical-align: middle;\n",
       "    }\n",
       "\n",
       "    .dataframe tbody tr th {\n",
       "        vertical-align: top;\n",
       "    }\n",
       "\n",
       "    .dataframe thead th {\n",
       "        text-align: right;\n",
       "    }\n",
       "</style>\n",
       "<table border=\"1\" class=\"dataframe\">\n",
       "  <thead>\n",
       "    <tr style=\"text-align: right;\">\n",
       "      <th></th>\n",
       "      <th>id</th>\n",
       "      <th>name</th>\n",
       "      <th>japanName</th>\n",
       "    </tr>\n",
       "  </thead>\n",
       "  <tbody>\n",
       "    <tr>\n",
       "      <th>0</th>\n",
       "      <td>3</td>\n",
       "      <td>Kitagawa Yui</td>\n",
       "      <td>北川ゆい</td>\n",
       "    </tr>\n",
       "    <tr>\n",
       "      <th>1</th>\n",
       "      <td>4</td>\n",
       "      <td>Akira</td>\n",
       "      <td>Akira</td>\n",
       "    </tr>\n",
       "    <tr>\n",
       "      <th>2</th>\n",
       "      <td>6</td>\n",
       "      <td>Cocolo</td>\n",
       "      <td>COCOLO</td>\n",
       "    </tr>\n",
       "    <tr>\n",
       "      <th>3</th>\n",
       "      <td>8</td>\n",
       "      <td>Saiko</td>\n",
       "      <td>Saiko</td>\n",
       "    </tr>\n",
       "    <tr>\n",
       "      <th>4</th>\n",
       "      <td>11</td>\n",
       "      <td>Aida Momo</td>\n",
       "      <td>あいだもも</td>\n",
       "    </tr>\n",
       "  </tbody>\n",
       "</table>\n",
       "</div>"
      ],
      "text/plain": [
       "   id          name japanName\n",
       "0   3  Kitagawa Yui      北川ゆい\n",
       "1   4         Akira     Akira\n",
       "2   6        Cocolo    COCOLO\n",
       "3   8         Saiko     Saiko\n",
       "4  11     Aida Momo     あいだもも"
      ]
     },
     "execution_count": 37,
     "metadata": {},
     "output_type": "execute_result"
    }
   ],
   "source": [
    "df2 = actress[['id','name','japanName']]\n",
    "df2.head()"
   ]
  },
  {
   "cell_type": "code",
   "execution_count": 41,
   "metadata": {},
   "outputs": [
    {
     "name": "stdout",
     "output_type": "stream",
     "text": [
      "<class 'pandas.core.frame.DataFrame'>\n",
      "Int64Index: 2678 entries, 0 to 2677\n",
      "Data columns (total 8 columns):\n",
      " #   Column      Non-Null Count  Dtype  \n",
      "---  ------      --------------  -----  \n",
      " 0   id          2678 non-null   int64  \n",
      " 1   bust        2678 non-null   float64\n",
      " 2   waist       2678 non-null   float64\n",
      " 3   hip         2678 non-null   float64\n",
      " 4   height      2678 non-null   float64\n",
      " 5   blood_type  2678 non-null   object \n",
      " 6   name        2678 non-null   object \n",
      " 7   japanName   2678 non-null   object \n",
      "dtypes: float64(4), int64(1), object(3)\n",
      "memory usage: 188.3+ KB\n"
     ]
    }
   ],
   "source": [
    "# nối 2 bảng\n",
    "df3 = df1.merge(df2, on='id', how='left')\n",
    "df3.info()"
   ]
  },
  {
   "cell_type": "code",
   "execution_count": 42,
   "metadata": {},
   "outputs": [
    {
     "data": {
      "text/html": [
       "<div>\n",
       "<style scoped>\n",
       "    .dataframe tbody tr th:only-of-type {\n",
       "        vertical-align: middle;\n",
       "    }\n",
       "\n",
       "    .dataframe tbody tr th {\n",
       "        vertical-align: top;\n",
       "    }\n",
       "\n",
       "    .dataframe thead th {\n",
       "        text-align: right;\n",
       "    }\n",
       "</style>\n",
       "<table border=\"1\" class=\"dataframe\">\n",
       "  <thead>\n",
       "    <tr style=\"text-align: right;\">\n",
       "      <th></th>\n",
       "      <th>id</th>\n",
       "      <th>bust</th>\n",
       "      <th>waist</th>\n",
       "      <th>hip</th>\n",
       "      <th>height</th>\n",
       "      <th>blood_type</th>\n",
       "      <th>name</th>\n",
       "      <th>japanName</th>\n",
       "      <th>cluster</th>\n",
       "    </tr>\n",
       "  </thead>\n",
       "  <tbody>\n",
       "    <tr>\n",
       "      <th>0</th>\n",
       "      <td>4</td>\n",
       "      <td>90.0</td>\n",
       "      <td>58.0</td>\n",
       "      <td>86.0</td>\n",
       "      <td>157.0</td>\n",
       "      <td>A</td>\n",
       "      <td>Akira</td>\n",
       "      <td>Akira</td>\n",
       "      <td>2</td>\n",
       "    </tr>\n",
       "    <tr>\n",
       "      <th>1</th>\n",
       "      <td>6</td>\n",
       "      <td>96.0</td>\n",
       "      <td>55.0</td>\n",
       "      <td>85.0</td>\n",
       "      <td>168.0</td>\n",
       "      <td>B</td>\n",
       "      <td>Cocolo</td>\n",
       "      <td>COCOLO</td>\n",
       "      <td>0</td>\n",
       "    </tr>\n",
       "    <tr>\n",
       "      <th>2</th>\n",
       "      <td>8</td>\n",
       "      <td>80.0</td>\n",
       "      <td>59.0</td>\n",
       "      <td>82.0</td>\n",
       "      <td>162.0</td>\n",
       "      <td>O</td>\n",
       "      <td>Saiko</td>\n",
       "      <td>Saiko</td>\n",
       "      <td>1</td>\n",
       "    </tr>\n",
       "    <tr>\n",
       "      <th>3</th>\n",
       "      <td>11</td>\n",
       "      <td>82.0</td>\n",
       "      <td>55.0</td>\n",
       "      <td>89.0</td>\n",
       "      <td>162.0</td>\n",
       "      <td>A</td>\n",
       "      <td>Aida Momo</td>\n",
       "      <td>あいだもも</td>\n",
       "      <td>1</td>\n",
       "    </tr>\n",
       "    <tr>\n",
       "      <th>4</th>\n",
       "      <td>17</td>\n",
       "      <td>85.0</td>\n",
       "      <td>60.0</td>\n",
       "      <td>88.0</td>\n",
       "      <td>165.0</td>\n",
       "      <td>A</td>\n",
       "      <td>Aduki Miyu</td>\n",
       "      <td>あづき美由</td>\n",
       "      <td>1</td>\n",
       "    </tr>\n",
       "  </tbody>\n",
       "</table>\n",
       "</div>"
      ],
      "text/plain": [
       "   id  bust  waist   hip  height blood_type        name japanName  cluster\n",
       "0   4  90.0   58.0  86.0   157.0          A       Akira     Akira        2\n",
       "1   6  96.0   55.0  85.0   168.0          B      Cocolo    COCOLO        0\n",
       "2   8  80.0   59.0  82.0   162.0          O       Saiko     Saiko        1\n",
       "3  11  82.0   55.0  89.0   162.0          A   Aida Momo     あいだもも        1\n",
       "4  17  85.0   60.0  88.0   165.0          A  Aduki Miyu     あづき美由        1"
      ]
     },
     "execution_count": 42,
     "metadata": {},
     "output_type": "execute_result"
    }
   ],
   "source": [
    "df3['cluster'] = result\n",
    "df3.head()"
   ]
  },
  {
   "cell_type": "code",
   "execution_count": 72,
   "metadata": {},
   "outputs": [],
   "source": [
    "def reconmend(model, vong1, vong2, vong3, chieu_cao, nhom_mau):\n",
    "    arr = np.array([[vong1, vong2, vong3, chieu_cao, nhom_mau]])\n",
    "    pred = model.predict(arr)\n",
    "    return df3[df3['cluster'] == pred[0]].sample(10)"
   ]
  },
  {
   "cell_type": "code",
   "execution_count": 75,
   "metadata": {},
   "outputs": [
    {
     "data": {
      "text/html": [
       "<div>\n",
       "<style scoped>\n",
       "    .dataframe tbody tr th:only-of-type {\n",
       "        vertical-align: middle;\n",
       "    }\n",
       "\n",
       "    .dataframe tbody tr th {\n",
       "        vertical-align: top;\n",
       "    }\n",
       "\n",
       "    .dataframe thead th {\n",
       "        text-align: right;\n",
       "    }\n",
       "</style>\n",
       "<table border=\"1\" class=\"dataframe\">\n",
       "  <thead>\n",
       "    <tr style=\"text-align: right;\">\n",
       "      <th></th>\n",
       "      <th>id</th>\n",
       "      <th>bust</th>\n",
       "      <th>waist</th>\n",
       "      <th>hip</th>\n",
       "      <th>height</th>\n",
       "      <th>blood_type</th>\n",
       "      <th>name</th>\n",
       "      <th>japanName</th>\n",
       "      <th>cluster</th>\n",
       "    </tr>\n",
       "  </thead>\n",
       "  <tbody>\n",
       "    <tr>\n",
       "      <th>242</th>\n",
       "      <td>13203</td>\n",
       "      <td>90.0</td>\n",
       "      <td>59.0</td>\n",
       "      <td>89.0</td>\n",
       "      <td>165.0</td>\n",
       "      <td>A</td>\n",
       "      <td>Tominaga Runa</td>\n",
       "      <td>富永ルナ</td>\n",
       "      <td>1</td>\n",
       "    </tr>\n",
       "    <tr>\n",
       "      <th>591</th>\n",
       "      <td>18897</td>\n",
       "      <td>88.0</td>\n",
       "      <td>58.0</td>\n",
       "      <td>85.0</td>\n",
       "      <td>160.0</td>\n",
       "      <td>A</td>\n",
       "      <td>Sezaki Runa</td>\n",
       "      <td>瀬咲るな</td>\n",
       "      <td>1</td>\n",
       "    </tr>\n",
       "    <tr>\n",
       "      <th>218</th>\n",
       "      <td>1315</td>\n",
       "      <td>87.0</td>\n",
       "      <td>58.0</td>\n",
       "      <td>84.0</td>\n",
       "      <td>161.0</td>\n",
       "      <td>A</td>\n",
       "      <td>Ogata Reina</td>\n",
       "      <td>緒方れいな</td>\n",
       "      <td>1</td>\n",
       "    </tr>\n",
       "    <tr>\n",
       "      <th>2300</th>\n",
       "      <td>5424</td>\n",
       "      <td>83.0</td>\n",
       "      <td>59.0</td>\n",
       "      <td>84.0</td>\n",
       "      <td>170.0</td>\n",
       "      <td>B</td>\n",
       "      <td>Sahara Mariko</td>\n",
       "      <td>沙原真理子</td>\n",
       "      <td>1</td>\n",
       "    </tr>\n",
       "    <tr>\n",
       "      <th>1620</th>\n",
       "      <td>1014312</td>\n",
       "      <td>88.0</td>\n",
       "      <td>60.0</td>\n",
       "      <td>85.0</td>\n",
       "      <td>168.0</td>\n",
       "      <td>O</td>\n",
       "      <td>Hyoumaru</td>\n",
       "      <td>豹丸</td>\n",
       "      <td>1</td>\n",
       "    </tr>\n",
       "    <tr>\n",
       "      <th>1238</th>\n",
       "      <td>1000194</td>\n",
       "      <td>86.0</td>\n",
       "      <td>58.0</td>\n",
       "      <td>86.0</td>\n",
       "      <td>160.0</td>\n",
       "      <td>A</td>\n",
       "      <td>Tatibana Koharu</td>\n",
       "      <td>たちばな小春</td>\n",
       "      <td>1</td>\n",
       "    </tr>\n",
       "    <tr>\n",
       "      <th>797</th>\n",
       "      <td>21639</td>\n",
       "      <td>88.0</td>\n",
       "      <td>58.0</td>\n",
       "      <td>86.0</td>\n",
       "      <td>160.0</td>\n",
       "      <td>A</td>\n",
       "      <td>Konisi Nana</td>\n",
       "      <td>小西那奈</td>\n",
       "      <td>1</td>\n",
       "    </tr>\n",
       "    <tr>\n",
       "      <th>1074</th>\n",
       "      <td>26978</td>\n",
       "      <td>90.0</td>\n",
       "      <td>57.0</td>\n",
       "      <td>88.0</td>\n",
       "      <td>162.0</td>\n",
       "      <td>O</td>\n",
       "      <td>Aoki Haru</td>\n",
       "      <td>青木春</td>\n",
       "      <td>1</td>\n",
       "    </tr>\n",
       "    <tr>\n",
       "      <th>405</th>\n",
       "      <td>15901</td>\n",
       "      <td>83.0</td>\n",
       "      <td>60.0</td>\n",
       "      <td>86.0</td>\n",
       "      <td>163.0</td>\n",
       "      <td>O</td>\n",
       "      <td>Morino Marina</td>\n",
       "      <td>森野まりな</td>\n",
       "      <td>1</td>\n",
       "    </tr>\n",
       "    <tr>\n",
       "      <th>1852</th>\n",
       "      <td>4201</td>\n",
       "      <td>90.0</td>\n",
       "      <td>58.0</td>\n",
       "      <td>85.0</td>\n",
       "      <td>158.0</td>\n",
       "      <td>O</td>\n",
       "      <td>Kozima Mina</td>\n",
       "      <td>小島三奈</td>\n",
       "      <td>1</td>\n",
       "    </tr>\n",
       "  </tbody>\n",
       "</table>\n",
       "</div>"
      ],
      "text/plain": [
       "           id  bust  waist   hip  height blood_type             name  \\\n",
       "242     13203  90.0   59.0  89.0   165.0          A    Tominaga Runa   \n",
       "591     18897  88.0   58.0  85.0   160.0          A      Sezaki Runa   \n",
       "218      1315  87.0   58.0  84.0   161.0          A      Ogata Reina   \n",
       "2300     5424  83.0   59.0  84.0   170.0          B    Sahara Mariko   \n",
       "1620  1014312  88.0   60.0  85.0   168.0          O         Hyoumaru   \n",
       "1238  1000194  86.0   58.0  86.0   160.0          A  Tatibana Koharu   \n",
       "797     21639  88.0   58.0  86.0   160.0          A      Konisi Nana   \n",
       "1074    26978  90.0   57.0  88.0   162.0          O        Aoki Haru   \n",
       "405     15901  83.0   60.0  86.0   163.0          O    Morino Marina   \n",
       "1852     4201  90.0   58.0  85.0   158.0          O      Kozima Mina   \n",
       "\n",
       "     japanName  cluster  \n",
       "242       富永ルナ        1  \n",
       "591       瀬咲るな        1  \n",
       "218      緒方れいな        1  \n",
       "2300     沙原真理子        1  \n",
       "1620        豹丸        1  \n",
       "1238    たちばな小春        1  \n",
       "797       小西那奈        1  \n",
       "1074       青木春        1  \n",
       "405      森野まりな        1  \n",
       "1852      小島三奈        1  "
      ]
     },
     "execution_count": 75,
     "metadata": {},
     "output_type": "execute_result"
    }
   ],
   "source": [
    "vong1 = 90\n",
    "vong2 = 62\n",
    "vong3 = 88\n",
    "chieu_cao = 164\n",
    "nhom_mau = 0 #nhóm máu O\n",
    "reconmend(model, vong1, vong2, vong3, chieu_cao, nhom_mau)\n"
   ]
  },
  {
   "cell_type": "code",
   "execution_count": null,
   "metadata": {},
   "outputs": [],
   "source": []
  },
  {
   "cell_type": "code",
   "execution_count": null,
   "metadata": {},
   "outputs": [],
   "source": []
  }
 ],
 "metadata": {
  "kernelspec": {
   "display_name": "Python 3",
   "language": "python",
   "name": "python3"
  },
  "language_info": {
   "codemirror_mode": {
    "name": "ipython",
    "version": 3
   },
   "file_extension": ".py",
   "mimetype": "text/x-python",
   "name": "python",
   "nbconvert_exporter": "python",
   "pygments_lexer": "ipython3",
   "version": "3.8.3"
  }
 },
 "nbformat": 4,
 "nbformat_minor": 4
}
