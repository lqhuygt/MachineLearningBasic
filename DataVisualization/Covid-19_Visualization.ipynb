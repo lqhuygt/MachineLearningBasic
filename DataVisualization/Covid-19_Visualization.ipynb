{
 "cells": [
  {
   "cell_type": "code",
   "execution_count": 1,
   "metadata": {},
   "outputs": [],
   "source": [
    "# import thư viên\n",
    "import pandas as pd\n",
    "import matplotlib.pyplot as plt\n",
    "import seaborn as sns\n",
    "import numpy as np"
   ]
  },
  {
   "cell_type": "code",
   "execution_count": 50,
   "metadata": {},
   "outputs": [
    {
     "name": "stdout",
     "output_type": "stream",
     "text": [
      "<class 'pandas.core.frame.DataFrame'>\n",
      "RangeIndex: 63 entries, 0 to 62\n",
      "Data columns (total 10 columns):\n",
      " #   Column         Non-Null Count  Dtype  \n",
      "---  ------         --------------  -----  \n",
      " 0   HASC           63 non-null     object \n",
      " 1   ISO            63 non-null     object \n",
      " 2   FIPS           63 non-null     object \n",
      " 3   Mã hành chính  63 non-null     int64  \n",
      " 4   Tỉnh           63 non-null     object \n",
      " 5   Số ca nhiễm    63 non-null     int64  \n",
      " 6   Đang điều trị  63 non-null     int64  \n",
      " 7   Bình phục      63 non-null     int64  \n",
      " 8   Tử vong        63 non-null     int64  \n",
      " 9   Unnamed: 9     0 non-null      float64\n",
      "dtypes: float64(1), int64(5), object(4)\n",
      "memory usage: 5.0+ KB\n"
     ]
    }
   ],
   "source": [
    "# read data\n",
    "path = \"E:/DataExample/covid19-provinces_vn_vi.csv\"\n",
    "df =  pd.read_csv(path, encoding='UTF-16', sep = '\\t')\n",
    "df.info()"
   ]
  },
  {
   "cell_type": "code",
   "execution_count": 52,
   "metadata": {},
   "outputs": [
    {
     "data": {
      "text/html": [
       "<div>\n",
       "<style scoped>\n",
       "    .dataframe tbody tr th:only-of-type {\n",
       "        vertical-align: middle;\n",
       "    }\n",
       "\n",
       "    .dataframe tbody tr th {\n",
       "        vertical-align: top;\n",
       "    }\n",
       "\n",
       "    .dataframe thead th {\n",
       "        text-align: right;\n",
       "    }\n",
       "</style>\n",
       "<table border=\"1\" class=\"dataframe\">\n",
       "  <thead>\n",
       "    <tr style=\"text-align: right;\">\n",
       "      <th></th>\n",
       "      <th>HASC</th>\n",
       "      <th>ISO</th>\n",
       "      <th>FIPS</th>\n",
       "      <th>Mã hành chính</th>\n",
       "      <th>Tỉnh</th>\n",
       "      <th>Số ca nhiễm</th>\n",
       "      <th>Đang điều trị</th>\n",
       "      <th>Bình phục</th>\n",
       "      <th>Tử vong</th>\n",
       "    </tr>\n",
       "  </thead>\n",
       "  <tbody>\n",
       "    <tr>\n",
       "      <th>0</th>\n",
       "      <td>VN.HI</td>\n",
       "      <td>HN</td>\n",
       "      <td>VM44</td>\n",
       "      <td>1</td>\n",
       "      <td>Hà Nội</td>\n",
       "      <td>242</td>\n",
       "      <td>5</td>\n",
       "      <td>236</td>\n",
       "      <td>0</td>\n",
       "    </tr>\n",
       "    <tr>\n",
       "      <th>1</th>\n",
       "      <td>VN.HG</td>\n",
       "      <td>3</td>\n",
       "      <td>VM50</td>\n",
       "      <td>2</td>\n",
       "      <td>Hà Giang</td>\n",
       "      <td>2</td>\n",
       "      <td>1</td>\n",
       "      <td>1</td>\n",
       "      <td>0</td>\n",
       "    </tr>\n",
       "    <tr>\n",
       "      <th>2</th>\n",
       "      <td>VN.CB</td>\n",
       "      <td>4</td>\n",
       "      <td>VM05</td>\n",
       "      <td>4</td>\n",
       "      <td>Cao Bằng</td>\n",
       "      <td>0</td>\n",
       "      <td>0</td>\n",
       "      <td>0</td>\n",
       "      <td>0</td>\n",
       "    </tr>\n",
       "    <tr>\n",
       "      <th>3</th>\n",
       "      <td>VN.BK</td>\n",
       "      <td>53</td>\n",
       "      <td>VM72</td>\n",
       "      <td>6</td>\n",
       "      <td>Bắc Kạn</td>\n",
       "      <td>0</td>\n",
       "      <td>0</td>\n",
       "      <td>0</td>\n",
       "      <td>0</td>\n",
       "    </tr>\n",
       "    <tr>\n",
       "      <th>4</th>\n",
       "      <td>VN.TQ</td>\n",
       "      <td>7</td>\n",
       "      <td>VM68</td>\n",
       "      <td>8</td>\n",
       "      <td>Tuyên Quang</td>\n",
       "      <td>0</td>\n",
       "      <td>0</td>\n",
       "      <td>0</td>\n",
       "      <td>0</td>\n",
       "    </tr>\n",
       "  </tbody>\n",
       "</table>\n",
       "</div>"
      ],
      "text/plain": [
       "    HASC ISO  FIPS  Mã hành chính         Tỉnh  Số ca nhiễm  Đang điều trị  \\\n",
       "0  VN.HI  HN  VM44              1       Hà Nội          242              5   \n",
       "1  VN.HG   3  VM50              2     Hà Giang            2              1   \n",
       "2  VN.CB   4  VM05              4     Cao Bằng            0              0   \n",
       "3  VN.BK  53  VM72              6      Bắc Kạn            0              0   \n",
       "4  VN.TQ   7  VM68              8  Tuyên Quang            0              0   \n",
       "\n",
       "   Bình phục  Tử vong  \n",
       "0        236        0  \n",
       "1          1        0  \n",
       "2          0        0  \n",
       "3          0        0  \n",
       "4          0        0  "
      ]
     },
     "execution_count": 52,
     "metadata": {},
     "output_type": "execute_result"
    }
   ],
   "source": [
    "# loại bỏ 1 cột có giá trị null\n",
    "df_covid = df.drop(df.columns[9], axis = 'columns' )\n",
    "df_covid.reset_index(drop=True, inplace=True)\n",
    "df_covid.head()"
   ]
  },
  {
   "cell_type": "code",
   "execution_count": 53,
   "metadata": {},
   "outputs": [
    {
     "data": {
      "text/html": [
       "<div>\n",
       "<style scoped>\n",
       "    .dataframe tbody tr th:only-of-type {\n",
       "        vertical-align: middle;\n",
       "    }\n",
       "\n",
       "    .dataframe tbody tr th {\n",
       "        vertical-align: top;\n",
       "    }\n",
       "\n",
       "    .dataframe thead th {\n",
       "        text-align: right;\n",
       "    }\n",
       "</style>\n",
       "<table border=\"1\" class=\"dataframe\">\n",
       "  <thead>\n",
       "    <tr style=\"text-align: right;\">\n",
       "      <th></th>\n",
       "      <th>HASC</th>\n",
       "      <th>ISO</th>\n",
       "      <th>FIPS</th>\n",
       "      <th>Mã hành chính</th>\n",
       "      <th>Tỉnh</th>\n",
       "      <th>Số ca nhiễm</th>\n",
       "      <th>Đang điều trị</th>\n",
       "      <th>Bình phục</th>\n",
       "      <th>Tử vong</th>\n",
       "    </tr>\n",
       "  </thead>\n",
       "  <tbody>\n",
       "    <tr>\n",
       "      <th>0</th>\n",
       "      <td>VN.HI</td>\n",
       "      <td>HN</td>\n",
       "      <td>VM44</td>\n",
       "      <td>1</td>\n",
       "      <td>HàNội</td>\n",
       "      <td>242</td>\n",
       "      <td>5</td>\n",
       "      <td>236</td>\n",
       "      <td>0</td>\n",
       "    </tr>\n",
       "    <tr>\n",
       "      <th>1</th>\n",
       "      <td>VN.HG</td>\n",
       "      <td>3</td>\n",
       "      <td>VM50</td>\n",
       "      <td>2</td>\n",
       "      <td>HàGiang</td>\n",
       "      <td>2</td>\n",
       "      <td>1</td>\n",
       "      <td>1</td>\n",
       "      <td>0</td>\n",
       "    </tr>\n",
       "    <tr>\n",
       "      <th>2</th>\n",
       "      <td>VN.CB</td>\n",
       "      <td>4</td>\n",
       "      <td>VM05</td>\n",
       "      <td>4</td>\n",
       "      <td>CaoBằng</td>\n",
       "      <td>0</td>\n",
       "      <td>0</td>\n",
       "      <td>0</td>\n",
       "      <td>0</td>\n",
       "    </tr>\n",
       "    <tr>\n",
       "      <th>3</th>\n",
       "      <td>VN.BK</td>\n",
       "      <td>53</td>\n",
       "      <td>VM72</td>\n",
       "      <td>6</td>\n",
       "      <td>BắcKạn</td>\n",
       "      <td>0</td>\n",
       "      <td>0</td>\n",
       "      <td>0</td>\n",
       "      <td>0</td>\n",
       "    </tr>\n",
       "    <tr>\n",
       "      <th>4</th>\n",
       "      <td>VN.TQ</td>\n",
       "      <td>7</td>\n",
       "      <td>VM68</td>\n",
       "      <td>8</td>\n",
       "      <td>TuyênQuang</td>\n",
       "      <td>0</td>\n",
       "      <td>0</td>\n",
       "      <td>0</td>\n",
       "      <td>0</td>\n",
       "    </tr>\n",
       "  </tbody>\n",
       "</table>\n",
       "</div>"
      ],
      "text/plain": [
       "    HASC ISO  FIPS  Mã hành chính        Tỉnh  Số ca nhiễm  Đang điều trị  \\\n",
       "0  VN.HI  HN  VM44              1       HàNội          242              5   \n",
       "1  VN.HG   3  VM50              2     HàGiang            2              1   \n",
       "2  VN.CB   4  VM05              4     CaoBằng            0              0   \n",
       "3  VN.BK  53  VM72              6      BắcKạn            0              0   \n",
       "4  VN.TQ   7  VM68              8  TuyênQuang            0              0   \n",
       "\n",
       "   Bình phục  Tử vong  \n",
       "0        236        0  \n",
       "1          1        0  \n",
       "2          0        0  \n",
       "3          0        0  \n",
       "4          0        0  "
      ]
     },
     "execution_count": 53,
     "metadata": {},
     "output_type": "execute_result"
    }
   ],
   "source": [
    "# remove space column name\n",
    "df_covid['Tỉnh'] = df_covid['Tỉnh'].str.replace(\" \", \"\")\n",
    "df_covid.head()"
   ]
  },
  {
   "cell_type": "code",
   "execution_count": 54,
   "metadata": {},
   "outputs": [
    {
     "data": {
      "text/html": [
       "<div>\n",
       "<style scoped>\n",
       "    .dataframe tbody tr th:only-of-type {\n",
       "        vertical-align: middle;\n",
       "    }\n",
       "\n",
       "    .dataframe tbody tr th {\n",
       "        vertical-align: top;\n",
       "    }\n",
       "\n",
       "    .dataframe thead th {\n",
       "        text-align: right;\n",
       "    }\n",
       "</style>\n",
       "<table border=\"1\" class=\"dataframe\">\n",
       "  <thead>\n",
       "    <tr style=\"text-align: right;\">\n",
       "      <th></th>\n",
       "      <th>Mã hành chính</th>\n",
       "      <th>Số ca nhiễm</th>\n",
       "      <th>Đang điều trị</th>\n",
       "      <th>Bình phục</th>\n",
       "      <th>Tử vong</th>\n",
       "    </tr>\n",
       "  </thead>\n",
       "  <tbody>\n",
       "    <tr>\n",
       "      <th>count</th>\n",
       "      <td>63.000000</td>\n",
       "      <td>63.000000</td>\n",
       "      <td>63.000000</td>\n",
       "      <td>63.000000</td>\n",
       "      <td>63.000000</td>\n",
       "    </tr>\n",
       "    <tr>\n",
       "      <th>mean</th>\n",
       "      <td>49.333333</td>\n",
       "      <td>41.507937</td>\n",
       "      <td>3.476190</td>\n",
       "      <td>37.412698</td>\n",
       "      <td>0.555556</td>\n",
       "    </tr>\n",
       "    <tr>\n",
       "      <th>std</th>\n",
       "      <td>28.628882</td>\n",
       "      <td>114.395730</td>\n",
       "      <td>12.311622</td>\n",
       "      <td>102.573441</td>\n",
       "      <td>3.917610</td>\n",
       "    </tr>\n",
       "    <tr>\n",
       "      <th>min</th>\n",
       "      <td>1.000000</td>\n",
       "      <td>0.000000</td>\n",
       "      <td>0.000000</td>\n",
       "      <td>0.000000</td>\n",
       "      <td>0.000000</td>\n",
       "    </tr>\n",
       "    <tr>\n",
       "      <th>25%</th>\n",
       "      <td>25.500000</td>\n",
       "      <td>1.500000</td>\n",
       "      <td>0.000000</td>\n",
       "      <td>1.000000</td>\n",
       "      <td>0.000000</td>\n",
       "    </tr>\n",
       "    <tr>\n",
       "      <th>50%</th>\n",
       "      <td>48.000000</td>\n",
       "      <td>8.000000</td>\n",
       "      <td>0.000000</td>\n",
       "      <td>5.000000</td>\n",
       "      <td>0.000000</td>\n",
       "    </tr>\n",
       "    <tr>\n",
       "      <th>75%</th>\n",
       "      <td>74.500000</td>\n",
       "      <td>25.500000</td>\n",
       "      <td>2.000000</td>\n",
       "      <td>23.500000</td>\n",
       "      <td>0.000000</td>\n",
       "    </tr>\n",
       "    <tr>\n",
       "      <th>max</th>\n",
       "      <td>96.000000</td>\n",
       "      <td>762.000000</td>\n",
       "      <td>94.000000</td>\n",
       "      <td>668.000000</td>\n",
       "      <td>31.000000</td>\n",
       "    </tr>\n",
       "  </tbody>\n",
       "</table>\n",
       "</div>"
      ],
      "text/plain": [
       "       Mã hành chính  Số ca nhiễm  Đang điều trị   Bình phục    Tử vong\n",
       "count      63.000000    63.000000      63.000000   63.000000  63.000000\n",
       "mean       49.333333    41.507937       3.476190   37.412698   0.555556\n",
       "std        28.628882   114.395730      12.311622  102.573441   3.917610\n",
       "min         1.000000     0.000000       0.000000    0.000000   0.000000\n",
       "25%        25.500000     1.500000       0.000000    1.000000   0.000000\n",
       "50%        48.000000     8.000000       0.000000    5.000000   0.000000\n",
       "75%        74.500000    25.500000       2.000000   23.500000   0.000000\n",
       "max        96.000000   762.000000      94.000000  668.000000  31.000000"
      ]
     },
     "execution_count": 54,
     "metadata": {},
     "output_type": "execute_result"
    }
   ],
   "source": [
    "df_covid.describe()"
   ]
  },
  {
   "cell_type": "code",
   "execution_count": 55,
   "metadata": {},
   "outputs": [
    {
     "data": {
      "text/plain": [
       "HASC             0\n",
       "ISO              0\n",
       "FIPS             0\n",
       "Mã hành chính    0\n",
       "Tỉnh             0\n",
       "Số ca nhiễm      0\n",
       "Đang điều trị    0\n",
       "Bình phục        0\n",
       "Tử vong          0\n",
       "dtype: int64"
      ]
     },
     "execution_count": 55,
     "metadata": {},
     "output_type": "execute_result"
    }
   ],
   "source": [
    "# thống kê số lượng null\n",
    "df_covid.isnull().sum()"
   ]
  },
  {
   "cell_type": "code",
   "execution_count": 56,
   "metadata": {},
   "outputs": [
    {
     "data": {
      "text/html": [
       "<div>\n",
       "<style scoped>\n",
       "    .dataframe tbody tr th:only-of-type {\n",
       "        vertical-align: middle;\n",
       "    }\n",
       "\n",
       "    .dataframe tbody tr th {\n",
       "        vertical-align: top;\n",
       "    }\n",
       "\n",
       "    .dataframe thead th {\n",
       "        text-align: right;\n",
       "    }\n",
       "</style>\n",
       "<table border=\"1\" class=\"dataframe\">\n",
       "  <thead>\n",
       "    <tr style=\"text-align: right;\">\n",
       "      <th></th>\n",
       "      <th>Tỉnh</th>\n",
       "      <th>Số ca nhiễm</th>\n",
       "    </tr>\n",
       "  </thead>\n",
       "  <tbody>\n",
       "    <tr>\n",
       "      <th>18</th>\n",
       "      <td>HảiDương</td>\n",
       "      <td>762</td>\n",
       "    </tr>\n",
       "    <tr>\n",
       "      <th>31</th>\n",
       "      <td>ĐàNẵng</td>\n",
       "      <td>428</td>\n",
       "    </tr>\n",
       "    <tr>\n",
       "      <th>0</th>\n",
       "      <td>HàNội</td>\n",
       "      <td>242</td>\n",
       "    </tr>\n",
       "    <tr>\n",
       "      <th>49</th>\n",
       "      <td>HồChíMinh</td>\n",
       "      <td>221</td>\n",
       "    </tr>\n",
       "    <tr>\n",
       "      <th>32</th>\n",
       "      <td>QuảngNam</td>\n",
       "      <td>109</td>\n",
       "    </tr>\n",
       "  </tbody>\n",
       "</table>\n",
       "</div>"
      ],
      "text/plain": [
       "         Tỉnh  Số ca nhiễm\n",
       "18   HảiDương          762\n",
       "31     ĐàNẵng          428\n",
       "0       HàNội          242\n",
       "49  HồChíMinh          221\n",
       "32   QuảngNam          109"
      ]
     },
     "execution_count": 56,
     "metadata": {},
     "output_type": "execute_result"
    }
   ],
   "source": [
    "# top 5 thành phố có số ca nhiễm nhiều nhất\n",
    "top5 = df_covid.sort_values(by='Số ca nhiễm', ascending=False)\n",
    "top5.groupby(df_covid['Tỉnh'])\n",
    "df_top5 = top5.iloc[0:5,[4,5]]\n",
    "df_top5"
   ]
  },
  {
   "cell_type": "code",
   "execution_count": 57,
   "metadata": {},
   "outputs": [
    {
     "data": {
      "image/png": "[encoded data removed]",
      "text/plain": [
       "<Figure size 720x432 with 1 Axes>"
      ]
     },
     "metadata": {
      "needs_background": "light"
     },
     "output_type": "display_data"
    }
   ],
   "source": [
    "# trực qua hóa bằng biểu đồ cột\n",
    "df_top5.plot.bar(figsize=(10,6),x='Tỉnh', y='Số ca nhiễm', rot=0)\n",
    "plt.title('Top 5 thành phố có số ca nhiễm nhiều nhất')\n",
    "plt.xlabel('Tỉnh')\n",
    "plt.ylabel('Số ca nhiễm')\n",
    "plt.show()"
   ]
  },
  {
   "cell_type": "code",
   "execution_count": 110,
   "metadata": {},
   "outputs": [
    {
     "data": {
      "text/html": [
       "<div>\n",
       "<style scoped>\n",
       "    .dataframe tbody tr th:only-of-type {\n",
       "        vertical-align: middle;\n",
       "    }\n",
       "\n",
       "    .dataframe tbody tr th {\n",
       "        vertical-align: top;\n",
       "    }\n",
       "\n",
       "    .dataframe thead th {\n",
       "        text-align: right;\n",
       "    }\n",
       "</style>\n",
       "<table border=\"1\" class=\"dataframe\">\n",
       "  <thead>\n",
       "    <tr style=\"text-align: right;\">\n",
       "      <th>Tỉnh</th>\n",
       "      <th>HảiDương</th>\n",
       "      <th>ĐàNẵng</th>\n",
       "      <th>HàNội</th>\n",
       "      <th>HồChíMinh</th>\n",
       "      <th>QuảngNam</th>\n",
       "    </tr>\n",
       "    <tr>\n",
       "      <th>Tỉnh</th>\n",
       "      <th></th>\n",
       "      <th></th>\n",
       "      <th></th>\n",
       "      <th></th>\n",
       "      <th></th>\n",
       "    </tr>\n",
       "  </thead>\n",
       "  <tbody>\n",
       "    <tr>\n",
       "      <th>Số ca nhiễm</th>\n",
       "      <td>762</td>\n",
       "      <td>428</td>\n",
       "      <td>242</td>\n",
       "      <td>221</td>\n",
       "      <td>109</td>\n",
       "    </tr>\n",
       "  </tbody>\n",
       "</table>\n",
       "</div>"
      ],
      "text/plain": [
       "Tỉnh         HảiDương  ĐàNẵng  HàNội  HồChíMinh  QuảngNam\n",
       "Tỉnh                                                     \n",
       "Số ca nhiễm       762     428    242        221       109"
      ]
     },
     "execution_count": 110,
     "metadata": {},
     "output_type": "execute_result"
    }
   ],
   "source": [
    "# trực quan hóa bằng biểu đồ tròn\n",
    "df = df_top5.transpose()\n",
    "header_row=0\n",
    "df.columns = df.iloc[header_row]\n",
    "df = df.iloc[1:,:]\n",
    "df.reset_index(inplace=True)\n",
    "df = df.rename(columns = {'index':'Tỉnh'})\n",
    "df= df.groupby('Tỉnh').sum()\n",
    "df\n",
    "# df_top5.plot.pie(figsize=(10,6),y='Số ca nhiễm')\n",
    "# plt.title('Top 5 thành phố có số ca nhiễm nhiều nhất')\n",
    "# plt.xlabel('Tỉnh')\n",
    "# plt.ylabel('Số ca nhiễm')\n",
    "# plt.show()"
   ]
  },
  {
   "cell_type": "code",
   "execution_count": 9,
   "metadata": {},
   "outputs": [
    {
     "data": {
      "text/html": [
       "<div>\n",
       "<style scoped>\n",
       "    .dataframe tbody tr th:only-of-type {\n",
       "        vertical-align: middle;\n",
       "    }\n",
       "\n",
       "    .dataframe tbody tr th {\n",
       "        vertical-align: top;\n",
       "    }\n",
       "\n",
       "    .dataframe thead th {\n",
       "        text-align: right;\n",
       "    }\n",
       "</style>\n",
       "<table border=\"1\" class=\"dataframe\">\n",
       "  <thead>\n",
       "    <tr style=\"text-align: right;\">\n",
       "      <th></th>\n",
       "      <th>Tỉnh</th>\n",
       "      <th>Số ca nhiễm</th>\n",
       "    </tr>\n",
       "  </thead>\n",
       "  <tbody>\n",
       "    <tr>\n",
       "      <th>40</th>\n",
       "      <td>GiaLai</td>\n",
       "      <td>27</td>\n",
       "    </tr>\n",
       "    <tr>\n",
       "      <th>55</th>\n",
       "      <td>ĐồngTháp</td>\n",
       "      <td>27</td>\n",
       "    </tr>\n",
       "    <tr>\n",
       "      <th>24</th>\n",
       "      <td>NinhBình</td>\n",
       "      <td>32</td>\n",
       "    </tr>\n",
       "    <tr>\n",
       "      <th>20</th>\n",
       "      <td>HưngYên</td>\n",
       "      <td>34</td>\n",
       "    </tr>\n",
       "    <tr>\n",
       "      <th>21</th>\n",
       "      <td>TháiBình</td>\n",
       "      <td>38</td>\n",
       "    </tr>\n",
       "    <tr>\n",
       "      <th>46</th>\n",
       "      <td>BìnhDương</td>\n",
       "      <td>42</td>\n",
       "    </tr>\n",
       "    <tr>\n",
       "      <th>61</th>\n",
       "      <td>BạcLiêu</td>\n",
       "      <td>52</td>\n",
       "    </tr>\n",
       "    <tr>\n",
       "      <th>48</th>\n",
       "      <td>BàRịa-VũngTàu</td>\n",
       "      <td>81</td>\n",
       "    </tr>\n",
       "    <tr>\n",
       "      <th>13</th>\n",
       "      <td>QuảngNinh</td>\n",
       "      <td>84</td>\n",
       "    </tr>\n",
       "    <tr>\n",
       "      <th>36</th>\n",
       "      <td>KhánhHòa</td>\n",
       "      <td>89</td>\n",
       "    </tr>\n",
       "    <tr>\n",
       "      <th>32</th>\n",
       "      <td>QuảngNam</td>\n",
       "      <td>109</td>\n",
       "    </tr>\n",
       "    <tr>\n",
       "      <th>49</th>\n",
       "      <td>HồChíMinh</td>\n",
       "      <td>221</td>\n",
       "    </tr>\n",
       "    <tr>\n",
       "      <th>0</th>\n",
       "      <td>HàNội</td>\n",
       "      <td>242</td>\n",
       "    </tr>\n",
       "    <tr>\n",
       "      <th>31</th>\n",
       "      <td>ĐàNẵng</td>\n",
       "      <td>428</td>\n",
       "    </tr>\n",
       "    <tr>\n",
       "      <th>18</th>\n",
       "      <td>HảiDương</td>\n",
       "      <td>762</td>\n",
       "    </tr>\n",
       "  </tbody>\n",
       "</table>\n",
       "</div>"
      ],
      "text/plain": [
       "             Tỉnh  Số ca nhiễm\n",
       "40         GiaLai           27\n",
       "55       ĐồngTháp           27\n",
       "24       NinhBình           32\n",
       "20        HưngYên           34\n",
       "21       TháiBình           38\n",
       "46      BìnhDương           42\n",
       "61        BạcLiêu           52\n",
       "48  BàRịa-VũngTàu           81\n",
       "13      QuảngNinh           84\n",
       "36       KhánhHòa           89\n",
       "32       QuảngNam          109\n",
       "49      HồChíMinh          221\n",
       "0           HàNội          242\n",
       "31         ĐàNẵng          428\n",
       "18       HảiDương          762"
      ]
     },
     "execution_count": 9,
     "metadata": {},
     "output_type": "execute_result"
    }
   ],
   "source": [
    "# top 15 thành phố có số ca nhiễm nhiều nhất\n",
    "top15 = df_covid.sort_values(by='Số ca nhiễm', ascending=True)\n",
    "top15.groupby(df_covid['Tỉnh'])\n",
    "df_top15 = top15.iloc[-15:,[4,5]]\n",
    "df_top15"
   ]
  },
  {
   "cell_type": "code",
   "execution_count": 10,
   "metadata": {},
   "outputs": [
    {
     "data": {
      "image/png": "[encoded data removed]",
      "text/plain": [
       "<Figure size 720x432 with 1 Axes>"
      ]
     },
     "metadata": {
      "needs_background": "light"
     },
     "output_type": "display_data"
    }
   ],
   "source": [
    "df_top15.plot.barh(figsize=(10,6),x='Tỉnh', y='Số ca nhiễm', rot=0)\n",
    "plt.title('Top 15 thành phố có số ca nhiễm nhiều nhất')\n",
    "plt.xlabel('Tỉnh')\n",
    "plt.ylabel('Số ca nhiễm')\n",
    "plt.show()"
   ]
  },
  {
   "cell_type": "code",
   "execution_count": 11,
   "metadata": {},
   "outputs": [
    {
     "data": {
      "text/plain": [
       "0    242\n",
       "1      2\n",
       "2      0\n",
       "3      0\n",
       "4      0\n",
       "Name: Số ca nhiễm, dtype: int64"
      ]
     },
     "execution_count": 11,
     "metadata": {},
     "output_type": "execute_result"
    }
   ],
   "source": [
    "df_covid['Số ca nhiễm'].head()"
   ]
  },
  {
   "cell_type": "code",
   "execution_count": 12,
   "metadata": {},
   "outputs": [
    {
     "name": "stdout",
     "output_type": "stream",
     "text": [
      "[55  4  1  1  0  1  0  0  0  1]\n",
      "[  0.   76.2 152.4 228.6 304.8 381.  457.2 533.4 609.6 685.8 762. ]\n"
     ]
    }
   ],
   "source": [
    "# np.histogram returns 2 values\n",
    "count, bin_edges = np.histogram(df_covid['Số ca nhiễm'])\n",
    "\n",
    "print(count) # frequency count\n",
    "print(bin_edges) # bin ranges, default = 10 bins"
   ]
  },
  {
   "cell_type": "code",
   "execution_count": 13,
   "metadata": {},
   "outputs": [
    {
     "data": {
      "image/png": "[encoded data removed]",
      "text/plain": [
       "<Figure size 720x432 with 1 Axes>"
      ]
     },
     "metadata": {
      "needs_background": "light"
     },
     "output_type": "display_data"
    }
   ],
   "source": [
    "# Biểu đồ histogram tần suất các ca nhiễm của các tỉnh\n",
    "df_covid['Số ca nhiễm'].plot(kind='hist',figsize=(10,6))\n",
    "plt.grid()\n",
    "plt.title(\"Biểu đồ thể hiện số ca nhiễm của các tỉnh\")\n",
    "plt.xlabel(\"Số ca nhiễm\")\n",
    "plt.ylabel(\"Số tỉnh thành phố\")\n",
    "plt.show()"
   ]
  },
  {
   "cell_type": "code",
   "execution_count": 14,
   "metadata": {},
   "outputs": [
    {
     "data": {
      "text/html": [
       "<div>\n",
       "<style scoped>\n",
       "    .dataframe tbody tr th:only-of-type {\n",
       "        vertical-align: middle;\n",
       "    }\n",
       "\n",
       "    .dataframe tbody tr th {\n",
       "        vertical-align: top;\n",
       "    }\n",
       "\n",
       "    .dataframe thead th {\n",
       "        text-align: right;\n",
       "    }\n",
       "</style>\n",
       "<table border=\"1\" class=\"dataframe\">\n",
       "  <thead>\n",
       "    <tr style=\"text-align: right;\">\n",
       "      <th></th>\n",
       "      <th>Số ca nhiễm</th>\n",
       "      <th>Tử vong</th>\n",
       "    </tr>\n",
       "  </thead>\n",
       "  <tbody>\n",
       "    <tr>\n",
       "      <th>0</th>\n",
       "      <td>242</td>\n",
       "      <td>0</td>\n",
       "    </tr>\n",
       "    <tr>\n",
       "      <th>1</th>\n",
       "      <td>2</td>\n",
       "      <td>0</td>\n",
       "    </tr>\n",
       "    <tr>\n",
       "      <th>2</th>\n",
       "      <td>0</td>\n",
       "      <td>0</td>\n",
       "    </tr>\n",
       "    <tr>\n",
       "      <th>3</th>\n",
       "      <td>0</td>\n",
       "      <td>0</td>\n",
       "    </tr>\n",
       "    <tr>\n",
       "      <th>4</th>\n",
       "      <td>0</td>\n",
       "      <td>0</td>\n",
       "    </tr>\n",
       "    <tr>\n",
       "      <th>...</th>\n",
       "      <td>...</td>\n",
       "      <td>...</td>\n",
       "    </tr>\n",
       "    <tr>\n",
       "      <th>58</th>\n",
       "      <td>10</td>\n",
       "      <td>0</td>\n",
       "    </tr>\n",
       "    <tr>\n",
       "      <th>59</th>\n",
       "      <td>0</td>\n",
       "      <td>0</td>\n",
       "    </tr>\n",
       "    <tr>\n",
       "      <th>60</th>\n",
       "      <td>0</td>\n",
       "      <td>0</td>\n",
       "    </tr>\n",
       "    <tr>\n",
       "      <th>61</th>\n",
       "      <td>52</td>\n",
       "      <td>0</td>\n",
       "    </tr>\n",
       "    <tr>\n",
       "      <th>62</th>\n",
       "      <td>5</td>\n",
       "      <td>0</td>\n",
       "    </tr>\n",
       "  </tbody>\n",
       "</table>\n",
       "<p>63 rows × 2 columns</p>\n",
       "</div>"
      ],
      "text/plain": [
       "    Số ca nhiễm  Tử vong\n",
       "0           242        0\n",
       "1             2        0\n",
       "2             0        0\n",
       "3             0        0\n",
       "4             0        0\n",
       "..          ...      ...\n",
       "58           10        0\n",
       "59            0        0\n",
       "60            0        0\n",
       "61           52        0\n",
       "62            5        0\n",
       "\n",
       "[63 rows x 2 columns]"
      ]
     },
     "execution_count": 14,
     "metadata": {},
     "output_type": "execute_result"
    }
   ],
   "source": [
    "df_line = df_covid.iloc[:,[5,8]]\n",
    "df_line"
   ]
  },
  {
   "cell_type": "code",
   "execution_count": 15,
   "metadata": {},
   "outputs": [
    {
     "data": {
      "image/png": "[encoded data removed]",
      "text/plain": [
       "<Figure size 720x432 with 1 Axes>"
      ]
     },
     "metadata": {
      "needs_background": "light"
     },
     "output_type": "display_data"
    }
   ],
   "source": [
    "# biểu đồ line thể hiện xu hương của số ca nhiễm và số bình phục\n",
    "df_line.plot.line(figsize=(10,6))\n",
    "plt.grid()\n",
    "plt.title(\"Biểu đồ thể hiện số ca nhiệm và số bình phục\")\n",
    "plt.xlabel(\"\")\n",
    "plt.ylabel(\"Số người\")\n",
    "plt.show()"
   ]
  },
  {
   "cell_type": "code",
   "execution_count": null,
   "metadata": {},
   "outputs": [],
   "source": []
  },
  {
   "cell_type": "code",
   "execution_count": null,
   "metadata": {},
   "outputs": [],
   "source": []
  },
  {
   "cell_type": "code",
   "execution_count": null,
   "metadata": {},
   "outputs": [],
   "source": []
  }
 ],
 "metadata": {
  "kernelspec": {
   "display_name": "Python 3",
   "language": "python",
   "name": "python3"
  },
  "language_info": {
   "codemirror_mode": {
    "name": "ipython",
    "version": 3
   },
   "file_extension": ".py",
   "mimetype": "text/x-python",
   "name": "python",
   "nbconvert_exporter": "python",
   "pygments_lexer": "ipython3",
   "version": "3.8.5"
  }
 },
 "nbformat": 4,
 "nbformat_minor": 4
}
