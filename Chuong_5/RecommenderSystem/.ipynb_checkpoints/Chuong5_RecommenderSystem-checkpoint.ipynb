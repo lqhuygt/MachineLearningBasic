{
 "cells": [
  {
   "cell_type": "markdown",
   "metadata": {
    "id": "vBBD9wNIHyp7"
   },
   "source": [
    "# **CHƯƠNG 5: HỆ THỐNG GỢI Ý (RECOMMENDER SYSTEMS)**\n",
    "---\n",
    "\n",
    "Giảng viên: Đặng Văn Nam\n",
    "\n",
    "Email: dangvannam080508humg@gmail.com\n",
    "\n",
    "---\n",
    "## DEMO VÍ DỤ HỆ THỐNG GỢI Ý MOVIES\n",
    "Dự án này sẽ xây dựng một hệ thống đề xuất dựa trên tập dữ liệu Movies.\n",
    "\n",
    "![alt text](https://miro.medium.com/max/638/1*10sfQufkGnB-fWbBaNK8rg.jpeg)\n",
    "\n",
    "Dựa vào dữ liệu của trên 45000 bộ film, xây dựng hệ thống đề xuất đưa ra danh sách 15 bộ film liên quan. Có hai loại Recommender system được xây dựng trong project này:\n",
    "\n",
    "\n",
    "*   Simple Recommender\n",
    "*   Content-Based Recommender\n",
    "\n",
    "Các file dữ liệu sử dụng bao gồm:\n",
    "\n",
    "**movies_metadata.csv:** File này chứa thông tin tổng hợp của 45 466 bộ film, mỗi bộ film có 24 thuộc tính khác nhau, một số thuộc tính chính bao gồm:\n",
    "\n",
    "1. adult: Bộ film dành cho người lớn hay không. Dữ liệu boolean (True - Flase)\n",
    "2. original_language: Ngôn ngữ ban đầu; dữ liệu categorical\n",
    "3. original_title: Tiêu đề của film, dữ liệu text\n",
    "4. overview: Tóm tắt nội dung của film; Dữ liệu text\n",
    "5. vote_average: Tỷ lệ vote trung bình [0-10]\n",
    "6. vote_count: Số lượt vote\n",
    "\n",
    "---\n",
    "dangvannam@Department of Computer Science@2020"
   ]
  },
  {
   "cell_type": "markdown",
   "metadata": {
    "id": "0WVHxEbMLjw7"
   },
   "source": [
    "# I) Đọc tập dữ liệu Movie\n",
    "---"
   ]
  },
  {
   "cell_type": "code",
   "execution_count": 10,
   "metadata": {
    "colab": {
     "base_uri": "https://localhost:8080/"
    },
    "id": "Agee35H2JZg0",
    "outputId": "866a7dd6-0130-4019-e4c1-44a3d792dec0"
   },
   "outputs": [
    {
     "name": "stdout",
     "output_type": "stream",
     "text": [
      "<class 'pandas.core.frame.DataFrame'>\n",
      "RangeIndex: 12182 entries, 0 to 12181\n",
      "Data columns (total 24 columns):\n",
      " #   Column                 Non-Null Count  Dtype  \n",
      "---  ------                 --------------  -----  \n",
      " 0   adult                  12182 non-null  bool   \n",
      " 1   belongs_to_collection  2409 non-null   object \n",
      " 2   budget                 12182 non-null  int64  \n",
      " 3   genres                 12182 non-null  object \n",
      " 4   homepage               3330 non-null   object \n",
      " 5   id                     12182 non-null  int64  \n",
      " 6   imdb_id                12180 non-null  object \n",
      " 7   original_language      12182 non-null  object \n",
      " 8   original_title         12182 non-null  object \n",
      " 9   overview               12119 non-null  object \n",
      " 10  popularity             12182 non-null  float64\n",
      " 11  poster_path            12182 non-null  object \n",
      " 12  production_companies   12182 non-null  object \n",
      " 13  production_countries   12182 non-null  object \n",
      " 14  release_date           12180 non-null  object \n",
      " 15  revenue                12182 non-null  float64\n",
      " 16  runtime                12178 non-null  float64\n",
      " 17  spoken_languages       12182 non-null  object \n",
      " 18  status                 12181 non-null  object \n",
      " 19  tagline                8782 non-null   object \n",
      " 20  title                  12182 non-null  object \n",
      " 21  video                  12182 non-null  bool   \n",
      " 22  vote_average           12182 non-null  float64\n",
      " 23  vote_count             12182 non-null  float64\n",
      "dtypes: bool(2), float64(5), int64(2), object(15)\n",
      "memory usage: 2.1+ MB\n"
     ]
    }
   ],
   "source": [
    "import pandas as pd\n",
    "#Đọc tập dữ liệu thông tin của các film\n",
    "path='data\\Data_Movies.csv'\n",
    "data_movies = pd.read_csv(path)\n",
    "#Hiển thị thông tin tập dữ liệu\n",
    "data_movies.info()"
   ]
  },
  {
   "cell_type": "code",
   "execution_count": 8,
   "metadata": {},
   "outputs": [
    {
     "name": "stdout",
     "output_type": "stream",
     "text": [
      "<class 'pandas.core.frame.DataFrame'>\n",
      "Int64Index: 12182 entries, 0 to 45441\n",
      "Data columns (total 24 columns):\n",
      " #   Column                 Non-Null Count  Dtype  \n",
      "---  ------                 --------------  -----  \n",
      " 0   adult                  12182 non-null  object \n",
      " 1   belongs_to_collection  2409 non-null   object \n",
      " 2   budget                 12182 non-null  object \n",
      " 3   genres                 12182 non-null  object \n",
      " 4   homepage               3330 non-null   object \n",
      " 5   id                     12182 non-null  object \n",
      " 6   imdb_id                12180 non-null  object \n",
      " 7   original_language      12182 non-null  object \n",
      " 8   original_title         12182 non-null  object \n",
      " 9   overview               12119 non-null  object \n",
      " 10  popularity             12182 non-null  object \n",
      " 11  poster_path            12182 non-null  object \n",
      " 12  production_companies   12182 non-null  object \n",
      " 13  production_countries   12182 non-null  object \n",
      " 14  release_date           12180 non-null  object \n",
      " 15  revenue                12182 non-null  float64\n",
      " 16  runtime                12178 non-null  float64\n",
      " 17  spoken_languages       12182 non-null  object \n",
      " 18  status                 12181 non-null  object \n",
      " 19  tagline                8782 non-null   object \n",
      " 20  title                  12182 non-null  object \n",
      " 21  video                  12182 non-null  object \n",
      " 22  vote_average           12182 non-null  float64\n",
      " 23  vote_count             12182 non-null  float64\n",
      "dtypes: float64(4), object(20)\n",
      "memory usage: 2.3+ MB\n"
     ]
    }
   ],
   "source": [
    "data = data_movies.loc[data_movies['vote_count']>30]\n",
    "data.info()"
   ]
  },
  {
   "cell_type": "code",
   "execution_count": 9,
   "metadata": {},
   "outputs": [],
   "source": [
    "data.to_csv('data\\Data_Movies.csv',index=None)"
   ]
  },
  {
   "cell_type": "code",
   "execution_count": 11,
   "metadata": {
    "colab": {
     "base_uri": "https://localhost:8080/",
     "height": 666
    },
    "id": "De82EJthJrEM",
    "outputId": "e5e96513-60a4-459d-df6a-2882b4426d93"
   },
   "outputs": [
    {
     "data": {
      "text/html": [
       "<div>\n",
       "<style scoped>\n",
       "    .dataframe tbody tr th:only-of-type {\n",
       "        vertical-align: middle;\n",
       "    }\n",
       "\n",
       "    .dataframe tbody tr th {\n",
       "        vertical-align: top;\n",
       "    }\n",
       "\n",
       "    .dataframe thead th {\n",
       "        text-align: right;\n",
       "    }\n",
       "</style>\n",
       "<table border=\"1\" class=\"dataframe\">\n",
       "  <thead>\n",
       "    <tr style=\"text-align: right;\">\n",
       "      <th></th>\n",
       "      <th>adult</th>\n",
       "      <th>belongs_to_collection</th>\n",
       "      <th>budget</th>\n",
       "      <th>genres</th>\n",
       "      <th>homepage</th>\n",
       "      <th>id</th>\n",
       "      <th>imdb_id</th>\n",
       "      <th>original_language</th>\n",
       "      <th>original_title</th>\n",
       "      <th>overview</th>\n",
       "      <th>...</th>\n",
       "      <th>release_date</th>\n",
       "      <th>revenue</th>\n",
       "      <th>runtime</th>\n",
       "      <th>spoken_languages</th>\n",
       "      <th>status</th>\n",
       "      <th>tagline</th>\n",
       "      <th>title</th>\n",
       "      <th>video</th>\n",
       "      <th>vote_average</th>\n",
       "      <th>vote_count</th>\n",
       "    </tr>\n",
       "  </thead>\n",
       "  <tbody>\n",
       "    <tr>\n",
       "      <th>0</th>\n",
       "      <td>False</td>\n",
       "      <td>{'id': 10194, 'name': 'Toy Story Collection', ...</td>\n",
       "      <td>30000000</td>\n",
       "      <td>[{'id': 16, 'name': 'Animation'}, {'id': 35, '...</td>\n",
       "      <td>http://toystory.disney.com/toy-story</td>\n",
       "      <td>862</td>\n",
       "      <td>tt0114709</td>\n",
       "      <td>en</td>\n",
       "      <td>Toy Story</td>\n",
       "      <td>Led by Woody, Andy's toys live happily in his ...</td>\n",
       "      <td>...</td>\n",
       "      <td>1995-10-30</td>\n",
       "      <td>373554033.0</td>\n",
       "      <td>81.0</td>\n",
       "      <td>[{'iso_639_1': 'en', 'name': 'English'}]</td>\n",
       "      <td>Released</td>\n",
       "      <td>NaN</td>\n",
       "      <td>Toy Story</td>\n",
       "      <td>False</td>\n",
       "      <td>7.7</td>\n",
       "      <td>5415.0</td>\n",
       "    </tr>\n",
       "    <tr>\n",
       "      <th>1</th>\n",
       "      <td>False</td>\n",
       "      <td>NaN</td>\n",
       "      <td>65000000</td>\n",
       "      <td>[{'id': 12, 'name': 'Adventure'}, {'id': 14, '...</td>\n",
       "      <td>NaN</td>\n",
       "      <td>8844</td>\n",
       "      <td>tt0113497</td>\n",
       "      <td>en</td>\n",
       "      <td>Jumanji</td>\n",
       "      <td>When siblings Judy and Peter discover an encha...</td>\n",
       "      <td>...</td>\n",
       "      <td>1995-12-15</td>\n",
       "      <td>262797249.0</td>\n",
       "      <td>104.0</td>\n",
       "      <td>[{'iso_639_1': 'en', 'name': 'English'}, {'iso...</td>\n",
       "      <td>Released</td>\n",
       "      <td>Roll the dice and unleash the excitement!</td>\n",
       "      <td>Jumanji</td>\n",
       "      <td>False</td>\n",
       "      <td>6.9</td>\n",
       "      <td>2413.0</td>\n",
       "    </tr>\n",
       "    <tr>\n",
       "      <th>2</th>\n",
       "      <td>False</td>\n",
       "      <td>{'id': 119050, 'name': 'Grumpy Old Men Collect...</td>\n",
       "      <td>0</td>\n",
       "      <td>[{'id': 10749, 'name': 'Romance'}, {'id': 35, ...</td>\n",
       "      <td>NaN</td>\n",
       "      <td>15602</td>\n",
       "      <td>tt0113228</td>\n",
       "      <td>en</td>\n",
       "      <td>Grumpier Old Men</td>\n",
       "      <td>A family wedding reignites the ancient feud be...</td>\n",
       "      <td>...</td>\n",
       "      <td>1995-12-22</td>\n",
       "      <td>0.0</td>\n",
       "      <td>101.0</td>\n",
       "      <td>[{'iso_639_1': 'en', 'name': 'English'}]</td>\n",
       "      <td>Released</td>\n",
       "      <td>Still Yelling. Still Fighting. Still Ready for...</td>\n",
       "      <td>Grumpier Old Men</td>\n",
       "      <td>False</td>\n",
       "      <td>6.5</td>\n",
       "      <td>92.0</td>\n",
       "    </tr>\n",
       "    <tr>\n",
       "      <th>3</th>\n",
       "      <td>False</td>\n",
       "      <td>NaN</td>\n",
       "      <td>16000000</td>\n",
       "      <td>[{'id': 35, 'name': 'Comedy'}, {'id': 18, 'nam...</td>\n",
       "      <td>NaN</td>\n",
       "      <td>31357</td>\n",
       "      <td>tt0114885</td>\n",
       "      <td>en</td>\n",
       "      <td>Waiting to Exhale</td>\n",
       "      <td>Cheated on, mistreated and stepped on, the wom...</td>\n",
       "      <td>...</td>\n",
       "      <td>1995-12-22</td>\n",
       "      <td>81452156.0</td>\n",
       "      <td>127.0</td>\n",
       "      <td>[{'iso_639_1': 'en', 'name': 'English'}]</td>\n",
       "      <td>Released</td>\n",
       "      <td>Friends are the people who let you be yourself...</td>\n",
       "      <td>Waiting to Exhale</td>\n",
       "      <td>False</td>\n",
       "      <td>6.1</td>\n",
       "      <td>34.0</td>\n",
       "    </tr>\n",
       "    <tr>\n",
       "      <th>4</th>\n",
       "      <td>False</td>\n",
       "      <td>{'id': 96871, 'name': 'Father of the Bride Col...</td>\n",
       "      <td>0</td>\n",
       "      <td>[{'id': 35, 'name': 'Comedy'}]</td>\n",
       "      <td>NaN</td>\n",
       "      <td>11862</td>\n",
       "      <td>tt0113041</td>\n",
       "      <td>en</td>\n",
       "      <td>Father of the Bride Part II</td>\n",
       "      <td>Just when George Banks has recovered from his ...</td>\n",
       "      <td>...</td>\n",
       "      <td>1995-02-10</td>\n",
       "      <td>76578911.0</td>\n",
       "      <td>106.0</td>\n",
       "      <td>[{'iso_639_1': 'en', 'name': 'English'}]</td>\n",
       "      <td>Released</td>\n",
       "      <td>Just When His World Is Back To Normal... He's ...</td>\n",
       "      <td>Father of the Bride Part II</td>\n",
       "      <td>False</td>\n",
       "      <td>5.7</td>\n",
       "      <td>173.0</td>\n",
       "    </tr>\n",
       "  </tbody>\n",
       "</table>\n",
       "<p>5 rows × 24 columns</p>\n",
       "</div>"
      ],
      "text/plain": [
       "   adult                              belongs_to_collection    budget  \\\n",
       "0  False  {'id': 10194, 'name': 'Toy Story Collection', ...  30000000   \n",
       "1  False                                                NaN  65000000   \n",
       "2  False  {'id': 119050, 'name': 'Grumpy Old Men Collect...         0   \n",
       "3  False                                                NaN  16000000   \n",
       "4  False  {'id': 96871, 'name': 'Father of the Bride Col...         0   \n",
       "\n",
       "                                              genres  \\\n",
       "0  [{'id': 16, 'name': 'Animation'}, {'id': 35, '...   \n",
       "1  [{'id': 12, 'name': 'Adventure'}, {'id': 14, '...   \n",
       "2  [{'id': 10749, 'name': 'Romance'}, {'id': 35, ...   \n",
       "3  [{'id': 35, 'name': 'Comedy'}, {'id': 18, 'nam...   \n",
       "4                     [{'id': 35, 'name': 'Comedy'}]   \n",
       "\n",
       "                               homepage     id    imdb_id original_language  \\\n",
       "0  http://toystory.disney.com/toy-story    862  tt0114709                en   \n",
       "1                                   NaN   8844  tt0113497                en   \n",
       "2                                   NaN  15602  tt0113228                en   \n",
       "3                                   NaN  31357  tt0114885                en   \n",
       "4                                   NaN  11862  tt0113041                en   \n",
       "\n",
       "                original_title  \\\n",
       "0                    Toy Story   \n",
       "1                      Jumanji   \n",
       "2             Grumpier Old Men   \n",
       "3            Waiting to Exhale   \n",
       "4  Father of the Bride Part II   \n",
       "\n",
       "                                            overview  ...  release_date  \\\n",
       "0  Led by Woody, Andy's toys live happily in his ...  ...    1995-10-30   \n",
       "1  When siblings Judy and Peter discover an encha...  ...    1995-12-15   \n",
       "2  A family wedding reignites the ancient feud be...  ...    1995-12-22   \n",
       "3  Cheated on, mistreated and stepped on, the wom...  ...    1995-12-22   \n",
       "4  Just when George Banks has recovered from his ...  ...    1995-02-10   \n",
       "\n",
       "       revenue runtime                                   spoken_languages  \\\n",
       "0  373554033.0    81.0           [{'iso_639_1': 'en', 'name': 'English'}]   \n",
       "1  262797249.0   104.0  [{'iso_639_1': 'en', 'name': 'English'}, {'iso...   \n",
       "2          0.0   101.0           [{'iso_639_1': 'en', 'name': 'English'}]   \n",
       "3   81452156.0   127.0           [{'iso_639_1': 'en', 'name': 'English'}]   \n",
       "4   76578911.0   106.0           [{'iso_639_1': 'en', 'name': 'English'}]   \n",
       "\n",
       "     status                                            tagline  \\\n",
       "0  Released                                                NaN   \n",
       "1  Released          Roll the dice and unleash the excitement!   \n",
       "2  Released  Still Yelling. Still Fighting. Still Ready for...   \n",
       "3  Released  Friends are the people who let you be yourself...   \n",
       "4  Released  Just When His World Is Back To Normal... He's ...   \n",
       "\n",
       "                         title  video vote_average vote_count  \n",
       "0                    Toy Story  False          7.7     5415.0  \n",
       "1                      Jumanji  False          6.9     2413.0  \n",
       "2             Grumpier Old Men  False          6.5       92.0  \n",
       "3            Waiting to Exhale  False          6.1       34.0  \n",
       "4  Father of the Bride Part II  False          5.7      173.0  \n",
       "\n",
       "[5 rows x 24 columns]"
      ]
     },
     "execution_count": 11,
     "metadata": {},
     "output_type": "execute_result"
    }
   ],
   "source": [
    "#Hiển thị dữ liệu 5 dòng đầu tiên\n",
    "data_movies.head()"
   ]
  },
  {
   "cell_type": "markdown",
   "metadata": {
    "id": "eJFNsjDQ6G-5"
   },
   "source": [
    "**Lọc dữ liệu thô ban đầu chỉ lấy các cột quan trọng sử dụng để xây dựng hệ thống gợi ý:**\n",
    "* adult: Bộ film dành cho người lớn hay không. Dữ liệu boolean (True - Flase)\n",
    "* original_language: Ngôn ngữ ban đầu; dữ liệu categorical\n",
    "* original_title: Tiêu đề của film, dữ liệu text\n",
    "* overview: Tóm tắt nội dung của film; Dữ liệu text\n",
    "* release_date: Ngày phát hành film\n",
    "* vote_average: Tỷ lệ vote trung bình [0-10]\n",
    "* vote_count: Số lượt vote"
   ]
  },
  {
   "cell_type": "code",
   "execution_count": 12,
   "metadata": {
    "colab": {
     "base_uri": "https://localhost:8080/"
    },
    "id": "H4lQuUW_57qq",
    "outputId": "ef2b6308-f6d9-49fe-8509-057f98c8c0a6"
   },
   "outputs": [
    {
     "name": "stdout",
     "output_type": "stream",
     "text": [
      "<class 'pandas.core.frame.DataFrame'>\n",
      "RangeIndex: 12182 entries, 0 to 12181\n",
      "Data columns (total 6 columns):\n",
      " #   Column          Non-Null Count  Dtype  \n",
      "---  ------          --------------  -----  \n",
      " 0   adult           12182 non-null  bool   \n",
      " 1   original_title  12182 non-null  object \n",
      " 2   overview        12119 non-null  object \n",
      " 3   release_date    12180 non-null  object \n",
      " 4   vote_average    12182 non-null  float64\n",
      " 5   vote_count      12182 non-null  float64\n",
      "dtypes: bool(1), float64(2), object(3)\n",
      "memory usage: 487.9+ KB\n"
     ]
    }
   ],
   "source": [
    "data = data_movies.loc[:,['adult','original_title','overview','release_date','vote_average','vote_count']].copy()\n",
    "data.info()"
   ]
  },
  {
   "cell_type": "code",
   "execution_count": 13,
   "metadata": {
    "colab": {
     "base_uri": "https://localhost:8080/",
     "height": 297
    },
    "id": "wiE7pLPiJ1R1",
    "outputId": "16615b25-e78e-4f2a-8940-53134a83c728"
   },
   "outputs": [
    {
     "data": {
      "text/html": [
       "<div>\n",
       "<style scoped>\n",
       "    .dataframe tbody tr th:only-of-type {\n",
       "        vertical-align: middle;\n",
       "    }\n",
       "\n",
       "    .dataframe tbody tr th {\n",
       "        vertical-align: top;\n",
       "    }\n",
       "\n",
       "    .dataframe thead th {\n",
       "        text-align: right;\n",
       "    }\n",
       "</style>\n",
       "<table border=\"1\" class=\"dataframe\">\n",
       "  <thead>\n",
       "    <tr style=\"text-align: right;\">\n",
       "      <th></th>\n",
       "      <th>vote_average</th>\n",
       "      <th>vote_count</th>\n",
       "    </tr>\n",
       "  </thead>\n",
       "  <tbody>\n",
       "    <tr>\n",
       "      <th>count</th>\n",
       "      <td>12182.000000</td>\n",
       "      <td>12182.000000</td>\n",
       "    </tr>\n",
       "    <tr>\n",
       "      <th>mean</th>\n",
       "      <td>6.308644</td>\n",
       "      <td>388.224594</td>\n",
       "    </tr>\n",
       "    <tr>\n",
       "      <th>std</th>\n",
       "      <td>0.919185</td>\n",
       "      <td>891.546891</td>\n",
       "    </tr>\n",
       "    <tr>\n",
       "      <th>min</th>\n",
       "      <td>0.000000</td>\n",
       "      <td>31.000000</td>\n",
       "    </tr>\n",
       "    <tr>\n",
       "      <th>25%</th>\n",
       "      <td>5.700000</td>\n",
       "      <td>50.000000</td>\n",
       "    </tr>\n",
       "    <tr>\n",
       "      <th>50%</th>\n",
       "      <td>6.400000</td>\n",
       "      <td>99.000000</td>\n",
       "    </tr>\n",
       "    <tr>\n",
       "      <th>75%</th>\n",
       "      <td>7.000000</td>\n",
       "      <td>299.000000</td>\n",
       "    </tr>\n",
       "    <tr>\n",
       "      <th>max</th>\n",
       "      <td>9.500000</td>\n",
       "      <td>14075.000000</td>\n",
       "    </tr>\n",
       "  </tbody>\n",
       "</table>\n",
       "</div>"
      ],
      "text/plain": [
       "       vote_average    vote_count\n",
       "count  12182.000000  12182.000000\n",
       "mean       6.308644    388.224594\n",
       "std        0.919185    891.546891\n",
       "min        0.000000     31.000000\n",
       "25%        5.700000     50.000000\n",
       "50%        6.400000     99.000000\n",
       "75%        7.000000    299.000000\n",
       "max        9.500000  14075.000000"
      ]
     },
     "execution_count": 13,
     "metadata": {},
     "output_type": "execute_result"
    }
   ],
   "source": [
    "#Đặc trưng thống kê các thuôc tính số\n",
    "data.describe()"
   ]
  },
  {
   "cell_type": "code",
   "execution_count": 14,
   "metadata": {
    "colab": {
     "base_uri": "https://localhost:8080/",
     "height": 173
    },
    "id": "9vntmqMANsae",
    "outputId": "49025477-f37f-4603-8e2c-3727a7c2c186"
   },
   "outputs": [
    {
     "data": {
      "text/html": [
       "<div>\n",
       "<style scoped>\n",
       "    .dataframe tbody tr th:only-of-type {\n",
       "        vertical-align: middle;\n",
       "    }\n",
       "\n",
       "    .dataframe tbody tr th {\n",
       "        vertical-align: top;\n",
       "    }\n",
       "\n",
       "    .dataframe thead th {\n",
       "        text-align: right;\n",
       "    }\n",
       "</style>\n",
       "<table border=\"1\" class=\"dataframe\">\n",
       "  <thead>\n",
       "    <tr style=\"text-align: right;\">\n",
       "      <th></th>\n",
       "      <th>original_title</th>\n",
       "      <th>overview</th>\n",
       "      <th>release_date</th>\n",
       "    </tr>\n",
       "  </thead>\n",
       "  <tbody>\n",
       "    <tr>\n",
       "      <th>count</th>\n",
       "      <td>12182</td>\n",
       "      <td>12119</td>\n",
       "      <td>12180</td>\n",
       "    </tr>\n",
       "    <tr>\n",
       "      <th>unique</th>\n",
       "      <td>11828</td>\n",
       "      <td>12099</td>\n",
       "      <td>6884</td>\n",
       "    </tr>\n",
       "    <tr>\n",
       "      <th>top</th>\n",
       "      <td>A Christmas Carol</td>\n",
       "      <td>No overview found.</td>\n",
       "      <td>2009-01-01</td>\n",
       "    </tr>\n",
       "    <tr>\n",
       "      <th>freq</th>\n",
       "      <td>4</td>\n",
       "      <td>8</td>\n",
       "      <td>19</td>\n",
       "    </tr>\n",
       "  </tbody>\n",
       "</table>\n",
       "</div>"
      ],
      "text/plain": [
       "           original_title            overview release_date\n",
       "count               12182               12119        12180\n",
       "unique              11828               12099         6884\n",
       "top     A Christmas Carol  No overview found.   2009-01-01\n",
       "freq                    4                   8           19"
      ]
     },
     "execution_count": 14,
     "metadata": {},
     "output_type": "execute_result"
    }
   ],
   "source": [
    "#Đặc trưng thống kê dữ liệu Object\n",
    "data.describe(include=['O'])"
   ]
  },
  {
   "cell_type": "markdown",
   "metadata": {
    "id": "0Ew3T6ZIZVWs"
   },
   "source": [
    "# **2) Tiền xử lý dữ liệu tập Movies**\n",
    "---"
   ]
  },
  {
   "cell_type": "markdown",
   "metadata": {
    "id": "3dBFzSbb9rHM"
   },
   "source": [
    "## **2.1) Chuẩn hóa dữ liệu:**\n",
    "---\n",
    "* Kiểm tra dữ liệu null của các thuộc tính\n",
    "* Loại bỏ các bộ film có thuộc tín null\n",
    "* Sắp xếp lại các bộ film theo ngày phát hành"
   ]
  },
  {
   "cell_type": "code",
   "execution_count": 15,
   "metadata": {
    "colab": {
     "base_uri": "https://localhost:8080/"
    },
    "id": "ceRi0y6m9qtV",
    "outputId": "08c22543-06d8-4098-d1bf-daf33de2c716"
   },
   "outputs": [
    {
     "name": "stdout",
     "output_type": "stream",
     "text": [
      "Số lượng missing data trong file dữ liệu:\n",
      "adult              0\n",
      "original_title     0\n",
      "overview          63\n",
      "release_date       2\n",
      "vote_average       0\n",
      "vote_count         0\n",
      "dtype: int64\n"
     ]
    }
   ],
   "source": [
    "#Thống kê số liệu missing trong Data frame\n",
    "#Theo từng cột\n",
    "print('Số lượng missing data trong file dữ liệu:')\n",
    "print(data.isnull().sum())"
   ]
  },
  {
   "cell_type": "code",
   "execution_count": 16,
   "metadata": {
    "colab": {
     "base_uri": "https://localhost:8080/"
    },
    "id": "Rtca35At-rau",
    "outputId": "003c578b-8b95-4c60-fd83-6e7fe6eaf6f8"
   },
   "outputs": [
    {
     "name": "stdout",
     "output_type": "stream",
     "text": [
      "<class 'pandas.core.frame.DataFrame'>\n",
      "Int64Index: 12117 entries, 0 to 12181\n",
      "Data columns (total 6 columns):\n",
      " #   Column          Non-Null Count  Dtype  \n",
      "---  ------          --------------  -----  \n",
      " 0   adult           12117 non-null  bool   \n",
      " 1   original_title  12117 non-null  object \n",
      " 2   overview        12117 non-null  object \n",
      " 3   release_date    12117 non-null  object \n",
      " 4   vote_average    12117 non-null  float64\n",
      " 5   vote_count      12117 non-null  float64\n",
      "dtypes: bool(1), float64(2), object(3)\n",
      "memory usage: 579.8+ KB\n"
     ]
    }
   ],
   "source": [
    "#Xóa tất cả các bộ film có chứ thuộc tính null\n",
    "data.dropna(axis=0,how='any',inplace=True)\n",
    "data.info()"
   ]
  },
  {
   "cell_type": "code",
   "execution_count": 17,
   "metadata": {
    "colab": {
     "base_uri": "https://localhost:8080/",
     "height": 204
    },
    "id": "pdR6J3KKYAQQ",
    "outputId": "f1aaf46c-901b-4031-a864-d0cc7ddb9bfe"
   },
   "outputs": [
    {
     "data": {
      "text/html": [
       "<div>\n",
       "<style scoped>\n",
       "    .dataframe tbody tr th:only-of-type {\n",
       "        vertical-align: middle;\n",
       "    }\n",
       "\n",
       "    .dataframe tbody tr th {\n",
       "        vertical-align: top;\n",
       "    }\n",
       "\n",
       "    .dataframe thead th {\n",
       "        text-align: right;\n",
       "    }\n",
       "</style>\n",
       "<table border=\"1\" class=\"dataframe\">\n",
       "  <thead>\n",
       "    <tr style=\"text-align: right;\">\n",
       "      <th></th>\n",
       "      <th>adult</th>\n",
       "      <th>original_title</th>\n",
       "      <th>overview</th>\n",
       "      <th>release_date</th>\n",
       "      <th>vote_average</th>\n",
       "      <th>vote_count</th>\n",
       "    </tr>\n",
       "  </thead>\n",
       "  <tbody>\n",
       "    <tr>\n",
       "      <th>9712</th>\n",
       "      <td>False</td>\n",
       "      <td>La Sortie de l'Usine Lumière à Lyon</td>\n",
       "      <td>Working men and women leave the Lumière factor...</td>\n",
       "      <td>1895-06-10</td>\n",
       "      <td>6.2</td>\n",
       "      <td>52.0</td>\n",
       "    </tr>\n",
       "    <tr>\n",
       "      <th>9272</th>\n",
       "      <td>False</td>\n",
       "      <td>Arroseur et arrosé</td>\n",
       "      <td>A gardener is watering his flowers, when a mis...</td>\n",
       "      <td>1895-12-27</td>\n",
       "      <td>7.0</td>\n",
       "      <td>44.0</td>\n",
       "    </tr>\n",
       "    <tr>\n",
       "      <th>8291</th>\n",
       "      <td>False</td>\n",
       "      <td>L'arrivée d'un train en gare de La Ciotat</td>\n",
       "      <td>A group of people are standing along the platf...</td>\n",
       "      <td>1896-01-25</td>\n",
       "      <td>6.9</td>\n",
       "      <td>87.0</td>\n",
       "    </tr>\n",
       "    <tr>\n",
       "      <th>5035</th>\n",
       "      <td>False</td>\n",
       "      <td>Le Voyage dans la Lune</td>\n",
       "      <td>A Trip to The Moon is a science fiction film f...</td>\n",
       "      <td>1902-09-01</td>\n",
       "      <td>7.9</td>\n",
       "      <td>314.0</td>\n",
       "    </tr>\n",
       "    <tr>\n",
       "      <th>5634</th>\n",
       "      <td>False</td>\n",
       "      <td>The Great Train Robbery</td>\n",
       "      <td>The clerk at the train station is assaulted an...</td>\n",
       "      <td>1903-12-01</td>\n",
       "      <td>7.1</td>\n",
       "      <td>116.0</td>\n",
       "    </tr>\n",
       "  </tbody>\n",
       "</table>\n",
       "</div>"
      ],
      "text/plain": [
       "      adult                             original_title  \\\n",
       "9712  False        La Sortie de l'Usine Lumière à Lyon   \n",
       "9272  False                         Arroseur et arrosé   \n",
       "8291  False  L'arrivée d'un train en gare de La Ciotat   \n",
       "5035  False                     Le Voyage dans la Lune   \n",
       "5634  False                    The Great Train Robbery   \n",
       "\n",
       "                                               overview release_date  \\\n",
       "9712  Working men and women leave the Lumière factor...   1895-06-10   \n",
       "9272  A gardener is watering his flowers, when a mis...   1895-12-27   \n",
       "8291  A group of people are standing along the platf...   1896-01-25   \n",
       "5035  A Trip to The Moon is a science fiction film f...   1902-09-01   \n",
       "5634  The clerk at the train station is assaulted an...   1903-12-01   \n",
       "\n",
       "      vote_average  vote_count  \n",
       "9712           6.2        52.0  \n",
       "9272           7.0        44.0  \n",
       "8291           6.9        87.0  \n",
       "5035           7.9       314.0  \n",
       "5634           7.1       116.0  "
      ]
     },
     "execution_count": 17,
     "metadata": {},
     "output_type": "execute_result"
    }
   ],
   "source": [
    "#Sắp xếp lại dữ liệu theo ngày phát hành\n",
    "data.sort_values('release_date',axis=0,inplace=True)\n",
    "data.head()"
   ]
  },
  {
   "cell_type": "code",
   "execution_count": 18,
   "metadata": {
    "colab": {
     "base_uri": "https://localhost:8080/",
     "height": 204
    },
    "id": "wrC3yoaPYXhU",
    "outputId": "6030c8b8-26b8-4505-c028-f77b40a57af5"
   },
   "outputs": [
    {
     "data": {
      "text/html": [
       "<div>\n",
       "<style scoped>\n",
       "    .dataframe tbody tr th:only-of-type {\n",
       "        vertical-align: middle;\n",
       "    }\n",
       "\n",
       "    .dataframe tbody tr th {\n",
       "        vertical-align: top;\n",
       "    }\n",
       "\n",
       "    .dataframe thead th {\n",
       "        text-align: right;\n",
       "    }\n",
       "</style>\n",
       "<table border=\"1\" class=\"dataframe\">\n",
       "  <thead>\n",
       "    <tr style=\"text-align: right;\">\n",
       "      <th></th>\n",
       "      <th>adult</th>\n",
       "      <th>original_title</th>\n",
       "      <th>overview</th>\n",
       "      <th>release_date</th>\n",
       "      <th>vote_average</th>\n",
       "      <th>vote_count</th>\n",
       "    </tr>\n",
       "  </thead>\n",
       "  <tbody>\n",
       "    <tr>\n",
       "      <th>12129</th>\n",
       "      <td>False</td>\n",
       "      <td>Good Time</td>\n",
       "      <td>A bank robber tries to avoid the law closing i...</td>\n",
       "      <td>2017-08-11</td>\n",
       "      <td>7.3</td>\n",
       "      <td>46.0</td>\n",
       "    </tr>\n",
       "    <tr>\n",
       "      <th>12106</th>\n",
       "      <td>False</td>\n",
       "      <td>What Happened to Monday</td>\n",
       "      <td>In a world where families are limited to one c...</td>\n",
       "      <td>2017-08-18</td>\n",
       "      <td>7.3</td>\n",
       "      <td>598.0</td>\n",
       "    </tr>\n",
       "    <tr>\n",
       "      <th>11826</th>\n",
       "      <td>False</td>\n",
       "      <td>Science Fiction Volume One: The Osiris Child</td>\n",
       "      <td>Set in the future in a time of interplanetary ...</td>\n",
       "      <td>2017-08-31</td>\n",
       "      <td>5.4</td>\n",
       "      <td>55.0</td>\n",
       "    </tr>\n",
       "    <tr>\n",
       "      <th>11338</th>\n",
       "      <td>False</td>\n",
       "      <td>Leatherface</td>\n",
       "      <td>A young nurse is kidnapped by a group of viole...</td>\n",
       "      <td>2017-09-14</td>\n",
       "      <td>5.7</td>\n",
       "      <td>62.0</td>\n",
       "    </tr>\n",
       "    <tr>\n",
       "      <th>9820</th>\n",
       "      <td>False</td>\n",
       "      <td>Avatar 2</td>\n",
       "      <td>A sequel to Avatar (2009).</td>\n",
       "      <td>2020-12-16</td>\n",
       "      <td>0.0</td>\n",
       "      <td>58.0</td>\n",
       "    </tr>\n",
       "  </tbody>\n",
       "</table>\n",
       "</div>"
      ],
      "text/plain": [
       "       adult                                original_title  \\\n",
       "12129  False                                     Good Time   \n",
       "12106  False                       What Happened to Monday   \n",
       "11826  False  Science Fiction Volume One: The Osiris Child   \n",
       "11338  False                                   Leatherface   \n",
       "9820   False                                      Avatar 2   \n",
       "\n",
       "                                                overview release_date  \\\n",
       "12129  A bank robber tries to avoid the law closing i...   2017-08-11   \n",
       "12106  In a world where families are limited to one c...   2017-08-18   \n",
       "11826  Set in the future in a time of interplanetary ...   2017-08-31   \n",
       "11338  A young nurse is kidnapped by a group of viole...   2017-09-14   \n",
       "9820                          A sequel to Avatar (2009).   2020-12-16   \n",
       "\n",
       "       vote_average  vote_count  \n",
       "12129           7.3        46.0  \n",
       "12106           7.3       598.0  \n",
       "11826           5.4        55.0  \n",
       "11338           5.7        62.0  \n",
       "9820            0.0        58.0  "
      ]
     },
     "execution_count": 18,
     "metadata": {},
     "output_type": "execute_result"
    }
   ],
   "source": [
    "data.tail()"
   ]
  },
  {
   "cell_type": "code",
   "execution_count": 19,
   "metadata": {
    "colab": {
     "base_uri": "https://localhost:8080/"
    },
    "id": "lSJo2ARANcrM",
    "outputId": "17d25c38-efc4-4315-a457-3ed30e85ca92"
   },
   "outputs": [
    {
     "data": {
      "text/plain": [
       "False    12117\n",
       "Name: adult, dtype: int64"
      ]
     },
     "execution_count": 19,
     "metadata": {},
     "output_type": "execute_result"
    }
   ],
   "source": [
    "#Các giá trị khác nhau của thuộc tính adult\n",
    "data.adult.value_counts()"
   ]
  },
  {
   "cell_type": "code",
   "execution_count": 21,
   "metadata": {
    "colab": {
     "base_uri": "https://localhost:8080/"
    },
    "id": "JrhZ-rp5N3p2",
    "outputId": "5d692216-2bee-482b-e618-f29d1f308811"
   },
   "outputs": [],
   "source": [
    "#Lọc các bộ film cho người trưởng thành\n",
    "#print(data[data['adult']=='True'].loc[:,['original_title','overview']])"
   ]
  },
  {
   "cell_type": "markdown",
   "metadata": {
    "id": "P005jCFUaCqX"
   },
   "source": [
    "## **2.2) Loại bỏ các bộ film trùng tên trong tập dữ liệu**\n",
    "---\n",
    "Thực hiện xóa các bộ film trùng tên trong tập dữ liệu chỉ giữ lại bộ film có số lượng vote cao nhất"
   ]
  },
  {
   "cell_type": "code",
   "execution_count": 22,
   "metadata": {
    "colab": {
     "base_uri": "https://localhost:8080/"
    },
    "id": "CRZkxdx4aBxW",
    "outputId": "b593ba2c-0c25-48db-b893-1831adea42ee"
   },
   "outputs": [
    {
     "data": {
      "text/plain": [
       "Hamlet                       4\n",
       "Life                         4\n",
       "Frankenstein                 4\n",
       "The Mummy                    4\n",
       "A Christmas Carol            4\n",
       "                            ..\n",
       "Brutti, sporchi e cattivi    1\n",
       "Adulthood                    1\n",
       "Zombieland                   1\n",
       "Frenemies                    1\n",
       "Amazon Women on the Moon     1\n",
       "Name: original_title, Length: 11764, dtype: int64"
      ]
     },
     "execution_count": 22,
     "metadata": {},
     "output_type": "execute_result"
    }
   ],
   "source": [
    "#Thống kê các bộ film trùng tên trong tập dữ liệu\n",
    "data['original_title'].value_counts()"
   ]
  },
  {
   "cell_type": "code",
   "execution_count": 23,
   "metadata": {
    "colab": {
     "base_uri": "https://localhost:8080/",
     "height": 297
    },
    "id": "YeFpN2KbagtA",
    "outputId": "62051ff3-b1f8-4583-ebd5-34f43b577ddd"
   },
   "outputs": [
    {
     "data": {
      "text/html": [
       "<div>\n",
       "<style scoped>\n",
       "    .dataframe tbody tr th:only-of-type {\n",
       "        vertical-align: middle;\n",
       "    }\n",
       "\n",
       "    .dataframe tbody tr th {\n",
       "        vertical-align: top;\n",
       "    }\n",
       "\n",
       "    .dataframe thead th {\n",
       "        text-align: right;\n",
       "    }\n",
       "</style>\n",
       "<table border=\"1\" class=\"dataframe\">\n",
       "  <thead>\n",
       "    <tr style=\"text-align: right;\">\n",
       "      <th></th>\n",
       "      <th>adult</th>\n",
       "      <th>original_title</th>\n",
       "      <th>overview</th>\n",
       "      <th>release_date</th>\n",
       "      <th>vote_average</th>\n",
       "      <th>vote_count</th>\n",
       "    </tr>\n",
       "  </thead>\n",
       "  <tbody>\n",
       "    <tr>\n",
       "      <th>1075</th>\n",
       "      <td>False</td>\n",
       "      <td>Hamlet</td>\n",
       "      <td>Winner of four Academy Awards, including Best ...</td>\n",
       "      <td>1948-03-25</td>\n",
       "      <td>7.1</td>\n",
       "      <td>48.0</td>\n",
       "    </tr>\n",
       "    <tr>\n",
       "      <th>2192</th>\n",
       "      <td>False</td>\n",
       "      <td>Hamlet</td>\n",
       "      <td>Hamlet, Prince of Denmark, finds out that his ...</td>\n",
       "      <td>1990-12-19</td>\n",
       "      <td>6.7</td>\n",
       "      <td>95.0</td>\n",
       "    </tr>\n",
       "    <tr>\n",
       "      <th>843</th>\n",
       "      <td>False</td>\n",
       "      <td>Hamlet</td>\n",
       "      <td>Hamlet, Prince of Denmark, returns home to fin...</td>\n",
       "      <td>1996-12-25</td>\n",
       "      <td>7.3</td>\n",
       "      <td>118.0</td>\n",
       "    </tr>\n",
       "    <tr>\n",
       "      <th>2122</th>\n",
       "      <td>False</td>\n",
       "      <td>Hamlet</td>\n",
       "      <td>Modern day adaptation of Shakespeare's immorta...</td>\n",
       "      <td>2000-05-12</td>\n",
       "      <td>6.0</td>\n",
       "      <td>35.0</td>\n",
       "    </tr>\n",
       "  </tbody>\n",
       "</table>\n",
       "</div>"
      ],
      "text/plain": [
       "      adult original_title                                           overview  \\\n",
       "1075  False         Hamlet  Winner of four Academy Awards, including Best ...   \n",
       "2192  False         Hamlet  Hamlet, Prince of Denmark, finds out that his ...   \n",
       "843   False         Hamlet  Hamlet, Prince of Denmark, returns home to fin...   \n",
       "2122  False         Hamlet  Modern day adaptation of Shakespeare's immorta...   \n",
       "\n",
       "     release_date  vote_average  vote_count  \n",
       "1075   1948-03-25           7.1        48.0  \n",
       "2192   1990-12-19           6.7        95.0  \n",
       "843    1996-12-25           7.3       118.0  \n",
       "2122   2000-05-12           6.0        35.0  "
      ]
     },
     "execution_count": 23,
     "metadata": {},
     "output_type": "execute_result"
    }
   ],
   "source": [
    "data.loc[data['original_title']=='Hamlet']"
   ]
  },
  {
   "cell_type": "code",
   "execution_count": 24,
   "metadata": {
    "colab": {
     "base_uri": "https://localhost:8080/"
    },
    "id": "K39M6JnGbr6J",
    "outputId": "52de88b3-b30b-410e-ab8c-e2e5414bd921"
   },
   "outputs": [
    {
     "name": "stdout",
     "output_type": "stream",
     "text": [
      "<class 'pandas.core.frame.DataFrame'>\n",
      "Int64Index: 11764 entries, 5351 to 7116\n",
      "Data columns (total 6 columns):\n",
      " #   Column          Non-Null Count  Dtype  \n",
      "---  ------          --------------  -----  \n",
      " 0   adult           11764 non-null  bool   \n",
      " 1   original_title  11764 non-null  object \n",
      " 2   overview        11764 non-null  object \n",
      " 3   release_date    11764 non-null  object \n",
      " 4   vote_average    11764 non-null  float64\n",
      " 5   vote_count      11764 non-null  float64\n",
      "dtypes: bool(1), float64(2), object(3)\n",
      "memory usage: 562.9+ KB\n"
     ]
    }
   ],
   "source": [
    "#Sắp xếp film theo thuộc tính vote_count và xóa các film trùng tên, giữ lại film có lượt vote lớn hơn\n",
    "data.sort_values('vote_count',ascending=True,inplace=True)\n",
    "data.drop_duplicates(['original_title'],keep='last',inplace=True)\n",
    "data.info()"
   ]
  },
  {
   "cell_type": "code",
   "execution_count": 25,
   "metadata": {
    "colab": {
     "base_uri": "https://localhost:8080/",
     "height": 80
    },
    "id": "6keRGB3wcQ_K",
    "outputId": "0ca8955a-86b8-4608-8d3d-b957a6e4a96b"
   },
   "outputs": [
    {
     "data": {
      "text/html": [
       "<div>\n",
       "<style scoped>\n",
       "    .dataframe tbody tr th:only-of-type {\n",
       "        vertical-align: middle;\n",
       "    }\n",
       "\n",
       "    .dataframe tbody tr th {\n",
       "        vertical-align: top;\n",
       "    }\n",
       "\n",
       "    .dataframe thead th {\n",
       "        text-align: right;\n",
       "    }\n",
       "</style>\n",
       "<table border=\"1\" class=\"dataframe\">\n",
       "  <thead>\n",
       "    <tr style=\"text-align: right;\">\n",
       "      <th></th>\n",
       "      <th>adult</th>\n",
       "      <th>original_title</th>\n",
       "      <th>overview</th>\n",
       "      <th>release_date</th>\n",
       "      <th>vote_average</th>\n",
       "      <th>vote_count</th>\n",
       "    </tr>\n",
       "  </thead>\n",
       "  <tbody>\n",
       "    <tr>\n",
       "      <th>843</th>\n",
       "      <td>False</td>\n",
       "      <td>Hamlet</td>\n",
       "      <td>Hamlet, Prince of Denmark, returns home to fin...</td>\n",
       "      <td>1996-12-25</td>\n",
       "      <td>7.3</td>\n",
       "      <td>118.0</td>\n",
       "    </tr>\n",
       "  </tbody>\n",
       "</table>\n",
       "</div>"
      ],
      "text/plain": [
       "     adult original_title                                           overview  \\\n",
       "843  False         Hamlet  Hamlet, Prince of Denmark, returns home to fin...   \n",
       "\n",
       "    release_date  vote_average  vote_count  \n",
       "843   1996-12-25           7.3       118.0  "
      ]
     },
     "execution_count": 25,
     "metadata": {},
     "output_type": "execute_result"
    }
   ],
   "source": [
    "#check lại dữ liệu sau khi xử lý\n",
    "data.loc[data['original_title']=='Hamlet']"
   ]
  },
  {
   "cell_type": "code",
   "execution_count": 26,
   "metadata": {
    "colab": {
     "base_uri": "https://localhost:8080/"
    },
    "id": "JUBlX7L7cV5s",
    "outputId": "1f90af49-e0a0-4b50-8fc0-0fe44b2e7194"
   },
   "outputs": [
    {
     "data": {
      "text/plain": [
       "Tokarev                       1\n",
       "The Lady from Shanghai        1\n",
       "2-Headed Shark Attack         1\n",
       "Blue Lagoon: The Awakening    1\n",
       "Cake                          1\n",
       "                             ..\n",
       "Returner リターナー                1\n",
       "Talk Radio                    1\n",
       "100 Feet                      1\n",
       "Hostel: Part III              1\n",
       "Amazon Women on the Moon      1\n",
       "Name: original_title, Length: 11764, dtype: int64"
      ]
     },
     "execution_count": 26,
     "metadata": {},
     "output_type": "execute_result"
    }
   ],
   "source": [
    "#Thống kê các bộ film trùng tên trong tập dữ liệu sau xử lý\n",
    "data['original_title'].value_counts()"
   ]
  },
  {
   "cell_type": "markdown",
   "metadata": {
    "id": "XvgTl-Excfxt"
   },
   "source": [
    "## **2.3) Xử lý các bộ film không có tóm tắt film**\n",
    "---"
   ]
  },
  {
   "cell_type": "code",
   "execution_count": 27,
   "metadata": {
    "colab": {
     "base_uri": "https://localhost:8080/"
    },
    "id": "zIHAZtoVdGue",
    "outputId": "3de8fc8c-57a6-4495-ff0f-6c1844438847"
   },
   "outputs": [
    {
     "data": {
      "text/plain": [
       "No overview found.                                                                                                                                                                                                                                                                                                                                                                                                                              8\n",
       "A few funny little novels about different aspects of life.                                                                                                                                                                                                                                                                                                                                                                                      3\n",
       "In this classic drama, Vicky Page is an aspiring ballerina torn between her dedication to dance and her desire to love. While her imperious instructor, Boris Lermontov, urges to her to forget anything but ballet, Vicky begins to fall for the charming young composer Julian Craster. Eventually Vicky, under great emotional stress, must choose to pursue either her art or her romance, a decision that carries serious consequences.    1\n",
       "Photographer Robert Kincaid wanders into the life of housewife Francesca Johnson for four days in the 1960s.                                                                                                                                                                                                                                                                                                                                    1\n",
       "New Jersey car mechanic Stacie Andree and her police detective girlfriend Laurel Hester both battle to secure Hester's pension benefits after she was diagnosed with a terminal illness.                                                                                                                                                                                                                                                        1\n",
       "                                                                                                                                                                                                                                                                                                                                                                                                                                               ..\n",
       "A comedy about a young wannabe musician (Domhnall Gleeson) who discovers he has bitten off more than he can chew when he joins an eccentric pop band led by the mysterious and enigmatic Frank (Michael Fassbender).                                                                                                                                                                                                                            1\n",
       "As the Iranian revolution reaches a boiling point, a CIA 'exfiltration' specialist concocts a risky plan to free six Americans who have found shelter at the home of the Canadian ambassador.                                                                                                                                                                                                                                                   1\n",
       "Fast Eddie Felson is a small-time pool hustler with a lot of talent but a self-destructive attitude. His bravado causes him to challenge the legendary Minnesota Fats to a high-stakes match.                                                                                                                                                                                                                                                   1\n",
       "When Samantha LeBon hatches a scheme to spend a romantic Christmas with her new employee -- the unsuspecting, blithesome James -- his wife, their kids and their two dogs, Rocks and Daphne, must rescue him before he makes a terrible mistake.                                                                                                                                                                                                1\n",
       "When loser Marvin Mange is involved in a horrible car accident, he's brought back to life by a deranged scientist as half man and half animal. His newfound powers are awesome -- but their adverse side effects could take over his life. Now, Marvin must fight to control his crazy primal urges around his new squeeze, Rianna, and his rival, Sgt. Sisk, who both think he's one cool cat.                                                 1\n",
       "Name: overview, Length: 11755, dtype: int64"
      ]
     },
     "execution_count": 27,
     "metadata": {},
     "output_type": "execute_result"
    }
   ],
   "source": [
    "#Thống kê các dữ liệu trùng nhau\n",
    "data['overview'].value_counts()"
   ]
  },
  {
   "cell_type": "code",
   "execution_count": 28,
   "metadata": {
    "colab": {
     "base_uri": "https://localhost:8080/",
     "height": 419
    },
    "id": "b-pzalLndG89",
    "outputId": "b768859f-9a5d-437a-8d92-f49452a5085c"
   },
   "outputs": [
    {
     "data": {
      "text/html": [
       "<div>\n",
       "<style scoped>\n",
       "    .dataframe tbody tr th:only-of-type {\n",
       "        vertical-align: middle;\n",
       "    }\n",
       "\n",
       "    .dataframe tbody tr th {\n",
       "        vertical-align: top;\n",
       "    }\n",
       "\n",
       "    .dataframe thead th {\n",
       "        text-align: right;\n",
       "    }\n",
       "</style>\n",
       "<table border=\"1\" class=\"dataframe\">\n",
       "  <thead>\n",
       "    <tr style=\"text-align: right;\">\n",
       "      <th></th>\n",
       "      <th>adult</th>\n",
       "      <th>original_title</th>\n",
       "      <th>overview</th>\n",
       "      <th>release_date</th>\n",
       "      <th>vote_average</th>\n",
       "      <th>vote_count</th>\n",
       "    </tr>\n",
       "  </thead>\n",
       "  <tbody>\n",
       "    <tr>\n",
       "      <th>10516</th>\n",
       "      <td>False</td>\n",
       "      <td>Lezioni di cioccolato</td>\n",
       "      <td>No overview found.</td>\n",
       "      <td>2007-11-23</td>\n",
       "      <td>5.8</td>\n",
       "      <td>42.0</td>\n",
       "    </tr>\n",
       "    <tr>\n",
       "      <th>10103</th>\n",
       "      <td>False</td>\n",
       "      <td>7 Zwerge - Der Wald ist nicht genug</td>\n",
       "      <td>No overview found.</td>\n",
       "      <td>2006-10-25</td>\n",
       "      <td>4.9</td>\n",
       "      <td>44.0</td>\n",
       "    </tr>\n",
       "    <tr>\n",
       "      <th>11093</th>\n",
       "      <td>False</td>\n",
       "      <td>Jean-Philippe</td>\n",
       "      <td>No overview found.</td>\n",
       "      <td>2006-04-05</td>\n",
       "      <td>5.4</td>\n",
       "      <td>48.0</td>\n",
       "    </tr>\n",
       "    <tr>\n",
       "      <th>8078</th>\n",
       "      <td>False</td>\n",
       "      <td>Mais qui a tué Pamela Rose ?</td>\n",
       "      <td>No overview found.</td>\n",
       "      <td>2003-06-04</td>\n",
       "      <td>6.6</td>\n",
       "      <td>62.0</td>\n",
       "    </tr>\n",
       "    <tr>\n",
       "      <th>5024</th>\n",
       "      <td>False</td>\n",
       "      <td>Tanguy</td>\n",
       "      <td>No overview found.</td>\n",
       "      <td>2001-11-21</td>\n",
       "      <td>5.8</td>\n",
       "      <td>70.0</td>\n",
       "    </tr>\n",
       "    <tr>\n",
       "      <th>10612</th>\n",
       "      <td>False</td>\n",
       "      <td>Fantozzi subisce ancora</td>\n",
       "      <td>No overview found.</td>\n",
       "      <td>1983-01-01</td>\n",
       "      <td>6.4</td>\n",
       "      <td>77.0</td>\n",
       "    </tr>\n",
       "    <tr>\n",
       "      <th>9721</th>\n",
       "      <td>False</td>\n",
       "      <td>Grande, grosso e Verdone</td>\n",
       "      <td>No overview found.</td>\n",
       "      <td>2008-03-07</td>\n",
       "      <td>5.6</td>\n",
       "      <td>78.0</td>\n",
       "    </tr>\n",
       "    <tr>\n",
       "      <th>10566</th>\n",
       "      <td>False</td>\n",
       "      <td>Il cosmo sul comò</td>\n",
       "      <td>No overview found.</td>\n",
       "      <td>2008-12-19</td>\n",
       "      <td>5.0</td>\n",
       "      <td>156.0</td>\n",
       "    </tr>\n",
       "  </tbody>\n",
       "</table>\n",
       "</div>"
      ],
      "text/plain": [
       "       adult                       original_title            overview  \\\n",
       "10516  False                Lezioni di cioccolato  No overview found.   \n",
       "10103  False  7 Zwerge - Der Wald ist nicht genug  No overview found.   \n",
       "11093  False                        Jean-Philippe  No overview found.   \n",
       "8078   False         Mais qui a tué Pamela Rose ?  No overview found.   \n",
       "5024   False                               Tanguy  No overview found.   \n",
       "10612  False              Fantozzi subisce ancora  No overview found.   \n",
       "9721   False             Grande, grosso e Verdone  No overview found.   \n",
       "10566  False                    Il cosmo sul comò  No overview found.   \n",
       "\n",
       "      release_date  vote_average  vote_count  \n",
       "10516   2007-11-23           5.8        42.0  \n",
       "10103   2006-10-25           4.9        44.0  \n",
       "11093   2006-04-05           5.4        48.0  \n",
       "8078    2003-06-04           6.6        62.0  \n",
       "5024    2001-11-21           5.8        70.0  \n",
       "10612   1983-01-01           6.4        77.0  \n",
       "9721    2008-03-07           5.6        78.0  \n",
       "10566   2008-12-19           5.0       156.0  "
      ]
     },
     "execution_count": 28,
     "metadata": {},
     "output_type": "execute_result"
    }
   ],
   "source": [
    "#lọc các bộ film có phần tóm tắt là: No overview found, hoặc No Overview, hoăc chuỗi rỗng, hoặc No movie overview available. \n",
    "data.loc[(data['overview']=='No overview found.')].sort_values('overview')"
   ]
  },
  {
   "cell_type": "code",
   "execution_count": 30,
   "metadata": {
    "colab": {
     "base_uri": "https://localhost:8080/"
    },
    "id": "59ZEzOMPeGe0",
    "outputId": "0c507d80-0cf8-437a-e0c8-afb23cade8f3"
   },
   "outputs": [
    {
     "name": "stdout",
     "output_type": "stream",
     "text": [
      "<class 'pandas.core.frame.DataFrame'>\n",
      "Int64Index: 11756 entries, 5351 to 7116\n",
      "Data columns (total 6 columns):\n",
      " #   Column          Non-Null Count  Dtype  \n",
      "---  ------          --------------  -----  \n",
      " 0   adult           11756 non-null  bool   \n",
      " 1   original_title  11756 non-null  object \n",
      " 2   overview        11756 non-null  object \n",
      " 3   release_date    11756 non-null  object \n",
      " 4   vote_average    11756 non-null  float64\n",
      " 5   vote_count      11756 non-null  float64\n",
      "dtypes: bool(1), float64(2), object(3)\n",
      "memory usage: 562.5+ KB\n"
     ]
    }
   ],
   "source": [
    "#Có tất cả 8 bộ film không có dữ liệu tóm tắt film\n",
    "#Xóa các bộ film này\n",
    "data = data.loc[(data['overview']!='No overview found.')]\n",
    "data.info()"
   ]
  },
  {
   "cell_type": "code",
   "execution_count": 31,
   "metadata": {
    "colab": {
     "base_uri": "https://localhost:8080/"
    },
    "id": "vQUGaU2secg2",
    "outputId": "97b69da8-3b77-478d-d3be-a35c3162bce0"
   },
   "outputs": [
    {
     "data": {
      "text/plain": [
       "A few funny little novels about different aspects of life.                                                                                                                                                                                                                                                                                                                                                                                      3\n",
       "In this classic drama, Vicky Page is an aspiring ballerina torn between her dedication to dance and her desire to love. While her imperious instructor, Boris Lermontov, urges to her to forget anything but ballet, Vicky begins to fall for the charming young composer Julian Craster. Eventually Vicky, under great emotional stress, must choose to pursue either her art or her romance, a decision that carries serious consequences.    1\n",
       "Viola Johnson is in a real jam. Complications threaten her scheme to pose as her twin brother, Sebastian, and take his place at a new boarding school. She falls in love with her handsome roommate, Duke, who loves beautiful Olivia, who has fallen for Sebastian! As if that were not enough, Viola's twin returns from London ahead of schedule but has no idea that his sister has already replaced him on campus.                         1\n",
       "A guy who danced with what could be the girl of his dreams at a costume ball only has one hint at her identity: the Zune she left behind as she rushed home in order to make her curfew. And with a once-in-a-lifetime opportunity in front of him, he sets out to find his masked beauty.                                                                                                                                                      1\n",
       "Based on the long running play by Jang Jin, the story is set in Korea during the Korean War in 1950. Soldiers from both the North and South, as well as an American pilot, find themselves in a secluded and naively idealistic village, its residents unaware of the outside world, including the war.                                                                                                                                         1\n",
       "                                                                                                                                                                                                                                                                                                                                                                                                                                               ..\n",
       "A comedy about a young wannabe musician (Domhnall Gleeson) who discovers he has bitten off more than he can chew when he joins an eccentric pop band led by the mysterious and enigmatic Frank (Michael Fassbender).                                                                                                                                                                                                                            1\n",
       "As the Iranian revolution reaches a boiling point, a CIA 'exfiltration' specialist concocts a risky plan to free six Americans who have found shelter at the home of the Canadian ambassador.                                                                                                                                                                                                                                                   1\n",
       "Fast Eddie Felson is a small-time pool hustler with a lot of talent but a self-destructive attitude. His bravado causes him to challenge the legendary Minnesota Fats to a high-stakes match.                                                                                                                                                                                                                                                   1\n",
       "When Samantha LeBon hatches a scheme to spend a romantic Christmas with her new employee -- the unsuspecting, blithesome James -- his wife, their kids and their two dogs, Rocks and Daphne, must rescue him before he makes a terrible mistake.                                                                                                                                                                                                1\n",
       "When loser Marvin Mange is involved in a horrible car accident, he's brought back to life by a deranged scientist as half man and half animal. His newfound powers are awesome -- but their adverse side effects could take over his life. Now, Marvin must fight to control his crazy primal urges around his new squeeze, Rianna, and his rival, Sgt. Sisk, who both think he's one cool cat.                                                 1\n",
       "Name: overview, Length: 11754, dtype: int64"
      ]
     },
     "execution_count": 31,
     "metadata": {},
     "output_type": "execute_result"
    }
   ],
   "source": [
    "#Check lại dữ liệu sau khi xử lý phần tóm tắt\n",
    "data['overview'].value_counts()"
   ]
  },
  {
   "cell_type": "code",
   "execution_count": 32,
   "metadata": {
    "colab": {
     "base_uri": "https://localhost:8080/",
     "height": 142
    },
    "id": "sPbgIdI4erc6",
    "outputId": "e34feae2-9321-46e7-efda-da0f346ea35a"
   },
   "outputs": [
    {
     "data": {
      "text/html": [
       "<div>\n",
       "<style scoped>\n",
       "    .dataframe tbody tr th:only-of-type {\n",
       "        vertical-align: middle;\n",
       "    }\n",
       "\n",
       "    .dataframe tbody tr th {\n",
       "        vertical-align: top;\n",
       "    }\n",
       "\n",
       "    .dataframe thead th {\n",
       "        text-align: right;\n",
       "    }\n",
       "</style>\n",
       "<table border=\"1\" class=\"dataframe\">\n",
       "  <thead>\n",
       "    <tr style=\"text-align: right;\">\n",
       "      <th></th>\n",
       "      <th>adult</th>\n",
       "      <th>original_title</th>\n",
       "      <th>overview</th>\n",
       "      <th>release_date</th>\n",
       "      <th>vote_average</th>\n",
       "      <th>vote_count</th>\n",
       "    </tr>\n",
       "  </thead>\n",
       "  <tbody>\n",
       "    <tr>\n",
       "      <th>10298</th>\n",
       "      <td>False</td>\n",
       "      <td>Le nuove comiche</td>\n",
       "      <td>A few funny little novels about different aspe...</td>\n",
       "      <td>1994-01-01</td>\n",
       "      <td>5.0</td>\n",
       "      <td>32.0</td>\n",
       "    </tr>\n",
       "    <tr>\n",
       "      <th>10297</th>\n",
       "      <td>False</td>\n",
       "      <td>Le comiche 2</td>\n",
       "      <td>A few funny little novels about different aspe...</td>\n",
       "      <td>1991-10-19</td>\n",
       "      <td>5.5</td>\n",
       "      <td>47.0</td>\n",
       "    </tr>\n",
       "    <tr>\n",
       "      <th>10296</th>\n",
       "      <td>False</td>\n",
       "      <td>Le comiche</td>\n",
       "      <td>A few funny little novels about different aspe...</td>\n",
       "      <td>1990-01-01</td>\n",
       "      <td>5.7</td>\n",
       "      <td>59.0</td>\n",
       "    </tr>\n",
       "  </tbody>\n",
       "</table>\n",
       "</div>"
      ],
      "text/plain": [
       "       adult    original_title  \\\n",
       "10298  False  Le nuove comiche   \n",
       "10297  False      Le comiche 2   \n",
       "10296  False        Le comiche   \n",
       "\n",
       "                                                overview release_date  \\\n",
       "10298  A few funny little novels about different aspe...   1994-01-01   \n",
       "10297  A few funny little novels about different aspe...   1991-10-19   \n",
       "10296  A few funny little novels about different aspe...   1990-01-01   \n",
       "\n",
       "       vote_average  vote_count  \n",
       "10298           5.0        32.0  \n",
       "10297           5.5        47.0  \n",
       "10296           5.7        59.0  "
      ]
     },
     "execution_count": 32,
     "metadata": {},
     "output_type": "execute_result"
    }
   ],
   "source": [
    "data.loc[(data['overview']=='A few funny little novels about different aspects of life.')]"
   ]
  },
  {
   "cell_type": "markdown",
   "metadata": {
    "id": "s23lO1Zne3Vb"
   },
   "source": [
    "## **2.4) Lưu dữ liệu sau khi đã xử lý ra file**\n",
    "---"
   ]
  },
  {
   "cell_type": "code",
   "execution_count": 35,
   "metadata": {
    "id": "FHmP8zbPe-g0"
   },
   "outputs": [],
   "source": [
    "data.sort_values(['release_date'],inplace=True)\n",
    "data.to_csv('data\\Data_Movies_ok.csv',index=None)"
   ]
  },
  {
   "cell_type": "code",
   "execution_count": 36,
   "metadata": {
    "colab": {
     "base_uri": "https://localhost:8080/",
     "height": 204
    },
    "id": "RhshKUhpfPXk",
    "outputId": "4081cc6b-bba2-4822-d416-446419a09a77"
   },
   "outputs": [
    {
     "data": {
      "text/html": [
       "<div>\n",
       "<style scoped>\n",
       "    .dataframe tbody tr th:only-of-type {\n",
       "        vertical-align: middle;\n",
       "    }\n",
       "\n",
       "    .dataframe tbody tr th {\n",
       "        vertical-align: top;\n",
       "    }\n",
       "\n",
       "    .dataframe thead th {\n",
       "        text-align: right;\n",
       "    }\n",
       "</style>\n",
       "<table border=\"1\" class=\"dataframe\">\n",
       "  <thead>\n",
       "    <tr style=\"text-align: right;\">\n",
       "      <th></th>\n",
       "      <th>adult</th>\n",
       "      <th>original_title</th>\n",
       "      <th>overview</th>\n",
       "      <th>release_date</th>\n",
       "      <th>vote_average</th>\n",
       "      <th>vote_count</th>\n",
       "    </tr>\n",
       "  </thead>\n",
       "  <tbody>\n",
       "    <tr>\n",
       "      <th>0</th>\n",
       "      <td>False</td>\n",
       "      <td>La Sortie de l'Usine Lumière à Lyon</td>\n",
       "      <td>Working men and women leave the Lumière factor...</td>\n",
       "      <td>1895-06-10</td>\n",
       "      <td>6.2</td>\n",
       "      <td>52.0</td>\n",
       "    </tr>\n",
       "    <tr>\n",
       "      <th>1</th>\n",
       "      <td>False</td>\n",
       "      <td>Arroseur et arrosé</td>\n",
       "      <td>A gardener is watering his flowers, when a mis...</td>\n",
       "      <td>1895-12-27</td>\n",
       "      <td>7.0</td>\n",
       "      <td>44.0</td>\n",
       "    </tr>\n",
       "    <tr>\n",
       "      <th>2</th>\n",
       "      <td>False</td>\n",
       "      <td>L'arrivée d'un train en gare de La Ciotat</td>\n",
       "      <td>A group of people are standing along the platf...</td>\n",
       "      <td>1896-01-25</td>\n",
       "      <td>6.9</td>\n",
       "      <td>87.0</td>\n",
       "    </tr>\n",
       "    <tr>\n",
       "      <th>3</th>\n",
       "      <td>False</td>\n",
       "      <td>Le Voyage dans la Lune</td>\n",
       "      <td>A Trip to The Moon is a science fiction film f...</td>\n",
       "      <td>1902-09-01</td>\n",
       "      <td>7.9</td>\n",
       "      <td>314.0</td>\n",
       "    </tr>\n",
       "    <tr>\n",
       "      <th>4</th>\n",
       "      <td>False</td>\n",
       "      <td>The Great Train Robbery</td>\n",
       "      <td>The clerk at the train station is assaulted an...</td>\n",
       "      <td>1903-12-01</td>\n",
       "      <td>7.1</td>\n",
       "      <td>116.0</td>\n",
       "    </tr>\n",
       "  </tbody>\n",
       "</table>\n",
       "</div>"
      ],
      "text/plain": [
       "   adult                             original_title  \\\n",
       "0  False        La Sortie de l'Usine Lumière à Lyon   \n",
       "1  False                         Arroseur et arrosé   \n",
       "2  False  L'arrivée d'un train en gare de La Ciotat   \n",
       "3  False                     Le Voyage dans la Lune   \n",
       "4  False                    The Great Train Robbery   \n",
       "\n",
       "                                            overview release_date  \\\n",
       "0  Working men and women leave the Lumière factor...   1895-06-10   \n",
       "1  A gardener is watering his flowers, when a mis...   1895-12-27   \n",
       "2  A group of people are standing along the platf...   1896-01-25   \n",
       "3  A Trip to The Moon is a science fiction film f...   1902-09-01   \n",
       "4  The clerk at the train station is assaulted an...   1903-12-01   \n",
       "\n",
       "   vote_average  vote_count  \n",
       "0           6.2        52.0  \n",
       "1           7.0        44.0  \n",
       "2           6.9        87.0  \n",
       "3           7.9       314.0  \n",
       "4           7.1       116.0  "
      ]
     },
     "execution_count": 36,
     "metadata": {},
     "output_type": "execute_result"
    }
   ],
   "source": [
    "data.reset_index(drop=True,inplace=True)\n",
    "data.head()"
   ]
  },
  {
   "cell_type": "markdown",
   "metadata": {
    "id": "kOC_WQXXVRb8"
   },
   "source": [
    "# **3) Xây dựng các hệ thống Recommender Systems**\n",
    "---\n",
    "Recommender systems có thể phân thành 3 loại như sau:\n",
    "\n",
    "* **Hệ thống đề xuất dựa trên nội dung (Content-based recommenders):** Hệ thống này sẽ gợi ý các bộ phim tương tự với bộ fim mà người dùng xem. Hệ thống này sử dụng metadata của các bộ film như: Thể loại film, đạo diễn, mô tả film, diễn viên...Ý tưởng chính đằng sau hệ thống đề xuất dựa vào nội dung đó là nếu một người đã thích/xem một bộ film nào đó, thì họ cũng sẽ thích/xem một bộ phim tương tự với bộ phim đã xem. \n",
    "\n",
    "\n",
    "* **Hệ thống lọc cộng tác (Collaborative filtering engines):** Hệ thống này cố gắng dự đoán thông qua đánh giá hoặc ưa thích mà một người dùng đã đưa ra đối với một bộ film dựa trên đánh giá và ưa thích của những người sử dụng khác. Lọc cộng tác không yêu cầu metadata giống như lọc theo nội dung. (Tìm một người xem có các thuộc tính tương đồng với người dùng này và đề xuất các bộ film theo người xem trước đây)\n",
    "\n",
    "* **Hệ thống lai (Hybrid Engine):** Kết hợp các ý tưởng của Content-based recommender và Collaborative filtering để xây dựng một hệ thống đề xuất.\n",
    "\n",
    "![alt text](https://data-flair.training/blogs/wp-content/uploads/sites/2/2019/07/data-science-movie-recommendation-project.jpg)"
   ]
  },
  {
   "cell_type": "markdown",
   "metadata": {
    "id": "PSJcbOcPZYa9"
   },
   "source": [
    "## **3.1) Simple Recommenders (Giải quyết trường hợp Cold-Start Problem)**\n",
    "---\n",
    "Lọc ra  15 bộ film (các bộ film nổi bật) trong danh sách film có trong CSDL có tỷ lệ người đánh giá và điểm đánh giá cao để đề xuất cho người dùng xem.\n",
    "\n",
    "![alt text](https://user-images.githubusercontent.com/42392773/52229643-67723e80-28db-11e9-8ef8-4ddd945a34cd.jpg)\n",
    "\n",
    "Các bộ film được tính trọng số đánh giá (Weighted Rating - WR), và dựa vào trọng số này để lọc ra danh sách các bộ film nổi bật đề xuất cho người xem.\n",
    "\n"
   ]
  },
  {
   "cell_type": "markdown",
   "metadata": {
    "id": "plUvGlLoOmCf"
   },
   "source": [
    "Tính Weighted Rating (WR):\n",
    "\n",
    "**WR = {[v/(v+m) . R] + [m/(v+m) . C]}**\n",
    "\n",
    "* v: Số lượng người vote cho bộ film đó\n",
    "* m: Số lượng người vote tối thiểu yêu cầu đối với 1 bộ film \n",
    "* R: Vote trung bình của bộ film đó\n",
    "* C: vote trung bình của tất cả các bộ film trong tập dữ liệu\n"
   ]
  },
  {
   "cell_type": "code",
   "execution_count": 37,
   "metadata": {
    "colab": {
     "base_uri": "https://localhost:8080/",
     "height": 204
    },
    "id": "lxRQ-Ylh__gZ",
    "outputId": "6981a855-95ce-4f4e-db68-cab82535b85c"
   },
   "outputs": [
    {
     "data": {
      "text/html": [
       "<div>\n",
       "<style scoped>\n",
       "    .dataframe tbody tr th:only-of-type {\n",
       "        vertical-align: middle;\n",
       "    }\n",
       "\n",
       "    .dataframe tbody tr th {\n",
       "        vertical-align: top;\n",
       "    }\n",
       "\n",
       "    .dataframe thead th {\n",
       "        text-align: right;\n",
       "    }\n",
       "</style>\n",
       "<table border=\"1\" class=\"dataframe\">\n",
       "  <thead>\n",
       "    <tr style=\"text-align: right;\">\n",
       "      <th></th>\n",
       "      <th>adult</th>\n",
       "      <th>original_title</th>\n",
       "      <th>overview</th>\n",
       "      <th>release_date</th>\n",
       "      <th>vote_average</th>\n",
       "      <th>vote_count</th>\n",
       "    </tr>\n",
       "  </thead>\n",
       "  <tbody>\n",
       "    <tr>\n",
       "      <th>0</th>\n",
       "      <td>False</td>\n",
       "      <td>La Sortie de l'Usine Lumière à Lyon</td>\n",
       "      <td>Working men and women leave the Lumière factor...</td>\n",
       "      <td>1895-06-10</td>\n",
       "      <td>6.2</td>\n",
       "      <td>52.0</td>\n",
       "    </tr>\n",
       "    <tr>\n",
       "      <th>1</th>\n",
       "      <td>False</td>\n",
       "      <td>Arroseur et arrosé</td>\n",
       "      <td>A gardener is watering his flowers, when a mis...</td>\n",
       "      <td>1895-12-27</td>\n",
       "      <td>7.0</td>\n",
       "      <td>44.0</td>\n",
       "    </tr>\n",
       "    <tr>\n",
       "      <th>2</th>\n",
       "      <td>False</td>\n",
       "      <td>L'arrivée d'un train en gare de La Ciotat</td>\n",
       "      <td>A group of people are standing along the platf...</td>\n",
       "      <td>1896-01-25</td>\n",
       "      <td>6.9</td>\n",
       "      <td>87.0</td>\n",
       "    </tr>\n",
       "    <tr>\n",
       "      <th>3</th>\n",
       "      <td>False</td>\n",
       "      <td>Le Voyage dans la Lune</td>\n",
       "      <td>A Trip to The Moon is a science fiction film f...</td>\n",
       "      <td>1902-09-01</td>\n",
       "      <td>7.9</td>\n",
       "      <td>314.0</td>\n",
       "    </tr>\n",
       "    <tr>\n",
       "      <th>4</th>\n",
       "      <td>False</td>\n",
       "      <td>The Great Train Robbery</td>\n",
       "      <td>The clerk at the train station is assaulted an...</td>\n",
       "      <td>1903-12-01</td>\n",
       "      <td>7.1</td>\n",
       "      <td>116.0</td>\n",
       "    </tr>\n",
       "  </tbody>\n",
       "</table>\n",
       "</div>"
      ],
      "text/plain": [
       "   adult                             original_title  \\\n",
       "0  False        La Sortie de l'Usine Lumière à Lyon   \n",
       "1  False                         Arroseur et arrosé   \n",
       "2  False  L'arrivée d'un train en gare de La Ciotat   \n",
       "3  False                     Le Voyage dans la Lune   \n",
       "4  False                    The Great Train Robbery   \n",
       "\n",
       "                                            overview release_date  \\\n",
       "0  Working men and women leave the Lumière factor...   1895-06-10   \n",
       "1  A gardener is watering his flowers, when a mis...   1895-12-27   \n",
       "2  A group of people are standing along the platf...   1896-01-25   \n",
       "3  A Trip to The Moon is a science fiction film f...   1902-09-01   \n",
       "4  The clerk at the train station is assaulted an...   1903-12-01   \n",
       "\n",
       "   vote_average  vote_count  \n",
       "0           6.2        52.0  \n",
       "1           7.0        44.0  \n",
       "2           6.9        87.0  \n",
       "3           7.9       314.0  \n",
       "4           7.1       116.0  "
      ]
     },
     "execution_count": 37,
     "metadata": {},
     "output_type": "execute_result"
    }
   ],
   "source": [
    "#Hiển thị dữ liệu sau khi đã tiền xử lý\n",
    "data.head()"
   ]
  },
  {
   "cell_type": "code",
   "execution_count": 38,
   "metadata": {
    "colab": {
     "base_uri": "https://localhost:8080/"
    },
    "id": "5c0jPElEKUKp",
    "outputId": "b1eb362e-82cc-44fd-9958-5e7fc20f73e3"
   },
   "outputs": [
    {
     "name": "stdout",
     "output_type": "stream",
     "text": [
      "6.312776454576407\n"
     ]
    }
   ],
   "source": [
    "# Tính C\n",
    "C = data['vote_average'].mean()\n",
    "print(C)"
   ]
  },
  {
   "cell_type": "code",
   "execution_count": 39,
   "metadata": {
    "colab": {
     "base_uri": "https://localhost:8080/",
     "height": 204
    },
    "id": "rC5Ou7iqQw3t",
    "outputId": "dd147fca-af8e-45c7-ebae-251ea8c3051a"
   },
   "outputs": [
    {
     "data": {
      "text/html": [
       "<div>\n",
       "<style scoped>\n",
       "    .dataframe tbody tr th:only-of-type {\n",
       "        vertical-align: middle;\n",
       "    }\n",
       "\n",
       "    .dataframe tbody tr th {\n",
       "        vertical-align: top;\n",
       "    }\n",
       "\n",
       "    .dataframe thead th {\n",
       "        text-align: right;\n",
       "    }\n",
       "</style>\n",
       "<table border=\"1\" class=\"dataframe\">\n",
       "  <thead>\n",
       "    <tr style=\"text-align: right;\">\n",
       "      <th></th>\n",
       "      <th>adult</th>\n",
       "      <th>original_title</th>\n",
       "      <th>overview</th>\n",
       "      <th>release_date</th>\n",
       "      <th>vote_average</th>\n",
       "      <th>vote_count</th>\n",
       "    </tr>\n",
       "  </thead>\n",
       "  <tbody>\n",
       "    <tr>\n",
       "      <th>104</th>\n",
       "      <td>False</td>\n",
       "      <td>Snow White and the Seven Dwarfs</td>\n",
       "      <td>A beautiful girl, Snow White, takes refuge in ...</td>\n",
       "      <td>1937-12-20</td>\n",
       "      <td>6.9</td>\n",
       "      <td>1973.0</td>\n",
       "    </tr>\n",
       "    <tr>\n",
       "      <th>121</th>\n",
       "      <td>False</td>\n",
       "      <td>The Wizard of Oz</td>\n",
       "      <td>Young Dorothy finds herself in a magical world...</td>\n",
       "      <td>1939-08-15</td>\n",
       "      <td>7.4</td>\n",
       "      <td>1689.0</td>\n",
       "    </tr>\n",
       "    <tr>\n",
       "      <th>129</th>\n",
       "      <td>False</td>\n",
       "      <td>Pinocchio</td>\n",
       "      <td>Lonely toymaker Geppetto has his wishes answer...</td>\n",
       "      <td>1940-02-23</td>\n",
       "      <td>6.9</td>\n",
       "      <td>1412.0</td>\n",
       "    </tr>\n",
       "    <tr>\n",
       "      <th>144</th>\n",
       "      <td>False</td>\n",
       "      <td>Citizen Kane</td>\n",
       "      <td>Newspaper magnate, Charles Foster Kane is take...</td>\n",
       "      <td>1941-04-30</td>\n",
       "      <td>8.0</td>\n",
       "      <td>1244.0</td>\n",
       "    </tr>\n",
       "    <tr>\n",
       "      <th>148</th>\n",
       "      <td>False</td>\n",
       "      <td>Dumbo</td>\n",
       "      <td>Dumbo is a baby elephant born with oversized e...</td>\n",
       "      <td>1941-10-22</td>\n",
       "      <td>6.8</td>\n",
       "      <td>1206.0</td>\n",
       "    </tr>\n",
       "  </tbody>\n",
       "</table>\n",
       "</div>"
      ],
      "text/plain": [
       "     adult                   original_title  \\\n",
       "104  False  Snow White and the Seven Dwarfs   \n",
       "121  False                 The Wizard of Oz   \n",
       "129  False                        Pinocchio   \n",
       "144  False                     Citizen Kane   \n",
       "148  False                            Dumbo   \n",
       "\n",
       "                                              overview release_date  \\\n",
       "104  A beautiful girl, Snow White, takes refuge in ...   1937-12-20   \n",
       "121  Young Dorothy finds herself in a magical world...   1939-08-15   \n",
       "129  Lonely toymaker Geppetto has his wishes answer...   1940-02-23   \n",
       "144  Newspaper magnate, Charles Foster Kane is take...   1941-04-30   \n",
       "148  Dumbo is a baby elephant born with oversized e...   1941-10-22   \n",
       "\n",
       "     vote_average  vote_count  \n",
       "104           6.9      1973.0  \n",
       "121           7.4      1689.0  \n",
       "129           6.9      1412.0  \n",
       "144           8.0      1244.0  \n",
       "148           6.8      1206.0  "
      ]
     },
     "execution_count": 39,
     "metadata": {},
     "output_type": "execute_result"
    }
   ],
   "source": [
    "#Số lượng người vote tối thiểu cho một bộ film phải từ 1000 người trở lên\n",
    "#Lọc các film có vote_count > m thành một DataFrame mới\n",
    "m=1000\n",
    "movies_vote_1000 = data.copy().loc[data['vote_count']>=m]\n",
    "movies_vote_1000.head()"
   ]
  },
  {
   "cell_type": "code",
   "execution_count": 40,
   "metadata": {
    "colab": {
     "base_uri": "https://localhost:8080/"
    },
    "id": "_6KZMZ4FAuTb",
    "outputId": "299a727d-a15b-4907-9cfe-700991335ec8"
   },
   "outputs": [
    {
     "name": "stdout",
     "output_type": "stream",
     "text": [
      "Data ban đầu: (11756, 6)\n",
      "Data film có vote_count>1000: (1109, 6)\n"
     ]
    }
   ],
   "source": [
    "print('Data ban đầu:',data.shape)\n",
    "print('Data film có vote_count>1000:', movies_vote_1000.shape)"
   ]
  },
  {
   "cell_type": "code",
   "execution_count": 41,
   "metadata": {
    "colab": {
     "base_uri": "https://localhost:8080/",
     "height": 297
    },
    "id": "QiDdA7pzA-cd",
    "outputId": "134b03a7-df19-437c-e6be-91280db1fcad"
   },
   "outputs": [
    {
     "data": {
      "text/html": [
       "<div>\n",
       "<style scoped>\n",
       "    .dataframe tbody tr th:only-of-type {\n",
       "        vertical-align: middle;\n",
       "    }\n",
       "\n",
       "    .dataframe tbody tr th {\n",
       "        vertical-align: top;\n",
       "    }\n",
       "\n",
       "    .dataframe thead th {\n",
       "        text-align: right;\n",
       "    }\n",
       "</style>\n",
       "<table border=\"1\" class=\"dataframe\">\n",
       "  <thead>\n",
       "    <tr style=\"text-align: right;\">\n",
       "      <th></th>\n",
       "      <th>vote_average</th>\n",
       "      <th>vote_count</th>\n",
       "    </tr>\n",
       "  </thead>\n",
       "  <tbody>\n",
       "    <tr>\n",
       "      <th>count</th>\n",
       "      <td>1109.000000</td>\n",
       "      <td>1109.000000</td>\n",
       "    </tr>\n",
       "    <tr>\n",
       "      <th>mean</th>\n",
       "      <td>6.774031</td>\n",
       "      <td>2538.054103</td>\n",
       "    </tr>\n",
       "    <tr>\n",
       "      <th>std</th>\n",
       "      <td>0.744869</td>\n",
       "      <td>1797.099646</td>\n",
       "    </tr>\n",
       "    <tr>\n",
       "      <th>min</th>\n",
       "      <td>4.100000</td>\n",
       "      <td>1000.000000</td>\n",
       "    </tr>\n",
       "    <tr>\n",
       "      <th>25%</th>\n",
       "      <td>6.200000</td>\n",
       "      <td>1340.000000</td>\n",
       "    </tr>\n",
       "    <tr>\n",
       "      <th>50%</th>\n",
       "      <td>6.700000</td>\n",
       "      <td>1857.000000</td>\n",
       "    </tr>\n",
       "    <tr>\n",
       "      <th>75%</th>\n",
       "      <td>7.300000</td>\n",
       "      <td>3082.000000</td>\n",
       "    </tr>\n",
       "    <tr>\n",
       "      <th>max</th>\n",
       "      <td>8.500000</td>\n",
       "      <td>14075.000000</td>\n",
       "    </tr>\n",
       "  </tbody>\n",
       "</table>\n",
       "</div>"
      ],
      "text/plain": [
       "       vote_average    vote_count\n",
       "count   1109.000000   1109.000000\n",
       "mean       6.774031   2538.054103\n",
       "std        0.744869   1797.099646\n",
       "min        4.100000   1000.000000\n",
       "25%        6.200000   1340.000000\n",
       "50%        6.700000   1857.000000\n",
       "75%        7.300000   3082.000000\n",
       "max        8.500000  14075.000000"
      ]
     },
     "execution_count": 41,
     "metadata": {},
     "output_type": "execute_result"
    }
   ],
   "source": [
    "#Hiển thị dữ liệu thống kê cho thuộc tính vote_average, vote_count\n",
    "movies_vote_1000.describe()"
   ]
  },
  {
   "cell_type": "markdown",
   "metadata": {
    "id": "AUwMC8O6UMZG"
   },
   "source": [
    "Tập dữ liệu ban đầu có 11 756 bộ film, sau khi lọc chỉ lấy những bộ film có tổng số lượt vote từ 1000 lần trở lên, có tất cả 1109 bộ film thỏa mãn, lưu sang Dataframe mới có tên: movie_vote_1000"
   ]
  },
  {
   "cell_type": "code",
   "execution_count": 42,
   "metadata": {
    "id": "DrClAfYjRtNQ"
   },
   "outputs": [],
   "source": [
    "# Xây dựng hàm tính trọng số đánh giá WR\n",
    "def wr(x,m=m,C=C):\n",
    "    v=x['vote_count']\n",
    "    R=x['vote_average']\n",
    "    return (v/(v+m)*R) + (m/(m+v)*C)"
   ]
  },
  {
   "cell_type": "code",
   "execution_count": 43,
   "metadata": {
    "colab": {
     "base_uri": "https://localhost:8080/",
     "height": 204
    },
    "id": "N7qsL-dPSi2Z",
    "outputId": "487bfa65-f475-4a22-d6fe-1cc913b13b05"
   },
   "outputs": [
    {
     "data": {
      "text/html": [
       "<div>\n",
       "<style scoped>\n",
       "    .dataframe tbody tr th:only-of-type {\n",
       "        vertical-align: middle;\n",
       "    }\n",
       "\n",
       "    .dataframe tbody tr th {\n",
       "        vertical-align: top;\n",
       "    }\n",
       "\n",
       "    .dataframe thead th {\n",
       "        text-align: right;\n",
       "    }\n",
       "</style>\n",
       "<table border=\"1\" class=\"dataframe\">\n",
       "  <thead>\n",
       "    <tr style=\"text-align: right;\">\n",
       "      <th></th>\n",
       "      <th>adult</th>\n",
       "      <th>original_title</th>\n",
       "      <th>overview</th>\n",
       "      <th>release_date</th>\n",
       "      <th>vote_average</th>\n",
       "      <th>vote_count</th>\n",
       "      <th>score</th>\n",
       "    </tr>\n",
       "  </thead>\n",
       "  <tbody>\n",
       "    <tr>\n",
       "      <th>104</th>\n",
       "      <td>False</td>\n",
       "      <td>Snow White and the Seven Dwarfs</td>\n",
       "      <td>A beautiful girl, Snow White, takes refuge in ...</td>\n",
       "      <td>1937-12-20</td>\n",
       "      <td>6.9</td>\n",
       "      <td>1973.0</td>\n",
       "      <td>6.702481</td>\n",
       "    </tr>\n",
       "    <tr>\n",
       "      <th>121</th>\n",
       "      <td>False</td>\n",
       "      <td>The Wizard of Oz</td>\n",
       "      <td>Young Dorothy finds herself in a magical world...</td>\n",
       "      <td>1939-08-15</td>\n",
       "      <td>7.4</td>\n",
       "      <td>1689.0</td>\n",
       "      <td>6.995677</td>\n",
       "    </tr>\n",
       "    <tr>\n",
       "      <th>129</th>\n",
       "      <td>False</td>\n",
       "      <td>Pinocchio</td>\n",
       "      <td>Lonely toymaker Geppetto has his wishes answer...</td>\n",
       "      <td>1940-02-23</td>\n",
       "      <td>6.9</td>\n",
       "      <td>1412.0</td>\n",
       "      <td>6.656541</td>\n",
       "    </tr>\n",
       "    <tr>\n",
       "      <th>144</th>\n",
       "      <td>False</td>\n",
       "      <td>Citizen Kane</td>\n",
       "      <td>Newspaper magnate, Charles Foster Kane is take...</td>\n",
       "      <td>1941-04-30</td>\n",
       "      <td>8.0</td>\n",
       "      <td>1244.0</td>\n",
       "      <td>7.248118</td>\n",
       "    </tr>\n",
       "    <tr>\n",
       "      <th>148</th>\n",
       "      <td>False</td>\n",
       "      <td>Dumbo</td>\n",
       "      <td>Dumbo is a baby elephant born with oversized e...</td>\n",
       "      <td>1941-10-22</td>\n",
       "      <td>6.8</td>\n",
       "      <td>1206.0</td>\n",
       "      <td>6.579137</td>\n",
       "    </tr>\n",
       "  </tbody>\n",
       "</table>\n",
       "</div>"
      ],
      "text/plain": [
       "     adult                   original_title  \\\n",
       "104  False  Snow White and the Seven Dwarfs   \n",
       "121  False                 The Wizard of Oz   \n",
       "129  False                        Pinocchio   \n",
       "144  False                     Citizen Kane   \n",
       "148  False                            Dumbo   \n",
       "\n",
       "                                              overview release_date  \\\n",
       "104  A beautiful girl, Snow White, takes refuge in ...   1937-12-20   \n",
       "121  Young Dorothy finds herself in a magical world...   1939-08-15   \n",
       "129  Lonely toymaker Geppetto has his wishes answer...   1940-02-23   \n",
       "144  Newspaper magnate, Charles Foster Kane is take...   1941-04-30   \n",
       "148  Dumbo is a baby elephant born with oversized e...   1941-10-22   \n",
       "\n",
       "     vote_average  vote_count     score  \n",
       "104           6.9      1973.0  6.702481  \n",
       "121           7.4      1689.0  6.995677  \n",
       "129           6.9      1412.0  6.656541  \n",
       "144           8.0      1244.0  7.248118  \n",
       "148           6.8      1206.0  6.579137  "
      ]
     },
     "execution_count": 43,
     "metadata": {},
     "output_type": "execute_result"
    }
   ],
   "source": [
    "#Thêm một thuộc tính mới cho mỗi bộ film  'score', lưu giá trị Weighted_rating tương ứng\n",
    "movies_vote_1000['score'] =  movies_vote_1000.apply(wr,axis=1)\n",
    "movies_vote_1000.head()"
   ]
  },
  {
   "cell_type": "code",
   "execution_count": 44,
   "metadata": {
    "colab": {
     "base_uri": "https://localhost:8080/",
     "height": 419
    },
    "id": "RODQOXNKB9Ge",
    "outputId": "9f65a5f4-2f43-4989-dfd2-413fee92353c"
   },
   "outputs": [
    {
     "data": {
      "text/html": [
       "<div>\n",
       "<style scoped>\n",
       "    .dataframe tbody tr th:only-of-type {\n",
       "        vertical-align: middle;\n",
       "    }\n",
       "\n",
       "    .dataframe tbody tr th {\n",
       "        vertical-align: top;\n",
       "    }\n",
       "\n",
       "    .dataframe thead th {\n",
       "        text-align: right;\n",
       "    }\n",
       "</style>\n",
       "<table border=\"1\" class=\"dataframe\">\n",
       "  <thead>\n",
       "    <tr style=\"text-align: right;\">\n",
       "      <th></th>\n",
       "      <th>adult</th>\n",
       "      <th>original_title</th>\n",
       "      <th>overview</th>\n",
       "      <th>release_date</th>\n",
       "      <th>vote_average</th>\n",
       "      <th>vote_count</th>\n",
       "      <th>score</th>\n",
       "    </tr>\n",
       "  </thead>\n",
       "  <tbody>\n",
       "    <tr>\n",
       "      <th>3191</th>\n",
       "      <td>False</td>\n",
       "      <td>The Shawshank Redemption</td>\n",
       "      <td>Framed in the 1940s for the double murder of h...</td>\n",
       "      <td>1994-09-23</td>\n",
       "      <td>8.5</td>\n",
       "      <td>8358.0</td>\n",
       "      <td>8.266272</td>\n",
       "    </tr>\n",
       "    <tr>\n",
       "      <th>1022</th>\n",
       "      <td>False</td>\n",
       "      <td>The Godfather</td>\n",
       "      <td>Spanning the years 1945 to 1955, a chronicle o...</td>\n",
       "      <td>1972-03-14</td>\n",
       "      <td>8.5</td>\n",
       "      <td>6024.0</td>\n",
       "      <td>8.188607</td>\n",
       "    </tr>\n",
       "    <tr>\n",
       "      <th>6826</th>\n",
       "      <td>False</td>\n",
       "      <td>The Dark Knight</td>\n",
       "      <td>Batman raises the stakes in his war on crime. ...</td>\n",
       "      <td>2008-07-16</td>\n",
       "      <td>8.3</td>\n",
       "      <td>12269.0</td>\n",
       "      <td>8.150236</td>\n",
       "    </tr>\n",
       "    <tr>\n",
       "      <th>4120</th>\n",
       "      <td>False</td>\n",
       "      <td>Fight Club</td>\n",
       "      <td>A ticking-time-bomb insomniac and a slippery s...</td>\n",
       "      <td>1999-10-15</td>\n",
       "      <td>8.3</td>\n",
       "      <td>9678.0</td>\n",
       "      <td>8.113896</td>\n",
       "    </tr>\n",
       "    <tr>\n",
       "      <th>3180</th>\n",
       "      <td>False</td>\n",
       "      <td>Pulp Fiction</td>\n",
       "      <td>A burger-loving hit man, his philosophical par...</td>\n",
       "      <td>1994-09-10</td>\n",
       "      <td>8.3</td>\n",
       "      <td>8670.0</td>\n",
       "      <td>8.094496</td>\n",
       "    </tr>\n",
       "    <tr>\n",
       "      <th>...</th>\n",
       "      <td>...</td>\n",
       "      <td>...</td>\n",
       "      <td>...</td>\n",
       "      <td>...</td>\n",
       "      <td>...</td>\n",
       "      <td>...</td>\n",
       "      <td>...</td>\n",
       "    </tr>\n",
       "    <tr>\n",
       "      <th>7746</th>\n",
       "      <td>False</td>\n",
       "      <td>The Last Airbender</td>\n",
       "      <td>The story follows the adventures of Aang, a yo...</td>\n",
       "      <td>2010-06-30</td>\n",
       "      <td>4.7</td>\n",
       "      <td>1180.0</td>\n",
       "      <td>5.439806</td>\n",
       "    </tr>\n",
       "    <tr>\n",
       "      <th>9292</th>\n",
       "      <td>False</td>\n",
       "      <td>After Earth</td>\n",
       "      <td>One thousand years after cataclysmic events fo...</td>\n",
       "      <td>2013-05-30</td>\n",
       "      <td>5.0</td>\n",
       "      <td>2579.0</td>\n",
       "      <td>5.366800</td>\n",
       "    </tr>\n",
       "    <tr>\n",
       "      <th>11253</th>\n",
       "      <td>False</td>\n",
       "      <td>Independence Day: Resurgence</td>\n",
       "      <td>We always knew they were coming back. Using re...</td>\n",
       "      <td>2016-06-22</td>\n",
       "      <td>4.9</td>\n",
       "      <td>2550.0</td>\n",
       "      <td>5.297965</td>\n",
       "    </tr>\n",
       "    <tr>\n",
       "      <th>10399</th>\n",
       "      <td>False</td>\n",
       "      <td>The Boy Next Door</td>\n",
       "      <td>A recently cheated on married woman falls for ...</td>\n",
       "      <td>2015-01-23</td>\n",
       "      <td>4.1</td>\n",
       "      <td>1034.0</td>\n",
       "      <td>5.187894</td>\n",
       "    </tr>\n",
       "    <tr>\n",
       "      <th>3668</th>\n",
       "      <td>False</td>\n",
       "      <td>Batman &amp; Robin</td>\n",
       "      <td>Along with crime-fighting partner Robin and ne...</td>\n",
       "      <td>1997-06-20</td>\n",
       "      <td>4.2</td>\n",
       "      <td>1447.0</td>\n",
       "      <td>5.063415</td>\n",
       "    </tr>\n",
       "  </tbody>\n",
       "</table>\n",
       "<p>1109 rows × 7 columns</p>\n",
       "</div>"
      ],
      "text/plain": [
       "       adult                original_title  \\\n",
       "3191   False      The Shawshank Redemption   \n",
       "1022   False                 The Godfather   \n",
       "6826   False               The Dark Knight   \n",
       "4120   False                    Fight Club   \n",
       "3180   False                  Pulp Fiction   \n",
       "...      ...                           ...   \n",
       "7746   False            The Last Airbender   \n",
       "9292   False                   After Earth   \n",
       "11253  False  Independence Day: Resurgence   \n",
       "10399  False             The Boy Next Door   \n",
       "3668   False                Batman & Robin   \n",
       "\n",
       "                                                overview release_date  \\\n",
       "3191   Framed in the 1940s for the double murder of h...   1994-09-23   \n",
       "1022   Spanning the years 1945 to 1955, a chronicle o...   1972-03-14   \n",
       "6826   Batman raises the stakes in his war on crime. ...   2008-07-16   \n",
       "4120   A ticking-time-bomb insomniac and a slippery s...   1999-10-15   \n",
       "3180   A burger-loving hit man, his philosophical par...   1994-09-10   \n",
       "...                                                  ...          ...   \n",
       "7746   The story follows the adventures of Aang, a yo...   2010-06-30   \n",
       "9292   One thousand years after cataclysmic events fo...   2013-05-30   \n",
       "11253  We always knew they were coming back. Using re...   2016-06-22   \n",
       "10399  A recently cheated on married woman falls for ...   2015-01-23   \n",
       "3668   Along with crime-fighting partner Robin and ne...   1997-06-20   \n",
       "\n",
       "       vote_average  vote_count     score  \n",
       "3191            8.5      8358.0  8.266272  \n",
       "1022            8.5      6024.0  8.188607  \n",
       "6826            8.3     12269.0  8.150236  \n",
       "4120            8.3      9678.0  8.113896  \n",
       "3180            8.3      8670.0  8.094496  \n",
       "...             ...         ...       ...  \n",
       "7746            4.7      1180.0  5.439806  \n",
       "9292            5.0      2579.0  5.366800  \n",
       "11253           4.9      2550.0  5.297965  \n",
       "10399           4.1      1034.0  5.187894  \n",
       "3668            4.2      1447.0  5.063415  \n",
       "\n",
       "[1109 rows x 7 columns]"
      ]
     },
     "execution_count": 44,
     "metadata": {},
     "output_type": "execute_result"
    }
   ],
   "source": [
    "#Sắp xếp lại dữ liệu theo score giảm dần và lọc ra 15 film có score cao nhất\n",
    "movies_vote_1000=movies_vote_1000.sort_values('score',ascending=False)\n",
    "movies_vote_1000"
   ]
  },
  {
   "cell_type": "code",
   "execution_count": 45,
   "metadata": {
    "colab": {
     "base_uri": "https://localhost:8080/",
     "height": 531
    },
    "id": "YdykBH6hDiZH",
    "outputId": "d8ce122a-70f5-487e-cd1c-fd2d6de5295e"
   },
   "outputs": [
    {
     "name": "stdout",
     "output_type": "stream",
     "text": [
      "DANH SÁCH 15 BỘ FILM CÓ ĐIỂM ĐÁNH GIÁ (score) CAO NHẤT\n"
     ]
    },
    {
     "data": {
      "text/html": [
       "<div>\n",
       "<style scoped>\n",
       "    .dataframe tbody tr th:only-of-type {\n",
       "        vertical-align: middle;\n",
       "    }\n",
       "\n",
       "    .dataframe tbody tr th {\n",
       "        vertical-align: top;\n",
       "    }\n",
       "\n",
       "    .dataframe thead th {\n",
       "        text-align: right;\n",
       "    }\n",
       "</style>\n",
       "<table border=\"1\" class=\"dataframe\">\n",
       "  <thead>\n",
       "    <tr style=\"text-align: right;\">\n",
       "      <th></th>\n",
       "      <th>original_title</th>\n",
       "      <th>vote_count</th>\n",
       "      <th>vote_average</th>\n",
       "      <th>score</th>\n",
       "    </tr>\n",
       "  </thead>\n",
       "  <tbody>\n",
       "    <tr>\n",
       "      <th>0</th>\n",
       "      <td>The Shawshank Redemption</td>\n",
       "      <td>8358.0</td>\n",
       "      <td>8.5</td>\n",
       "      <td>8.266272</td>\n",
       "    </tr>\n",
       "    <tr>\n",
       "      <th>1</th>\n",
       "      <td>The Godfather</td>\n",
       "      <td>6024.0</td>\n",
       "      <td>8.5</td>\n",
       "      <td>8.188607</td>\n",
       "    </tr>\n",
       "    <tr>\n",
       "      <th>2</th>\n",
       "      <td>The Dark Knight</td>\n",
       "      <td>12269.0</td>\n",
       "      <td>8.3</td>\n",
       "      <td>8.150236</td>\n",
       "    </tr>\n",
       "    <tr>\n",
       "      <th>3</th>\n",
       "      <td>Fight Club</td>\n",
       "      <td>9678.0</td>\n",
       "      <td>8.3</td>\n",
       "      <td>8.113896</td>\n",
       "    </tr>\n",
       "    <tr>\n",
       "      <th>4</th>\n",
       "      <td>Pulp Fiction</td>\n",
       "      <td>8670.0</td>\n",
       "      <td>8.3</td>\n",
       "      <td>8.094496</td>\n",
       "    </tr>\n",
       "    <tr>\n",
       "      <th>5</th>\n",
       "      <td>Forrest Gump</td>\n",
       "      <td>8147.0</td>\n",
       "      <td>8.2</td>\n",
       "      <td>7.993678</td>\n",
       "    </tr>\n",
       "    <tr>\n",
       "      <th>6</th>\n",
       "      <td>Inception</td>\n",
       "      <td>14075.0</td>\n",
       "      <td>8.1</td>\n",
       "      <td>7.981445</td>\n",
       "    </tr>\n",
       "    <tr>\n",
       "      <th>7</th>\n",
       "      <td>Interstellar</td>\n",
       "      <td>11187.0</td>\n",
       "      <td>8.1</td>\n",
       "      <td>7.953350</td>\n",
       "    </tr>\n",
       "    <tr>\n",
       "      <th>8</th>\n",
       "      <td>Schindler's List</td>\n",
       "      <td>4436.0</td>\n",
       "      <td>8.3</td>\n",
       "      <td>7.934433</td>\n",
       "    </tr>\n",
       "    <tr>\n",
       "      <th>9</th>\n",
       "      <td>Whiplash</td>\n",
       "      <td>4376.0</td>\n",
       "      <td>8.3</td>\n",
       "      <td>7.930353</td>\n",
       "    </tr>\n",
       "    <tr>\n",
       "      <th>10</th>\n",
       "      <td>The Empire Strikes Back</td>\n",
       "      <td>5998.0</td>\n",
       "      <td>8.2</td>\n",
       "      <td>7.930320</td>\n",
       "    </tr>\n",
       "    <tr>\n",
       "      <th>11</th>\n",
       "      <td>The Lord of the Rings: The Return of the King</td>\n",
       "      <td>8226.0</td>\n",
       "      <td>8.1</td>\n",
       "      <td>7.906284</td>\n",
       "    </tr>\n",
       "    <tr>\n",
       "      <th>12</th>\n",
       "      <td>Intouchables</td>\n",
       "      <td>5410.0</td>\n",
       "      <td>8.2</td>\n",
       "      <td>7.905581</td>\n",
       "    </tr>\n",
       "    <tr>\n",
       "      <th>13</th>\n",
       "      <td>千と千尋の神隠し</td>\n",
       "      <td>3968.0</td>\n",
       "      <td>8.3</td>\n",
       "      <td>7.899995</td>\n",
       "    </tr>\n",
       "    <tr>\n",
       "      <th>14</th>\n",
       "      <td>La vita è bella</td>\n",
       "      <td>3643.0</td>\n",
       "      <td>8.3</td>\n",
       "      <td>7.871996</td>\n",
       "    </tr>\n",
       "  </tbody>\n",
       "</table>\n",
       "</div>"
      ],
      "text/plain": [
       "                                   original_title  vote_count  vote_average  \\\n",
       "0                        The Shawshank Redemption      8358.0           8.5   \n",
       "1                                   The Godfather      6024.0           8.5   \n",
       "2                                 The Dark Knight     12269.0           8.3   \n",
       "3                                      Fight Club      9678.0           8.3   \n",
       "4                                    Pulp Fiction      8670.0           8.3   \n",
       "5                                    Forrest Gump      8147.0           8.2   \n",
       "6                                       Inception     14075.0           8.1   \n",
       "7                                    Interstellar     11187.0           8.1   \n",
       "8                                Schindler's List      4436.0           8.3   \n",
       "9                                        Whiplash      4376.0           8.3   \n",
       "10                        The Empire Strikes Back      5998.0           8.2   \n",
       "11  The Lord of the Rings: The Return of the King      8226.0           8.1   \n",
       "12                                   Intouchables      5410.0           8.2   \n",
       "13                                       千と千尋の神隠し      3968.0           8.3   \n",
       "14                                La vita è bella      3643.0           8.3   \n",
       "\n",
       "       score  \n",
       "0   8.266272  \n",
       "1   8.188607  \n",
       "2   8.150236  \n",
       "3   8.113896  \n",
       "4   8.094496  \n",
       "5   7.993678  \n",
       "6   7.981445  \n",
       "7   7.953350  \n",
       "8   7.934433  \n",
       "9   7.930353  \n",
       "10  7.930320  \n",
       "11  7.906284  \n",
       "12  7.905581  \n",
       "13  7.899995  \n",
       "14  7.871996  "
      ]
     },
     "execution_count": 45,
     "metadata": {},
     "output_type": "execute_result"
    }
   ],
   "source": [
    "#Lấy 15 film có điểm trọng số đánh giá cao nhất\n",
    "list15 = movies_vote_1000[['original_title','vote_count','vote_average','score']].head(15)\n",
    "list15.reset_index(drop = True, inplace=True)\n",
    "print('DANH SÁCH 15 BỘ FILM CÓ ĐIỂM ĐÁNH GIÁ (score) CAO NHẤT')\n",
    "list15"
   ]
  },
  {
   "cell_type": "markdown",
   "metadata": {
    "id": "YMUAsplpbwCu"
   },
   "source": [
    "Sau khi tính toán trọng số đánh giá (WR), dựa vào thông số này để đưa ra danh sách các film (có trọng số đánh giá cao) gợi ý cho người xem. Ví dụ trong trường hợp ở trên chúng ta đưa ra 15 bộ phim có trọng số đánh giá cao nhất.\n",
    "\n",
    "WR phụ thuộc vào vote trung bình của bộ phim đó với lượng người vote cho bộ film. Có những bộ film có vote trung bình cao nhưng lượng người vote lại ít nên WR thấp.\n",
    "\n",
    "Một số bộ film có điểm vote trung bình cao > 8.8 (max), nhưng số lượt vote lại rất thấp nên ko được đưa vào danh sách tính WR (<1000 lượt vote)"
   ]
  },
  {
   "cell_type": "code",
   "execution_count": 49,
   "metadata": {
    "colab": {
     "base_uri": "https://localhost:8080/"
    },
    "id": "cgK3YS2ZS_dn",
    "outputId": "5655ec8e-6f77-471f-c0fd-2ec2c9d40c14"
   },
   "outputs": [
    {
     "data": {
      "text/plain": [
       "adult             4\n",
       "original_title    4\n",
       "overview          4\n",
       "release_date      4\n",
       "vote_average      4\n",
       "vote_count        4\n",
       "dtype: int64"
      ]
     },
     "execution_count": 49,
     "metadata": {},
     "output_type": "execute_result"
    }
   ],
   "source": [
    "#Số lượng các film có vote trung bình bằng 10\n",
    "data[data['vote_average']>=8.8].count()"
   ]
  },
  {
   "cell_type": "code",
   "execution_count": 50,
   "metadata": {
    "colab": {
     "base_uri": "https://localhost:8080/",
     "height": 419
    },
    "id": "NflFaSIMWnRY",
    "outputId": "1b39a2c0-647d-41b0-cb2e-3fa711b346d4"
   },
   "outputs": [
    {
     "data": {
      "text/html": [
       "<div>\n",
       "<style scoped>\n",
       "    .dataframe tbody tr th:only-of-type {\n",
       "        vertical-align: middle;\n",
       "    }\n",
       "\n",
       "    .dataframe tbody tr th {\n",
       "        vertical-align: top;\n",
       "    }\n",
       "\n",
       "    .dataframe thead th {\n",
       "        text-align: right;\n",
       "    }\n",
       "</style>\n",
       "<table border=\"1\" class=\"dataframe\">\n",
       "  <thead>\n",
       "    <tr style=\"text-align: right;\">\n",
       "      <th></th>\n",
       "      <th>original_title</th>\n",
       "      <th>vote_average</th>\n",
       "      <th>vote_count</th>\n",
       "    </tr>\n",
       "  </thead>\n",
       "  <tbody>\n",
       "    <tr>\n",
       "      <th>3372</th>\n",
       "      <td>Dilwale Dulhania Le Jayenge</td>\n",
       "      <td>9.1</td>\n",
       "      <td>661.0</td>\n",
       "    </tr>\n",
       "    <tr>\n",
       "      <th>6200</th>\n",
       "      <td>Planet Earth</td>\n",
       "      <td>8.8</td>\n",
       "      <td>176.0</td>\n",
       "    </tr>\n",
       "    <tr>\n",
       "      <th>11167</th>\n",
       "      <td>Lemonade</td>\n",
       "      <td>8.8</td>\n",
       "      <td>45.0</td>\n",
       "    </tr>\n",
       "    <tr>\n",
       "      <th>11481</th>\n",
       "      <td>Planet Earth II</td>\n",
       "      <td>9.5</td>\n",
       "      <td>50.0</td>\n",
       "    </tr>\n",
       "  </tbody>\n",
       "</table>\n",
       "</div>"
      ],
      "text/plain": [
       "                    original_title  vote_average  vote_count\n",
       "3372   Dilwale Dulhania Le Jayenge           9.1       661.0\n",
       "6200                  Planet Earth           8.8       176.0\n",
       "11167                     Lemonade           8.8        45.0\n",
       "11481              Planet Earth II           9.5        50.0"
      ]
     },
     "execution_count": 50,
     "metadata": {},
     "output_type": "execute_result"
    }
   ],
   "source": [
    "#Danh sách các film có vote trung bình bằng 10\n",
    "data[data['vote_average']>=8.8].loc[:,['original_title','vote_average','vote_count']]"
   ]
  },
  {
   "cell_type": "markdown",
   "metadata": {
    "id": "OA7ibhaWcPE1"
   },
   "source": [
    "## **3.2) Content-Based Recommender:**\n",
    "---\n",
    "Với hệ thống đề xuất dựa trên nội dung, nhiệm vụ của chúng ta là phải tìm được một bộ film có nội dung tương đồng cao nhất với một bộ film xác định. \n",
    "\n",
    "Chúng ta sẽ phải tính toán số điểm tương đồng theo từng cặp cho tất cả các bộ film và đưa ra bộ film đề xuất có điểm tương đồng cao nhất.\n"
   ]
  },
  {
   "cell_type": "markdown",
   "metadata": {
    "id": "VWDwQowCl7AE"
   },
   "source": [
    "### A) Dựa vào tóm tắt film (Overview)\n",
    "---\n",
    "Dữ liệu film có thuộc tính \"overview\" đây là thuộc tính tóm tắt nội dung của bộ film. Chúng ta sẽ dựa vào thông tin tóm tắt film để tìm bộ film có nội dung tương tự với bộ film đưa vào.\n",
    "\n",
    "* Sử dụng phương pháp vertor hóa: TF-IDF\n"
   ]
  },
  {
   "cell_type": "code",
   "execution_count": 51,
   "metadata": {
    "colab": {
     "base_uri": "https://localhost:8080/"
    },
    "id": "xUqXMlDjTmCh",
    "outputId": "80a7149c-8e50-4839-c2c7-e3ccaa04e4cd"
   },
   "outputs": [
    {
     "name": "stdout",
     "output_type": "stream",
     "text": [
      "<class 'pandas.core.frame.DataFrame'>\n",
      "RangeIndex: 11756 entries, 0 to 11755\n",
      "Data columns (total 6 columns):\n",
      " #   Column          Non-Null Count  Dtype  \n",
      "---  ------          --------------  -----  \n",
      " 0   adult           11756 non-null  bool   \n",
      " 1   original_title  11756 non-null  object \n",
      " 2   overview        11756 non-null  object \n",
      " 3   release_date    11756 non-null  object \n",
      " 4   vote_average    11756 non-null  float64\n",
      " 5   vote_count      11756 non-null  float64\n",
      "dtypes: bool(1), float64(2), object(3)\n",
      "memory usage: 470.8+ KB\n"
     ]
    }
   ],
   "source": [
    "#Dữ liệu các bộ fim ban đâu\n",
    "data.info()"
   ]
  },
  {
   "cell_type": "markdown",
   "metadata": {
    "id": "szA66RumrqW1"
   },
   "source": [
    "Sử dụng TF-IDF để đánh giá độ tương đồng giữa 2 bộ film dựa vào phần tóm tắt nội dung film.\n"
   ]
  },
  {
   "cell_type": "code",
   "execution_count": 52,
   "metadata": {
    "id": "9N8ON90ldtMu"
   },
   "outputs": [],
   "source": [
    "from sklearn.feature_extraction.text import TfidfVectorizer\n",
    "\n",
    "#Định nghĩa một vector TF-IDF loại bỏ tất cả các stop words trong TA\n",
    "tfidf = TfidfVectorizer(stop_words='english')"
   ]
  },
  {
   "cell_type": "code",
   "execution_count": 53,
   "metadata": {
    "colab": {
     "base_uri": "https://localhost:8080/"
    },
    "id": "Sxw9Bd8Xt39_",
    "outputId": "e85ecf63-82f4-487d-b6e3-973b7cac43e0"
   },
   "outputs": [
    {
     "data": {
      "text/plain": [
       "(11756, 33837)"
      ]
     },
     "execution_count": 53,
     "metadata": {},
     "output_type": "execute_result"
    }
   ],
   "source": [
    "#Xây dựng ma trận TF-IDF\n",
    "tfidf_matrix = tfidf.fit_transform(data['overview'])\n",
    "# ma trận corpus của TFIDF\n",
    "tfidf_matrix.shape"
   ]
  },
  {
   "cell_type": "markdown",
   "metadata": {
    "id": "HFZN7K8RudGM"
   },
   "source": [
    "Có tất cả 75525 từ khác nhau (ko kể các stop words) được sử dụng để tóm tắt nội dung của 42228 bộ film. Dựa vào tâp corpus này chúng ta sẽ thực hiện việc tính toán độ tương đồng. Có thể sử dụng các độ đo như:\n",
    "* Euclidean distance. \n",
    "* Cosine distance.\n",
    "\n",
    "Câu hỏi đặt ra là độ đo tương đồng nào là tốt nhất? ko có độ đo nào là tốt nhất nó phụ thuộc vào từng loại dữ liệu và bài toán cụ thể. \n",
    "\n",
    "Chúng ta sẽ sử dụng độ đo Cosine để tính độ tương đồng:\n",
    "\n",
    "![alt text](https://sites.temple.edu/tudsc/files/2017/03/cosine-equation.png)"
   ]
  },
  {
   "cell_type": "code",
   "execution_count": 54,
   "metadata": {
    "colab": {
     "base_uri": "https://localhost:8080/"
    },
    "id": "eBuu3Be-uXpP",
    "outputId": "f3cb9886-7c6e-4a67-816c-0f5bf7ffd77f"
   },
   "outputs": [
    {
     "name": "stdout",
     "output_type": "stream",
     "text": [
      "(11756, 11756)\n",
      "[[1.         0.08925088 0.00539546 ... 0.         0.         0.        ]\n",
      " [0.08925088 1.         0.01223702 ... 0.         0.         0.        ]\n",
      " [0.00539546 0.01223702 1.         ... 0.         0.00889838 0.        ]\n",
      " ...\n",
      " [0.         0.         0.         ... 1.         0.         0.        ]\n",
      " [0.         0.         0.00889838 ... 0.         1.         0.        ]\n",
      " [0.         0.         0.         ... 0.         0.         1.        ]]\n"
     ]
    }
   ],
   "source": [
    "from sklearn.metrics.pairwise import linear_kernel\n",
    "\n",
    "#Tính độ tương tự cosine giữa các bộ film với nhau dựa vào tóm tắt film\n",
    "cosine_sim = linear_kernel(tfidf_matrix,tfidf_matrix)\n",
    "print(cosine_sim.shape)\n",
    "print(cosine_sim)"
   ]
  },
  {
   "cell_type": "code",
   "execution_count": 56,
   "metadata": {
    "colab": {
     "base_uri": "https://localhost:8080/",
     "height": 504
    },
    "id": "IZfFoAc6y9Od",
    "outputId": "d5f97c34-0343-484c-c061-9b159c6a967e"
   },
   "outputs": [
    {
     "data": {
      "image/png": "[encoded data removed]",
      "text/plain": [
       "<Figure size 842.4x595.44 with 2 Axes>"
      ]
     },
     "metadata": {},
     "output_type": "display_data"
    }
   ],
   "source": [
    "import matplotlib.pyplot as plt\n",
    "import numpy as np\n",
    "import seaborn as sns\n",
    "sns.set(rc={'figure.figsize':(11.7,8.27)})\n",
    "ax = sns.heatmap(cosine_sim[0:100,0:100], linewidth=0.5,cmap='hot' )\n",
    "#plt.show()\n",
    "\n",
    "#plt.imshow(cosine_sim[0:100,0:100], cmap='hot', interpolation='nearest')\n",
    "plt.show()"
   ]
  },
  {
   "cell_type": "code",
   "execution_count": 57,
   "metadata": {
    "colab": {
     "base_uri": "https://localhost:8080/"
    },
    "id": "7j5m4H4rYBwQ",
    "outputId": "177ab8da-5049-4279-d9eb-4210614596c9"
   },
   "outputs": [
    {
     "data": {
      "text/plain": [
       "original_title\n",
       "La Sortie de l'Usine Lumière à Lyon                 0\n",
       "Arroseur et arrosé                                  1\n",
       "L'arrivée d'un train en gare de La Ciotat           2\n",
       "Le Voyage dans la Lune                              3\n",
       "The Great Train Robbery                             4\n",
       "                                                ...  \n",
       "Good Time                                       11751\n",
       "What Happened to Monday                         11752\n",
       "Science Fiction Volume One: The Osiris Child    11753\n",
       "Leatherface                                     11754\n",
       "Avatar 2                                        11755\n",
       "Length: 11756, dtype: int64"
      ]
     },
     "execution_count": 57,
     "metadata": {},
     "output_type": "execute_result"
    }
   ],
   "source": [
    "#Lấy danh sách tên các bộ film\n",
    "indices = pd.Series(data.index,index=data['original_title'])\n",
    "indices"
   ]
  },
  {
   "cell_type": "markdown",
   "metadata": {
    "id": "4O1XlvUqa54b"
   },
   "source": [
    "Xây dựng một hàm đưa vào tên của một bộ film sau đó dựa vào ma trận cosine_sim để xác định 15 bộ film có độ tương đồng cao theo thứ tự giảm dần.\n",
    "\n",
    "* input: title, cosine_sim\n",
    "* output: list 15 film similarity\n"
   ]
  },
  {
   "cell_type": "code",
   "execution_count": 58,
   "metadata": {
    "id": "fBWQxp0oaa1J"
   },
   "outputs": [],
   "source": [
    "def get_recommend_movies(title,cosine_sim=cosine_sim):\n",
    "    #Lấy index của bộ film theo tiêu đề đưa vào\n",
    "    idx=indices[title]\n",
    "    #Lấy điểm tương đồng theo cặp của tất cả các movies theo tiêu đề bộ film đưa vào\n",
    "    sim_scores = list(enumerate(cosine_sim[idx]))\n",
    "    #Sắp xếp các bộ film dựa theo điểm tương đồng\n",
    "    sim_scores = sorted(sim_scores, key=lambda x: x[1], reverse=True)\n",
    "    #Lấy điểm của 15 bộ film có độ tương đồng cao nhất\n",
    "    sim_scores_15 = sim_scores[1:16]\n",
    "    #Lấy index tương ứng với 15 bộ film này\n",
    "    movies_index = [i[0] for i in sim_scores_15]\n",
    "    #trả ra tiêu đề của 15 bộ film\n",
    "    return data['original_title'].iloc[movies_index]"
   ]
  },
  {
   "cell_type": "code",
   "execution_count": 59,
   "metadata": {
    "colab": {
     "base_uri": "https://localhost:8080/"
    },
    "id": "0K44PBpbeW1v",
    "outputId": "c2299ec2-9509-4138-fba7-0898ce3c8e33"
   },
   "outputs": [
    {
     "data": {
      "text/plain": [
       "8776                       The Dark Knight Rises\n",
       "11111                          Batman: Bad Blood\n",
       "11430      Batman: Return of the Caped Crusaders\n",
       "8854     Batman: The Dark Knight Returns, Part 1\n",
       "6826                             The Dark Knight\n",
       "3060                Batman: Mask of the Phantasm\n",
       "5632                               Batman Begins\n",
       "3975                    Batman Beyond: The Movie\n",
       "4391          Batman Beyond: Return of the Joker\n",
       "2812                              Batman Returns\n",
       "7774                  Batman: Under the Red Hood\n",
       "5341                                The Clearing\n",
       "3668                              Batman & Robin\n",
       "6809                       Batman: Gotham Knight\n",
       "8387                            Batman: Year One\n",
       "Name: original_title, dtype: object"
      ]
     },
     "execution_count": 59,
     "metadata": {},
     "output_type": "execute_result"
    }
   ],
   "source": [
    "#Thử đề xuất với tên bộ film bất kỳ\n",
    "#1. Bộ film: Batman Forever\n",
    "get_recommend_movies('Batman Forever')"
   ]
  },
  {
   "cell_type": "code",
   "execution_count": 60,
   "metadata": {
    "colab": {
     "base_uri": "https://localhost:8080/"
    },
    "id": "bQYcLV2fdwgd",
    "outputId": "2a4cff22-1d7b-491f-e2d1-7536017a6fa1"
   },
   "outputs": [
    {
     "data": {
      "text/plain": [
       "230                 Brute Force\n",
       "5165                    In Hell\n",
       "19                Sherlock, Jr.\n",
       "9548                Escape Plan\n",
       "1480                   Brubaker\n",
       "4291             Animal Factory\n",
       "11131                Demolition\n",
       "5678     The 40 Year Old Virgin\n",
       "8399                        恋の罪\n",
       "813              Cool Hand Luke\n",
       "2863                   Fortress\n",
       "7725                Toy Story 3\n",
       "9479                 Starred Up\n",
       "1454            American Gigolo\n",
       "1765          A Christmas Story\n",
       "Name: original_title, dtype: object"
      ]
     },
     "execution_count": 60,
     "metadata": {},
     "output_type": "execute_result"
    }
   ],
   "source": [
    "#Thử đề xuất với tên bộ film bất kỳ\n",
    "#2. Bộ film: The Shawshank Redemption\n",
    "get_recommend_movies('The Shawshank Redemption')"
   ]
  },
  {
   "cell_type": "code",
   "execution_count": 61,
   "metadata": {
    "colab": {
     "base_uri": "https://localhost:8080/"
    },
    "id": "ziTODbQre1qc",
    "outputId": "dc2a9113-8396-4aa0-f22c-956f9b175904"
   },
   "outputs": [
    {
     "data": {
      "text/plain": [
       "1474                               The Empire Strikes Back\n",
       "1384                         The Star Wars Holiday Special\n",
       "10977                         Star Wars: The Force Awakens\n",
       "1723                                    Return of the Jedi\n",
       "7043     1½ Ritter - Auf der Suche nach der hinreißende...\n",
       "3217                                     The Swan Princess\n",
       "2949                                  Hot Shots! Part Deux\n",
       "4264                                         Shanghai Noon\n",
       "495                                        Sleeping Beauty\n",
       "10675                             Baahubali: The Beginning\n",
       "11278                               キングスグレイブ ファイナルファンタジーXV\n",
       "5752                   Barbie and the Magic of Pegasus 3-D\n",
       "11701                                         Wonder Woman\n",
       "7081                      Behind Enemy Lines III: Colombia\n",
       "8906                                             Arbitrage\n",
       "Name: original_title, dtype: object"
      ]
     },
     "execution_count": 61,
     "metadata": {},
     "output_type": "execute_result"
    }
   ],
   "source": [
    "#Thử đề xuất với tên bộ film bất kỳ\n",
    "#3. Bộ film: Star Wars\n",
    "get_recommend_movies('Star Wars')"
   ]
  },
  {
   "cell_type": "code",
   "execution_count": null,
   "metadata": {
    "id": "4syh5D1VrU8R"
   },
   "outputs": [],
   "source": []
  }
 ],
 "metadata": {
  "accelerator": "TPU",
  "colab": {
   "collapsed_sections": [],
   "machine_shape": "hm",
   "name": "Project6_RecommenderSystem_Movie.ipynb",
   "provenance": [],
   "toc_visible": true
  },
  "kernelspec": {
   "display_name": "Python 3",
   "language": "python",
   "name": "python3"
  },
  "language_info": {
   "codemirror_mode": {
    "name": "ipython",
    "version": 3
   },
   "file_extension": ".py",
   "mimetype": "text/x-python",
   "name": "python",
   "nbconvert_exporter": "python",
   "pygments_lexer": "ipython3",
   "version": "3.8.3"
  }
 },
 "nbformat": 4,
 "nbformat_minor": 1
}
