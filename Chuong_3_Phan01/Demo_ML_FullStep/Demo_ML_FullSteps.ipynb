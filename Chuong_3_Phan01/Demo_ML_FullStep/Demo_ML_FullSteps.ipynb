{
 "cells": [
  {
   "cell_type": "markdown",
   "metadata": {},
   "source": [
    "# EXAMPLE: MINH HỌA XÂY DỰNG DỰ ÁN HỌC MÁY GIẢI QUYẾT BÀI TOÁN VỚI ĐẦY ĐỦ CÁC BƯỚC\n",
    "---\n",
    "\n",
    "**Các bước để xây dựng một mô hình học máy nói chung:**\n",
    "\n",
    "<img src='pic/step.png' width='700px'>\n",
    "\n",
    "**<h4>1.Thu thập dữ liệu (Data collection)</h4>**\n",
    "**<h4>2.Chuẩn bị dữ liệu (Data preparation)</h4>**\n",
    "**<h4>3.Lựa chọn mô hình phù hợp (Choosing a model)</h4>**\n",
    "**<h4>4.Huấn luyện mô hình (Training)</h4>**\n",
    "**<h4>5.Đánh giá mô hình (Evaluation)</h4>**\n",
    "**<h4>6.Tùy chỉnh tham số của mô hình (Parameter tuning)</h4>**\n",
    "**<h4>7.Dự đoán với với mô hình xây dựng được (Prediction)</h4>**"
   ]
  },
  {
   "cell_type": "markdown",
   "metadata": {},
   "source": [
    "**Mô tả bài toán:**\n",
    "- Xây dựng mô hình học máy dự đoán khả năng mắc bệnh tim của những bệnh nhân bị chứng đau ngực với các thông số liên quan.\n",
    "<img src='pic/heartattack.png' width='200px'>"
   ]
  },
  {
   "cell_type": "markdown",
   "metadata": {},
   "source": [
    "## Bước 1.Thu thập dữ liệu (Data collection):\n",
    "---\n",
    "\n",
    "    Đây là bước đầu tiên trong vòng đời của một dự án học máy. Mục tiêu của bước này là thu thập tất cả các dữ liệu liên quan đến bài toán.  Dữ liệu có thể được thu thập từ nhiều nguồn khác nhau như *files, database, internet, mobile devices...* \n",
    "    Chất lượng và số lượng dữ liệu thu thập được sẽ quyết định đến chất lượng của kết quả đầu ra. Dữ liệu càng nhiều thì độ chính xác của mô hình càng cao. \n",
    "    Bước này bao gồm các công việc:\n",
    "    - Xác định các nguồn dữ liệu liên quan đến bài toán\n",
    "    - Thu thập các dữ liệu từ các nguồn này\n",
    "    - Tích hợp các dữ liệu thu thập được để tạo thành một tập dữ liệu nhất quán (Dataset) sử dụng cho các bước tiếp theo./\n",
    "    "
   ]
  },
  {
   "cell_type": "markdown",
   "metadata": {},
   "source": [
    "**Mô tả tập dữ liệu thu thập được phục vụ bài toán:**\n",
    "- Tên Dataset: **Data_Patient.csv**\n",
    "- File dữ liệu chứa thông tin của **300 bệnh nhân bị bệnh đau ngực**\n",
    "- Mỗi dòng ứng với thông tin của một bệnh nhân, bao gồm 9 thuộc tính:\n",
    "     - *id: Mã của bệnh nhân (object)*\n",
    "     - *Age: Tuổi của bệnh nhân (số)*\n",
    "     - *Gender: Giới tính của bệnh nhân (chuỗi: Male – Female)*\n",
    "     - *Type: Cho biết loại triệu chứng đau ngực mà bệnh nhân này mắc phải, với 4 giá trị: (Typical angina, Atypical angina, Non-anginal pain, Asymptomatic)*\n",
    "     - *Blood_pressure: Huyết áp của bệnh nhân – đơn vị: mmhg (số)*\n",
    "     - *Cholesterol: Chỉ số cholesterol của bệnh nhân – đơn vị: mg/dl (số)*\n",
    "     - *Heatbeat: Thông số nhịp tim của bệnh nhân – đơn vị: lần/phút (số)*\n",
    "     - *Thalassemia: Chỉ số Thalassemia của bệnh nhân chỉ gồm 3 giá trị (3: Bình thường | 4: Khiếm khuyết cố định | 7: Kiếm khuyết có thể đảo ngược)*\n",
    "     - *Result: Cho biết bệnh nhân có bị bệnh tim hay không? (0: Không bị bệnh tim mạch | 1: Bị bệnh tim mạch)*\n",
    "<img src = 'pic/data.png' width='450px'>"
   ]
  },
  {
   "cell_type": "code",
   "execution_count": 1,
   "metadata": {},
   "outputs": [
    {
     "name": "stdout",
     "output_type": "stream",
     "text": [
      "<class 'pandas.core.frame.DataFrame'>\n",
      "Index: 300 entries, Patient_01 to Patient_300\n",
      "Data columns (total 8 columns):\n",
      " #   Column          Non-Null Count  Dtype  \n",
      "---  ------          --------------  -----  \n",
      " 0   Age             300 non-null    int64  \n",
      " 1   Gender          300 non-null    object \n",
      " 2   Type            295 non-null    object \n",
      " 3   Blood_pressure  300 non-null    int64  \n",
      " 4   Cholesterol     300 non-null    int64  \n",
      " 5   Heartbeat       300 non-null    int64  \n",
      " 6   Thalassemia     293 non-null    float64\n",
      " 7   Result          300 non-null    int64  \n",
      "dtypes: float64(1), int64(5), object(2)\n",
      "memory usage: 21.1+ KB\n"
     ]
    }
   ],
   "source": [
    "#Đọc tập dữ liệu dataset\n",
    "import pandas as pd\n",
    "df_patient = pd.read_csv('data/Data_patient.csv', index_col=0)\n",
    "df_patient.info()"
   ]
  },
  {
   "cell_type": "code",
   "execution_count": 2,
   "metadata": {},
   "outputs": [
    {
     "data": {
      "text/html": [
       "<div>\n",
       "<style scoped>\n",
       "    .dataframe tbody tr th:only-of-type {\n",
       "        vertical-align: middle;\n",
       "    }\n",
       "\n",
       "    .dataframe tbody tr th {\n",
       "        vertical-align: top;\n",
       "    }\n",
       "\n",
       "    .dataframe thead th {\n",
       "        text-align: right;\n",
       "    }\n",
       "</style>\n",
       "<table border=\"1\" class=\"dataframe\">\n",
       "  <thead>\n",
       "    <tr style=\"text-align: right;\">\n",
       "      <th></th>\n",
       "      <th>Age</th>\n",
       "      <th>Gender</th>\n",
       "      <th>Type</th>\n",
       "      <th>Blood_pressure</th>\n",
       "      <th>Cholesterol</th>\n",
       "      <th>Heartbeat</th>\n",
       "      <th>Thalassemia</th>\n",
       "      <th>Result</th>\n",
       "    </tr>\n",
       "    <tr>\n",
       "      <th>id</th>\n",
       "      <th></th>\n",
       "      <th></th>\n",
       "      <th></th>\n",
       "      <th></th>\n",
       "      <th></th>\n",
       "      <th></th>\n",
       "      <th></th>\n",
       "      <th></th>\n",
       "    </tr>\n",
       "  </thead>\n",
       "  <tbody>\n",
       "    <tr>\n",
       "      <th>Patient_01</th>\n",
       "      <td>63</td>\n",
       "      <td>Male</td>\n",
       "      <td>Typical angina</td>\n",
       "      <td>145</td>\n",
       "      <td>233</td>\n",
       "      <td>150</td>\n",
       "      <td>6.0</td>\n",
       "      <td>0</td>\n",
       "    </tr>\n",
       "    <tr>\n",
       "      <th>Patient_02</th>\n",
       "      <td>67</td>\n",
       "      <td>Male</td>\n",
       "      <td>Asymptomatic</td>\n",
       "      <td>160</td>\n",
       "      <td>286</td>\n",
       "      <td>108</td>\n",
       "      <td>3.0</td>\n",
       "      <td>1</td>\n",
       "    </tr>\n",
       "    <tr>\n",
       "      <th>Patient_03</th>\n",
       "      <td>67</td>\n",
       "      <td>Male</td>\n",
       "      <td>Asymptomatic</td>\n",
       "      <td>120</td>\n",
       "      <td>229</td>\n",
       "      <td>129</td>\n",
       "      <td>7.0</td>\n",
       "      <td>1</td>\n",
       "    </tr>\n",
       "    <tr>\n",
       "      <th>Patient_04</th>\n",
       "      <td>37</td>\n",
       "      <td>Male</td>\n",
       "      <td>Non-anginal pain</td>\n",
       "      <td>130</td>\n",
       "      <td>250</td>\n",
       "      <td>187</td>\n",
       "      <td>3.0</td>\n",
       "      <td>0</td>\n",
       "    </tr>\n",
       "    <tr>\n",
       "      <th>Patient_05</th>\n",
       "      <td>41</td>\n",
       "      <td>Female</td>\n",
       "      <td>Atypical angina</td>\n",
       "      <td>130</td>\n",
       "      <td>204</td>\n",
       "      <td>172</td>\n",
       "      <td>NaN</td>\n",
       "      <td>0</td>\n",
       "    </tr>\n",
       "  </tbody>\n",
       "</table>\n",
       "</div>"
      ],
      "text/plain": [
       "            Age  Gender              Type  Blood_pressure  Cholesterol  \\\n",
       "id                                                                       \n",
       "Patient_01   63    Male    Typical angina             145          233   \n",
       "Patient_02   67    Male      Asymptomatic             160          286   \n",
       "Patient_03   67    Male      Asymptomatic             120          229   \n",
       "Patient_04   37    Male  Non-anginal pain             130          250   \n",
       "Patient_05   41  Female   Atypical angina             130          204   \n",
       "\n",
       "            Heartbeat  Thalassemia  Result  \n",
       "id                                          \n",
       "Patient_01        150          6.0       0  \n",
       "Patient_02        108          3.0       1  \n",
       "Patient_03        129          7.0       1  \n",
       "Patient_04        187          3.0       0  \n",
       "Patient_05        172          NaN       0  "
      ]
     },
     "execution_count": 2,
     "metadata": {},
     "output_type": "execute_result"
    }
   ],
   "source": [
    "#hiển thị 5 dòng dữ liệu đầu tiên\n",
    "df_patient.head()\n"
   ]
  },
  {
   "cell_type": "code",
   "execution_count": 3,
   "metadata": {},
   "outputs": [
    {
     "data": {
      "text/html": [
       "<div>\n",
       "<style scoped>\n",
       "    .dataframe tbody tr th:only-of-type {\n",
       "        vertical-align: middle;\n",
       "    }\n",
       "\n",
       "    .dataframe tbody tr th {\n",
       "        vertical-align: top;\n",
       "    }\n",
       "\n",
       "    .dataframe thead th {\n",
       "        text-align: right;\n",
       "    }\n",
       "</style>\n",
       "<table border=\"1\" class=\"dataframe\">\n",
       "  <thead>\n",
       "    <tr style=\"text-align: right;\">\n",
       "      <th></th>\n",
       "      <th>Age</th>\n",
       "      <th>Gender</th>\n",
       "      <th>Type</th>\n",
       "      <th>Blood_pressure</th>\n",
       "      <th>Cholesterol</th>\n",
       "      <th>Heartbeat</th>\n",
       "      <th>Thalassemia</th>\n",
       "      <th>Result</th>\n",
       "    </tr>\n",
       "    <tr>\n",
       "      <th>id</th>\n",
       "      <th></th>\n",
       "      <th></th>\n",
       "      <th></th>\n",
       "      <th></th>\n",
       "      <th></th>\n",
       "      <th></th>\n",
       "      <th></th>\n",
       "      <th></th>\n",
       "    </tr>\n",
       "  </thead>\n",
       "  <tbody>\n",
       "    <tr>\n",
       "      <th>Patient_296</th>\n",
       "      <td>59</td>\n",
       "      <td>Male</td>\n",
       "      <td>Asymptomatic</td>\n",
       "      <td>164</td>\n",
       "      <td>176</td>\n",
       "      <td>90</td>\n",
       "      <td>6.0</td>\n",
       "      <td>1</td>\n",
       "    </tr>\n",
       "    <tr>\n",
       "      <th>Patient_297</th>\n",
       "      <td>57</td>\n",
       "      <td>Female</td>\n",
       "      <td>Asymptomatic</td>\n",
       "      <td>140</td>\n",
       "      <td>241</td>\n",
       "      <td>123</td>\n",
       "      <td>7.0</td>\n",
       "      <td>1</td>\n",
       "    </tr>\n",
       "    <tr>\n",
       "      <th>Patient_298</th>\n",
       "      <td>45</td>\n",
       "      <td>Male</td>\n",
       "      <td>Typical angina</td>\n",
       "      <td>110</td>\n",
       "      <td>264</td>\n",
       "      <td>132</td>\n",
       "      <td>7.0</td>\n",
       "      <td>1</td>\n",
       "    </tr>\n",
       "    <tr>\n",
       "      <th>Patient_299</th>\n",
       "      <td>68</td>\n",
       "      <td>Male</td>\n",
       "      <td>Asymptomatic</td>\n",
       "      <td>144</td>\n",
       "      <td>193</td>\n",
       "      <td>141</td>\n",
       "      <td>7.0</td>\n",
       "      <td>1</td>\n",
       "    </tr>\n",
       "    <tr>\n",
       "      <th>Patient_300</th>\n",
       "      <td>57</td>\n",
       "      <td>Male</td>\n",
       "      <td>Asymptomatic</td>\n",
       "      <td>130</td>\n",
       "      <td>131</td>\n",
       "      <td>115</td>\n",
       "      <td>7.0</td>\n",
       "      <td>1</td>\n",
       "    </tr>\n",
       "  </tbody>\n",
       "</table>\n",
       "</div>"
      ],
      "text/plain": [
       "             Age  Gender            Type  Blood_pressure  Cholesterol  \\\n",
       "id                                                                      \n",
       "Patient_296   59    Male    Asymptomatic             164          176   \n",
       "Patient_297   57  Female    Asymptomatic             140          241   \n",
       "Patient_298   45    Male  Typical angina             110          264   \n",
       "Patient_299   68    Male    Asymptomatic             144          193   \n",
       "Patient_300   57    Male    Asymptomatic             130          131   \n",
       "\n",
       "             Heartbeat  Thalassemia  Result  \n",
       "id                                           \n",
       "Patient_296         90          6.0       1  \n",
       "Patient_297        123          7.0       1  \n",
       "Patient_298        132          7.0       1  \n",
       "Patient_299        141          7.0       1  \n",
       "Patient_300        115          7.0       1  "
      ]
     },
     "execution_count": 3,
     "metadata": {},
     "output_type": "execute_result"
    }
   ],
   "source": [
    "#hiển thị 5 dòng dữ liệu cuối cùng\n",
    "df_patient.tail()"
   ]
  },
  {
   "cell_type": "markdown",
   "metadata": {},
   "source": [
    "## Bước 2: Chuẩn bị dữ liệu (Data Preparation)\n",
    "---\n",
    "    Thông thường dữ liệu thu thập được có rất nhiều nhiễu (noise), dữ liệu thiếu (missing value), dữ liệu ngoại lai (outlierS)...dó đó dữ liệu cần phải được làm sạch và chuẩn hóa về dạng phù hợp. Đây là giai đoạn chiếm nhiều thời gian và nguồn lực nhất của một dự án ML.\n",
    "\n",
    "<img src='pic/preparation.png' width='300px'>\n",
    "    \n",
    "Có rất nhiều nhiệm vụ phải thực hiện trong quá trình chuẩn bị dữ liệu. Dữ liệu sau khi được chuẩn bị sẽ được tách ra thành 2 tập:\n",
    "    - Tập huấn luyện (Training Set) bao gồm các điểm dữ liệu sử dụng trực tiếp trong việc xây dựng mô hình.\n",
    "    - Tập kiểm tra (Test set) gồm các dữ liệu được dùng để đánh giá hiệu quả của mô hình. Tập kiểm tra đại diện cho dữ liệu mà mô hình chưa từng thấy, có thể xuất hiện trong quá trình vận hành mô hình trên thực tế."
   ]
  },
  {
   "cell_type": "markdown",
   "metadata": {},
   "source": [
    "### 2.1) quan sát tập dữ liệu\n",
    "---\n",
    "Thực hiện quan sát các đặc trưng thống kê, các biểu đồ liên quan đến tập dữ liệu để hiểu dữ liệu."
   ]
  },
  {
   "cell_type": "code",
   "execution_count": 4,
   "metadata": {},
   "outputs": [
    {
     "data": {
      "text/html": [
       "<div>\n",
       "<style scoped>\n",
       "    .dataframe tbody tr th:only-of-type {\n",
       "        vertical-align: middle;\n",
       "    }\n",
       "\n",
       "    .dataframe tbody tr th {\n",
       "        vertical-align: top;\n",
       "    }\n",
       "\n",
       "    .dataframe thead th {\n",
       "        text-align: right;\n",
       "    }\n",
       "</style>\n",
       "<table border=\"1\" class=\"dataframe\">\n",
       "  <thead>\n",
       "    <tr style=\"text-align: right;\">\n",
       "      <th></th>\n",
       "      <th>Age</th>\n",
       "      <th>Blood_pressure</th>\n",
       "      <th>Cholesterol</th>\n",
       "      <th>Heartbeat</th>\n",
       "      <th>Thalassemia</th>\n",
       "      <th>Result</th>\n",
       "    </tr>\n",
       "  </thead>\n",
       "  <tbody>\n",
       "    <tr>\n",
       "      <th>count</th>\n",
       "      <td>300.000000</td>\n",
       "      <td>300.000000</td>\n",
       "      <td>300.000000</td>\n",
       "      <td>300.000000</td>\n",
       "      <td>293.000000</td>\n",
       "      <td>300.00000</td>\n",
       "    </tr>\n",
       "    <tr>\n",
       "      <th>mean</th>\n",
       "      <td>54.490000</td>\n",
       "      <td>131.686667</td>\n",
       "      <td>247.070000</td>\n",
       "      <td>149.563333</td>\n",
       "      <td>4.781570</td>\n",
       "      <td>0.46000</td>\n",
       "    </tr>\n",
       "    <tr>\n",
       "      <th>std</th>\n",
       "      <td>9.032267</td>\n",
       "      <td>17.682498</td>\n",
       "      <td>51.835136</td>\n",
       "      <td>22.818595</td>\n",
       "      <td>1.944452</td>\n",
       "      <td>0.49923</td>\n",
       "    </tr>\n",
       "    <tr>\n",
       "      <th>min</th>\n",
       "      <td>29.000000</td>\n",
       "      <td>94.000000</td>\n",
       "      <td>126.000000</td>\n",
       "      <td>71.000000</td>\n",
       "      <td>3.000000</td>\n",
       "      <td>0.00000</td>\n",
       "    </tr>\n",
       "    <tr>\n",
       "      <th>25%</th>\n",
       "      <td>48.000000</td>\n",
       "      <td>120.000000</td>\n",
       "      <td>211.000000</td>\n",
       "      <td>133.750000</td>\n",
       "      <td>3.000000</td>\n",
       "      <td>0.00000</td>\n",
       "    </tr>\n",
       "    <tr>\n",
       "      <th>50%</th>\n",
       "      <td>56.000000</td>\n",
       "      <td>130.000000</td>\n",
       "      <td>242.500000</td>\n",
       "      <td>152.500000</td>\n",
       "      <td>3.000000</td>\n",
       "      <td>0.00000</td>\n",
       "    </tr>\n",
       "    <tr>\n",
       "      <th>75%</th>\n",
       "      <td>61.000000</td>\n",
       "      <td>140.000000</td>\n",
       "      <td>275.250000</td>\n",
       "      <td>165.250000</td>\n",
       "      <td>7.000000</td>\n",
       "      <td>1.00000</td>\n",
       "    </tr>\n",
       "    <tr>\n",
       "      <th>max</th>\n",
       "      <td>77.000000</td>\n",
       "      <td>200.000000</td>\n",
       "      <td>564.000000</td>\n",
       "      <td>202.000000</td>\n",
       "      <td>7.000000</td>\n",
       "      <td>1.00000</td>\n",
       "    </tr>\n",
       "  </tbody>\n",
       "</table>\n",
       "</div>"
      ],
      "text/plain": [
       "              Age  Blood_pressure  Cholesterol   Heartbeat  Thalassemia  \\\n",
       "count  300.000000      300.000000   300.000000  300.000000   293.000000   \n",
       "mean    54.490000      131.686667   247.070000  149.563333     4.781570   \n",
       "std      9.032267       17.682498    51.835136   22.818595     1.944452   \n",
       "min     29.000000       94.000000   126.000000   71.000000     3.000000   \n",
       "25%     48.000000      120.000000   211.000000  133.750000     3.000000   \n",
       "50%     56.000000      130.000000   242.500000  152.500000     3.000000   \n",
       "75%     61.000000      140.000000   275.250000  165.250000     7.000000   \n",
       "max     77.000000      200.000000   564.000000  202.000000     7.000000   \n",
       "\n",
       "          Result  \n",
       "count  300.00000  \n",
       "mean     0.46000  \n",
       "std      0.49923  \n",
       "min      0.00000  \n",
       "25%      0.00000  \n",
       "50%      0.00000  \n",
       "75%      1.00000  \n",
       "max      1.00000  "
      ]
     },
     "execution_count": 4,
     "metadata": {},
     "output_type": "execute_result"
    }
   ],
   "source": [
    "#khám phá tập dữ liệu \n",
    "#1. Quan sát Các thuộc tính số\n",
    "df_patient.describe()"
   ]
  },
  {
   "cell_type": "code",
   "execution_count": 5,
   "metadata": {},
   "outputs": [
    {
     "data": {
      "text/html": [
       "<div>\n",
       "<style scoped>\n",
       "    .dataframe tbody tr th:only-of-type {\n",
       "        vertical-align: middle;\n",
       "    }\n",
       "\n",
       "    .dataframe tbody tr th {\n",
       "        vertical-align: top;\n",
       "    }\n",
       "\n",
       "    .dataframe thead th {\n",
       "        text-align: right;\n",
       "    }\n",
       "</style>\n",
       "<table border=\"1\" class=\"dataframe\">\n",
       "  <thead>\n",
       "    <tr style=\"text-align: right;\">\n",
       "      <th></th>\n",
       "      <th>Gender</th>\n",
       "      <th>Type</th>\n",
       "    </tr>\n",
       "  </thead>\n",
       "  <tbody>\n",
       "    <tr>\n",
       "      <th>count</th>\n",
       "      <td>300</td>\n",
       "      <td>295</td>\n",
       "    </tr>\n",
       "    <tr>\n",
       "      <th>unique</th>\n",
       "      <td>2</td>\n",
       "      <td>4</td>\n",
       "    </tr>\n",
       "    <tr>\n",
       "      <th>top</th>\n",
       "      <td>Male</td>\n",
       "      <td>Asymptomatic</td>\n",
       "    </tr>\n",
       "    <tr>\n",
       "      <th>freq</th>\n",
       "      <td>205</td>\n",
       "      <td>139</td>\n",
       "    </tr>\n",
       "  </tbody>\n",
       "</table>\n",
       "</div>"
      ],
      "text/plain": [
       "       Gender          Type\n",
       "count     300           295\n",
       "unique      2             4\n",
       "top      Male  Asymptomatic\n",
       "freq      205           139"
      ]
     },
     "execution_count": 5,
     "metadata": {},
     "output_type": "execute_result"
    }
   ],
   "source": [
    "#1. Quan sát Các thuộc tính số\n",
    "df_patient.describe(include='O')"
   ]
  },
  {
   "cell_type": "code",
   "execution_count": 6,
   "metadata": {},
   "outputs": [
    {
     "name": "stdout",
     "output_type": "stream",
     "text": [
      "0    162\n",
      "1    138\n",
      "Name: Result, dtype: int64\n"
     ]
    },
    {
     "data": {
      "image/png": "[encoded data removed]",
      "text/plain": [
       "<Figure size 432x288 with 1 Axes>"
      ]
     },
     "metadata": {
      "needs_background": "light"
     },
     "output_type": "display_data"
    }
   ],
   "source": [
    "#Thống kê số lượng bệnh nhân đau ngực bị bệnh đau tim\n",
    "kq = df_patient['Result'].value_counts()\n",
    "print(kq)\n",
    "#----------------------------------------------\n",
    "#trực quan hóa kết quả\n",
    "import matplotlib.pyplot as plt\n",
    "plt.bar(['0 - Không bị đau tim','1-Bị đau tim'],kq.values)\n",
    "plt.title('Thống kê số lượng mắc bệnh đau tim trong tập dữ liệu')\n",
    "plt.show()"
   ]
  },
  {
   "cell_type": "code",
   "execution_count": 7,
   "metadata": {},
   "outputs": [
    {
     "name": "stdout",
     "output_type": "stream",
     "text": [
      "Male      205\n",
      "Female     95\n",
      "Name: Gender, dtype: int64\n"
     ]
    },
    {
     "data": {
      "image/png": "[encoded data removed]",
      "text/plain": [
       "<Figure size 432x288 with 1 Axes>"
      ]
     },
     "metadata": {
      "needs_background": "light"
     },
     "output_type": "display_data"
    }
   ],
   "source": [
    "#Thống kê dữ liệu theo giới tính\n",
    "kq_gender = df_patient['Gender'].value_counts()\n",
    "print(kq_gender)\n",
    "#----------------------------------------------\n",
    "#trực quan hóa kết quả\n",
    "import matplotlib.pyplot as plt\n",
    "plt.bar(kq_gender.index,kq_gender.values)\n",
    "plt.title('Thống kê số lượng theo giới tính')\n",
    "plt.show()"
   ]
  },
  {
   "cell_type": "markdown",
   "metadata": {},
   "source": [
    "### 2.2) Phát hiện và xử lý dữ liệu thiếu trong Dataset\n",
    "---\n",
    "Nếu dữ liệu có chứa các giá trị thiếu (null - missing) nó sẽ gây ra vấn đề lớn cho các model học máy. Do đó, quá trình chuẩn bị dữ liệu phải tìm ra các giá trị thiếu trong tập dữ liệu và xử lý chúng. \n"
   ]
  },
  {
   "cell_type": "code",
   "execution_count": 8,
   "metadata": {},
   "outputs": [
    {
     "data": {
      "text/plain": [
       "Age               0\n",
       "Gender            0\n",
       "Type              5\n",
       "Blood_pressure    0\n",
       "Cholesterol       0\n",
       "Heartbeat         0\n",
       "Thalassemia       7\n",
       "Result            0\n",
       "dtype: int64"
      ]
     },
     "execution_count": 8,
     "metadata": {},
     "output_type": "execute_result"
    }
   ],
   "source": [
    "#Kiểm tra dữ liệu thiếu trong Dataset\n",
    "df_patient.isnull().sum()"
   ]
  },
  {
   "cell_type": "code",
   "execution_count": 9,
   "metadata": {},
   "outputs": [
    {
     "data": {
      "text/html": [
       "<div>\n",
       "<style scoped>\n",
       "    .dataframe tbody tr th:only-of-type {\n",
       "        vertical-align: middle;\n",
       "    }\n",
       "\n",
       "    .dataframe tbody tr th {\n",
       "        vertical-align: top;\n",
       "    }\n",
       "\n",
       "    .dataframe thead th {\n",
       "        text-align: right;\n",
       "    }\n",
       "</style>\n",
       "<table border=\"1\" class=\"dataframe\">\n",
       "  <thead>\n",
       "    <tr style=\"text-align: right;\">\n",
       "      <th></th>\n",
       "      <th>Age</th>\n",
       "      <th>Gender</th>\n",
       "      <th>Type</th>\n",
       "      <th>Blood_pressure</th>\n",
       "      <th>Cholesterol</th>\n",
       "      <th>Heartbeat</th>\n",
       "      <th>Thalassemia</th>\n",
       "      <th>Result</th>\n",
       "    </tr>\n",
       "    <tr>\n",
       "      <th>id</th>\n",
       "      <th></th>\n",
       "      <th></th>\n",
       "      <th></th>\n",
       "      <th></th>\n",
       "      <th></th>\n",
       "      <th></th>\n",
       "      <th></th>\n",
       "      <th></th>\n",
       "    </tr>\n",
       "  </thead>\n",
       "  <tbody>\n",
       "    <tr>\n",
       "      <th>Patient_206</th>\n",
       "      <td>58</td>\n",
       "      <td>Male</td>\n",
       "      <td>NaN</td>\n",
       "      <td>128</td>\n",
       "      <td>259</td>\n",
       "      <td>130</td>\n",
       "      <td>7.0</td>\n",
       "      <td>1</td>\n",
       "    </tr>\n",
       "    <tr>\n",
       "      <th>Patient_219</th>\n",
       "      <td>59</td>\n",
       "      <td>Male</td>\n",
       "      <td>NaN</td>\n",
       "      <td>138</td>\n",
       "      <td>271</td>\n",
       "      <td>182</td>\n",
       "      <td>3.0</td>\n",
       "      <td>0</td>\n",
       "    </tr>\n",
       "    <tr>\n",
       "      <th>Patient_251</th>\n",
       "      <td>58</td>\n",
       "      <td>Male</td>\n",
       "      <td>NaN</td>\n",
       "      <td>146</td>\n",
       "      <td>218</td>\n",
       "      <td>105</td>\n",
       "      <td>7.0</td>\n",
       "      <td>1</td>\n",
       "    </tr>\n",
       "    <tr>\n",
       "      <th>Patient_271</th>\n",
       "      <td>66</td>\n",
       "      <td>Male</td>\n",
       "      <td>NaN</td>\n",
       "      <td>160</td>\n",
       "      <td>228</td>\n",
       "      <td>138</td>\n",
       "      <td>6.0</td>\n",
       "      <td>0</td>\n",
       "    </tr>\n",
       "    <tr>\n",
       "      <th>Patient_293</th>\n",
       "      <td>63</td>\n",
       "      <td>Male</td>\n",
       "      <td>NaN</td>\n",
       "      <td>140</td>\n",
       "      <td>187</td>\n",
       "      <td>144</td>\n",
       "      <td>7.0</td>\n",
       "      <td>1</td>\n",
       "    </tr>\n",
       "  </tbody>\n",
       "</table>\n",
       "</div>"
      ],
      "text/plain": [
       "             Age Gender Type  Blood_pressure  Cholesterol  Heartbeat  \\\n",
       "id                                                                     \n",
       "Patient_206   58   Male  NaN             128          259        130   \n",
       "Patient_219   59   Male  NaN             138          271        182   \n",
       "Patient_251   58   Male  NaN             146          218        105   \n",
       "Patient_271   66   Male  NaN             160          228        138   \n",
       "Patient_293   63   Male  NaN             140          187        144   \n",
       "\n",
       "             Thalassemia  Result  \n",
       "id                                \n",
       "Patient_206          7.0       1  \n",
       "Patient_219          3.0       0  \n",
       "Patient_251          7.0       1  \n",
       "Patient_271          6.0       0  \n",
       "Patient_293          7.0       1  "
      ]
     },
     "execution_count": 9,
     "metadata": {},
     "output_type": "execute_result"
    }
   ],
   "source": [
    "#Các dòng dữ liệu chứa missing của thuộc tính Type\n",
    "df_patient.loc[df_patient[['Type']].isnull().any(axis=1)]"
   ]
  },
  {
   "cell_type": "code",
   "execution_count": 10,
   "metadata": {},
   "outputs": [
    {
     "data": {
      "text/html": [
       "<div>\n",
       "<style scoped>\n",
       "    .dataframe tbody tr th:only-of-type {\n",
       "        vertical-align: middle;\n",
       "    }\n",
       "\n",
       "    .dataframe tbody tr th {\n",
       "        vertical-align: top;\n",
       "    }\n",
       "\n",
       "    .dataframe thead th {\n",
       "        text-align: right;\n",
       "    }\n",
       "</style>\n",
       "<table border=\"1\" class=\"dataframe\">\n",
       "  <thead>\n",
       "    <tr style=\"text-align: right;\">\n",
       "      <th></th>\n",
       "      <th>Age</th>\n",
       "      <th>Gender</th>\n",
       "      <th>Type</th>\n",
       "      <th>Blood_pressure</th>\n",
       "      <th>Cholesterol</th>\n",
       "      <th>Heartbeat</th>\n",
       "      <th>Thalassemia</th>\n",
       "      <th>Result</th>\n",
       "    </tr>\n",
       "    <tr>\n",
       "      <th>id</th>\n",
       "      <th></th>\n",
       "      <th></th>\n",
       "      <th></th>\n",
       "      <th></th>\n",
       "      <th></th>\n",
       "      <th></th>\n",
       "      <th></th>\n",
       "      <th></th>\n",
       "    </tr>\n",
       "  </thead>\n",
       "  <tbody>\n",
       "    <tr>\n",
       "      <th>Patient_05</th>\n",
       "      <td>41</td>\n",
       "      <td>Female</td>\n",
       "      <td>Atypical angina</td>\n",
       "      <td>130</td>\n",
       "      <td>204</td>\n",
       "      <td>172</td>\n",
       "      <td>NaN</td>\n",
       "      <td>0</td>\n",
       "    </tr>\n",
       "    <tr>\n",
       "      <th>Patient_21</th>\n",
       "      <td>64</td>\n",
       "      <td>Male</td>\n",
       "      <td>Typical angina</td>\n",
       "      <td>110</td>\n",
       "      <td>211</td>\n",
       "      <td>144</td>\n",
       "      <td>NaN</td>\n",
       "      <td>0</td>\n",
       "    </tr>\n",
       "    <tr>\n",
       "      <th>Patient_36</th>\n",
       "      <td>42</td>\n",
       "      <td>Male</td>\n",
       "      <td>Asymptomatic</td>\n",
       "      <td>140</td>\n",
       "      <td>226</td>\n",
       "      <td>178</td>\n",
       "      <td>NaN</td>\n",
       "      <td>0</td>\n",
       "    </tr>\n",
       "    <tr>\n",
       "      <th>Patient_241</th>\n",
       "      <td>41</td>\n",
       "      <td>Female</td>\n",
       "      <td>Atypical angina</td>\n",
       "      <td>126</td>\n",
       "      <td>306</td>\n",
       "      <td>163</td>\n",
       "      <td>NaN</td>\n",
       "      <td>0</td>\n",
       "    </tr>\n",
       "    <tr>\n",
       "      <th>Patient_266</th>\n",
       "      <td>52</td>\n",
       "      <td>Male</td>\n",
       "      <td>Asymptomatic</td>\n",
       "      <td>128</td>\n",
       "      <td>204</td>\n",
       "      <td>156</td>\n",
       "      <td>NaN</td>\n",
       "      <td>1</td>\n",
       "    </tr>\n",
       "    <tr>\n",
       "      <th>Patient_278</th>\n",
       "      <td>57</td>\n",
       "      <td>Male</td>\n",
       "      <td>Atypical angina</td>\n",
       "      <td>154</td>\n",
       "      <td>232</td>\n",
       "      <td>164</td>\n",
       "      <td>NaN</td>\n",
       "      <td>1</td>\n",
       "    </tr>\n",
       "    <tr>\n",
       "      <th>Patient_294</th>\n",
       "      <td>63</td>\n",
       "      <td>Female</td>\n",
       "      <td>Asymptomatic</td>\n",
       "      <td>124</td>\n",
       "      <td>197</td>\n",
       "      <td>136</td>\n",
       "      <td>NaN</td>\n",
       "      <td>1</td>\n",
       "    </tr>\n",
       "  </tbody>\n",
       "</table>\n",
       "</div>"
      ],
      "text/plain": [
       "             Age  Gender             Type  Blood_pressure  Cholesterol  \\\n",
       "id                                                                       \n",
       "Patient_05    41  Female  Atypical angina             130          204   \n",
       "Patient_21    64    Male   Typical angina             110          211   \n",
       "Patient_36    42    Male     Asymptomatic             140          226   \n",
       "Patient_241   41  Female  Atypical angina             126          306   \n",
       "Patient_266   52    Male     Asymptomatic             128          204   \n",
       "Patient_278   57    Male  Atypical angina             154          232   \n",
       "Patient_294   63  Female     Asymptomatic             124          197   \n",
       "\n",
       "             Heartbeat  Thalassemia  Result  \n",
       "id                                           \n",
       "Patient_05         172          NaN       0  \n",
       "Patient_21         144          NaN       0  \n",
       "Patient_36         178          NaN       0  \n",
       "Patient_241        163          NaN       0  \n",
       "Patient_266        156          NaN       1  \n",
       "Patient_278        164          NaN       1  \n",
       "Patient_294        136          NaN       1  "
      ]
     },
     "execution_count": 10,
     "metadata": {},
     "output_type": "execute_result"
    }
   ],
   "source": [
    "#Các dòng dữ liệu chứa missing của thuộc tính Type\n",
    "df_patient.loc[df_patient[['Thalassemia']].isnull().any(axis=1)]"
   ]
  },
  {
   "cell_type": "markdown",
   "metadata": {},
   "source": [
    "**Có 2 thuộc tính chứa giá trị null trong Dataset**\n",
    "\n",
    "1) Thuộc tính Type: có 5 giá trị missing\n",
    "\n",
    "2) Thuộc tính Thalassemia: Chứa 7 giá trị missing\n",
    "\n",
    "---\n",
    "Có rất nhiều phương pháp xử lý missing, tùy thuộc vào từng loại dữ liệu cụ thể để lựa chọn phương án xử ly phù hợp. Hình dưới đây chỉ ra các phương pháp chính có thể lựa chọn trong việc xử lý giá trị missing.\n",
    "<img src ='pic/handlingmissing.png' width='400px'>\n",
    "\n",
    "Với bài 2 thuộc tính này sử dụng phương pháp thay thế giá trị thiếu bằng giá trị xuất hiện nhiều nhất (mode) của thuộc tính đó."
   ]
  },
  {
   "cell_type": "code",
   "execution_count": 11,
   "metadata": {},
   "outputs": [
    {
     "data": {
      "text/plain": [
       "Asymptomatic        139\n",
       "Non-anginal pain     84\n",
       "Atypical angina      49\n",
       "Typical angina       23\n",
       "Name: Type, dtype: int64"
      ]
     },
     "execution_count": 11,
     "metadata": {},
     "output_type": "execute_result"
    }
   ],
   "source": [
    "#Thống kê giá trị khác nhau của thuộc tính Type\n",
    "# để xác định thuộc tính xuất hiện nhiều nhất trong tập dữ liệu\n",
    "df_patient['Type'].value_counts()"
   ]
  },
  {
   "cell_type": "code",
   "execution_count": 12,
   "metadata": {},
   "outputs": [
    {
     "data": {
      "text/plain": [
       "3.0    158\n",
       "7.0    117\n",
       "6.0     18\n",
       "Name: Thalassemia, dtype: int64"
      ]
     },
     "execution_count": 12,
     "metadata": {},
     "output_type": "execute_result"
    }
   ],
   "source": [
    "#Thống kê giá trị khác nhau của thuộc tính Thalassemia\n",
    "#Để xác định thuộc tính xuất hiện nhiều nhất trong tập dữ liệu\n",
    "df_patient['Thalassemia'].value_counts()"
   ]
  },
  {
   "cell_type": "markdown",
   "metadata": {},
   "source": [
    "**Với Thuộc tính Type:**\n",
    "Giá trị Asymptomatic xuất hiện nhiều nhất trong tập dữ liệu với 139 lần. Thay thế 5 giá trị thiếu của thuộc tính Type bằng giá trị 'Asymptomatic'.\n",
    "\n",
    "---\n",
    "**Với Thuộc tính Thalassemia:**\n",
    "Giá trị 3 xuất hiện nhiều nhất trong tập dữ liệu với 158 lần. Thay thế 7 vị trí giá trị thiếu của thuộc tính Thalassemia bằng giá trị 3.\n"
   ]
  },
  {
   "cell_type": "code",
   "execution_count": 13,
   "metadata": {},
   "outputs": [
    {
     "name": "stdout",
     "output_type": "stream",
     "text": [
      "<class 'pandas.core.frame.DataFrame'>\n",
      "Index: 300 entries, Patient_01 to Patient_300\n",
      "Data columns (total 8 columns):\n",
      " #   Column          Non-Null Count  Dtype  \n",
      "---  ------          --------------  -----  \n",
      " 0   Age             300 non-null    int64  \n",
      " 1   Gender          300 non-null    object \n",
      " 2   Type            300 non-null    object \n",
      " 3   Blood_pressure  300 non-null    int64  \n",
      " 4   Cholesterol     300 non-null    int64  \n",
      " 5   Heartbeat       300 non-null    int64  \n",
      " 6   Thalassemia     300 non-null    float64\n",
      " 7   Result          300 non-null    int64  \n",
      "dtypes: float64(1), int64(5), object(2)\n",
      "memory usage: 31.1+ KB\n"
     ]
    }
   ],
   "source": [
    "#Thực hiện thay thế giá trị thiếu bằng giá trị xuất hiện nhiều nhất (mode)\n",
    "df_patient['Type'].fillna('Asymptomatic', inplace=True)\n",
    "df_patient['Thalassemia'].fillna(3.0, inplace=True)\n",
    "df_patient.info()"
   ]
  },
  {
   "cell_type": "markdown",
   "metadata": {},
   "source": [
    "**Như vậy, sau khi xử lý giá trị thiếu với thuộc tính Type và Thalassemia, tập dữ liệu đã đầy đủ không bị missing giá trị nào.**"
   ]
  },
  {
   "cell_type": "markdown",
   "metadata": {},
   "source": [
    "### 2.3) Mã hóa dữ liệu liệu Categorical (Encoding Categorical Data)\n",
    "---\n",
    "\n",
    "Các loại dữ liệu trong Dataset:\n",
    "    - Numerical data: Giá nhà, nhiệt độ, thông số chiều cao, cân nặng, tuổi...(dữ liệu số)\n",
    "    - Categorical data: tên người, địa chỉ, Yes/No, True/Flase, Male/Female....(dữ liệu chuỗi, boolean)\n",
    " \n",
    " Các mô hình học máy hoàn toàn làm việc trên các phép toán và xử lý dữ liệu số, nên nếu dữ liệu có chứa thuộc tính có kiểu Categorical sẽ phát sinh các vấn đề. Vì vậy, cần phải mã hóa các dữ liệu này thành dữ liệu số.\n",
    " \n",
    "<img src='pic/encoding.png' width='400px'>"
   ]
  },
  {
   "cell_type": "code",
   "execution_count": 14,
   "metadata": {},
   "outputs": [
    {
     "name": "stdout",
     "output_type": "stream",
     "text": [
      "<class 'pandas.core.frame.DataFrame'>\n",
      "Index: 300 entries, Patient_01 to Patient_300\n",
      "Data columns (total 8 columns):\n",
      " #   Column          Non-Null Count  Dtype  \n",
      "---  ------          --------------  -----  \n",
      " 0   Age             300 non-null    int64  \n",
      " 1   Gender          300 non-null    object \n",
      " 2   Type            300 non-null    object \n",
      " 3   Blood_pressure  300 non-null    int64  \n",
      " 4   Cholesterol     300 non-null    int64  \n",
      " 5   Heartbeat       300 non-null    int64  \n",
      " 6   Thalassemia     300 non-null    float64\n",
      " 7   Result          300 non-null    int64  \n",
      "dtypes: float64(1), int64(5), object(2)\n",
      "memory usage: 31.1+ KB\n"
     ]
    }
   ],
   "source": [
    "df_patient.info()"
   ]
  },
  {
   "cell_type": "code",
   "execution_count": 15,
   "metadata": {},
   "outputs": [
    {
     "data": {
      "text/html": [
       "<div>\n",
       "<style scoped>\n",
       "    .dataframe tbody tr th:only-of-type {\n",
       "        vertical-align: middle;\n",
       "    }\n",
       "\n",
       "    .dataframe tbody tr th {\n",
       "        vertical-align: top;\n",
       "    }\n",
       "\n",
       "    .dataframe thead th {\n",
       "        text-align: right;\n",
       "    }\n",
       "</style>\n",
       "<table border=\"1\" class=\"dataframe\">\n",
       "  <thead>\n",
       "    <tr style=\"text-align: right;\">\n",
       "      <th></th>\n",
       "      <th>Age</th>\n",
       "      <th>Gender</th>\n",
       "      <th>Type</th>\n",
       "      <th>Blood_pressure</th>\n",
       "      <th>Cholesterol</th>\n",
       "      <th>Heartbeat</th>\n",
       "      <th>Thalassemia</th>\n",
       "      <th>Result</th>\n",
       "    </tr>\n",
       "    <tr>\n",
       "      <th>id</th>\n",
       "      <th></th>\n",
       "      <th></th>\n",
       "      <th></th>\n",
       "      <th></th>\n",
       "      <th></th>\n",
       "      <th></th>\n",
       "      <th></th>\n",
       "      <th></th>\n",
       "    </tr>\n",
       "  </thead>\n",
       "  <tbody>\n",
       "    <tr>\n",
       "      <th>Patient_01</th>\n",
       "      <td>63</td>\n",
       "      <td>Male</td>\n",
       "      <td>Typical angina</td>\n",
       "      <td>145</td>\n",
       "      <td>233</td>\n",
       "      <td>150</td>\n",
       "      <td>6.0</td>\n",
       "      <td>0</td>\n",
       "    </tr>\n",
       "    <tr>\n",
       "      <th>Patient_02</th>\n",
       "      <td>67</td>\n",
       "      <td>Male</td>\n",
       "      <td>Asymptomatic</td>\n",
       "      <td>160</td>\n",
       "      <td>286</td>\n",
       "      <td>108</td>\n",
       "      <td>3.0</td>\n",
       "      <td>1</td>\n",
       "    </tr>\n",
       "    <tr>\n",
       "      <th>Patient_03</th>\n",
       "      <td>67</td>\n",
       "      <td>Male</td>\n",
       "      <td>Asymptomatic</td>\n",
       "      <td>120</td>\n",
       "      <td>229</td>\n",
       "      <td>129</td>\n",
       "      <td>7.0</td>\n",
       "      <td>1</td>\n",
       "    </tr>\n",
       "    <tr>\n",
       "      <th>Patient_04</th>\n",
       "      <td>37</td>\n",
       "      <td>Male</td>\n",
       "      <td>Non-anginal pain</td>\n",
       "      <td>130</td>\n",
       "      <td>250</td>\n",
       "      <td>187</td>\n",
       "      <td>3.0</td>\n",
       "      <td>0</td>\n",
       "    </tr>\n",
       "    <tr>\n",
       "      <th>Patient_05</th>\n",
       "      <td>41</td>\n",
       "      <td>Female</td>\n",
       "      <td>Atypical angina</td>\n",
       "      <td>130</td>\n",
       "      <td>204</td>\n",
       "      <td>172</td>\n",
       "      <td>3.0</td>\n",
       "      <td>0</td>\n",
       "    </tr>\n",
       "  </tbody>\n",
       "</table>\n",
       "</div>"
      ],
      "text/plain": [
       "            Age  Gender              Type  Blood_pressure  Cholesterol  \\\n",
       "id                                                                       \n",
       "Patient_01   63    Male    Typical angina             145          233   \n",
       "Patient_02   67    Male      Asymptomatic             160          286   \n",
       "Patient_03   67    Male      Asymptomatic             120          229   \n",
       "Patient_04   37    Male  Non-anginal pain             130          250   \n",
       "Patient_05   41  Female   Atypical angina             130          204   \n",
       "\n",
       "            Heartbeat  Thalassemia  Result  \n",
       "id                                          \n",
       "Patient_01        150          6.0       0  \n",
       "Patient_02        108          3.0       1  \n",
       "Patient_03        129          7.0       1  \n",
       "Patient_04        187          3.0       0  \n",
       "Patient_05        172          3.0       0  "
      ]
     },
     "execution_count": 15,
     "metadata": {},
     "output_type": "execute_result"
    }
   ],
   "source": [
    "df_patient.head()"
   ]
  },
  {
   "cell_type": "code",
   "execution_count": 16,
   "metadata": {},
   "outputs": [
    {
     "name": "stdout",
     "output_type": "stream",
     "text": [
      "1. Thuộc tính Gender: ['Male' 'Female']\n",
      "2. Thuộc tính Type: ['Typical angina' 'Asymptomatic' 'Non-anginal pain' 'Atypical angina']\n"
     ]
    }
   ],
   "source": [
    "#Liệt kê các giá trị của thuộc tính Gender |Type\n",
    "print('1. Thuộc tính Gender:', df_patient['Gender'].unique())\n",
    "print('2. Thuộc tính Type:', df_patient['Type'].unique())"
   ]
  },
  {
   "cell_type": "code",
   "execution_count": 17,
   "metadata": {},
   "outputs": [
    {
     "name": "stdout",
     "output_type": "stream",
     "text": [
      "<class 'pandas.core.frame.DataFrame'>\n",
      "Index: 300 entries, Patient_01 to Patient_300\n",
      "Data columns (total 8 columns):\n",
      " #   Column          Non-Null Count  Dtype  \n",
      "---  ------          --------------  -----  \n",
      " 0   Age             300 non-null    int64  \n",
      " 1   Gender          300 non-null    int32  \n",
      " 2   Type            300 non-null    int32  \n",
      " 3   Blood_pressure  300 non-null    int64  \n",
      " 4   Cholesterol     300 non-null    int64  \n",
      " 5   Heartbeat       300 non-null    int64  \n",
      " 6   Thalassemia     300 non-null    float64\n",
      " 7   Result          300 non-null    int64  \n",
      "dtypes: float64(1), int32(2), int64(5)\n",
      "memory usage: 28.8+ KB\n"
     ]
    }
   ],
   "source": [
    "#Trong tập dữ liệu có 2 thuộc tính: Gender và Type có kiểu dữ liệu Categorical\n",
    "#Thực hiện chuyển đổi cho 2 thuộc tính này\n",
    "convert_gender = {'Male':0,'Female':1}\n",
    "convert_type = {'Typical angina': 1,\n",
    "                'Asymptomatic':2,\n",
    "                'Non-anginal pain':3,\n",
    "                'Atypical angina':4}\n",
    "df_patient['Gender']=df_patient['Gender'].map(convert_gender).astype(int)\n",
    "df_patient['Type']=df_patient['Type'].map(convert_type).astype(int)\n",
    "df_patient.info()"
   ]
  },
  {
   "cell_type": "code",
   "execution_count": 62,
   "metadata": {},
   "outputs": [
    {
     "data": {
      "text/html": [
       "<div>\n",
       "<style scoped>\n",
       "    .dataframe tbody tr th:only-of-type {\n",
       "        vertical-align: middle;\n",
       "    }\n",
       "\n",
       "    .dataframe tbody tr th {\n",
       "        vertical-align: top;\n",
       "    }\n",
       "\n",
       "    .dataframe thead th {\n",
       "        text-align: right;\n",
       "    }\n",
       "</style>\n",
       "<table border=\"1\" class=\"dataframe\">\n",
       "  <thead>\n",
       "    <tr style=\"text-align: right;\">\n",
       "      <th></th>\n",
       "      <th>Age</th>\n",
       "      <th>Gender</th>\n",
       "      <th>Type</th>\n",
       "      <th>Blood_pressure</th>\n",
       "      <th>Cholesterol</th>\n",
       "      <th>Heartbeat</th>\n",
       "      <th>Thalassemia</th>\n",
       "      <th>Result</th>\n",
       "    </tr>\n",
       "    <tr>\n",
       "      <th>id</th>\n",
       "      <th></th>\n",
       "      <th></th>\n",
       "      <th></th>\n",
       "      <th></th>\n",
       "      <th></th>\n",
       "      <th></th>\n",
       "      <th></th>\n",
       "      <th></th>\n",
       "    </tr>\n",
       "  </thead>\n",
       "  <tbody>\n",
       "    <tr>\n",
       "      <th>Patient_01</th>\n",
       "      <td>63</td>\n",
       "      <td>0</td>\n",
       "      <td>1</td>\n",
       "      <td>145</td>\n",
       "      <td>233</td>\n",
       "      <td>150</td>\n",
       "      <td>6.0</td>\n",
       "      <td>0</td>\n",
       "    </tr>\n",
       "    <tr>\n",
       "      <th>Patient_02</th>\n",
       "      <td>67</td>\n",
       "      <td>0</td>\n",
       "      <td>2</td>\n",
       "      <td>160</td>\n",
       "      <td>286</td>\n",
       "      <td>108</td>\n",
       "      <td>3.0</td>\n",
       "      <td>1</td>\n",
       "    </tr>\n",
       "    <tr>\n",
       "      <th>Patient_03</th>\n",
       "      <td>67</td>\n",
       "      <td>0</td>\n",
       "      <td>2</td>\n",
       "      <td>120</td>\n",
       "      <td>229</td>\n",
       "      <td>129</td>\n",
       "      <td>7.0</td>\n",
       "      <td>1</td>\n",
       "    </tr>\n",
       "    <tr>\n",
       "      <th>Patient_04</th>\n",
       "      <td>37</td>\n",
       "      <td>0</td>\n",
       "      <td>3</td>\n",
       "      <td>130</td>\n",
       "      <td>250</td>\n",
       "      <td>187</td>\n",
       "      <td>3.0</td>\n",
       "      <td>0</td>\n",
       "    </tr>\n",
       "    <tr>\n",
       "      <th>Patient_05</th>\n",
       "      <td>41</td>\n",
       "      <td>1</td>\n",
       "      <td>4</td>\n",
       "      <td>130</td>\n",
       "      <td>204</td>\n",
       "      <td>172</td>\n",
       "      <td>3.0</td>\n",
       "      <td>0</td>\n",
       "    </tr>\n",
       "  </tbody>\n",
       "</table>\n",
       "</div>"
      ],
      "text/plain": [
       "            Age  Gender  Type  Blood_pressure  Cholesterol  Heartbeat  \\\n",
       "id                                                                      \n",
       "Patient_01   63       0     1             145          233        150   \n",
       "Patient_02   67       0     2             160          286        108   \n",
       "Patient_03   67       0     2             120          229        129   \n",
       "Patient_04   37       0     3             130          250        187   \n",
       "Patient_05   41       1     4             130          204        172   \n",
       "\n",
       "            Thalassemia  Result  \n",
       "id                               \n",
       "Patient_01          6.0       0  \n",
       "Patient_02          3.0       1  \n",
       "Patient_03          7.0       1  \n",
       "Patient_04          3.0       0  \n",
       "Patient_05          3.0       0  "
      ]
     },
     "execution_count": 62,
     "metadata": {},
     "output_type": "execute_result"
    }
   ],
   "source": [
    "df_patient.head()"
   ]
  },
  {
   "cell_type": "markdown",
   "metadata": {},
   "source": [
    "**Sau khi xử lý các thuộc tính của tập dữ liệu chỉ còn lại dữ liệu số**"
   ]
  },
  {
   "cell_type": "markdown",
   "metadata": {},
   "source": [
    "### 2.4) Trích xuát các biến phụ thuộc và biến độ lập (Extracting dependent and independent variables)\n",
    "---\n",
    "Trong học máy, vấn đề quan trọng là phải phân biệt được ma trận các đặc trưng (biến độc lập) và biến phụ thuộc từ tập dữ liệu.\n",
    "    - Biến độc lập ---> các đặc trưng (feature)\n",
    "    - Biến phụ thuộc ---> Target, Outcome, groundtruth\n",
    "Với ví dụ này, để xác định xem một người có bị đau tim hay không sẽ dựa vào các thông số tuổi, giới tính, loại triệu chứng đau ngực, huyết áp, cholesterol, Nhịp tim, Thalassemia. Như vậy: biến độc lập bao gồm (Age, Gender, Type, Blood_pressua, Cholesterol, Heartbeat, Thalassemia) - Thường ký hiệu là X, biến phụ thuộc là Result - thường ký hiệu là y, kết quả một người có bị bệnh đau tim hay không (0-không bị | 1-bị bệnh) phụ thuộc vào các thông số tuổi, giới tính..."
   ]
  },
  {
   "cell_type": "code",
   "execution_count": 65,
   "metadata": {},
   "outputs": [
    {
     "data": {
      "text/plain": [
       "array([[ 63.,   0.,   1., 145., 233., 150.,   6.],\n",
       "       [ 67.,   0.,   2., 160., 286., 108.,   3.],\n",
       "       [ 67.,   0.,   2., 120., 229., 129.,   7.],\n",
       "       [ 37.,   0.,   3., 130., 250., 187.,   3.],\n",
       "       [ 41.,   1.,   4., 130., 204., 172.,   3.],\n",
       "       [ 56.,   0.,   4., 120., 236., 178.,   3.],\n",
       "       [ 62.,   1.,   2., 140., 268., 160.,   3.],\n",
       "       [ 57.,   1.,   2., 120., 354., 163.,   3.],\n",
       "       [ 63.,   0.,   2., 130., 254., 147.,   7.],\n",
       "       [ 53.,   0.,   2., 140., 203., 155.,   7.]])"
      ]
     },
     "execution_count": 65,
     "metadata": {},
     "output_type": "execute_result"
    }
   ],
   "source": [
    "#Xác định đặc trưng input\n",
    "X = df_patient.iloc[:,0:7].values\n",
    "X[:10]"
   ]
  },
  {
   "cell_type": "code",
   "execution_count": 66,
   "metadata": {},
   "outputs": [
    {
     "data": {
      "text/plain": [
       "array([0, 1, 1, 0, 0, 0, 1, 0, 1, 1], dtype=int64)"
      ]
     },
     "execution_count": 66,
     "metadata": {},
     "output_type": "execute_result"
    }
   ],
   "source": [
    "y=df_patient.iloc[:,-1].values\n",
    "y[:10]"
   ]
  },
  {
   "cell_type": "markdown",
   "metadata": {},
   "source": [
    "### 2.5) Tách tập dữ liệu Train - Test\n",
    "---\n",
    "Để chuẩn bị dữ liệu cho Model học máy, chúng ta sẽ thực hiện việc chia Dataset thành 2 tập:\n",
    "- **Tập huấn luyện (Training Set)** bao gồm các điểm dữ liệu sử dụng trực tiếp trong việc xây dựng mô hình.\n",
    "- **Tập kiểm tra (Test set)** gồm các dữ liệu được dùng để đánh giá hiệu quả của mô hình. Tập kiểm tra đại diện cho dữ liệu mà mô hình chưa từng thấy, có thể xuất hiện trong quá trình vận hành mô hình trên thực tế.\n",
    "\n",
    "Đây là bước quan trọng và cần thiết trong quá trình chuẩn bị dữ liệu để chúng ta có thể nâng cao hiệu suất mô hình học máy của mình. Thực hiện huấn luyện mô hình với Tập huấn luyện sau đó, sử dụng mô hình huấn luyện được chạy với tập kiểm tra để đánh giá độ chính xác của mô hình học máy.\n",
    "\n",
    "<img src='pic/splitdata1.png'>\n",
    "Thông thường tỷ lệ tách 80% cho tập Training và 20% cho tập Test. Để đảm bảo tính phổ quát, dữ liệu kiểm tra không được sử dụng trong quá trình xây dựng mô hình. Điều kiện cần để một mô hình hiệu quả: Kết quả đánh giá trên tập huấn luyện và tập kiểm tra đều cao."
   ]
  },
  {
   "cell_type": "code",
   "execution_count": 72,
   "metadata": {},
   "outputs": [
    {
     "name": "stdout",
     "output_type": "stream",
     "text": [
      "1.Kích thước tập Training: (240, 7)\n",
      "2.Kích thước tập Test: (60, 7)\n"
     ]
    }
   ],
   "source": [
    "from sklearn.model_selection import train_test_split\n",
    "X_train, X_test, y_train, y_test = train_test_split(X,y, test_size=0.2, random_state=0)\n",
    "print('1.Kích thước tập Training:', X_train.shape)\n",
    "print('2.Kích thước tập Test:', X_test.shape)"
   ]
  },
  {
   "cell_type": "markdown",
   "metadata": {},
   "source": [
    "## Bước 3: Lựa chọn mô hình học máy (Choosing a Model)\n",
    "---\n",
    "Có rất nhiều mô hình học máy khác nhau, mỗi mô hình phù hợp với từng bài toán, từng tập dữ liệu cụ thể,trong đó có 3 loại cơ bản: Phân lớp, hồi quy, phân cụm\n",
    "<img src='pic/MLtype.png' width='700px' >\n",
    "\n",
    "có hàng trăm thuật toán khác nhau, một số thuật toán cơ bản cần nắm được bao gồm:\n",
    "<img src='pic/ML.png' width='400px'>"
   ]
  },
  {
   "cell_type": "markdown",
   "metadata": {},
   "source": [
    "**Bài toán dự đoán bệnh ung thư:**\n",
    "- *Bài toán này thuộc loại Học có giám sát (suppervised learning) - Vì dữ liệu của bài toán đã được gán nhãn (Thuộc tính Result: với 2 nhãn).*\n",
    "- *Trong nhóm học máy có giám sát, bài toán thuộc bài toán phân lớp (Classification) - cụ thể là phân lớp nhị phân (2 lớp: 0|No - 1|Yes)*\n",
    "\n",
    "Sử dụng thuật toán KNN cho bài toán này."
   ]
  },
  {
   "cell_type": "code",
   "execution_count": 107,
   "metadata": {},
   "outputs": [],
   "source": [
    "#Khai báo sử dụng thuật toán KNN\n",
    "from sklearn.neighbors import KNeighborsClassifier\n",
    "from sklearn.metrics import accuracy_score\n",
    "\n",
    "#Khai báo model KNN\n",
    "KNN = KNeighborsClassifier()"
   ]
  },
  {
   "cell_type": "markdown",
   "metadata": {},
   "source": [
    "## Bước 4: Huấn luyện mô hình (Training)\n",
    "---\n",
    "\n",
    "<img src='pic/LearnML.png' width='400px'>\n",
    "\n",
    "- Các mô hình học máy sẽ học từ dữ liệu, và để cho máy học được chúng ta sẽ sử dụng tập huấn luyện (Training set) để cho máy học.\n",
    "\n",
    "- Việc huấn luyện một mô hình học máy bản chất là tìm gia các tham số tối ưu cho thuật toán đó, sao cho độ chính xác của thuật toán là cao nhất.\n",
    "\n",
    "<img src='pic/TrainingML.png' width='400px'>"
   ]
  },
  {
   "cell_type": "code",
   "execution_count": 108,
   "metadata": {},
   "outputs": [
    {
     "name": "stdout",
     "output_type": "stream",
     "text": [
      "KNeighborsClassifier()\n",
      "Độ chính xác trên tập huấn luyện: 75.42\n"
     ]
    }
   ],
   "source": [
    "# Trong bước 3: chúng đã chuẩn bị được dữ liệu cho tập Train + Test\n",
    "#Sử dụng tập Train cho huấn luyện: Feature = X_train | Outcome = y_train\n",
    "#Phương thức fit() sử dụng để huấn luyện model\n",
    "KNN.fit(X_train,y_train)\n",
    "print(KNN)\n",
    "\n",
    "#Độ chính xác của Model trên tập Huấn luyện\n",
    "acc_train = KNN.score(X_train,y_train)\n",
    "print('Độ chính xác trên tập huấn luyện:', round(acc_train*100,2))"
   ]
  },
  {
   "cell_type": "markdown",
   "metadata": {},
   "source": [
    "### Bước 5: Đánh giá mô hình (Evaluation)\n",
    "---\n",
    "* Mô hình sau khi được huấn luyện với dữ liệu huấn luyện, cần phải được kiểm tra để đánh giá độ chính xác của mô hình. \n",
    "\n",
    "* Trong giai đoạn này sẽ sử dụng tập dữ liệu Test (Tập dữ liệu độc lập và Model chưa biết tới các dữ liệu này) để dự đoán với model thu được.\n",
    "\n",
    "<img src='pic/evaluation.png' width='400px'>"
   ]
  },
  {
   "cell_type": "code",
   "execution_count": 109,
   "metadata": {},
   "outputs": [
    {
     "name": "stdout",
     "output_type": "stream",
     "text": [
      "Độ chính xác của mô hình Decision tree trên tập Test: 58.33\n"
     ]
    }
   ],
   "source": [
    "#Sử dụng tập dữ liệu test để chạy model dự đoán \n",
    "y_pred = KNN.predict(X_test)\n",
    "\n",
    "#Kiểm tra độ chính xác của model trên tập dữ liệu test\n",
    "from sklearn.metrics import accuracy_score\n",
    "print(\"Độ chính xác của mô hình Decision tree trên tập Test:\", \n",
    "      round(accuracy_score(y_test,y_pred)*100,2))"
   ]
  },
  {
   "cell_type": "code",
   "execution_count": 37,
   "metadata": {},
   "outputs": [
    {
     "name": "stdout",
     "output_type": "stream",
     "text": [
      "y_test: [1 1 1 0 0 1 1 1 1 1]\n",
      "---------------------------------------\n",
      "y_pred: [0 1 1 0 0 1 1 1 0 0]\n"
     ]
    }
   ],
   "source": [
    "print('y_test:',y_test[:10])\n",
    "print('---------------------------------------')\n",
    "print('y_pred:',y_pred[:10])"
   ]
  },
  {
   "cell_type": "markdown",
   "metadata": {},
   "source": [
    "Khi xây dựng mỗi mô hình học máy, chúng ta cần phải chú ý hai vấn đề: Overfitting (quá khớp) và Underfitting (chưa khớp). Đây chính là nguyên nhân chủ yếu khiến mô hình có độ chính xác thấp.\n",
    "<img src='pic/Overfitting.png' width='400px'>\n",
    "\n",
    "* **Overfitting** là hiện tượng mô hình tìm được quá khớp với dữ liệu training. Việc quá khớp này có thể dẫn đến việc dự đoán nhầm nhiễu, và chất lượng mô hình không còn tốt trên dữ liệu test nữa. Dữ liệu test được giả sử là không được biết trước, và không được sử dụng để xây dựng các mô hình Machine Learning.\n",
    "\n",
    "* **Underfitting** (chưa khớp) là hiện tượng khi mô hình xây dựng chưa có độ chính xác cao trong tập dữ liệu huấn luyện cũng như tổng quát hóa với tổng thể dữ liệu. Khi hiện tượng Underfitting xảy ra, mô hình đó sẽ không phải là tốt với bất kì bộ dữ liệu nào trong vấn đề đang nhắc tới. Hiện tượng Underfitting thường ít xảy ra trong bài toán hơn. Khi Underfitting xảy ra, ta có thể khắc phục bằng cách thay đổi thuật toán hoặc là bổ sung thêm dữ liệu đầu vào.\n",
    "\n",
    "* **Good Fitting - Best fit** (vừa khớp) là nằm giữa Underfitting và Overfitting. Mô hình cho ra kết quả hợp lý với cả tập dữ liệu huấn luyện và các tập dữ liệu mới. Đây là mô hình lý tưởng mang được tính tổng quát và khớp được với nhiều dữ liệu mẫu và cả các dữ liệu mới. Good Fitting là mục tiêu của mỗi bài toán. Tuy nhiên, trên thực tế, vấn đề này rất khó thực hiện. Để tìm được điểm Good Fitting, ta phải theo dõi hiệu suất của thuật toán học máy theo thời gian khi thuật toán thực hiện việc học trên bộ dữ liệu huấn luyện. Ta có thể mô tả và thể hiện các thông số mô hình, độ chính xác của mô hình trên cả hai tập dữ liệu huấn luyện và đào tạo."
   ]
  },
  {
   "cell_type": "markdown",
   "metadata": {},
   "source": [
    "**Với bài toán này gặp trường hợp Overfitting, khi độ chính xác trên tập huấn luyện cao (Error nhỏ) thì độ chính xác trên tập test giảm (Error tăng)**\n",
    "\n",
    "- Train: Accuracy = 74.17% (Error = 25.83%)\n",
    "- Test:  Accuracy = 60.00% (Error = 40.00%)\n",
    "\n",
    "--------------------------------------------\n",
    "- Train = 77.08% (Error = 22.08%)\n",
    "- Test  = 56.67% (Error = 44.33%)"
   ]
  },
  {
   "cell_type": "markdown",
   "metadata": {},
   "source": [
    "## Bước 6: Tùy chỉnh tham số của mô hình (Parameter tuning)\n",
    "---\n",
    "Bản chất của việc học là tìm ra tham số phù hợp với model sao cho độ chính xác đạt đến ngưỡng chấp nhận được. Khi \n",
    "\n",
    "<img src='pic/TuningParameter.png' width='400px'>"
   ]
  },
  {
   "cell_type": "code",
   "execution_count": null,
   "metadata": {},
   "outputs": [],
   "source": [
    "#Ví dụ với thuật toán KNN có các tham số:\n",
    "# KNeighborsClassifier(n_neighbors=5, \n",
    "#                    weights='uniform', \n",
    "#                    algorithm='auto', \n",
    "#                    leaf_size=30, \n",
    "#                    p=2, \n",
    "#                    metric='minkowski', \n",
    "#                    metric_params=None, \n",
    "#                    n_jobs=None)\n",
    "#Việc Tuning tham số là việc xác định tham số nào là tốt nhất cho model với dữ liệu hiện tại sao cho\n",
    "#sao cho độ chính xác của model trên cả tập huẩn luyện và tập kiểm tra đề cao (best fit)"
   ]
  },
  {
   "cell_type": "code",
   "execution_count": 77,
   "metadata": {},
   "outputs": [
    {
     "name": "stdout",
     "output_type": "stream",
     "text": [
      "KNeighborsClassifier(algorithm='ball_tree', n_neighbors=15, p=3)\n",
      "Độ chính xác trên tập huấn luyện: 70.42\n",
      "Độ chính xác của mô hình Decision tree trên tập Test: 60.0\n"
     ]
    }
   ],
   "source": [
    "KNN = KNeighborsClassifier(n_neighbors=15,\n",
    "                          #weights = 'distance',\n",
    "                          algorithm='ball_tree',\n",
    "                          p=3)\n",
    "KNN.fit(X_train,y_train)\n",
    "print(KNN)\n",
    "\n",
    "#Độ chính xác của Model trên tập Huấn luyện\n",
    "acc_train = KNN.score(X_train,y_train)\n",
    "print('Độ chính xác trên tập huấn luyện:', round(acc_train*100,2))\n",
    "\n",
    "#Sử dụng tập dữ liệu test để chạy model dự đoán \n",
    "y_pred = KNN.predict(X_test)\n",
    "\n",
    "#Kiểm tra độ chính xác của model trên tập dữ liệu test\n",
    "from sklearn.metrics import accuracy_score\n",
    "print(\"Độ chính xác của mô hình Decision tree trên tập Test:\", \n",
    "      round(accuracy_score(y_test,y_pred)*100,2))\n"
   ]
  },
  {
   "cell_type": "code",
   "execution_count": 105,
   "metadata": {},
   "outputs": [
    {
     "name": "stdout",
     "output_type": "stream",
     "text": [
      "Đã lưu thành công!\n"
     ]
    }
   ],
   "source": [
    "#Lưu model đã xây dựng \n",
    "import pickle\n",
    "filename = 'model/ML_heartattack.sav'\n",
    "pickle.dump(KNN, open(filename, 'wb'))\n",
    "print('Đã lưu thành công!')"
   ]
  },
  {
   "cell_type": "markdown",
   "metadata": {},
   "source": [
    "## Bước 7: Dự đoán với mô hình xây dựng được (Prediction)\n",
    "---\n",
    "Sau khi đã huấn luyện được model và kiểm thử trên tập dữ liệu test đạt độ chính xác chấp nhận được. Sử dụng model để dự đoán kết quả?"
   ]
  },
  {
   "cell_type": "markdown",
   "metadata": {},
   "source": [
    "### Trường hợp 1:\n",
    "---\n",
    "<img src='pic/patient.jpg' width='400px'>\n",
    "Giả sử một bệnh nhân số 1 bị chứng đau ngực có các thuộc tính liên quan như sau:\n",
    "\n",
    "   - Tuổi (Age)               : 69\n",
    "   - Giới tính (Gender)       : Male - 0\n",
    "   - Loại đau ngực (Type)     : Atypical angina - 4\n",
    "   - Huyết áp (Blood_pressure): 170\n",
    "   - Cholesterol              : 300\n",
    "   - Nhịp tim (Heartbeat)     : 150\n",
    "   - Thalassemia              : 6\n",
    " \n",
    " *({'Male':0,'Female':1} | {'Typical angina': 1,'Asymptomatic':2,'Non-anginal pain':3,          'Atypical angina':4})*\n",
    " \n",
    "**Mô hình dự đoán xem bệnh nhân này có khả năng bị đau tim hay không?**"
   ]
  },
  {
   "cell_type": "code",
   "execution_count": null,
   "metadata": {},
   "outputs": [],
   "source": [
    "#load model đã lưu\n",
    "import pickle\n",
    "filemodel = 'model/ML_heartattack.sav'\n",
    "KNN = pickle.load(open(filemodel, 'rb'))"
   ]
  },
  {
   "cell_type": "code",
   "execution_count": 97,
   "metadata": {},
   "outputs": [
    {
     "data": {
      "text/plain": [
       "array([[ 69,   0,   4, 170, 300, 150,   6]])"
      ]
     },
     "execution_count": 97,
     "metadata": {},
     "output_type": "execute_result"
    }
   ],
   "source": [
    "import numpy as np\n",
    "patient_new1 =np.array([(69, 0, 4, 170, 300, 150, 6)])\n",
    "#Thông tin của bệnh nhân mới --> Số\n",
    "patient_new1"
   ]
  },
  {
   "cell_type": "code",
   "execution_count": 106,
   "metadata": {},
   "outputs": [
    {
     "name": "stdout",
     "output_type": "stream",
     "text": [
      "ML says: Thôi xong rồi, Bạn có khả năng bị bệnh đau tim!\n"
     ]
    }
   ],
   "source": [
    "#sử dụng model đã xây dựng để dự đoán với bệnh nhân số 1\n",
    "patient_predict1 = KNN.predict(patient_new1)\n",
    "if (patient_predict1==0):\n",
    "    print('ML says: Thật tuyệt vời, Bạn không bị bệnh đau tim!^.^')\n",
    "else:\n",
    "    print('ML says: Thôi xong rồi, Bạn có khả năng bị bệnh đau tim!')"
   ]
  },
  {
   "cell_type": "markdown",
   "metadata": {},
   "source": [
    "### Trường hợp 2:\n",
    "---\n",
    "<img src='pic/patient21.jpg' width='400px'>\n",
    "Giả sử một bệnh nhân số 2 bị chứng đau ngực có các thuộc tính liên quan như sau:\n",
    "\n",
    "   - Tuổi (Age)               : 40\n",
    "   - Giới tính (Gender)       : Female - 1\n",
    "   - Loại đau ngực (Type)     : Atypical pain - 4\n",
    "   - Huyết áp (Blood_pressure): 110\n",
    "   - Cholesterol              : 190\n",
    "   - Nhịp tim (Heartbeat)     : 165\n",
    "   - Thalassemia              : 3\n",
    " \n",
    " *({'Male':0,'Female':1} | {'Typical angina': 1,'Asymptomatic':2,'Non-anginal pain':3,          'Atypical angina':4})*\n",
    " \n",
    "**Mô hình dự đoán xem bệnh nhân này có bị đau tim hay không?**"
   ]
  },
  {
   "cell_type": "code",
   "execution_count": 94,
   "metadata": {},
   "outputs": [
    {
     "data": {
      "text/plain": [
       "array([[ 40,   1,   4, 110, 190, 165,   3]])"
      ]
     },
     "execution_count": 94,
     "metadata": {},
     "output_type": "execute_result"
    }
   ],
   "source": [
    "patient_new2 =np.array([(40, 1, 4, 110, 190, 165, 3)])\n",
    "#Thông tin của bệnh nhân mới 2 --> Số\n",
    "patient_new2"
   ]
  },
  {
   "cell_type": "code",
   "execution_count": 101,
   "metadata": {},
   "outputs": [
    {
     "name": "stdout",
     "output_type": "stream",
     "text": [
      "ML says: Thật tuyệt vời, Bạn không bị bệnh đau tim! ^.^\n"
     ]
    }
   ],
   "source": [
    "#sử dụng model đã xây dựng để dự đoán\n",
    "patient_predict2 = KNN.predict(patient_new2)\n",
    "if (patient_predict2==0):\n",
    "    print('ML says: Thật tuyệt vời, Bạn không bị bệnh đau tim! ^.^')\n",
    "else:\n",
    "    print('ML says: Thôi xong rồi, Bạn có khả năng bị bệnh đau tim!')"
   ]
  },
  {
   "cell_type": "markdown",
   "metadata": {},
   "source": [
    "<img src='pic/7step.jpg' width='400px'>\n",
    "<a herf='https://www.youtube.com/watch?v=nKW8Ndu7Mjw&ab_channel=GoogleCloudPlatform'>Link Video!</a> \n",
    "\n",
    "\n",
    "copyright@dangvannam@2020"
   ]
  }
 ],
 "metadata": {
  "kernelspec": {
   "display_name": "Python 3",
   "language": "python",
   "name": "python3"
  },
  "language_info": {
   "codemirror_mode": {
    "name": "ipython",
    "version": 3
   },
   "file_extension": ".py",
   "mimetype": "text/x-python",
   "name": "python",
   "nbconvert_exporter": "python",
   "pygments_lexer": "ipython3",
   "version": "3.8.5"
  }
 },
 "nbformat": 4,
 "nbformat_minor": 2
}
