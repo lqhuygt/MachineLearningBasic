{
 "cells": [
  {
   "cell_type": "markdown",
   "metadata": {},
   "source": [
    "## Bước 1: Thu thập dữ liệu"
   ]
  },
  {
   "cell_type": "code",
   "execution_count": 2,
   "metadata": {},
   "outputs": [],
   "source": [
    "import pandas as pd\n",
    "import numpy as np\n",
    "import matplotlib.pyplot as plt"
   ]
  },
  {
   "cell_type": "code",
   "execution_count": 40,
   "metadata": {},
   "outputs": [
    {
     "name": "stdout",
     "output_type": "stream",
     "text": [
      "<class 'pandas.core.frame.DataFrame'>\n",
      "Index: 300 entries, Patient_01 to Patient_300\n",
      "Data columns (total 8 columns):\n",
      " #   Column          Non-Null Count  Dtype  \n",
      "---  ------          --------------  -----  \n",
      " 0   Age             300 non-null    int64  \n",
      " 1   Gender          300 non-null    object \n",
      " 2   Type            295 non-null    object \n",
      " 3   Blood_pressure  300 non-null    int64  \n",
      " 4   Cholesterol     300 non-null    int64  \n",
      " 5   Heartbeat       300 non-null    int64  \n",
      " 6   Thalassemia     293 non-null    float64\n",
      " 7   Result          300 non-null    int64  \n",
      "dtypes: float64(1), int64(5), object(2)\n",
      "memory usage: 21.1+ KB\n"
     ]
    }
   ],
   "source": [
    "df_patient = pd.read_csv('./Demo_ML_FullStep/data/Data_Patient.csv', index_col = 0)\n",
    "df_patient.info()"
   ]
  },
  {
   "cell_type": "code",
   "execution_count": 41,
   "metadata": {},
   "outputs": [
    {
     "data": {
      "text/html": [
       "<div>\n",
       "<style scoped>\n",
       "    .dataframe tbody tr th:only-of-type {\n",
       "        vertical-align: middle;\n",
       "    }\n",
       "\n",
       "    .dataframe tbody tr th {\n",
       "        vertical-align: top;\n",
       "    }\n",
       "\n",
       "    .dataframe thead th {\n",
       "        text-align: right;\n",
       "    }\n",
       "</style>\n",
       "<table border=\"1\" class=\"dataframe\">\n",
       "  <thead>\n",
       "    <tr style=\"text-align: right;\">\n",
       "      <th></th>\n",
       "      <th>Age</th>\n",
       "      <th>Gender</th>\n",
       "      <th>Type</th>\n",
       "      <th>Blood_pressure</th>\n",
       "      <th>Cholesterol</th>\n",
       "      <th>Heartbeat</th>\n",
       "      <th>Thalassemia</th>\n",
       "      <th>Result</th>\n",
       "    </tr>\n",
       "    <tr>\n",
       "      <th>id</th>\n",
       "      <th></th>\n",
       "      <th></th>\n",
       "      <th></th>\n",
       "      <th></th>\n",
       "      <th></th>\n",
       "      <th></th>\n",
       "      <th></th>\n",
       "      <th></th>\n",
       "    </tr>\n",
       "  </thead>\n",
       "  <tbody>\n",
       "    <tr>\n",
       "      <th>Patient_01</th>\n",
       "      <td>63</td>\n",
       "      <td>Male</td>\n",
       "      <td>Typical angina</td>\n",
       "      <td>145</td>\n",
       "      <td>233</td>\n",
       "      <td>150</td>\n",
       "      <td>6.0</td>\n",
       "      <td>0</td>\n",
       "    </tr>\n",
       "    <tr>\n",
       "      <th>Patient_02</th>\n",
       "      <td>67</td>\n",
       "      <td>Male</td>\n",
       "      <td>Asymptomatic</td>\n",
       "      <td>160</td>\n",
       "      <td>286</td>\n",
       "      <td>108</td>\n",
       "      <td>3.0</td>\n",
       "      <td>1</td>\n",
       "    </tr>\n",
       "    <tr>\n",
       "      <th>Patient_03</th>\n",
       "      <td>67</td>\n",
       "      <td>Male</td>\n",
       "      <td>Asymptomatic</td>\n",
       "      <td>120</td>\n",
       "      <td>229</td>\n",
       "      <td>129</td>\n",
       "      <td>7.0</td>\n",
       "      <td>1</td>\n",
       "    </tr>\n",
       "    <tr>\n",
       "      <th>Patient_04</th>\n",
       "      <td>37</td>\n",
       "      <td>Male</td>\n",
       "      <td>Non-anginal pain</td>\n",
       "      <td>130</td>\n",
       "      <td>250</td>\n",
       "      <td>187</td>\n",
       "      <td>3.0</td>\n",
       "      <td>0</td>\n",
       "    </tr>\n",
       "    <tr>\n",
       "      <th>Patient_05</th>\n",
       "      <td>41</td>\n",
       "      <td>Female</td>\n",
       "      <td>Atypical angina</td>\n",
       "      <td>130</td>\n",
       "      <td>204</td>\n",
       "      <td>172</td>\n",
       "      <td>NaN</td>\n",
       "      <td>0</td>\n",
       "    </tr>\n",
       "  </tbody>\n",
       "</table>\n",
       "</div>"
      ],
      "text/plain": [
       "            Age  Gender              Type  Blood_pressure  Cholesterol  \\\n",
       "id                                                                       \n",
       "Patient_01   63    Male    Typical angina             145          233   \n",
       "Patient_02   67    Male      Asymptomatic             160          286   \n",
       "Patient_03   67    Male      Asymptomatic             120          229   \n",
       "Patient_04   37    Male  Non-anginal pain             130          250   \n",
       "Patient_05   41  Female   Atypical angina             130          204   \n",
       "\n",
       "            Heartbeat  Thalassemia  Result  \n",
       "id                                          \n",
       "Patient_01        150          6.0       0  \n",
       "Patient_02        108          3.0       1  \n",
       "Patient_03        129          7.0       1  \n",
       "Patient_04        187          3.0       0  \n",
       "Patient_05        172          NaN       0  "
      ]
     },
     "execution_count": 41,
     "metadata": {},
     "output_type": "execute_result"
    }
   ],
   "source": [
    "df_patient.head()"
   ]
  },
  {
   "cell_type": "markdown",
   "metadata": {},
   "source": [
    "## Bước 2: Xử lý dữ liệu"
   ]
  },
  {
   "cell_type": "code",
   "execution_count": 42,
   "metadata": {},
   "outputs": [
    {
     "data": {
      "text/html": [
       "<div>\n",
       "<style scoped>\n",
       "    .dataframe tbody tr th:only-of-type {\n",
       "        vertical-align: middle;\n",
       "    }\n",
       "\n",
       "    .dataframe tbody tr th {\n",
       "        vertical-align: top;\n",
       "    }\n",
       "\n",
       "    .dataframe thead th {\n",
       "        text-align: right;\n",
       "    }\n",
       "</style>\n",
       "<table border=\"1\" class=\"dataframe\">\n",
       "  <thead>\n",
       "    <tr style=\"text-align: right;\">\n",
       "      <th></th>\n",
       "      <th>Age</th>\n",
       "      <th>Blood_pressure</th>\n",
       "      <th>Cholesterol</th>\n",
       "      <th>Heartbeat</th>\n",
       "      <th>Thalassemia</th>\n",
       "      <th>Result</th>\n",
       "    </tr>\n",
       "  </thead>\n",
       "  <tbody>\n",
       "    <tr>\n",
       "      <th>count</th>\n",
       "      <td>300.000000</td>\n",
       "      <td>300.000000</td>\n",
       "      <td>300.000000</td>\n",
       "      <td>300.000000</td>\n",
       "      <td>293.000000</td>\n",
       "      <td>300.00000</td>\n",
       "    </tr>\n",
       "    <tr>\n",
       "      <th>mean</th>\n",
       "      <td>54.490000</td>\n",
       "      <td>131.686667</td>\n",
       "      <td>247.070000</td>\n",
       "      <td>149.563333</td>\n",
       "      <td>4.781570</td>\n",
       "      <td>0.46000</td>\n",
       "    </tr>\n",
       "    <tr>\n",
       "      <th>std</th>\n",
       "      <td>9.032267</td>\n",
       "      <td>17.682498</td>\n",
       "      <td>51.835136</td>\n",
       "      <td>22.818595</td>\n",
       "      <td>1.944452</td>\n",
       "      <td>0.49923</td>\n",
       "    </tr>\n",
       "    <tr>\n",
       "      <th>min</th>\n",
       "      <td>29.000000</td>\n",
       "      <td>94.000000</td>\n",
       "      <td>126.000000</td>\n",
       "      <td>71.000000</td>\n",
       "      <td>3.000000</td>\n",
       "      <td>0.00000</td>\n",
       "    </tr>\n",
       "    <tr>\n",
       "      <th>25%</th>\n",
       "      <td>48.000000</td>\n",
       "      <td>120.000000</td>\n",
       "      <td>211.000000</td>\n",
       "      <td>133.750000</td>\n",
       "      <td>3.000000</td>\n",
       "      <td>0.00000</td>\n",
       "    </tr>\n",
       "    <tr>\n",
       "      <th>50%</th>\n",
       "      <td>56.000000</td>\n",
       "      <td>130.000000</td>\n",
       "      <td>242.500000</td>\n",
       "      <td>152.500000</td>\n",
       "      <td>3.000000</td>\n",
       "      <td>0.00000</td>\n",
       "    </tr>\n",
       "    <tr>\n",
       "      <th>75%</th>\n",
       "      <td>61.000000</td>\n",
       "      <td>140.000000</td>\n",
       "      <td>275.250000</td>\n",
       "      <td>165.250000</td>\n",
       "      <td>7.000000</td>\n",
       "      <td>1.00000</td>\n",
       "    </tr>\n",
       "    <tr>\n",
       "      <th>max</th>\n",
       "      <td>77.000000</td>\n",
       "      <td>200.000000</td>\n",
       "      <td>564.000000</td>\n",
       "      <td>202.000000</td>\n",
       "      <td>7.000000</td>\n",
       "      <td>1.00000</td>\n",
       "    </tr>\n",
       "  </tbody>\n",
       "</table>\n",
       "</div>"
      ],
      "text/plain": [
       "              Age  Blood_pressure  Cholesterol   Heartbeat  Thalassemia  \\\n",
       "count  300.000000      300.000000   300.000000  300.000000   293.000000   \n",
       "mean    54.490000      131.686667   247.070000  149.563333     4.781570   \n",
       "std      9.032267       17.682498    51.835136   22.818595     1.944452   \n",
       "min     29.000000       94.000000   126.000000   71.000000     3.000000   \n",
       "25%     48.000000      120.000000   211.000000  133.750000     3.000000   \n",
       "50%     56.000000      130.000000   242.500000  152.500000     3.000000   \n",
       "75%     61.000000      140.000000   275.250000  165.250000     7.000000   \n",
       "max     77.000000      200.000000   564.000000  202.000000     7.000000   \n",
       "\n",
       "          Result  \n",
       "count  300.00000  \n",
       "mean     0.46000  \n",
       "std      0.49923  \n",
       "min      0.00000  \n",
       "25%      0.00000  \n",
       "50%      0.00000  \n",
       "75%      1.00000  \n",
       "max      1.00000  "
      ]
     },
     "execution_count": 42,
     "metadata": {},
     "output_type": "execute_result"
    }
   ],
   "source": [
    "df_patient.describe()"
   ]
  },
  {
   "cell_type": "code",
   "execution_count": 43,
   "metadata": {},
   "outputs": [
    {
     "data": {
      "text/html": [
       "<div>\n",
       "<style scoped>\n",
       "    .dataframe tbody tr th:only-of-type {\n",
       "        vertical-align: middle;\n",
       "    }\n",
       "\n",
       "    .dataframe tbody tr th {\n",
       "        vertical-align: top;\n",
       "    }\n",
       "\n",
       "    .dataframe thead th {\n",
       "        text-align: right;\n",
       "    }\n",
       "</style>\n",
       "<table border=\"1\" class=\"dataframe\">\n",
       "  <thead>\n",
       "    <tr style=\"text-align: right;\">\n",
       "      <th></th>\n",
       "      <th>Gender</th>\n",
       "      <th>Type</th>\n",
       "    </tr>\n",
       "  </thead>\n",
       "  <tbody>\n",
       "    <tr>\n",
       "      <th>count</th>\n",
       "      <td>300</td>\n",
       "      <td>295</td>\n",
       "    </tr>\n",
       "    <tr>\n",
       "      <th>unique</th>\n",
       "      <td>2</td>\n",
       "      <td>4</td>\n",
       "    </tr>\n",
       "    <tr>\n",
       "      <th>top</th>\n",
       "      <td>Male</td>\n",
       "      <td>Asymptomatic</td>\n",
       "    </tr>\n",
       "    <tr>\n",
       "      <th>freq</th>\n",
       "      <td>205</td>\n",
       "      <td>139</td>\n",
       "    </tr>\n",
       "  </tbody>\n",
       "</table>\n",
       "</div>"
      ],
      "text/plain": [
       "       Gender          Type\n",
       "count     300           295\n",
       "unique      2             4\n",
       "top      Male  Asymptomatic\n",
       "freq      205           139"
      ]
     },
     "execution_count": 43,
     "metadata": {},
     "output_type": "execute_result"
    }
   ],
   "source": [
    "df_patient.describe(include='O')"
   ]
  },
  {
   "cell_type": "code",
   "execution_count": 44,
   "metadata": {},
   "outputs": [
    {
     "name": "stdout",
     "output_type": "stream",
     "text": [
      "0    162\n",
      "1    138\n",
      "Name: Result, dtype: int64\n"
     ]
    },
    {
     "data": {
      "image/png": "[encoded data removed]",
      "text/plain": [
       "<Figure size 432x288 with 1 Axes>"
      ]
     },
     "metadata": {
      "needs_background": "light"
     },
     "output_type": "display_data"
    }
   ],
   "source": [
    "# Thống kê số lượng bệnh nhân bị đau ngực và không bị\n",
    "kq = df_patient['Result'].value_counts()\n",
    "print(kq)\n",
    "plt.bar(['0 - Không bị đau ngực', '1 - Bị đau ngực'],kq)\n",
    "plt.title('Thống kê số lượng bệnh nhân mắc bệnh đau tim')\n",
    "plt.show()"
   ]
  },
  {
   "cell_type": "code",
   "execution_count": 45,
   "metadata": {},
   "outputs": [
    {
     "data": {
      "text/plain": [
       "Age               0\n",
       "Gender            0\n",
       "Type              5\n",
       "Blood_pressure    0\n",
       "Cholesterol       0\n",
       "Heartbeat         0\n",
       "Thalassemia       7\n",
       "Result            0\n",
       "dtype: int64"
      ]
     },
     "execution_count": 45,
     "metadata": {},
     "output_type": "execute_result"
    }
   ],
   "source": [
    "df_patient.isnull().sum()"
   ]
  },
  {
   "cell_type": "code",
   "execution_count": 46,
   "metadata": {},
   "outputs": [
    {
     "data": {
      "text/html": [
       "<div>\n",
       "<style scoped>\n",
       "    .dataframe tbody tr th:only-of-type {\n",
       "        vertical-align: middle;\n",
       "    }\n",
       "\n",
       "    .dataframe tbody tr th {\n",
       "        vertical-align: top;\n",
       "    }\n",
       "\n",
       "    .dataframe thead th {\n",
       "        text-align: right;\n",
       "    }\n",
       "</style>\n",
       "<table border=\"1\" class=\"dataframe\">\n",
       "  <thead>\n",
       "    <tr style=\"text-align: right;\">\n",
       "      <th></th>\n",
       "      <th>Age</th>\n",
       "      <th>Gender</th>\n",
       "      <th>Type</th>\n",
       "      <th>Blood_pressure</th>\n",
       "      <th>Cholesterol</th>\n",
       "      <th>Heartbeat</th>\n",
       "      <th>Thalassemia</th>\n",
       "      <th>Result</th>\n",
       "    </tr>\n",
       "    <tr>\n",
       "      <th>id</th>\n",
       "      <th></th>\n",
       "      <th></th>\n",
       "      <th></th>\n",
       "      <th></th>\n",
       "      <th></th>\n",
       "      <th></th>\n",
       "      <th></th>\n",
       "      <th></th>\n",
       "    </tr>\n",
       "  </thead>\n",
       "  <tbody>\n",
       "    <tr>\n",
       "      <th>Patient_206</th>\n",
       "      <td>58</td>\n",
       "      <td>Male</td>\n",
       "      <td>NaN</td>\n",
       "      <td>128</td>\n",
       "      <td>259</td>\n",
       "      <td>130</td>\n",
       "      <td>7.0</td>\n",
       "      <td>1</td>\n",
       "    </tr>\n",
       "    <tr>\n",
       "      <th>Patient_219</th>\n",
       "      <td>59</td>\n",
       "      <td>Male</td>\n",
       "      <td>NaN</td>\n",
       "      <td>138</td>\n",
       "      <td>271</td>\n",
       "      <td>182</td>\n",
       "      <td>3.0</td>\n",
       "      <td>0</td>\n",
       "    </tr>\n",
       "    <tr>\n",
       "      <th>Patient_251</th>\n",
       "      <td>58</td>\n",
       "      <td>Male</td>\n",
       "      <td>NaN</td>\n",
       "      <td>146</td>\n",
       "      <td>218</td>\n",
       "      <td>105</td>\n",
       "      <td>7.0</td>\n",
       "      <td>1</td>\n",
       "    </tr>\n",
       "    <tr>\n",
       "      <th>Patient_271</th>\n",
       "      <td>66</td>\n",
       "      <td>Male</td>\n",
       "      <td>NaN</td>\n",
       "      <td>160</td>\n",
       "      <td>228</td>\n",
       "      <td>138</td>\n",
       "      <td>6.0</td>\n",
       "      <td>0</td>\n",
       "    </tr>\n",
       "    <tr>\n",
       "      <th>Patient_293</th>\n",
       "      <td>63</td>\n",
       "      <td>Male</td>\n",
       "      <td>NaN</td>\n",
       "      <td>140</td>\n",
       "      <td>187</td>\n",
       "      <td>144</td>\n",
       "      <td>7.0</td>\n",
       "      <td>1</td>\n",
       "    </tr>\n",
       "  </tbody>\n",
       "</table>\n",
       "</div>"
      ],
      "text/plain": [
       "             Age Gender Type  Blood_pressure  Cholesterol  Heartbeat  \\\n",
       "id                                                                     \n",
       "Patient_206   58   Male  NaN             128          259        130   \n",
       "Patient_219   59   Male  NaN             138          271        182   \n",
       "Patient_251   58   Male  NaN             146          218        105   \n",
       "Patient_271   66   Male  NaN             160          228        138   \n",
       "Patient_293   63   Male  NaN             140          187        144   \n",
       "\n",
       "             Thalassemia  Result  \n",
       "id                                \n",
       "Patient_206          7.0       1  \n",
       "Patient_219          3.0       0  \n",
       "Patient_251          7.0       1  \n",
       "Patient_271          6.0       0  \n",
       "Patient_293          7.0       1  "
      ]
     },
     "execution_count": 46,
     "metadata": {},
     "output_type": "execute_result"
    }
   ],
   "source": [
    "df_patient.loc[df_patient['Type'].isnull()]"
   ]
  },
  {
   "cell_type": "code",
   "execution_count": 47,
   "metadata": {},
   "outputs": [
    {
     "data": {
      "text/html": [
       "<div>\n",
       "<style scoped>\n",
       "    .dataframe tbody tr th:only-of-type {\n",
       "        vertical-align: middle;\n",
       "    }\n",
       "\n",
       "    .dataframe tbody tr th {\n",
       "        vertical-align: top;\n",
       "    }\n",
       "\n",
       "    .dataframe thead th {\n",
       "        text-align: right;\n",
       "    }\n",
       "</style>\n",
       "<table border=\"1\" class=\"dataframe\">\n",
       "  <thead>\n",
       "    <tr style=\"text-align: right;\">\n",
       "      <th></th>\n",
       "      <th>Age</th>\n",
       "      <th>Gender</th>\n",
       "      <th>Type</th>\n",
       "      <th>Blood_pressure</th>\n",
       "      <th>Cholesterol</th>\n",
       "      <th>Heartbeat</th>\n",
       "      <th>Thalassemia</th>\n",
       "      <th>Result</th>\n",
       "    </tr>\n",
       "    <tr>\n",
       "      <th>id</th>\n",
       "      <th></th>\n",
       "      <th></th>\n",
       "      <th></th>\n",
       "      <th></th>\n",
       "      <th></th>\n",
       "      <th></th>\n",
       "      <th></th>\n",
       "      <th></th>\n",
       "    </tr>\n",
       "  </thead>\n",
       "  <tbody>\n",
       "    <tr>\n",
       "      <th>Patient_05</th>\n",
       "      <td>41</td>\n",
       "      <td>Female</td>\n",
       "      <td>Atypical angina</td>\n",
       "      <td>130</td>\n",
       "      <td>204</td>\n",
       "      <td>172</td>\n",
       "      <td>NaN</td>\n",
       "      <td>0</td>\n",
       "    </tr>\n",
       "    <tr>\n",
       "      <th>Patient_21</th>\n",
       "      <td>64</td>\n",
       "      <td>Male</td>\n",
       "      <td>Typical angina</td>\n",
       "      <td>110</td>\n",
       "      <td>211</td>\n",
       "      <td>144</td>\n",
       "      <td>NaN</td>\n",
       "      <td>0</td>\n",
       "    </tr>\n",
       "    <tr>\n",
       "      <th>Patient_36</th>\n",
       "      <td>42</td>\n",
       "      <td>Male</td>\n",
       "      <td>Asymptomatic</td>\n",
       "      <td>140</td>\n",
       "      <td>226</td>\n",
       "      <td>178</td>\n",
       "      <td>NaN</td>\n",
       "      <td>0</td>\n",
       "    </tr>\n",
       "    <tr>\n",
       "      <th>Patient_241</th>\n",
       "      <td>41</td>\n",
       "      <td>Female</td>\n",
       "      <td>Atypical angina</td>\n",
       "      <td>126</td>\n",
       "      <td>306</td>\n",
       "      <td>163</td>\n",
       "      <td>NaN</td>\n",
       "      <td>0</td>\n",
       "    </tr>\n",
       "    <tr>\n",
       "      <th>Patient_266</th>\n",
       "      <td>52</td>\n",
       "      <td>Male</td>\n",
       "      <td>Asymptomatic</td>\n",
       "      <td>128</td>\n",
       "      <td>204</td>\n",
       "      <td>156</td>\n",
       "      <td>NaN</td>\n",
       "      <td>1</td>\n",
       "    </tr>\n",
       "    <tr>\n",
       "      <th>Patient_278</th>\n",
       "      <td>57</td>\n",
       "      <td>Male</td>\n",
       "      <td>Atypical angina</td>\n",
       "      <td>154</td>\n",
       "      <td>232</td>\n",
       "      <td>164</td>\n",
       "      <td>NaN</td>\n",
       "      <td>1</td>\n",
       "    </tr>\n",
       "    <tr>\n",
       "      <th>Patient_294</th>\n",
       "      <td>63</td>\n",
       "      <td>Female</td>\n",
       "      <td>Asymptomatic</td>\n",
       "      <td>124</td>\n",
       "      <td>197</td>\n",
       "      <td>136</td>\n",
       "      <td>NaN</td>\n",
       "      <td>1</td>\n",
       "    </tr>\n",
       "  </tbody>\n",
       "</table>\n",
       "</div>"
      ],
      "text/plain": [
       "             Age  Gender             Type  Blood_pressure  Cholesterol  \\\n",
       "id                                                                       \n",
       "Patient_05    41  Female  Atypical angina             130          204   \n",
       "Patient_21    64    Male   Typical angina             110          211   \n",
       "Patient_36    42    Male     Asymptomatic             140          226   \n",
       "Patient_241   41  Female  Atypical angina             126          306   \n",
       "Patient_266   52    Male     Asymptomatic             128          204   \n",
       "Patient_278   57    Male  Atypical angina             154          232   \n",
       "Patient_294   63  Female     Asymptomatic             124          197   \n",
       "\n",
       "             Heartbeat  Thalassemia  Result  \n",
       "id                                           \n",
       "Patient_05         172          NaN       0  \n",
       "Patient_21         144          NaN       0  \n",
       "Patient_36         178          NaN       0  \n",
       "Patient_241        163          NaN       0  \n",
       "Patient_266        156          NaN       1  \n",
       "Patient_278        164          NaN       1  \n",
       "Patient_294        136          NaN       1  "
      ]
     },
     "execution_count": 47,
     "metadata": {},
     "output_type": "execute_result"
    }
   ],
   "source": [
    "df_patient.loc[df_patient['Thalassemia'].isnull()]"
   ]
  },
  {
   "cell_type": "code",
   "execution_count": 48,
   "metadata": {},
   "outputs": [
    {
     "data": {
      "text/plain": [
       "Asymptomatic        139\n",
       "Non-anginal pain     84\n",
       "Atypical angina      49\n",
       "Typical angina       23\n",
       "Name: Type, dtype: int64"
      ]
     },
     "execution_count": 48,
     "metadata": {},
     "output_type": "execute_result"
    }
   ],
   "source": [
    "df_patient['Type'].value_counts()"
   ]
  },
  {
   "cell_type": "code",
   "execution_count": 49,
   "metadata": {},
   "outputs": [
    {
     "data": {
      "text/plain": [
       "3.0    158\n",
       "7.0    117\n",
       "6.0     18\n",
       "Name: Thalassemia, dtype: int64"
      ]
     },
     "execution_count": 49,
     "metadata": {},
     "output_type": "execute_result"
    }
   ],
   "source": [
    "df_patient['Thalassemia'].value_counts()"
   ]
  },
  {
   "cell_type": "code",
   "execution_count": 50,
   "metadata": {},
   "outputs": [
    {
     "name": "stdout",
     "output_type": "stream",
     "text": [
      "<class 'pandas.core.frame.DataFrame'>\n",
      "Index: 300 entries, Patient_01 to Patient_300\n",
      "Data columns (total 8 columns):\n",
      " #   Column          Non-Null Count  Dtype  \n",
      "---  ------          --------------  -----  \n",
      " 0   Age             300 non-null    int64  \n",
      " 1   Gender          300 non-null    object \n",
      " 2   Type            300 non-null    object \n",
      " 3   Blood_pressure  300 non-null    int64  \n",
      " 4   Cholesterol     300 non-null    int64  \n",
      " 5   Heartbeat       300 non-null    int64  \n",
      " 6   Thalassemia     300 non-null    float64\n",
      " 7   Result          300 non-null    int64  \n",
      "dtypes: float64(1), int64(5), object(2)\n",
      "memory usage: 21.1+ KB\n"
     ]
    }
   ],
   "source": [
    "df_patient['Type'].fillna('Asymptomatic',inplace=True)\n",
    "df_patient['Thalassemia'].fillna(3.0,inplace=True)\n",
    "df_patient.info()"
   ]
  },
  {
   "cell_type": "code",
   "execution_count": 51,
   "metadata": {},
   "outputs": [
    {
     "name": "stdout",
     "output_type": "stream",
     "text": [
      "<class 'pandas.core.frame.DataFrame'>\n",
      "Index: 300 entries, Patient_01 to Patient_300\n",
      "Data columns (total 8 columns):\n",
      " #   Column          Non-Null Count  Dtype  \n",
      "---  ------          --------------  -----  \n",
      " 0   Age             300 non-null    int64  \n",
      " 1   Gender          300 non-null    int32  \n",
      " 2   Type            300 non-null    int32  \n",
      " 3   Blood_pressure  300 non-null    int64  \n",
      " 4   Cholesterol     300 non-null    int64  \n",
      " 5   Heartbeat       300 non-null    int64  \n",
      " 6   Thalassemia     300 non-null    float64\n",
      " 7   Result          300 non-null    int64  \n",
      "dtypes: float64(1), int32(2), int64(5)\n",
      "memory usage: 18.8+ KB\n"
     ]
    }
   ],
   "source": [
    "# convert dữ liệu từ chứ sang số\n",
    "convert_gender = {'Male':0,'Female':1}\n",
    "convert_type = {'Typical angina': 1,\n",
    "                'Asymptomatic':2,\n",
    "                'Non-anginal pain':3,\n",
    "                'Atypical angina':4}\n",
    "df_patient['Gender']=df_patient['Gender'].map(convert_gender).astype(int)\n",
    "df_patient['Type']=df_patient['Type'].map(convert_type).astype(int)\n",
    "df_patient.info()"
   ]
  },
  {
   "cell_type": "code",
   "execution_count": 52,
   "metadata": {},
   "outputs": [
    {
     "data": {
      "text/html": [
       "<div>\n",
       "<style scoped>\n",
       "    .dataframe tbody tr th:only-of-type {\n",
       "        vertical-align: middle;\n",
       "    }\n",
       "\n",
       "    .dataframe tbody tr th {\n",
       "        vertical-align: top;\n",
       "    }\n",
       "\n",
       "    .dataframe thead th {\n",
       "        text-align: right;\n",
       "    }\n",
       "</style>\n",
       "<table border=\"1\" class=\"dataframe\">\n",
       "  <thead>\n",
       "    <tr style=\"text-align: right;\">\n",
       "      <th></th>\n",
       "      <th>Age</th>\n",
       "      <th>Gender</th>\n",
       "      <th>Type</th>\n",
       "      <th>Blood_pressure</th>\n",
       "      <th>Cholesterol</th>\n",
       "      <th>Heartbeat</th>\n",
       "      <th>Thalassemia</th>\n",
       "      <th>Result</th>\n",
       "    </tr>\n",
       "    <tr>\n",
       "      <th>id</th>\n",
       "      <th></th>\n",
       "      <th></th>\n",
       "      <th></th>\n",
       "      <th></th>\n",
       "      <th></th>\n",
       "      <th></th>\n",
       "      <th></th>\n",
       "      <th></th>\n",
       "    </tr>\n",
       "  </thead>\n",
       "  <tbody>\n",
       "    <tr>\n",
       "      <th>Patient_01</th>\n",
       "      <td>63</td>\n",
       "      <td>0</td>\n",
       "      <td>1</td>\n",
       "      <td>145</td>\n",
       "      <td>233</td>\n",
       "      <td>150</td>\n",
       "      <td>6.0</td>\n",
       "      <td>0</td>\n",
       "    </tr>\n",
       "    <tr>\n",
       "      <th>Patient_02</th>\n",
       "      <td>67</td>\n",
       "      <td>0</td>\n",
       "      <td>2</td>\n",
       "      <td>160</td>\n",
       "      <td>286</td>\n",
       "      <td>108</td>\n",
       "      <td>3.0</td>\n",
       "      <td>1</td>\n",
       "    </tr>\n",
       "    <tr>\n",
       "      <th>Patient_03</th>\n",
       "      <td>67</td>\n",
       "      <td>0</td>\n",
       "      <td>2</td>\n",
       "      <td>120</td>\n",
       "      <td>229</td>\n",
       "      <td>129</td>\n",
       "      <td>7.0</td>\n",
       "      <td>1</td>\n",
       "    </tr>\n",
       "    <tr>\n",
       "      <th>Patient_04</th>\n",
       "      <td>37</td>\n",
       "      <td>0</td>\n",
       "      <td>3</td>\n",
       "      <td>130</td>\n",
       "      <td>250</td>\n",
       "      <td>187</td>\n",
       "      <td>3.0</td>\n",
       "      <td>0</td>\n",
       "    </tr>\n",
       "    <tr>\n",
       "      <th>Patient_05</th>\n",
       "      <td>41</td>\n",
       "      <td>1</td>\n",
       "      <td>4</td>\n",
       "      <td>130</td>\n",
       "      <td>204</td>\n",
       "      <td>172</td>\n",
       "      <td>3.0</td>\n",
       "      <td>0</td>\n",
       "    </tr>\n",
       "  </tbody>\n",
       "</table>\n",
       "</div>"
      ],
      "text/plain": [
       "            Age  Gender  Type  Blood_pressure  Cholesterol  Heartbeat  \\\n",
       "id                                                                      \n",
       "Patient_01   63       0     1             145          233        150   \n",
       "Patient_02   67       0     2             160          286        108   \n",
       "Patient_03   67       0     2             120          229        129   \n",
       "Patient_04   37       0     3             130          250        187   \n",
       "Patient_05   41       1     4             130          204        172   \n",
       "\n",
       "            Thalassemia  Result  \n",
       "id                               \n",
       "Patient_01          6.0       0  \n",
       "Patient_02          3.0       1  \n",
       "Patient_03          7.0       1  \n",
       "Patient_04          3.0       0  \n",
       "Patient_05          3.0       0  "
      ]
     },
     "execution_count": 52,
     "metadata": {},
     "output_type": "execute_result"
    }
   ],
   "source": [
    "df_patient.head()"
   ]
  },
  {
   "cell_type": "code",
   "execution_count": 57,
   "metadata": {},
   "outputs": [
    {
     "data": {
      "text/plain": [
       "array([[ 63.,   0.,   1., 145., 233., 150.,   6.],\n",
       "       [ 67.,   0.,   2., 160., 286., 108.,   3.],\n",
       "       [ 67.,   0.,   2., 120., 229., 129.,   7.],\n",
       "       [ 37.,   0.,   3., 130., 250., 187.,   3.],\n",
       "       [ 41.,   1.,   4., 130., 204., 172.,   3.],\n",
       "       [ 56.,   0.,   4., 120., 236., 178.,   3.],\n",
       "       [ 62.,   1.,   2., 140., 268., 160.,   3.],\n",
       "       [ 57.,   1.,   2., 120., 354., 163.,   3.],\n",
       "       [ 63.,   0.,   2., 130., 254., 147.,   7.],\n",
       "       [ 53.,   0.,   2., 140., 203., 155.,   7.]])"
      ]
     },
     "execution_count": 57,
     "metadata": {},
     "output_type": "execute_result"
    }
   ],
   "source": [
    "#Xác định đặc trưng input\n",
    "X = df_patient.iloc[:,0:7].values\n",
    "X[:10]"
   ]
  },
  {
   "cell_type": "code",
   "execution_count": 59,
   "metadata": {},
   "outputs": [
    {
     "data": {
      "text/plain": [
       "array([0, 1, 1, 0, 0, 0, 1, 0, 1, 1], dtype=int64)"
      ]
     },
     "execution_count": 59,
     "metadata": {},
     "output_type": "execute_result"
    }
   ],
   "source": [
    "#Xác định đặc trưng ouput\n",
    "y = df_patient.iloc[:,7].values\n",
    "y[:10]"
   ]
  },
  {
   "cell_type": "code",
   "execution_count": 63,
   "metadata": {},
   "outputs": [
    {
     "name": "stdout",
     "output_type": "stream",
     "text": [
      "Kích thước tập train:  (240, 7)\n",
      "Kích thước tập test:  (60, 7)\n"
     ]
    }
   ],
   "source": [
    "#tách tập dữ liệu train test\n",
    "from sklearn.model_selection import train_test_split\n",
    "X_train,X_test,y_train,y_test = train_test_split(X,y,test_size=0.2, random_state = 0)\n",
    "print('Kích thước tập train: ', X_train.shape)\n",
    "print('Kích thước tập test: ', X_test.shape)"
   ]
  },
  {
   "cell_type": "markdown",
   "metadata": {},
   "source": [
    "## Bước 3: Lựa chọn mô hình"
   ]
  },
  {
   "cell_type": "code",
   "execution_count": 71,
   "metadata": {},
   "outputs": [],
   "source": [
    "from sklearn.metrics import accuracy_score\n",
    "from sklearn.neighbors import KNeighborsClassifier"
   ]
  },
  {
   "cell_type": "markdown",
   "metadata": {},
   "source": [
    "## Bước 4: Huấn luyện mô hình"
   ]
  },
  {
   "cell_type": "code",
   "execution_count": 70,
   "metadata": {},
   "outputs": [
    {
     "name": "stdout",
     "output_type": "stream",
     "text": [
      "Độ chính xác trên tập huấn luyện 75.42 %\n"
     ]
    }
   ],
   "source": [
    "KNN = KNeighborsClassifier()\n",
    "KNN.fit(X_train,y_train)\n",
    "#Độ chính xác trên tập huấn luyện\n",
    "acc_train = KNN.score(X_train,y_train)\n",
    "print('Độ chính xác trên tập huấn luyện',round(acc_train*100,2), '%')"
   ]
  },
  {
   "cell_type": "markdown",
   "metadata": {},
   "source": [
    "## Bước 5: Đánh giá mô hình"
   ]
  },
  {
   "cell_type": "code",
   "execution_count": 72,
   "metadata": {},
   "outputs": [
    {
     "data": {
      "text/plain": [
       "0.5833333333333334"
      ]
     },
     "execution_count": 72,
     "metadata": {},
     "output_type": "execute_result"
    }
   ],
   "source": [
    "# sử dụng dữ liệu test để dự doán\n",
    "y_pred = KNN.predict(X_test)\n",
    "\n",
    "from sklearn.metrics import accuracy_score\n",
    "accuracy = accuracy_score(y_pred,y_test)\n",
    "accuracy"
   ]
  },
  {
   "cell_type": "markdown",
   "metadata": {},
   "source": [
    "## Bước 6: Tùy chỉnh tham số"
   ]
  },
  {
   "cell_type": "code",
   "execution_count": 105,
   "metadata": {},
   "outputs": [
    {
     "name": "stdout",
     "output_type": "stream",
     "text": [
      "KNeighborsClassifier(n_neighbors=15)\n",
      "Độ chính xác trên tập huấn luyện: 73.33\n",
      "Độ chính xác của mô hình  trên tập Test: 0.65\n"
     ]
    }
   ],
   "source": [
    "\n",
    "# k = range(1,20)\n",
    "# for i in k:\n",
    "#     knn = KNeighborsClassifier(n_neighbors = i)\n",
    "#     knn.fit(X_train,y_train)\n",
    "#     sum_distance = accuracy_score(y_pred,y_test)\n",
    "#     print(i, ' ', sum_distance)\n",
    "                                  \n",
    "KNN = KNeighborsClassifier(n_neighbors=15\n",
    "                          #weights = 'distance',\n",
    "                          \n",
    "                          )\n",
    "KNN.fit(X_train,y_train)\n",
    "print(KNN)\n",
    "\n",
    "#Độ chính xác của Model trên tập Huấn luyện\n",
    "acc_train = KNN.score(X_train,y_train)\n",
    "print('Độ chính xác trên tập huấn luyện:', round(acc_train*100,2))\n",
    "\n",
    "#Sử dụng tập dữ liệu test để chạy model dự đoán \n",
    "y_pred = KNN.predict(X_test)\n",
    "\n",
    "#Kiểm tra độ chính xác của model trên tập dữ liệu test\n",
    "from sklearn.metrics import accuracy_score\n",
    "print(\"Độ chính xác của mô hình  trên tập Test:\", \n",
    "      accuracy_score(y_test,y_pred))"
   ]
  },
  {
   "cell_type": "code",
   "execution_count": 109,
   "metadata": {},
   "outputs": [],
   "source": [
    "def predicts(KNN,Age,Gender,Type,Blood_pressure,Cholesterol,Heartbeat,Thalassemia):\n",
    "    patient_new1 =np.array([[Age,Gender,Type,Blood_pressure,Cholesterol,Heartbeat,Thalassemia]])\n",
    "    pre = KNN.predict(patient_new1)\n",
    "    return pre"
   ]
  },
  {
   "cell_type": "code",
   "execution_count": 110,
   "metadata": {},
   "outputs": [
    {
     "data": {
      "text/plain": [
       "array([1], dtype=int64)"
      ]
     },
     "execution_count": 110,
     "metadata": {},
     "output_type": "execute_result"
    }
   ],
   "source": [
    "Age = 69\n",
    "Gender = 0\n",
    "Type = 4\n",
    "Blood_pressure = 170\n",
    "Cholesterol = 300\n",
    "Heartbeat = 150\n",
    "Thalassemia = 6\n",
    "predicts(KNN,Age,Gender,Type,Blood_pressure,Cholesterol,Heartbeat,Thalassemia)"
   ]
  },
  {
   "cell_type": "code",
   "execution_count": null,
   "metadata": {},
   "outputs": [],
   "source": []
  }
 ],
 "metadata": {
  "kernelspec": {
   "display_name": "Python 3",
   "language": "python",
   "name": "python3"
  },
  "language_info": {
   "codemirror_mode": {
    "name": "ipython",
    "version": 3
   },
   "file_extension": ".py",
   "mimetype": "text/x-python",
   "name": "python",
   "nbconvert_exporter": "python",
   "pygments_lexer": "ipython3",
   "version": "3.8.5"
  }
 },
 "nbformat": 4,
 "nbformat_minor": 4
}
